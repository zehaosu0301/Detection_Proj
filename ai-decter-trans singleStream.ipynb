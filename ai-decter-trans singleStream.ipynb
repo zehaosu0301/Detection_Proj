{
 "cells": [
  {
   "cell_type": "code",
   "execution_count": 1,
   "metadata": {
    "_cell_guid": "b1076dfc-b9ad-4769-8c92-a6c4dae69d19",
    "_uuid": "8f2839f25d086af736a60e9eeb907d3b93b6e0e5",
    "execution": {
     "iopub.execute_input": "2025-07-13T17:02:44.463591Z",
     "iopub.status.busy": "2025-07-13T17:02:44.463299Z",
     "iopub.status.idle": "2025-07-13T17:04:03.963591Z",
     "shell.execute_reply": "2025-07-13T17:04:03.962909Z",
     "shell.execute_reply.started": "2025-07-13T17:02:44.463569Z"
    },
    "trusted": true
   },
   "outputs": [
    {
     "name": "stdout",
     "output_type": "stream",
     "text": [
      "Downloading required NLTK data...\n",
      "NLTK data download completed.\n"
     ]
    },
    {
     "name": "stderr",
     "output_type": "stream",
     "text": [
      "[nltk_data] Downloading package punkt_tab to\n",
      "[nltk_data]     C:\\Users\\suzehao\\AppData\\Roaming\\nltk_data...\n",
      "[nltk_data]   Package punkt_tab is already up-to-date!\n"
     ]
    }
   ],
   "source": [
    "\"\"\"\n",
    "Enhanced AI Text Detection Pipeline\n",
    "-----------------------------------\n",
    "核心改进:\n",
    "1. 更好的LLM选择（T5/GPT-2用于重写）\n",
    "2. 多维度特征提取\n",
    "3. 更智能的扰动策略\n",
    "4. 集成学习方法\n",
    "\n",
    "\n",
    "\"\"\"\n",
    "\n",
    "# 尝试导入，如果失败则提示安装\n",
    "from __future__ import annotations\n",
    "import os\n",
    "import json\n",
    "import hashlib\n",
    "import numpy as np\n",
    "import pandas as pd\n",
    "from typing import List, Tuple, Dict, Optional\n",
    "from dataclasses import dataclass\n",
    "from tqdm import tqdm\n",
    "import random\n",
    "import pickle\n",
    "from dotenv import load_dotenv\n",
    "\n",
    "load_dotenv()\n",
    "\n",
    "# OpenAI library imports\n",
    "import asyncio\n",
    "import openai  # Good for catching error types like openai.RateLimitError\n",
    "from openai import OpenAI\n",
    "from openai import AsyncOpenAI\n",
    "import tiktoken\n",
    "\n",
    "# 基础库\n",
    "from sklearn.metrics import (\n",
    "    roc_auc_score,\n",
    "    accuracy_score,\n",
    "    classification_report,\n",
    "    confusion_matrix,\n",
    "    roc_curve,\n",
    "    precision_recall_curve,\n",
    ")\n",
    "from sklearn.ensemble import RandomForestClassifier\n",
    "from sklearn.preprocessing import StandardScaler\n",
    "import torch\n",
    "\n",
    "# 可视化库\n",
    "import matplotlib.pyplot as plt\n",
    "import seaborn as sns\n",
    "\n",
    "import os, time, hashlib, json, random\n",
    "from typing import List, Tuple\n",
    "\n",
    "import pandas as pd\n",
    "import numpy as np\n",
    "from tqdm import tqdm\n",
    "from sklearn.metrics import roc_auc_score, accuracy_score, classification_report\n",
    "\n",
    "# Transformers\n",
    "from transformers import (\n",
    "    T5ForConditionalGeneration,\n",
    "    T5Tokenizer,\n",
    "    GPT2LMHeadModel,\n",
    "    GPT2Tokenizer,\n",
    "    AutoTokenizer,\n",
    "    AutoModel,\n",
    ")\n",
    "from sentence_transformers import SentenceTransformer\n",
    "\n",
    "# 文本处理\n",
    "import nltk\n",
    "from nltk.tokenize import sent_tokenize, word_tokenize\n",
    "from nltk.corpus import stopwords\n",
    "\n",
    "# 文本扰动库\n",
    "try:\n",
    "    import nlpaug.augmenter.word as naw\n",
    "    import nlpaug.augmenter.sentence as nas\n",
    "except ImportError:\n",
    "    print(\"nlpaug not found, installing...\")\n",
    "    os.system(\"pip install nlpaug\")\n",
    "    import nlpaug.augmenter.word as naw\n",
    "    import nlpaug.augmenter.sentence as nas\n",
    "\n",
    "# Transformers 和 sentence-transformers\n",
    "\n",
    "from transformers import (\n",
    "    pipeline,\n",
    "    AutoTokenizer,\n",
    "    AutoModelForSeq2SeqLM,\n",
    "    GPT2LMHeadModel,\n",
    "    GPT2Tokenizer,\n",
    ")\n",
    "from sentence_transformers import SentenceTransformer\n",
    "from dataclasses import dataclass, field\n",
    "from typing import List, Optional\n",
    "\n",
    "# NLTK数据下载\n",
    "import nltk\n",
    "\n",
    "print(\"Downloading required NLTK data...\")\n",
    "nltk.download(\"punkt_tab\")\n",
    "nltk.download(\"punkt\", quiet=True)\n",
    "nltk.download(\"averaged_perceptron_tagger\", quiet=True)\n",
    "nltk.download(\"averaged_perceptron_tagger_eng\", quiet=True)\n",
    "nltk.download(\"wordnet\", quiet=True)\n",
    "nltk.download(\"omw-1.4\", quiet=True)\n",
    "nltk.download(\"stopwords\", quiet=True)\n",
    "print(\"NLTK data download completed.\")\n",
    "import logging\n",
    "\n",
    "# 配置日志\n",
    "logging.basicConfig(\n",
    "    level=logging.INFO, format=\"%(asctime)s - %(name)s - %(levelname)s - %(message)s\"\n",
    ")\n",
    "logger = logging.getLogger(__name__)\n",
    "\n",
    "\n",
    "@dataclass\n",
    "class DetectionConfig:\n",
    "    \"\"\"检测配置类\"\"\"\n",
    "\n",
    "    # 模型选择\n",
    "    revision_model: str = \"t5-small\"\n",
    "    embedding_model: str = \"all-MiniLM-L6-v2\"\n",
    "\n",
    "    api_key: Optional[str] = field(default_factory=lambda: os.getenv(\"OPENAI_API_KEY\"))\n",
    "    base_url: Optional[str] = field(\n",
    "        default_factory=lambda: os.getenv(\"OPENAI_BASE_URL\")\n",
    "    )\n",
    "\n",
    "    # 扰动参数\n",
    "    perturbation_rate: float = 0.15\n",
    "    # 【修正】使用field(default_factory=...)来避免可变默认参数问题\n",
    "    perturbation_methods: List[str] = field(\n",
    "        default_factory=lambda: [\"synonym\", \"contextual\"]\n",
    "    )\n",
    "\n",
    "    # 检测参数\n",
    "    similarity_threshold: float = 0.95  # 建议使用0.85作为更稳健的默认值\n",
    "    use_ml_classifier: bool = True\n",
    "\n",
    "    # 批处理\n",
    "    batch_size: int = 16\n",
    "    max_length: int = 512\n",
    "\n",
    "    def __post_init__(self):\n",
    "        if self.perturbation_methods is None:\n",
    "            self.perturbation_methods = [\"synonym\", \"contextual\", \"backtranslation\"]\n",
    "\n",
    "\n",
    "class EnhancedTextPerturber:\n",
    "    \"\"\"增强的文本扰动器\"\"\"\n",
    "\n",
    "    def __init__(self, config: DetectionConfig):\n",
    "        self.config = config\n",
    "        self._init_augmenters()\n",
    "\n",
    "    def _init_augmenters(self):\n",
    "        \"\"\"初始化各种扰动器\"\"\"\n",
    "        self.augmenters = {\n",
    "            \"synonym\": naw.SynonymAug(\n",
    "                aug_src=\"wordnet\", aug_p=self.config.perturbation_rate\n",
    "            ),\n",
    "            \"contextual\": naw.ContextualWordEmbsAug(\n",
    "                model_path=\"distilbert-base-uncased\",\n",
    "                action=\"substitute\",\n",
    "                aug_p=self.config.perturbation_rate,\n",
    "            ),\n",
    "            \"random_swap\": naw.RandomWordAug(\n",
    "                action=\"swap\", aug_p=self.config.perturbation_rate\n",
    "            ),\n",
    "            \"spelling\": naw.SpellingAug(aug_p=self.config.perturbation_rate),\n",
    "        }\n",
    "\n",
    "    def perturb(self, text: str, method: Optional[str] = None) -> str:\n",
    "        \"\"\"\n",
    "        智能扰动策略\n",
    "\n",
    "        Args:\n",
    "            text: 原始文本\n",
    "            method: 指定方法，None则随机选择\n",
    "        Returns:\n",
    "            扰动后的文本\n",
    "        \"\"\"\n",
    "        if method is None:\n",
    "            method = np.random.choice(self.config.perturbation_methods)\n",
    "\n",
    "        try:\n",
    "            if method == \"backtranslation\":\n",
    "                return self._backtranslate(text)\n",
    "            elif method in self.augmenters:\n",
    "                augmented = self.augmenters[method].augment(text)\n",
    "                return augmented[0] if isinstance(augmented, list) else augmented\n",
    "            else:\n",
    "                # 混合扰动\n",
    "                return self._mixed_perturbation(text)\n",
    "        except Exception as e:\n",
    "            print(f\"Perturbation failed: {e}\")\n",
    "            return self._simple_perturb(text)\n",
    "\n",
    "    def _mixed_perturbation(self, text: str) -> str:\n",
    "        \"\"\"混合多种扰动方法\"\"\"\n",
    "        sentences = sent_tokenize(text)\n",
    "        perturbed_sentences = []\n",
    "\n",
    "        for sent in sentences:\n",
    "            # 随机选择扰动方法\n",
    "            method = np.random.choice(list(self.augmenters.keys()))\n",
    "            try:\n",
    "                perturbed = self.augmenters[method].augment(sent)\n",
    "                perturbed_sent = (\n",
    "                    perturbed[0] if isinstance(perturbed, list) else perturbed\n",
    "                )\n",
    "                perturbed_sentences.append(perturbed_sent)\n",
    "            except:\n",
    "                perturbed_sentences.append(sent)\n",
    "\n",
    "        return \" \".join(perturbed_sentences)\n",
    "\n",
    "    def _simple_perturb(self, text: str) -> str:\n",
    "        \"\"\"简单扰动作为后备\"\"\"\n",
    "        words = text.split()\n",
    "\n",
    "        # 随机替换15%的词\n",
    "        num_changes = max(1, int(len(words) * self.config.perturbation_rate))\n",
    "        indices = np.random.choice(\n",
    "            range(len(words)), size=min(num_changes, len(words)), replace=False\n",
    "        )\n",
    "\n",
    "        for idx in indices:\n",
    "            # 简单的字符级修改\n",
    "            word = words[idx]\n",
    "            if len(word) > 3:\n",
    "                words[idx] = word[:-1] + np.random.choice(list(\"aeiou\"))\n",
    "\n",
    "        return \" \".join(words)\n",
    "\n",
    "    def _backtranslate(self, text: str) -> str:\n",
    "        \"\"\"反向翻译（需要翻译API）\"\"\"\n",
    "        # 这里只是示例，实际需要调用翻译API\n",
    "        return text\n",
    "\n",
    "\n",
    "class EnhancedLLMReviser:\n",
    "    \"\"\"增强的LLM重写器\"\"\"\n",
    "\n",
    "    def __init__(self, config: DetectionConfig):\n",
    "        self.config = config\n",
    "        self.device = torch.device(\"cuda\" if torch.cuda.is_available() else \"cpu\")\n",
    "        self.client = None\n",
    "        self.model = None\n",
    "        self.tokenizer = None\n",
    "        self._init_reviser()\n",
    "\n",
    "    def _init_model(self):\n",
    "        model_name = self.config.revision_model\n",
    "        \"\"\"初始化重写模型\"\"\"\n",
    "        if self.config.revision_model.startswith(\"t5\"):\n",
    "            # T5模型更适合文本重写任务\n",
    "            self.tokenizer = T5Tokenizer.from_pretrained(self.config.revision_model)\n",
    "            self.model = T5ForConditionalGeneration.from_pretrained(\n",
    "                self.config.revision_model\n",
    "            )\n",
    "        elif self.config.revision_model == \"gpt2\":\n",
    "            # GPT-2作为备选\n",
    "            self.tokenizer = GPT2Tokenizer.from_pretrained(\"gpt2\")\n",
    "            self.model = GPT2LMHeadModel.from_pretrained(\"gpt2\")\n",
    "            self.tokenizer.pad_token = self.tokenizer.eos_token\n",
    "        elif model_name.startswith(\"gpt-\"):\n",
    "            # 初始化OpenAI API客户端\n",
    "            api_key = self.config.api_key or os.getenv(\"OPENAI_API_KEY\")\n",
    "            if not api_key:\n",
    "                raise ValueError(\n",
    "                    \"请在DetectionConfig中提供api_key或设置OPENAI_API_KEY环境变量\"\n",
    "                )\n",
    "\n",
    "            self.client = OpenAI(api_key=api_key, base_url=self.config.base_url)\n",
    "            self.max_retries = 3\n",
    "            self.retry_delay = 1.0\n",
    "            print(f\"OpenAI client initialized for model: {model_name}\")\n",
    "            if self.config.base_url:\n",
    "                print(f\"Using custom base URL: {self.config.base_url}\")\n",
    "        else:\n",
    "            print(\n",
    "                f\"Warning: Unknown revision model '{model_name}'. Will use rule-based fallback.\"\n",
    "            )\n",
    "\n",
    "        self.model.to(self.device)\n",
    "        self.model.eval()\n",
    "\n",
    "    def _init_reviser(self):\n",
    "        \"\"\"根据配置初始化重写模型或API客户端\"\"\"\n",
    "        model_name = self.config.revision_model\n",
    "\n",
    "        if model_name.startswith(\"t5\"):\n",
    "            self.tokenizer = T5Tokenizer.from_pretrained(model_name)\n",
    "            self.model = T5ForConditionalGeneration.from_pretrained(model_name)\n",
    "            self.model.to(self.device).eval()\n",
    "            print(f\"Local T5 model loaded: {model_name}\")\n",
    "\n",
    "        elif model_name == \"gpt2\":\n",
    "            self.tokenizer = GPT2Tokenizer.from_pretrained(model_name)\n",
    "            self.model = GPT2LMHeadModel.from_pretrained(model_name)\n",
    "            self.tokenizer.pad_token = self.tokenizer.eos_token\n",
    "            self.model.to(self.device).eval()\n",
    "            print(f\"Local GPT-2 model loaded: {model_name}\")\n",
    "\n",
    "        elif model_name.startswith(\"gpt-\"):\n",
    "            # 初始化OpenAI API客户端\n",
    "            api_key = self.config.api_key or os.getenv(\"OPENAI_API_KEY\")\n",
    "            if not api_key:\n",
    "                raise ValueError(\n",
    "                    \"请在DetectionConfig中提供api_key或设置OPENAI_API_KEY环境变量\"\n",
    "                )\n",
    "\n",
    "            # self.client = OpenAI(api_key=api_key, base_url=self.config.base_url)\n",
    "            self.client = AsyncOpenAI(\n",
    "                api_key=api_key, base_url=self.config.base_url\n",
    "            )  # Using Asynchronous Clients\n",
    "            self.max_retries = 3\n",
    "            self.retry_delay = 1.0\n",
    "            print(f\"OpenAI client initialized for model: {model_name}\")\n",
    "            if self.config.base_url:\n",
    "                print(f\"Using custom base URL: {self.config.base_url}\")\n",
    "        else:\n",
    "            print(\n",
    "                f\"Warning: Unknown revision model '{model_name}'. Will use rule-based fallback.\"\n",
    "            )\n",
    "\n",
    "    # def revise(self, text: str, cache: Dict[str, str]) -> str:\n",
    "    async def revise(\n",
    "        self, original_text: str, perturbed_text: str, cache: Dict[str, str]\n",
    "    ) -> str:  # change to async def\n",
    "        \"\"\"\n",
    "        使用LLM重写文本\n",
    "\n",
    "        Args:\n",
    "            original_text: 待重写文本\n",
    "            cache: 缓存字典\n",
    "        Returns:\n",
    "            重写后的文本\n",
    "        \"\"\"\n",
    "        # 生成缓存键\n",
    "        cache_key = hashlib.md5(\n",
    "            f\"{original_text}_{self.config.revision_model}\".encode()\n",
    "        ).hexdigest()\n",
    "\n",
    "        # Check if the result for the original text is already in the cache\n",
    "        if cache_key in cache:\n",
    "            return cache[cache_key]\n",
    "\n",
    "        # print(f\"\\norigin text: {original_text}\")\n",
    "\n",
    "        try:\n",
    "            model_name = self.config.revision_model\n",
    "            revised = \"\"\n",
    "            if model_name.startswith(\"t5\") or model_name == \"gpt2\":\n",
    "                if model_name.startswith(\"t5\"):\n",
    "                    revised = self._revise_with_t5(perturbed_text)\n",
    "                    # print(f\"t5 rewrite: {revised}\")\n",
    "                else:  # gpt2\n",
    "                    revised = self._revise_with_gpt2(perturbed_text)\n",
    "                    # print(f\"gpt2 rewrite: {revised}\")\n",
    "            elif model_name.startswith(\"gpt-\"):\n",
    "                # api rewrite\n",
    "                # revised = self._revise_with_api(perturbed_text)\n",
    "                revised = await self._revise_with_api(perturbed_text)  # change to await\n",
    "                # print(f\"gpt3.5 rewrite: {revised}\")\n",
    "            else:\n",
    "                revised = self._rule_based_revision(perturbed_text)\n",
    "\n",
    "            cache[cache_key] = revised\n",
    "            return revised\n",
    "\n",
    "        except Exception as e:\n",
    "            print(f\"Revision failed with model {self.config.revision_model}: {e}\")\n",
    "            fallback_revision = self._rule_based_revision(perturbed_text)\n",
    "            cache[cache_key] = fallback_revision\n",
    "            return fallback_revision\n",
    "\n",
    "    def _revise_with_t5(self, text: str) -> str:\n",
    "        \"\"\"使用T5模型重写\"\"\"\n",
    "        # T5需要特定的提示格式\n",
    "        prompt = f\"paraphrase: {text}\"\n",
    "\n",
    "        inputs = self.tokenizer.encode(\n",
    "            prompt,\n",
    "            return_tensors=\"pt\",\n",
    "            max_length=512,  # 对输入进行截断的最大长度\n",
    "            truncation=True,\n",
    "        ).to(self.device)\n",
    "\n",
    "        with torch.no_grad():\n",
    "            # 使用束搜索 (Beam Search) 以获得更高质量和更稳定的输出\n",
    "            outputs = self.model.generate(\n",
    "                inputs,\n",
    "                # --- 解码策略修改 ---\n",
    "                num_beams=4,  # 修改：设置束的宽度，4或5是常用值\n",
    "                early_stopping=True,  # 新增：当所有束都完成时提前停止\n",
    "                # --- 长度控制优化 ---\n",
    "                max_length=256,  # 修改：为输出设置一个固定的最大长度\n",
    "                min_length=40,  # 新增：设置一个合理的最小长度，防止输出过短\n",
    "                # --- 质量优化 ---\n",
    "                repetition_penalty=1.2,  # 新增：轻微惩罚重复，提升多样性\n",
    "            )\n",
    "\n",
    "            # 注意：使用 beam search 时，不需要 do_sample, temperature, top_p\n",
    "\n",
    "        revised = self.tokenizer.decode(outputs[0], skip_special_tokens=True)\n",
    "        return revised\n",
    "\n",
    "    def _revise_with_gpt2(self, text: str) -> str:\n",
    "        \"\"\"使用GPT-2模型重写\"\"\"\n",
    "        try:\n",
    "            prompt_templates = [\n",
    "                f\"Paraphrase the following text while keeping the same meaning: {text}\\n\\nParaphrased version:\",\n",
    "                f\"Rewrite this sentence in a different way: {text}\\n\\nRewritten:\",\n",
    "                f\"Express this differently: {text}\\n\\nAlternative expression:\",\n",
    "            ]\n",
    "            prompt = np.random.choice(prompt_templates)\n",
    "            inputs = self.tokenizer.encode(\n",
    "                prompt,\n",
    "                return_tensors=\"pt\",\n",
    "                max_length=512,\n",
    "                truncation=True,\n",
    "                padding=True,  # Ensure padding is enabled to handle the mask\n",
    "            )\n",
    "            input_ids = inputs.input_ids.to(self.device)\n",
    "            attention_mask = inputs.attention_mask.to(self.device)\n",
    "\n",
    "            with torch.no_grad():\n",
    "                outputs = self.model.generate(\n",
    "                    input_ids=input_ids,  # Pass input_ids explicitly\n",
    "                    attention_mask=attention_mask,\n",
    "                    max_length=min(len(input_ids[0]) + 100, 1024),\n",
    "                    num_return_sequences=1,\n",
    "                    temperature=0.8,\n",
    "                    do_sample=True,\n",
    "                    top_p=0.9,\n",
    "                    pad_token_id=self.tokenizer.eos_token_id,\n",
    "                    eos_token_id=self.tokenizer.eos_token_id,\n",
    "                    no_repeat_ngram_size=3,\n",
    "                    # early_stopping=True,\n",
    "                )\n",
    "\n",
    "            #\n",
    "            full_text = self.tokenizer.decode(outputs[0], skip_special_tokens=True)\n",
    "\n",
    "            rewritten = \"\"\n",
    "            for marker in [\n",
    "                \"Paraphrased version:\",\n",
    "                \"Rewritten:\",\n",
    "                \"Alternative expression:\",\n",
    "            ]:\n",
    "                if marker in full_text:\n",
    "                    rewritten = full_text.split(marker)[-1].strip()\n",
    "                    break\n",
    "\n",
    "            if not rewritten:\n",
    "                rewritten = full_text[len(prompt) :].strip()\n",
    "\n",
    "            if \"\\n\" in rewritten:\n",
    "                rewritten = rewritten.split(\"\\n\")[0]\n",
    "            if \".\" in rewritten:\n",
    "                rewritten = rewritten.split(\".\")[0] + \".\"\n",
    "\n",
    "            return rewritten if rewritten else text\n",
    "\n",
    "        except Exception as e:\n",
    "            print(f\"  修复版重写失败: {e}\")\n",
    "            return text\n",
    "\n",
    "    # def _revise_with_api(self, text: str) -> str:\n",
    "    async def _revise_with_api(self, text: str) -> str:  # change to async def\n",
    "        \"\"\"Use OpenAI API with better prompting strategy\"\"\"\n",
    "        if not self.client:\n",
    "            raise ValueError(\"OpenAI client not initialized.\")\n",
    "\n",
    "        # Better prompt that encourages standardization\n",
    "        system_prompt = \"\"\"You are a professional editor. Your task is to rewrite the given text to make it more formal, standardized, and academic in style. \n",
    "\n",
    "Key guidelines:\n",
    "- Replace casual expressions with formal language\n",
    "- Use precise technical terms where appropriate\n",
    "- Maintain professional tone throughout\n",
    "- Standardize sentence structure\n",
    "- Remove colloquialisms and personal expressions\n",
    "- Keep the core meaning but express it in a more refined way\n",
    "\n",
    "The more casual or informal the original text, the more changes you should make.\"\"\"\n",
    "\n",
    "        user_prompt = f\"Please rewrite this text in a formal, academic style:\\n\\n{text}\"\n",
    "\n",
    "        for attempt in range(self.max_retries):\n",
    "            try:\n",
    "                response = await self.client.chat.completions.create(  # change to await\n",
    "                    model=self.config.revision_model,\n",
    "                    messages=[\n",
    "                        {\"role\": \"system\", \"content\": system_prompt},\n",
    "                        {\"role\": \"user\", \"content\": user_prompt},\n",
    "                    ],\n",
    "                    temperature=0.3,  # Lower temperature for more consistent output\n",
    "                    top_p=0.9,\n",
    "                )\n",
    "                return response.choices[0].message.content.strip()\n",
    "\n",
    "            except Exception as e:\n",
    "                print(f\"API error (attempt {attempt + 1}): {e}\")\n",
    "                if attempt < self.max_retries - 1:\n",
    "                    await asyncio.time.sleep(\n",
    "                        self.retry_delay\n",
    "                    )  # Using asynchronous sleep\n",
    "                else:\n",
    "                    return text\n",
    "\n",
    "        return text\n",
    "\n",
    "    def _rule_based_revision(self, text: str) -> str:\n",
    "        \"\"\"基于规则的重写\"\"\"\n",
    "        import re\n",
    "\n",
    "        # 句子重排\n",
    "        sentences = sent_tokenize(text)\n",
    "        if len(sentences) > 2:\n",
    "            # 随机调整句子顺序（保持逻辑性）\n",
    "            sentences = self._reorder_sentences(sentences)\n",
    "\n",
    "        # 同义词替换\n",
    "        revised_sentences = []\n",
    "        for sent in sentences:\n",
    "            # 简单的同义词映射\n",
    "            synonyms = {\n",
    "                \"important\": \"significant\",\n",
    "                \"however\": \"nevertheless\",\n",
    "                \"therefore\": \"thus\",\n",
    "                \"because\": \"since\",\n",
    "                \"many\": \"numerous\",\n",
    "                \"show\": \"demonstrate\",\n",
    "            }\n",
    "\n",
    "            for word, syn in synonyms.items():\n",
    "                sent = re.sub(r\"\\b\" + word + r\"\\b\", syn, sent, flags=re.IGNORECASE)\n",
    "\n",
    "            revised_sentences.append(sent)\n",
    "\n",
    "        return \" \".join(revised_sentences)\n",
    "\n",
    "    def _reorder_sentences(self, sentences: List[str]) -> List[str]:\n",
    "        \"\"\"智能句子重排\"\"\"\n",
    "        # 保持第一句和最后一句\n",
    "        if len(sentences) <= 2:\n",
    "            return sentences\n",
    "\n",
    "        first = sentences[0]\n",
    "        last = sentences[-1]\n",
    "        middle = sentences[1:-1]\n",
    "\n",
    "        # 打乱中间句子\n",
    "        np.random.shuffle(middle)\n",
    "\n",
    "        return [first] + middle + [last]\n",
    "\n",
    "\n",
    "class MultiFeatureExtractor:\n",
    "    \"\"\"多维度特征提取器\"\"\"\n",
    "\n",
    "    def __init__(self, config: DetectionConfig):\n",
    "        self.config = config\n",
    "        self.sentence_model = SentenceTransformer(config.embedding_model)\n",
    "        self._init_linguistic_features()\n",
    "\n",
    "    def _init_linguistic_features(self):\n",
    "        \"\"\"初始化语言学特征提取\"\"\"\n",
    "        try:\n",
    "            nltk.download(\"punkt\", quiet=True)\n",
    "            nltk.download(\"averaged_perceptron_tagger\", quiet=True)\n",
    "            nltk.download(\"stopwords\", quiet=True)\n",
    "            self.stop_words = set(stopwords.words(\"english\"))\n",
    "        except:\n",
    "            self.stop_words = set()\n",
    "\n",
    "    def extract_features(self, original: str, revised: str) -> Dict[str, float]:\n",
    "        \"\"\"\n",
    "        提取多维度特征\n",
    "\n",
    "        Returns:\n",
    "            特征字典\n",
    "        \"\"\"\n",
    "        features = {}\n",
    "\n",
    "        # 1. 语义相似度\n",
    "        features[\"semantic_similarity\"] = self._compute_semantic_similarity(\n",
    "            original, revised\n",
    "        )\n",
    "\n",
    "        # 2. 词汇级特征\n",
    "        features.update(self._extract_lexical_features(original, revised))\n",
    "\n",
    "        # 3. 句法特征\n",
    "        features.update(self._extract_syntactic_features(original, revised))\n",
    "\n",
    "        # 4. 风格特征\n",
    "        features.update(self._extract_stylistic_features(original, revised))\n",
    "\n",
    "        # 5. 编辑距离特征\n",
    "        features.update(self._extract_edit_features(original, revised))\n",
    "\n",
    "        return features\n",
    "\n",
    "    def _compute_semantic_similarity(self, text1: str, text2: str) -> float:\n",
    "        \"\"\"计算语义相似度\"\"\"\n",
    "        emb1 = self.sentence_model.encode(text1)\n",
    "        emb2 = self.sentence_model.encode(text2)\n",
    "\n",
    "        from sklearn.metrics.pairwise import cosine_similarity\n",
    "\n",
    "        return float(cosine_similarity([emb1], [emb2])[0, 0])\n",
    "\n",
    "    def _extract_lexical_features(\n",
    "        self, original: str, revised: str\n",
    "    ) -> Dict[str, float]:\n",
    "        \"\"\"提取词汇级特征\"\"\"\n",
    "        orig_words = set(word_tokenize(original.lower()))\n",
    "        rev_words = set(word_tokenize(revised.lower()))\n",
    "\n",
    "        # 词汇重叠率\n",
    "        overlap = len(orig_words & rev_words)\n",
    "        total = len(orig_words | rev_words)\n",
    "\n",
    "        features = {\n",
    "            \"word_overlap_ratio\": overlap / total if total > 0 else 0,\n",
    "            \"vocabulary_change_ratio\": (\n",
    "                len(orig_words ^ rev_words) / total if total > 0 else 0\n",
    "            ),\n",
    "            \"unique_words_ratio\": (\n",
    "                len(rev_words - orig_words) / len(rev_words) if rev_words else 0\n",
    "            ),\n",
    "        }\n",
    "\n",
    "        # 停用词比例变化\n",
    "        orig_stop = len([w for w in orig_words if w in self.stop_words])\n",
    "        rev_stop = len([w for w in rev_words if w in self.stop_words])\n",
    "\n",
    "        features[\"stopword_ratio_change\"] = abs(\n",
    "            (orig_stop / len(orig_words) if orig_words else 0)\n",
    "            - (rev_stop / len(rev_words) if rev_words else 0)\n",
    "        )\n",
    "\n",
    "        return features\n",
    "\n",
    "    def _extract_syntactic_features(\n",
    "        self, original: str, revised: str\n",
    "    ) -> Dict[str, float]:\n",
    "        \"\"\"提取句法特征\"\"\"\n",
    "        orig_sents = sent_tokenize(original)\n",
    "        rev_sents = sent_tokenize(revised)\n",
    "\n",
    "        features = {\n",
    "            \"sentence_count_ratio\": (\n",
    "                len(rev_sents) / len(orig_sents) if orig_sents else 1\n",
    "            ),\n",
    "            \"avg_sentence_length_change\": (\n",
    "                abs(\n",
    "                    np.mean([len(word_tokenize(s)) for s in orig_sents])\n",
    "                    - np.mean([len(word_tokenize(s)) for s in rev_sents])\n",
    "                )\n",
    "                if orig_sents and rev_sents\n",
    "                else 0\n",
    "            ),\n",
    "        }\n",
    "\n",
    "        # POS标签分布变化\n",
    "        try:\n",
    "            orig_pos = nltk.pos_tag(word_tokenize(original))\n",
    "            rev_pos = nltk.pos_tag(word_tokenize(revised))\n",
    "\n",
    "            # 计算主要词性比例变化\n",
    "            for pos_type in [\"NN\", \"VB\", \"JJ\", \"RB\"]:  # 名词、动词、形容词、副词\n",
    "                orig_count = sum(1 for _, pos in orig_pos if pos.startswith(pos_type))\n",
    "                rev_count = sum(1 for _, pos in rev_pos if pos.startswith(pos_type))\n",
    "\n",
    "                features[f\"pos_{pos_type}_ratio_change\"] = abs(\n",
    "                    (orig_count / len(orig_pos) if orig_pos else 0)\n",
    "                    - (rev_count / len(rev_pos) if rev_pos else 0)\n",
    "                )\n",
    "        except:\n",
    "            pass\n",
    "\n",
    "        return features\n",
    "\n",
    "    def _extract_stylistic_features(\n",
    "        self, original: str, revised: str\n",
    "    ) -> Dict[str, float]:\n",
    "        \"\"\"提取风格特征\"\"\"\n",
    "        features = {}\n",
    "\n",
    "        # 标点符号使用变化\n",
    "        orig_punct = sum(1 for c in original if c in \".,!?;:\")\n",
    "        rev_punct = sum(1 for c in revised if c in \".,!?;:\")\n",
    "\n",
    "        features[\"punctuation_ratio_change\"] = abs(\n",
    "            (orig_punct / len(original) if original else 0)\n",
    "            - (rev_punct / len(revised) if revised else 0)\n",
    "        )\n",
    "\n",
    "        # 大写字母比例变化\n",
    "        orig_caps = sum(1 for c in original if c.isupper())\n",
    "        rev_caps = sum(1 for c in revised if c.isupper())\n",
    "\n",
    "        features[\"capitalization_ratio_change\"] = abs(\n",
    "            (orig_caps / len(original) if original else 0)\n",
    "            - (rev_caps / len(revised) if revised else 0)\n",
    "        )\n",
    "\n",
    "        # 平均词长变化\n",
    "        orig_words = word_tokenize(original)\n",
    "        rev_words = word_tokenize(revised)\n",
    "\n",
    "        features[\"avg_word_length_change\"] = (\n",
    "            abs(\n",
    "                np.mean([len(w) for w in orig_words])\n",
    "                - np.mean([len(w) for w in rev_words])\n",
    "            )\n",
    "            if orig_words and rev_words\n",
    "            else 0\n",
    "        )\n",
    "\n",
    "        return features\n",
    "\n",
    "    def _extract_edit_features(self, original: str, revised: str) -> Dict[str, float]:\n",
    "        \"\"\"提取编辑距离相关特征\"\"\"\n",
    "        from difflib import SequenceMatcher\n",
    "\n",
    "        # 字符级相似度\n",
    "        char_similarity = SequenceMatcher(None, original, revised).ratio()\n",
    "\n",
    "        # 词级相似度\n",
    "        orig_words = word_tokenize(original)\n",
    "        rev_words = word_tokenize(revised)\n",
    "        word_similarity = SequenceMatcher(None, orig_words, rev_words).ratio()\n",
    "\n",
    "        features = {\n",
    "            \"char_level_similarity\": char_similarity,\n",
    "            \"word_level_similarity\": word_similarity,\n",
    "            \"length_ratio\": len(revised) / len(original) if original else 1,\n",
    "        }\n",
    "\n",
    "        return features\n",
    "\n",
    "\n",
    "class AITextDetector:\n",
    "    \"\"\"主检测器类\"\"\"\n",
    "\n",
    "    def __init__(self, config: DetectionConfig = None):\n",
    "        self.config = config or DetectionConfig()\n",
    "        self.perturber = EnhancedTextPerturber(self.config)\n",
    "        self.reviser = EnhancedLLMReviser(self.config)\n",
    "        self.feature_extractor = MultiFeatureExtractor(self.config)\n",
    "        self.classifier = None\n",
    "        self.scaler = StandardScaler()\n",
    "        self.cache = {}\n",
    "        self.api_concurrency_limit = asyncio.Semaphore(10)\n",
    "\n",
    "    # In the AITextDetector class\n",
    "\n",
    "    async def detect_batch(\n",
    "        self, texts: List[str], labels: Optional[List[int]] = None\n",
    "    ) -> Dict[str, np.ndarray]:\n",
    "        \"\"\"\n",
    "        Asynchronously detects text in a batch, with robust caching and parallel API calls.\n",
    "        \"\"\"\n",
    "        all_features = []\n",
    "        all_scores = []\n",
    "\n",
    "        if not texts:\n",
    "            # Handle the case where an empty list is passed\n",
    "            return {\n",
    "                \"predictions\": np.array([]),\n",
    "                \"probabilities\": np.array([]),\n",
    "                \"features\": np.array([]),\n",
    "                \"similarity_scores\": np.array([]),\n",
    "            }\n",
    "\n",
    "        print(\"Processing texts...\")\n",
    "\n",
    "        # Step 1: Perform synchronous, CPU-bound perturbation first.\n",
    "        perturbed_texts = [\n",
    "            self.perturber.perturb(text) for text in tqdm(texts, desc=\"Perturbing\")\n",
    "        ]\n",
    "\n",
    "        # Step 2: Define a helper function to manage semaphore and call the new revise method.\n",
    "        # This helper will be used to create our list of concurrent tasks.\n",
    "        async def revise_with_limit(original_text, perturbed_text):\n",
    "            async with self.api_concurrency_limit:\n",
    "                # Call the updated revise function with both original and perturbed text\n",
    "                return await self.reviser.revise(\n",
    "                    original_text, perturbed_text, self.cache\n",
    "                )\n",
    "\n",
    "        # Step 3: Create a list of NEW coroutine tasks.\n",
    "        # Each task is a call to our helper function with a pair of original and perturbed texts.\n",
    "        print(f\"Revising texts with {self.reviser.config.revision_model}...\")\n",
    "        revision_tasks = [\n",
    "            revise_with_limit(orig, pert) for orig, pert in zip(texts, perturbed_texts)\n",
    "        ]\n",
    "\n",
    "        # Step 4: Concurrently run all revision tasks using asyncio.gather.\n",
    "        # This preserves the order of the results and is wrapped in tqdm for a progress bar.\n",
    "        all_revised_texts = await asyncio.gather(\n",
    "            *tqdm(revision_tasks, desc=\"Revising\", total=len(revision_tasks))\n",
    "        )\n",
    "\n",
    "        # Step 5: Process the results. This part is synchronous again.\n",
    "        print(\"Extracting features...\")\n",
    "        for i, original_text in enumerate(texts):\n",
    "            # The order is preserved, so we can safely pair original and revised texts.\n",
    "            revised_text = all_revised_texts[i]\n",
    "            features = self.feature_extractor.extract_features(\n",
    "                original_text, revised_text\n",
    "            )\n",
    "            all_features.append(features)\n",
    "            all_scores.append(features.get(\"semantic_similarity\", 0.5))\n",
    "\n",
    "        # --- The rest of the function remains the same ---\n",
    "        feature_matrix = pd.DataFrame(all_features).fillna(0).values\n",
    "\n",
    "        if self.config.use_ml_classifier:\n",
    "            if labels is not None and self.classifier is None:\n",
    "                self._train_classifier(feature_matrix, labels)\n",
    "\n",
    "            if self.classifier is not None:\n",
    "                feature_matrix_scaled = self.scaler.transform(feature_matrix)\n",
    "                predictions = self.classifier.predict(feature_matrix_scaled)\n",
    "                probabilities = self.classifier.predict_proba(feature_matrix_scaled)[\n",
    "                    :, 1\n",
    "                ]\n",
    "            else:\n",
    "                # Fallback if classifier isn't trained\n",
    "                predictions = (\n",
    "                    np.array(all_scores) > self.config.similarity_threshold\n",
    "                ).astype(int)\n",
    "                probabilities = np.array(all_scores)\n",
    "        else:\n",
    "            # Logic for when the ML classifier is turned off\n",
    "            predictions = (\n",
    "                np.array(all_scores) > self.config.similarity_threshold\n",
    "            ).astype(int)\n",
    "            probabilities = np.array(all_scores)\n",
    "\n",
    "        return {\n",
    "            \"predictions\": predictions,\n",
    "            \"probabilities\": probabilities,\n",
    "            \"features\": feature_matrix,\n",
    "            \"similarity_scores\": np.array(all_scores),\n",
    "        }\n",
    "\n",
    "    def _train_classifier(self, features: np.ndarray, labels: List[int]):\n",
    "        \"\"\"训练机器学习分类器\"\"\"\n",
    "        print(\"Training classifier...\")\n",
    "\n",
    "        # 标准化特征\n",
    "        features_scaled = self.scaler.fit_transform(features)\n",
    "\n",
    "        # 使用随机森林\n",
    "        self.classifier = RandomForestClassifier(\n",
    "            n_estimators=100, max_depth=10, random_state=42, n_jobs=-1\n",
    "        )\n",
    "\n",
    "        self.classifier.fit(features_scaled, labels)\n",
    "\n",
    "        # 特征重要性\n",
    "        feature_names = list(pd.DataFrame(features).columns)\n",
    "        importances = self.classifier.feature_importances_\n",
    "\n",
    "        print(\"\\nTop 10 Most Important Features:\")\n",
    "        for feat, imp in sorted(\n",
    "            zip(feature_names, importances), key=lambda x: x[1], reverse=True\n",
    "        )[:10]:\n",
    "            print(f\"  {feat}: {imp:.4f}\")\n",
    "\n",
    "    def save_model(self, path: str):\n",
    "        \"\"\"保存模型\"\"\"\n",
    "        import pickle\n",
    "\n",
    "        model_data = {\n",
    "            \"classifier\": self.classifier,\n",
    "            \"scaler\": self.scaler,\n",
    "            \"config\": self.config,\n",
    "            \"cache\": self.cache,\n",
    "        }\n",
    "\n",
    "        with open(path, \"wb\") as f:\n",
    "            pickle.dump(model_data, f)\n",
    "\n",
    "        print(f\"Model saved to {path}\")\n",
    "\n",
    "    def load_model(self, path: str):\n",
    "        \"\"\"加载模型\"\"\"\n",
    "        import pickle\n",
    "\n",
    "        with open(path, \"rb\") as f:\n",
    "            model_data = pickle.load(f)\n",
    "\n",
    "        self.classifier = model_data[\"classifier\"]\n",
    "        self.scaler = model_data[\"scaler\"]\n",
    "        self.config = model_data[\"config\"]\n",
    "        self.cache = model_data[\"cache\"]\n",
    "\n",
    "        print(f\"Model loaded from {path}\")\n",
    "\n",
    "\n",
    "# 数据集加载函数\n",
    "class CustomDataLoader:\n",
    "    \"\"\"数据加载器类\"\"\"\n",
    "\n",
    "    def __init__(self, data_dir: str = \"./data\"):\n",
    "        \"\"\"\n",
    "        初始化数据加载器\n",
    "\n",
    "        Args:\n",
    "            data_dir: 数据文件默认目录\n",
    "        \"\"\"\n",
    "        self.data_dir = data_dir\n",
    "        if not os.path.exists(data_dir):\n",
    "            os.makedirs(data_dir)\n",
    "            logger.info(f\"Created data directory: {data_dir}\")\n",
    "\n",
    "    def load_data(self, path: str) -> pd.DataFrame:\n",
    "        \"\"\"\n",
    "        读取带有 'text' 与 'label' 列的数据集，并返回 DataFrame。\n",
    "        支持金融数据集格式和通用格式。\n",
    "\n",
    "        Args:\n",
    "            path: 数据文件路径、'finance' 表示使用金融数据集、'sample' 表示创建示例数据\n",
    "        Returns:\n",
    "            df: columns = ['id', 'text', 'label']\n",
    "        \"\"\"\n",
    "        if path == \"finance\":\n",
    "            return self.load_finance_dataset()\n",
    "        if path == \"sample\":\n",
    "            return self.create_sample_dataset()\n",
    "        elif path == \"test\":\n",
    "            return self.load_origin_dataset()\n",
    "\n",
    "        # 如果是相对路径，添加数据目录前缀\n",
    "        if not os.path.isabs(path) and not os.path.exists(path):\n",
    "            path = os.path.join(self.data_dir, path)\n",
    "\n",
    "        try:\n",
    "            if path.endswith(\".csv\"):\n",
    "                df = pd.read_csv(path)\n",
    "            elif path.endswith(\".jsonl\"):\n",
    "                df = pd.read_json(path, lines=True)\n",
    "            elif path.endswith(\".json\"):\n",
    "                df = pd.read_json(path)\n",
    "            else:\n",
    "                raise ValueError(f\"Unsupported file format: {path}\")\n",
    "\n",
    "            # 确保有必要的列\n",
    "            if \"text\" not in df.columns:\n",
    "                raise ValueError(\"Missing 'text' column in dataset\")\n",
    "            if \"label\" not in df.columns:\n",
    "                raise ValueError(\"Missing 'label' column in dataset\")\n",
    "\n",
    "            # 如果没有id列，自动生成\n",
    "            if \"id\" not in df.columns:\n",
    "                df[\"id\"] = range(len(df))\n",
    "\n",
    "            # 数据清洗\n",
    "            df = df.dropna(subset=[\"text\", \"label\"])\n",
    "            df = df[df[\"text\"].str.len() > 10]  # 过滤太短的文本\n",
    "\n",
    "            logger.info(f\"Loaded {len(df)} samples from {path}\")\n",
    "            logger.info(f\"Label distribution: {df['label'].value_counts().to_dict()}\")\n",
    "\n",
    "            return df[[\"id\", \"text\", \"label\"]]\n",
    "\n",
    "        except FileNotFoundError:\n",
    "            logger.warning(f\"File {path} not found. Creating sample dataset...\")\n",
    "            return self.create_sample_dataset()\n",
    "\n",
    "    def find_finance_data_files(self) -> Dict[str, str]:\n",
    "        \"\"\"查找金融数据集文件\"\"\"\n",
    "        logger.info(\"Searching for finance data files...\")\n",
    "\n",
    "        # 本地环境路径\n",
    "        possible_paths = [\n",
    "            self.data_dir,\n",
    "            os.path.join(self.data_dir, \"finance\"),\n",
    "            os.path.join(self.data_dir, \"finance-dataset\"),\n",
    "            \"./finance_data\",\n",
    "            \".\",\n",
    "            \"./data\",\n",
    "        ]\n",
    "\n",
    "        files_found = {}\n",
    "\n",
    "        for path in possible_paths:\n",
    "            if os.path.exists(path):\n",
    "                logger.debug(f\"Checking path: {path}\")\n",
    "                for root, dirs, files in os.walk(path):\n",
    "                    for file in files:\n",
    "                        if \"revised_human_finance\" in file or \"revised_human\" in file:\n",
    "                            files_found[\"revised_human\"] = os.path.join(root, file)\n",
    "                        elif (\n",
    "                            \"revised_chatgpt_finance\" in file\n",
    "                            or \"revised_chatgpt\" in file\n",
    "                        ):\n",
    "                            files_found[\"revised_chatgpt\"] = os.path.join(root, file)\n",
    "                        elif \"finance.jsonl\" in file:\n",
    "                            files_found[\"original\"] = os.path.join(root, file)\n",
    "\n",
    "        return files_found\n",
    "\n",
    "    def load_finance_dataset(self) -> pd.DataFrame:\n",
    "        \"\"\"\n",
    "        加载金融数据集 - 使用修订后的文本作为数据\n",
    "        修复了多行JSON解析问题\n",
    "\n",
    "        Returns:\n",
    "            df: columns = ['id', 'text', 'label']\n",
    "            其中text是修订后的文本，label: 0=human, 1=chatgpt\n",
    "        \"\"\"\n",
    "        files = self.find_finance_data_files()\n",
    "\n",
    "        logger.info(\"Loading finance datasets...\")\n",
    "        logger.info(f\"Found files: {list(files.keys())}\")\n",
    "\n",
    "        all_texts = []\n",
    "        all_labels = []\n",
    "\n",
    "        # 1. 加载修订后的人类文本（每行一个JSON对象）\n",
    "        if \"revised_human\" in files:\n",
    "            try:\n",
    "                logger.info(\n",
    "                    f\"Loading revised human texts from: {files['revised_human']}\"\n",
    "                )\n",
    "                with open(files[\"revised_human\"], \"r\", encoding=\"utf-8\") as f:\n",
    "                    for line_no, line in enumerate(f, 1):\n",
    "                        line = line.strip()\n",
    "                        if line:\n",
    "                            try:\n",
    "                                # 每行是一个独立的JSON对象\n",
    "                                item = json.loads(line)\n",
    "                                for idx, text in item.items():\n",
    "                                    # 清理文本\n",
    "                                    cleaned_text = (\n",
    "                                        text.strip()\n",
    "                                        .replace(\"\\\\n\\\\n\", \" \")\n",
    "                                        .replace(\"\\\\n\", \" \")\n",
    "                                    )\n",
    "                                    if len(cleaned_text) > 20:\n",
    "                                        all_texts.append(cleaned_text)\n",
    "                                        all_labels.append(0)  # 0 = human\n",
    "                            except json.JSONDecodeError as e:\n",
    "                                logger.warning(f\"  Line {line_no} parse error: {e}\")\n",
    "                logger.info(\n",
    "                    f\"  Loaded {len([l for l in all_labels if l == 0])} human texts\"\n",
    "                )\n",
    "            except Exception as e:\n",
    "                logger.error(f\"Error loading revised human texts: {e}\")\n",
    "\n",
    "        # 2. 加载修订后的ChatGPT文本（每行一个JSON对象）\n",
    "        if \"revised_chatgpt\" in files:\n",
    "            try:\n",
    "                logger.info(\n",
    "                    f\"Loading revised ChatGPT texts from: {files['revised_chatgpt']}\"\n",
    "                )\n",
    "                with open(files[\"revised_chatgpt\"], \"r\", encoding=\"utf-8\") as f:\n",
    "                    for line_no, line in enumerate(f, 1):\n",
    "                        line = line.strip()\n",
    "                        if line:\n",
    "                            try:\n",
    "                                # 每行是一个独立的JSON对象\n",
    "                                item = json.loads(line)\n",
    "                                for idx, text in item.items():\n",
    "                                    # 清理文本\n",
    "                                    cleaned_text = (\n",
    "                                        text.strip()\n",
    "                                        .replace(\"\\\\n\\\\n\", \" \")\n",
    "                                        .replace(\"\\\\n\", \" \")\n",
    "                                    )\n",
    "                                    if len(cleaned_text) > 20:\n",
    "                                        all_texts.append(cleaned_text)\n",
    "                                        all_labels.append(1)  # 1 = chatgpt\n",
    "                            except json.JSONDecodeError as e:\n",
    "                                logger.warning(f\"  Line {line_no} parse error: {e}\")\n",
    "                logger.info(\n",
    "                    f\"  Loaded {len([l for l in all_labels if l == 1])} ChatGPT texts\"\n",
    "                )\n",
    "            except Exception as e:\n",
    "                logger.error(f\"Error loading revised ChatGPT texts: {e}\")\n",
    "\n",
    "        # 4. 创建DataFrame\n",
    "        df = pd.DataFrame(\n",
    "            {\"id\": range(len(all_texts)), \"text\": all_texts, \"label\": all_labels}\n",
    "        )\n",
    "\n",
    "        # 打乱数据\n",
    "        df = df.sample(frac=1, random_state=42).reset_index(drop=True)\n",
    "        df[\"id\"] = range(len(df))\n",
    "\n",
    "        logger.info(f\"\\n=== Dataset Summary ===\")\n",
    "        logger.info(f\"Total samples: {len(df)}\")\n",
    "        logger.info(f\"Human texts: {len(df[df['label'] == 0])}\")\n",
    "        logger.info(f\"ChatGPT texts: {len(df[df['label'] == 1])}\")\n",
    "\n",
    "        # 显示示例\n",
    "        if len(df) > 0:\n",
    "            logger.info(\"\\nSample texts:\")\n",
    "            for label in [0, 1]:\n",
    "                label_name = \"Human\" if label == 0 else \"ChatGPT\"\n",
    "                samples = df[df[\"label\"] == label]\n",
    "                if len(samples) > 0:\n",
    "                    sample_text = samples.iloc[0][\"text\"]\n",
    "                    logger.info(f\"[{label_name}]: {sample_text[:100]}...\")\n",
    "\n",
    "        return df[[\"id\", \"text\", \"label\"]]\n",
    "\n",
    "    def create_sample_dataset(self) -> pd.DataFrame:\n",
    "        \"\"\"\n",
    "        创建示例数据集用于测试\n",
    "\n",
    "        Returns:\n",
    "            df: columns = ['id', 'text', 'label']\n",
    "        \"\"\"\n",
    "        sample_data = {\n",
    "            \"id\": range(6),\n",
    "            \"text\": [\n",
    "                \"There is most likely an error in the WSJ's data.  Yahoo! Finance reports the PE on the Russell 2000 to be 15 as of 83111 and SP 500 PE to be 13 (about the same as WSJ). Good catch, though!  E-mail WSJ, perhaps they will be grateful.\",\n",
    "                \"I know this question has a lot of answers already, but I feel the answers are phrased either strongly against, or mildly for, co-signing. What it amounts down to is that this is a personal choice. You cannot receive reliable information as to whether or not co-signing this loan is a good move due to lack of information. The person involved is going to know the person they would be co-signing for, and the people on this site will only have their own personal preferences of experiences to draw from. You know if they are reliable, if they will be able to pay off the loan without need for the banks to come after you.  This site can offer general theories, but I think it should be kept in mind that this is wholly a personal decision for the person involved, and them alone to make based on the facts that they know and we do not.\",\n",
    "                \"I think the best investment strategy is to diversify your portfolio across different asset classes.\",\n",
    "                \"Historical price-to-earnings (PE) ratios for small-cap and large-cap stocks can vary significantly over time and may not be directly comparable due to the different characteristics of these two categories of stocks.Small-cap stocks, which are defined as stocks with a market capitalization of less than $2 billion, tend to be riskier and more volatile than large-cap stocks, which have a market capitalization of $10 billion or more. As a result, investors may be willing to pay a higher price for the potential growth opportunities offered by small-cap stocks, which can lead to higher PE ratios.On the other hand, large-cap stocks tend to be more established and stable, with a longer track record of earnings and revenue growth. As a result, these stocks may trade at lower PE ratios, as investors may be less willing to pay a premium for their growth potential.It is important to note that PE ratios are just one factor to consider when evaluating a stock and should not be used in isolation. Other factors, such as the company's financial health, industry trends, and macroeconomic conditions, can also impact a stock's PE ratio.\",\n",
    "                \"Co-signing a personal loan for a friend or family member can be a risky proposition. When you co-sign a loan, you are agreeing to be responsible for the loan if the borrower is unable to make the payments. This means that if your friend or family member defaults on the loan, you will be on the hook for the remaining balance.There are a few things to consider before co-signing a personal loan for someone:Do you trust the borrower to make the payments on time and in full? If you are not confident that the borrower will be able to make the payments, it may not be a good idea to co-sign the loan.Can you afford to make the payments if the borrower defaults? If you are unable to make the payments, co-signing the loan could put your own financial stability at risk.What is the purpose of the loan? If the borrower is using the loan for a risky or questionable venture, it may not be worth the risk to co-sign.Is there another way for the borrower to get the loan without a co-signer? If the borrower has a good credit score and is able to qualify for a loan on their own, it may not be necessary for you to co-sign.In general, it is important to carefully consider the risks and potential consequences before co-signing a loan for someone. If you do decide to co-sign, it is a good idea to have a conversation with the borrower about their plans for making the loan payments and to have a clear understanding of your responsibilities as a co-signer.\",\n",
    "                \"The optimal approach to risk management involves careful assessment of market conditions.\",\n",
    "            ],\n",
    "            \"label\": [0, 0, 0, 1, 1, 1],  # 0=human, 1=AI\n",
    "        }\n",
    "\n",
    "        df = pd.DataFrame(sample_data)\n",
    "        logger.info(f\"Created sample dataset with {len(df)} examples\")\n",
    "        return df\n",
    "\n",
    "    def load_origin_dataset(self) -> pd.DataFrame:\n",
    "        \"\"\"Load finance dataset from JSON Lines format\"\"\"\n",
    "        files = self.find_finance_data_files()\n",
    "\n",
    "        logger.info(\"Loading finance datasets...\")\n",
    "        logger.info(f\"Found files: {list(files.keys())}\")\n",
    "\n",
    "        all_texts = []\n",
    "        all_labels = []\n",
    "\n",
    "        if \"original\" in files:\n",
    "            finance_path = files[\"original\"]\n",
    "            logger.info(f\"Loading from: {finance_path}\")\n",
    "\n",
    "            try:\n",
    "                with open(finance_path, \"r\", encoding=\"utf-8\") as f:\n",
    "                    line_count = 0\n",
    "                    for line_num, line in enumerate(f, 1):\n",
    "                        line = line.strip()\n",
    "                        if not line:\n",
    "                            continue\n",
    "\n",
    "                        try:\n",
    "                            data = json.loads(line)\n",
    "                            line_count += 1\n",
    "\n",
    "                            # Extract human answers\n",
    "                            human_answers = data.get(\"human_answers\", [])\n",
    "                            if (\n",
    "                                human_answers\n",
    "                                and len(human_answers) > 0\n",
    "                                and human_answers[0]\n",
    "                            ):\n",
    "                                all_texts.append(human_answers[0])\n",
    "                                all_labels.append(0)  # 0 for human\n",
    "\n",
    "                            # Extract ChatGPT answers\n",
    "                            chatgpt_answers = data.get(\"chatgpt_answers\", [])\n",
    "                            if (\n",
    "                                chatgpt_answers\n",
    "                                and len(chatgpt_answers) > 0\n",
    "                                and chatgpt_answers[0]\n",
    "                            ):\n",
    "                                all_texts.append(chatgpt_answers[0])\n",
    "                                all_labels.append(1)  # 1 for ChatGPT\n",
    "\n",
    "                            # Log progress every 1000 lines\n",
    "                            if line_num % 1000 == 0:\n",
    "                                logger.info(\n",
    "                                    f\"Processed {line_num} lines, extracted {len(all_texts)} texts\"\n",
    "                                )\n",
    "\n",
    "                        except json.JSONDecodeError as e:\n",
    "                            logger.error(f\"Error parsing line {line_num}: {e}\")\n",
    "                            logger.error(f\"Line content: {line[:100]}...\")\n",
    "                            continue\n",
    "\n",
    "                logger.info(f\"Successfully loaded {line_count} JSON objects\")\n",
    "                logger.info(f\"Total texts extracted: {len(all_texts)}\")\n",
    "\n",
    "            except FileNotFoundError:\n",
    "                logger.error(f\"File not found: {finance_path}\")\n",
    "                return self.create_sample_dataset()\n",
    "            except Exception as e:\n",
    "                logger.error(f\"Error loading finance data: {e}\")\n",
    "                return self.create_sample_dataset()\n",
    "        else:\n",
    "            logger.warning(\"No finance data file found. Creating sample dataset...\")\n",
    "            return self.create_sample_dataset()\n",
    "\n",
    "        if len(all_texts) == 0:\n",
    "            logger.warning(\n",
    "                \"No texts extracted from finance data. Creating sample dataset...\"\n",
    "            )\n",
    "            return self.create_sample_dataset()\n",
    "\n",
    "        # Create DataFrame\n",
    "        df = pd.DataFrame(\n",
    "            {\"id\": range(len(all_texts)), \"text\": all_texts, \"label\": all_labels}\n",
    "        )\n",
    "\n",
    "        # Shuffle data\n",
    "        df = df.sample(frac=1, random_state=42).reset_index(drop=True)\n",
    "        df[\"id\"] = range(len(df))\n",
    "\n",
    "        # Print summary\n",
    "        logger.info(f\"\\n=== Dataset Summary ===\")\n",
    "        logger.info(f\"Total samples: {len(df)}\")\n",
    "        logger.info(f\"Human texts: {len(df[df['label'] == 0])}\")\n",
    "        logger.info(f\"ChatGPT texts: {len(df[df['label'] == 1])}\")\n",
    "\n",
    "        # Show balance\n",
    "        balance = len(df[df[\"label\"] == 0]) / len(df) * 100\n",
    "        logger.info(\n",
    "            f\"Dataset balance: {balance:.1f}% human, {100-balance:.1f}% ChatGPT\"\n",
    "        )\n",
    "\n",
    "        # Display samples\n",
    "        if len(df) > 0:\n",
    "            logger.info(\"\\nSample texts:\")\n",
    "            for label in [0, 1]:\n",
    "                label_name = \"Human\" if label == 0 else \"ChatGPT\"\n",
    "                samples = df[df[\"label\"] == label]\n",
    "                if len(samples) > 0:\n",
    "                    sample_text = samples.iloc[0][\"text\"]\n",
    "                    logger.info(f\"\\n[{label_name}]: {sample_text[:200]}...\")\n",
    "\n",
    "        return df[[\"id\", \"text\", \"label\"]]\n",
    "\n",
    "    def save_dataset(self, df: pd.DataFrame, filename: str, format: str = \"csv\"):\n",
    "        \"\"\"\n",
    "        保存数据集到文件\n",
    "\n",
    "        Args:\n",
    "            df: 要保存的DataFrame\n",
    "            filename: 文件名（不含扩展名）\n",
    "            format: 文件格式 ('csv', 'json', 'jsonl')\n",
    "        \"\"\"\n",
    "        filepath = os.path.join(self.data_dir, f\"{filename}.{format}\")\n",
    "\n",
    "        if format == \"csv\":\n",
    "            df.to_csv(filepath, index=False)\n",
    "        elif format == \"json\":\n",
    "            df.to_json(filepath, orient=\"records\", indent=2)\n",
    "        elif format == \"jsonl\":\n",
    "            df.to_json(filepath, orient=\"records\", lines=True)\n",
    "        else:\n",
    "            raise ValueError(f\"Unsupported format: {format}\")\n",
    "\n",
    "        logger.info(f\"Saved dataset to {filepath}\")\n",
    "        return filepath\n",
    "\n",
    "\n",
    "def load_data(path: str) -> pd.DataFrame:\n",
    "\n",
    "    loader = CustomDataLoader()\n",
    "    return loader.load_data(path)\n",
    "\n",
    "\n",
    "def load_finance_dataset() -> pd.DataFrame:\n",
    "\n",
    "    loader = CustomDataLoader()\n",
    "    return loader.load_finance_dataset()\n",
    "\n",
    "\n",
    "def load_origin_dataset() -> pd.DataFrame:\n",
    "    loader = CustomDataLoader()\n",
    "    return loader.load_origin_dataset\n",
    "\n",
    "\n",
    "def create_sample_dataset() -> pd.DataFrame:\n",
    "\n",
    "    loader = CustomDataLoader()\n",
    "    return loader.create_sample_dataset()\n",
    "\n",
    "\n",
    "def evaluate_detector(\n",
    "    detector: AITextDetector, texts: List[str], labels: List[int]\n",
    ") -> Dict[str, float]:\n",
    "    \"\"\"\n",
    "    评估检测器性能\n",
    "    \"\"\"\n",
    "    results = detector.detect_batch(texts, labels)\n",
    "\n",
    "    predictions = results[\"predictions\"]\n",
    "    probabilities = results[\"probabilities\"]\n",
    "\n",
    "    # 计算指标\n",
    "    metrics = {\n",
    "        \"accuracy\": accuracy_score(labels, predictions),\n",
    "        \"auc\": roc_auc_score(labels, probabilities),\n",
    "    }\n",
    "\n",
    "    print(\"\\n=== Evaluation Results ===\")\n",
    "    print(f\"Accuracy: {metrics['accuracy']:.4f}\")\n",
    "    print(f\"AUC: {metrics['auc']:.4f}\")\n",
    "\n",
    "    print(\"\\nClassification Report:\")\n",
    "    print(classification_report(labels, predictions, target_names=[\"Human\", \"AI\"]))\n",
    "\n",
    "    # 分析相似度分布\n",
    "    human_scores = results[\"similarity_scores\"][np.array(labels) == 0]\n",
    "    ai_scores = results[\"similarity_scores\"][np.array(labels) == 1]\n",
    "\n",
    "    print(f\"\\nSimilarity Score Distribution:\")\n",
    "    print(\n",
    "        f\"Human texts - Mean: {np.mean(human_scores):.3f}, Std: {np.std(human_scores):.3f}\"\n",
    "    )\n",
    "    print(f\"AI texts - Mean: {np.mean(ai_scores):.3f}, Std: {np.std(ai_scores):.3f}\")\n",
    "\n",
    "    return metrics\n",
    "\n",
    "\n",
    "# ==============================================================================\n",
    "\n",
    "\n",
    "def plot_roc_curves(results: Dict):\n",
    "    \"\"\"绘制所有实验的ROC曲线\"\"\"\n",
    "    plt.figure(figsize=(10, 8))\n",
    "    for name, result_data in results.items():\n",
    "        fpr, tpr, _ = roc_curve(\n",
    "            result_data[\"test_labels\"], result_data[\"test_results\"][\"probabilities\"]\n",
    "        )\n",
    "        auc = roc_auc_score(\n",
    "            result_data[\"test_labels\"], result_data[\"test_results\"][\"probabilities\"]\n",
    "        )\n",
    "        plt.plot(fpr, tpr, label=f\"{name} (AUC = {auc:.3f})\")\n",
    "    plt.plot([0, 1], [0, 1], \"k--\", label=\"Chance\")\n",
    "    plt.xlabel(\"False Positive Rate\")\n",
    "    plt.ylabel(\"True Positive Rate\")\n",
    "    plt.title(\"ROC Curves Comparison\")\n",
    "    plt.legend()\n",
    "    plt.grid(True)\n",
    "    plt.show()\n",
    "\n",
    "\n",
    "def plot_precision_recall_curves(results: Dict):\n",
    "    \"\"\"绘制所有实验的Precision-Recall曲线\"\"\"\n",
    "    plt.figure(figsize=(10, 8))\n",
    "    for name, result_data in results.items():\n",
    "        precision, recall, _ = precision_recall_curve(\n",
    "            result_data[\"test_labels\"], result_data[\"test_results\"][\"probabilities\"]\n",
    "        )\n",
    "        plt.plot(recall, precision, label=f\"{name}\")\n",
    "    plt.xlabel(\"Recall\")\n",
    "    plt.ylabel(\"Precision\")\n",
    "    plt.title(\"Precision-Recall Curves Comparison\")\n",
    "    plt.legend()\n",
    "    plt.grid(True)\n",
    "    plt.show()\n",
    "\n",
    "\n",
    "def plot_confusion_matrices(results: Dict):\n",
    "    \"\"\"绘制所有实验的混淆矩阵\"\"\"\n",
    "    n_results = len(results)\n",
    "    fig, axes = plt.subplots(1, n_results, figsize=(6 * n_results, 5))\n",
    "    if n_results == 1:\n",
    "        axes = [axes]  # Make it iterable\n",
    "    for ax, (name, result_data) in zip(axes, results.items()):\n",
    "        cm = confusion_matrix(\n",
    "            result_data[\"test_labels\"], result_data[\"test_results\"][\"predictions\"]\n",
    "        )\n",
    "        sns.heatmap(\n",
    "            cm,\n",
    "            annot=True,\n",
    "            fmt=\"d\",\n",
    "            cmap=\"Blues\",\n",
    "            ax=ax,\n",
    "            cbar=False,\n",
    "            xticklabels=[\"Human\", \"AI\"],\n",
    "            yticklabels=[\"Human\", \"AI\"],\n",
    "        )\n",
    "        ax.set_title(f\"Confusion Matrix: {name}\")\n",
    "        ax.set_xlabel(\"Predicted Label\")\n",
    "        ax.set_ylabel(\"True Label\")\n",
    "    plt.tight_layout()\n",
    "    plt.show()\n",
    "\n",
    "\n",
    "def plot_classification_metrics(results: Dict):\n",
    "    \"\"\"将关键分类指标（P, R, F1）绘制成条形图进行比较\"\"\"\n",
    "    metrics_data = []\n",
    "    for name, result_data in results.items():\n",
    "        report = classification_report(\n",
    "            result_data[\"test_labels\"],\n",
    "            result_data[\"test_results\"][\"predictions\"],\n",
    "            target_names=[\"Human\", \"AI\"],\n",
    "            output_dict=True,\n",
    "        )\n",
    "        # 只关注AI类别的指标\n",
    "        ai_metrics = report[\"AI\"]\n",
    "        metrics_data.append(\n",
    "            {\n",
    "                \"Configuration\": name,\n",
    "                \"Precision\": ai_metrics[\"precision\"],\n",
    "                \"Recall\": ai_metrics[\"recall\"],\n",
    "                \"F1-Score\": ai_metrics[\"f1-score\"],\n",
    "            }\n",
    "        )\n",
    "\n",
    "    df = pd.DataFrame(metrics_data)\n",
    "    df_melted = df.melt(id_vars=\"Configuration\", var_name=\"Metric\", value_name=\"Score\")\n",
    "\n",
    "    plt.figure(figsize=(12, 7))\n",
    "    sns.barplot(data=df_melted, x=\"Configuration\", y=\"Score\", hue=\"Metric\")\n",
    "    plt.title('Classification Metrics for \"AI\" Class')\n",
    "    plt.ylabel(\"Score\")\n",
    "    plt.xticks(rotation=15)\n",
    "    plt.ylim(0, 1.05)\n",
    "    plt.grid(axis=\"y\", linestyle=\"--\", alpha=0.7)\n",
    "    plt.show()\n",
    "\n",
    "\n",
    "def find_optimal_threshold(labels: List[int], scores: np.ndarray) -> float:\n",
    "    \"\"\"\n",
    "    Find the optimal classification threshold using the ROC curve.\n",
    "\n",
    "    The optimal threshold is the one that maximizes the difference\n",
    "    between the true positive rate (TPR) and the false positive rate (FPR).\n",
    "    \"\"\"\n",
    "    fpr, tpr, thresholds = roc_curve(labels, scores)\n",
    "\n",
    "    # Calculate the optimal threshold\n",
    "    optimal_idx = np.argmax(tpr - fpr)\n",
    "    optimal_threshold = thresholds[optimal_idx]\n",
    "\n",
    "    print(\n",
    "        f\"\\nFound optimal similarity threshold from training data: {optimal_threshold:.4f}\"\n",
    "    )\n",
    "    return optimal_threshold\n",
    "\n",
    "\n",
    "# 主执行函数\n",
    "async def main(\n",
    "    data_path: str = \"finance\",\n",
    "    max_samples: Optional[int] = None,\n",
    "    use_cache: bool = True,\n",
    "    config: Optional[DetectionConfig] = None,\n",
    "):\n",
    "    \"\"\"\n",
    "    主执行函数 - 使用增强版检测器\n",
    "\n",
    "    Args:\n",
    "        data_path: 数据文件路径或 'finance'/'sample'\n",
    "        max_samples: 限制处理的样本数量（用于快速测试）\n",
    "        use_cache: 是否使用缓存\n",
    "        config: 检测器配置\n",
    "    \"\"\"\n",
    "\n",
    "    SEED = 42\n",
    "    random.seed(SEED)\n",
    "    np.random.seed(SEED)\n",
    "    torch.manual_seed(SEED)\n",
    "    if torch.cuda.is_available():\n",
    "        torch.cuda.manual_seed_all(SEED)\n",
    "\n",
    "    print(\"=== Enhanced AI Text Detection ===\")\n",
    "    print(\n",
    "        f\"Method: Multi-feature extraction with {config.revision_model if config else 'default model'}\"\n",
    "    )\n",
    "\n",
    "    # 1. 加载数据\n",
    "    logger.info(f\"Loading data from: {data_path}\")\n",
    "    loader = CustomDataLoader()\n",
    "    df = loader.load_data(data_path)\n",
    "    if max_samples:\n",
    "        df = df.head(max_samples)\n",
    "        print(f\"Using first {max_samples} samples for testing\")\n",
    "\n",
    "    df = df.sample(frac=1, random_state=42).reset_index(drop=True)\n",
    "    texts = df[\"text\"].tolist()\n",
    "    labels = df[\"label\"].tolist()\n",
    "\n",
    "    # 2. 数据分割（70% 训练，30% 测试）\n",
    "    split_idx = int(len(texts) * 0.6)\n",
    "    train_texts, test_texts = texts[:split_idx], texts[split_idx:]\n",
    "    train_labels, test_labels = labels[:split_idx], labels[split_idx:]\n",
    "\n",
    "    print(f\"\\nDataset split: {len(train_texts)} training, {len(test_texts)} testing\")\n",
    "\n",
    "    # 3. 创建检测器\n",
    "    if config is None:\n",
    "        config = DetectionConfig(\n",
    "            revision_model=\"t5-small\",  # 或 \"gpt2\" t5-small\n",
    "            embedding_model=\"all-MiniLM-L6-v2\",\n",
    "            perturbation_rate=0.15,\n",
    "            use_ml_classifier=True,\n",
    "        )\n",
    "\n",
    "    detector = AITextDetector(config)\n",
    "\n",
    "    # 4. 加载缓存\n",
    "    cache_path = f\"enhanced_cache_{config.revision_model}.json\"\n",
    "    if use_cache and os.path.exists(cache_path):\n",
    "        with open(cache_path, \"r\") as f:\n",
    "            detector.cache = json.load(f)\n",
    "        print(f\"Loaded cache with {len(detector.cache)} entries\")\n",
    "\n",
    "    # 5. 训练阶段\n",
    "    print(\"\\n=== Training Phase ===\")\n",
    "    print(\n",
    "        \"Train labels distribution:\", pd.Series(train_labels).value_counts().to_dict()\n",
    "    )\n",
    "    train_results = await detector.detect_batch(train_texts, train_labels)\n",
    "    # If not using the ML classifier, find the best threshold from the training run\n",
    "    if not config.use_ml_classifier:\n",
    "        optimal_threshold = find_optimal_threshold(\n",
    "            train_labels, train_results[\"similarity_scores\"]\n",
    "        )\n",
    "        # Update the detector's config with the new, optimal threshold\n",
    "        detector.config.similarity_threshold = optimal_threshold\n",
    "\n",
    "    # 6. 测试阶段\n",
    "    print(\"\\n=== Testing Phase ===\")\n",
    "    test_results = await detector.detect_batch(test_texts)\n",
    "\n",
    "    # 7. 评估结果\n",
    "    test_predictions = test_results[\"predictions\"]\n",
    "    test_probabilities = test_results[\"probabilities\"]\n",
    "\n",
    "    # 计算指标\n",
    "    accuracy = accuracy_score(test_labels, test_predictions)\n",
    "    auc = roc_auc_score(test_labels, test_probabilities)\n",
    "\n",
    "    print(f\"\\n=== Test Results ===\")\n",
    "    print(f\"Accuracy: {accuracy:.4f}\")\n",
    "    print(f\"AUC: {auc:.4f}\")\n",
    "\n",
    "    # 详细报告\n",
    "    print(\"\\nClassification Report:\")\n",
    "    print(\n",
    "        classification_report(\n",
    "            test_labels, test_predictions, target_names=[\"Human\", \"AI\"]\n",
    "        )\n",
    "    )\n",
    "\n",
    "    # 混淆矩阵\n",
    "    cm = confusion_matrix(test_labels, test_predictions)\n",
    "    print(\"\\nConfusion Matrix:\")\n",
    "    print(f\"              Predicted\")\n",
    "    print(f\"            Human    AI\")\n",
    "    print(f\"Actual Human  {cm[0,0]:4d}  {cm[0,1]:4d}\")\n",
    "    print(f\"       AI     {cm[1,0]:4d}  {cm[1,1]:4d}\")\n",
    "\n",
    "    # 特征分析\n",
    "    features_df = test_results[\"features\"]\n",
    "    similarity_scores = test_results[\"similarity_scores\"]\n",
    "\n",
    "    # 分组统计\n",
    "    human_scores = similarity_scores[np.array(test_labels) == 0]\n",
    "    ai_scores = similarity_scores[np.array(test_labels) == 1]\n",
    "\n",
    "    print(f\"\\n=== Similarity Score Analysis ===\")\n",
    "    print(f\"Human texts:\")\n",
    "    print(f\"  Mean: {np.mean(human_scores):.3f}, Std: {np.std(human_scores):.3f}\")\n",
    "    print(f\"  Min: {np.min(human_scores):.3f}, Max: {np.max(human_scores):.3f}\")\n",
    "\n",
    "    print(f\"AI texts:\")\n",
    "    print(f\"  Mean: {np.mean(ai_scores):.3f}, Std: {np.std(ai_scores):.3f}\")\n",
    "    print(f\"  Min: {np.min(ai_scores):.3f}, Max: {np.max(ai_scores):.3f}\")\n",
    "\n",
    "    # 显示错误分类的例子\n",
    "    print(\"\\n=== Misclassified Examples ===\")\n",
    "    misclassified_idx = np.where(test_predictions != test_labels)[0]\n",
    "\n",
    "    for i, idx in enumerate(misclassified_idx[:50]):  # 显示前5个\n",
    "        true_label = \"AI\" if test_labels[idx] == 1 else \"Human\"\n",
    "        pred_label = \"AI\" if test_predictions[idx] == 1 else \"Human\"\n",
    "        text = (\n",
    "            test_texts[idx][:100] + \"...\"\n",
    "            if len(test_texts[idx]) > 100\n",
    "            else test_texts[idx]\n",
    "        )\n",
    "\n",
    "        print(f\"\\nExample {i+1}:\")\n",
    "        print(f\"Text: {text}\")\n",
    "        print(f\"True: {true_label}, Predicted: {pred_label}\")\n",
    "        print(\n",
    "            f\"Similarity: {similarity_scores[idx]:.3f}, Probability: {test_probabilities[idx]:.3f}\"\n",
    "        )\n",
    "\n",
    "    # 8. 保存缓存和模型\n",
    "    if use_cache:\n",
    "        with open(cache_path, \"w\") as f:\n",
    "            json.dump(detector.cache, f)\n",
    "        print(f\"\\nCache saved to {cache_path}\")\n",
    "\n",
    "    # 保存模型\n",
    "    model_path = f\"enhanced_detector_{config.revision_model}.pkl\"\n",
    "    detector.save_model(model_path)\n",
    "\n",
    "    return {\n",
    "        \"detector\": detector,\n",
    "        \"test_results\": test_results,\n",
    "        \"test_labels\": test_labels,\n",
    "        \"accuracy\": accuracy,\n",
    "        \"auc\": auc,\n",
    "    }\n",
    "\n",
    "\n",
    "# 实验对比函数\n",
    "async def run_comparison_experiment(\n",
    "    data_path: str = \"finance\", max_samples: Optional[int] = None\n",
    "):\n",
    "    \"\"\"\n",
    "    运行对比实验，比较不同配置的效果\n",
    "    \"\"\"\n",
    "    print(\"=== Comparison Experiment ===\")\n",
    "\n",
    "    results = {}\n",
    "\n",
    "    configurations = {\n",
    "        # \"t5 with Allmini&perturbation\": DetectionConfig(\n",
    "        #     revision_model=\"t5-small\",\n",
    "        #     embedding_model=\"all-MiniLM-L6-v2\",\n",
    "        #     perturbation_rate=0.15,\n",
    "        #     use_ml_classifier=False,\n",
    "        # ),\n",
    "        # \"GPT-2 with AllMini&perturbation\": DetectionConfig(\n",
    "        #     revision_model=\"gpt2\",\n",
    "        #     embedding_model=\"all-MiniLM-L6-v2\",\n",
    "        #     perturbation_rate=0,\n",
    "        #     use_ml_classifier=False,\n",
    "        # ),\n",
    "        # \"t5 with Allmini\": DetectionConfig(\n",
    "        #     revision_model=\"t5-small\",\n",
    "        #     embedding_model=\"all-MiniLM-L6-v2\",\n",
    "        #     perturbation_rate=0.15,\n",
    "        #     use_ml_classifier=False,\n",
    "        # ),\n",
    "        # \"GPT-2 with AllMini\": DetectionConfig(\n",
    "        #     revision_model=\"gpt2\",\n",
    "        #     embedding_model=\"all-MiniLM-L6-v2\",\n",
    "        #     perturbation_rate=0,\n",
    "        #     use_ml_classifier=False,\n",
    "        # ),\n",
    "        # \"t5 with Allmini&feature&perturbation\": DetectionConfig(\n",
    "        #     revision_model=\"t5-small\",\n",
    "        #     embedding_model=\"all-MiniLM-L6-v2\",\n",
    "        #     perturbation_rate=0.15,\n",
    "        #     use_ml_classifier=True,\n",
    "        # ),\n",
    "        # \"GPT-2 with AllMini&feature&perturbation\": DetectionConfig(\n",
    "        #     revision_model=\"gpt2\",\n",
    "        #     embedding_model=\"all-MiniLM-L6-v2\",\n",
    "        #     perturbation_rate=0.15,\n",
    "        #     use_ml_classifier=True,\n",
    "        # ),\n",
    "        \"gpt3.5 with Bert model\": DetectionConfig(\n",
    "            revision_model=\"gpt-3.5-turbo\",\n",
    "            embedding_model=\"bert-base-uncased\",\n",
    "            perturbation_rate=0.15,\n",
    "            use_ml_classifier=True,\n",
    "        ),\n",
    "        \"gpt3.5 with RoBEATa model\": DetectionConfig(\n",
    "            revision_model=\"gpt-3.5-turbo\",\n",
    "            embedding_model=\"roberta-base\",\n",
    "            perturbation_rate=0.15,\n",
    "            use_ml_classifier=True,\n",
    "        ),\n",
    "        \"gpt3.5 with paraphrase model\": DetectionConfig(\n",
    "            revision_model=\"gpt-3.5-turbo\",\n",
    "            embedding_model=\"paraphrase-MiniLM-L6-v2\",\n",
    "            perturbation_rate=0.15,\n",
    "            use_ml_classifier=True,\n",
    "        ),\n",
    "        \"gpt3.5 with funed model\": DetectionConfig(\n",
    "            revision_model=\"gpt-3.5-turbo\",  # t5-small,gpt-3.5-turbo,gpt2\n",
    "            embedding_model=\"./models/paraphrase-MiniLM-L6-v2-ai-detector-incomplete\",\n",
    "            perturbation_rate=0.15,\n",
    "            use_ml_classifier=True,\n",
    "        ),\n",
    "        # \"High_Perturb\": DetectionConfig(\n",
    "        #     revision_model=\"t5-small\",\n",
    "        #     embedding_model=\"all-MiniLM-L6-v2\",\n",
    "        #     perturbation_rate=0.25,\n",
    "        #     perturbation_methods=[\"synonym\", \"contextual\", \"random_swap\"],\n",
    "        #     use_ml_classifier=True,\n",
    "        # ),\n",
    "    }\n",
    "\n",
    "    # 比较结果\n",
    "    # Run experiments\n",
    "    for name, config in configurations.items():\n",
    "        print(f\"\\n{'='*20} Running: {name} {'='*20}\")\n",
    "        try:\n",
    "            results[name] = await main(\n",
    "                data_path=data_path,\n",
    "                max_samples=max_samples,\n",
    "                use_cache=True,\n",
    "                config=config,\n",
    "            )\n",
    "        except Exception as e:\n",
    "            print(f\"!!!!!! Experiment '{name}' failed: {e} !!!!!!\")\n",
    "\n",
    "    # Compare results textually\n",
    "    print(\"\\n\\n=== Final Comparison Summary ===\")\n",
    "    print(f\"{'Configuration':<20} {'Accuracy':<10} {'AUC':<10}\")\n",
    "    print(\"-\" * 40)\n",
    "    for name, result_data in results.items():\n",
    "        print(\n",
    "            f\"{name:<20} {result_data['accuracy']:<10.4f} {result_data['auc']:<10.4f}\"\n",
    "        )\n",
    "\n",
    "    # Visualize results\n",
    "    print(\"\\n\\nGenerating visualizations...\")\n",
    "    if results:\n",
    "        plot_roc_curves(results)\n",
    "        plot_precision_recall_curves(results)\n",
    "        plot_confusion_matrices(results)\n",
    "        plot_classification_metrics(results)\n",
    "    else:\n",
    "        print(\"No successful experiments to visualize.\")\n",
    "\n",
    "    return results\n"
   ]
  },
  {
   "cell_type": "code",
   "execution_count": 2,
   "metadata": {
    "execution": {
     "iopub.execute_input": "2025-07-13T17:04:03.965596Z",
     "iopub.status.busy": "2025-07-13T17:04:03.965019Z",
     "iopub.status.idle": "2025-07-13T17:04:03.993284Z",
     "shell.execute_reply": "2025-07-13T17:04:03.992562Z",
     "shell.execute_reply.started": "2025-07-13T17:04:03.965578Z"
    },
    "trusted": true
   },
   "outputs": [],
   "source": [
    "# \"\"\"\n",
    "# 双路径融合模型实现\n",
    "# 结合Transformer深度特征和统计特征进行AI文本检测\n",
    "# \"\"\"\n",
    "\n",
    "# import torch\n",
    "# import torch.nn as nn\n",
    "# import torch.nn.functional as F\n",
    "# from torch.utils.data import Dataset, DataLoader\n",
    "# import numpy as np\n",
    "# from transformers import AutoTokenizer, AutoModel\n",
    "# from sklearn.preprocessing import StandardScaler\n",
    "# from sklearn.model_selection import train_test_split\n",
    "# from typing import List, Dict, Tuple, Optional\n",
    "# import pandas as pd\n",
    "# from tqdm import tqdm\n",
    "\n",
    "\n",
    "# class DualPathFusionModel(nn.Module):\n",
    "#     \"\"\"\n",
    "#     双路径融合模型\n",
    "#     路径A: Transformer提取深度语义特征\n",
    "#     路径B: 统计特征（相似度等）\n",
    "#     \"\"\"\n",
    "\n",
    "#     def __init__(\n",
    "#         self,\n",
    "#         transformer_name: str = \"distilbert-base-uncased\",\n",
    "#         num_statistical_features: int = 13,\n",
    "#         hidden_size: int = 256,\n",
    "#         dropout_rate: float = 0.3,\n",
    "#     ):\n",
    "#         \"\"\"\n",
    "#         Args:\n",
    "#             transformer_name: 预训练Transformer模型名称\n",
    "#             num_statistical_features: 统计特征的数量\n",
    "#             hidden_size: MLP隐藏层大小\n",
    "#             dropout_rate: Dropout率\n",
    "#         \"\"\"\n",
    "#         super(DualPathFusionModel, self).__init__()\n",
    "\n",
    "#         # 路径A: Transformer\n",
    "#         self.transformer = AutoModel.from_pretrained(transformer_name)\n",
    "#         self.transformer_dim = self.transformer.config.hidden_size\n",
    "\n",
    "#         try:\n",
    "#             for param in self.transformer.base_model.embeddings.parameters():\n",
    "#                 param.requires_grad = False\n",
    "#         except AttributeError:\n",
    "#             logging.warning(f\"Could not freeze embedding layers for {transformer_name}. This is expected for models like T5.\")\n",
    "\n",
    "#         # 路径B直接使用输入的统计特征\n",
    "\n",
    "#         # 特征融合后的分类头\n",
    "#         fusion_dim = self.transformer_dim + num_statistical_features\n",
    "\n",
    "#         self.classifier = nn.Sequential(\n",
    "#             nn.Linear(fusion_dim, hidden_size),\n",
    "#             nn.ReLU(),\n",
    "#             nn.Dropout(dropout_rate),\n",
    "#             nn.Linear(hidden_size, hidden_size // 2),\n",
    "#             nn.ReLU(),\n",
    "#             nn.Dropout(dropout_rate),\n",
    "#             nn.Linear(hidden_size // 2, 2),  # 二分类\n",
    "#         )\n",
    "\n",
    "#         # 特征归一化层\n",
    "#         self.feature_norm = nn.BatchNorm1d(num_statistical_features)\n",
    "\n",
    "#     def forward(self, input_ids: torch.Tensor, attention_mask: torch.Tensor, statistical_features: torch.Tensor) -> torch.Tensor:\n",
    "#         transformer_outputs = self.transformer(input_ids=input_ids, attention_mask=attention_mask)\n",
    "#         # Handle different output structures (e.g., T5 vs BERT)\n",
    "#         if hasattr(transformer_outputs, 'last_hidden_state'):\n",
    "#             cls_embedding = transformer_outputs.last_hidden_state[:, 0, :]\n",
    "#         elif hasattr(transformer_outputs, 'encoder_last_hidden_state'): # For T5\n",
    "#              cls_embedding = transformer_outputs.encoder_last_hidden_state[:, 0, :]\n",
    "#         else:\n",
    "#             raise TypeError(f\"Unsupported model output type for {type(self.transformer)}\")\n",
    "\n",
    "#         normalized_features = self.feature_norm(statistical_features)\n",
    "#         fused_features = torch.cat([cls_embedding, normalized_features], dim=1)\n",
    "#         logits = self.classifier(fused_features)\n",
    "#         return logits\n",
    "\n",
    "\n",
    "# class TextDetectionDataset(Dataset):\n",
    "#     \"\"\"\n",
    "#     AI文本检测数据集\n",
    "#     \"\"\"\n",
    "\n",
    "#     def __init__(\n",
    "#         self,\n",
    "#         texts: List[str],\n",
    "#         statistical_features: np.ndarray,\n",
    "#         labels: List[int],\n",
    "#         tokenizer,\n",
    "#         max_length: int = 512,\n",
    "#     ):\n",
    "#         \"\"\"\n",
    "#         Args:\n",
    "#             texts: 原始文本列表\n",
    "#             statistical_features: 统计特征矩阵 [n_samples, n_features]\n",
    "#             labels: 标签列表 (0=human, 1=AI)\n",
    "#             tokenizer: Transformer分词器\n",
    "#             max_length: 最大序列长度\n",
    "#         \"\"\"\n",
    "#         self.texts = texts\n",
    "#         self.statistical_features = statistical_features\n",
    "#         self.labels = labels\n",
    "#         self.tokenizer = tokenizer\n",
    "#         self.max_length = max_length\n",
    "\n",
    "#     def __len__(self):\n",
    "#         return len(self.texts)\n",
    "\n",
    "#     def __getitem__(self, idx):\n",
    "#         # 获取文本和标签\n",
    "#         text = self.texts[idx]\n",
    "#         label = self.labels[idx]\n",
    "#         features = self.statistical_features[idx]\n",
    "\n",
    "#         # 使用tokenizer编码文本\n",
    "#         encoding = self.tokenizer(\n",
    "#             text,\n",
    "#             truncation=True,\n",
    "#             padding=\"max_length\",\n",
    "#             max_length=self.max_length,\n",
    "#             return_tensors=\"pt\",\n",
    "#         )\n",
    "\n",
    "#         return {\n",
    "#             \"input_ids\": encoding[\"input_ids\"].flatten(),\n",
    "#             \"attention_mask\": encoding[\"attention_mask\"].flatten(),\n",
    "#             \"statistical_features\": torch.tensor(features, dtype=torch.float32),\n",
    "#             \"labels\": torch.tensor(label, dtype=torch.long),\n",
    "#         }\n",
    "\n",
    "\n",
    "# class DualPathDetector:\n",
    "#     \"\"\"\n",
    "#     使用双路径融合模型的检测器\n",
    "#     \"\"\"\n",
    "\n",
    "#     def __init__(self, model_name: str = \"distilbert-base-uncased\", device: str = None):\n",
    "#         \"\"\"\n",
    "#         初始化检测器\n",
    "#         \"\"\"\n",
    "#         self.device = device or (\"cuda\" if torch.cuda.is_available() else \"cpu\")\n",
    "#         self.model_name = model_name\n",
    "\n",
    "#         # 初始化tokenizer\n",
    "#         if self.tokenizer.pad_token is None:\n",
    "#             self.tokenizer.pad_token = self.tokenizer.eos_token\n",
    "#             logging.info(f\"Set pad_token to eos_token for {model_name} tokenizer.\")\n",
    "\n",
    "#         # 初始化模型（稍后会根据特征数量调整）\n",
    "#         self.model = None\n",
    "#         self.scaler = StandardScaler()\n",
    "\n",
    "#         print(f\"Dual Path Detector initialized on {self.device}\")\n",
    "\n",
    "#     def prepare_data(\n",
    "#         self, texts: List[str], features_df: pd.DataFrame, labels: List[int]\n",
    "#     ) -> Tuple[Dataset, Dataset]:\n",
    "#         \"\"\"\n",
    "#         准备训练和验证数据\n",
    "\n",
    "#         Args:\n",
    "#             texts: 文本列表\n",
    "#             features_df: 包含统计特征的DataFrame\n",
    "#             labels: 标签列表\n",
    "\n",
    "#         Returns:\n",
    "#             train_dataset, val_dataset\n",
    "#         \"\"\"\n",
    "#         # 标准化特征\n",
    "#         features_array = features_df.values\n",
    "#         features_normalized = self.scaler.fit_transform(features_array)\n",
    "\n",
    "#         # 分割数据\n",
    "#         X_train, X_val, y_train, y_val, feat_train, feat_val = train_test_split(\n",
    "#             texts,\n",
    "#             labels,\n",
    "#             features_normalized,\n",
    "#             test_size=0.2,\n",
    "#             random_state=42,\n",
    "#             stratify=labels,\n",
    "#         )\n",
    "\n",
    "#         # 创建数据集\n",
    "#         train_dataset = TextDetectionDataset(\n",
    "#             X_train, feat_train, y_train, self.tokenizer\n",
    "#         )\n",
    "#         val_dataset = TextDetectionDataset(X_val, feat_val, y_val, self.tokenizer)\n",
    "\n",
    "#         return train_dataset, val_dataset\n",
    "\n",
    "#     def train(\n",
    "#         self,\n",
    "#         train_dataset: Dataset,\n",
    "#         val_dataset: Dataset,\n",
    "#         num_epochs: int = 10,\n",
    "#         batch_size: int = 16,\n",
    "#         learning_rate: float = 2e-5,\n",
    "#     ):\n",
    "#         \"\"\"\n",
    "#         训练模型\n",
    "#         \"\"\"\n",
    "#         # 如果模型还未初始化，根据特征数量初始化\n",
    "#         if self.model is None:\n",
    "#             num_features = train_dataset[0][\"statistical_features\"].shape[0]\n",
    "#             self.model = DualPathFusionModel(\n",
    "#                 transformer_name=self.model_name, num_statistical_features=num_features\n",
    "#             ).to(self.device)\n",
    "\n",
    "#         # 创建数据加载器\n",
    "#         train_loader = DataLoader(train_dataset, batch_size=batch_size, shuffle=True)\n",
    "#         val_loader = DataLoader(val_dataset, batch_size=batch_size)\n",
    "\n",
    "#         # 优化器和损失函数\n",
    "#         optimizer = torch.optim.AdamW(self.model.parameters(), lr=learning_rate)\n",
    "#         criterion = nn.CrossEntropyLoss()\n",
    "\n",
    "#         # 学习率调度器\n",
    "#         scheduler = torch.optim.lr_scheduler.ReduceLROnPlateau(\n",
    "#             optimizer, mode=\"min\", patience=2, factor=0.5\n",
    "#         )\n",
    "\n",
    "#         # 训练循环\n",
    "#         best_val_loss = float(\"inf\")\n",
    "\n",
    "#         for epoch in range(num_epochs):\n",
    "#             # 训练阶段\n",
    "#             self.model.train()\n",
    "#             train_loss = 0\n",
    "#             train_correct = 0\n",
    "#             train_total = 0\n",
    "\n",
    "#             train_bar = tqdm(train_loader, desc=f\"Epoch {epoch+1}/{num_epochs} [Train]\")\n",
    "#             for batch in train_bar:\n",
    "#                 input_ids = batch[\"input_ids\"].to(self.device)\n",
    "#                 attention_mask = batch[\"attention_mask\"].to(self.device)\n",
    "#                 features = batch[\"statistical_features\"].to(self.device)\n",
    "#                 labels = batch[\"labels\"].to(self.device)\n",
    "\n",
    "#                 optimizer.zero_grad()\n",
    "\n",
    "#                 # 前向传播\n",
    "#                 logits = self.model(input_ids, attention_mask, features)\n",
    "#                 loss = criterion(logits, labels)\n",
    "\n",
    "#                 # 反向传播\n",
    "#                 loss.backward()\n",
    "#                 optimizer.step()\n",
    "\n",
    "#                 # 统计\n",
    "#                 train_loss += loss.item()\n",
    "#                 _, predicted = torch.max(logits.data, 1)\n",
    "#                 train_total += labels.size(0)\n",
    "#                 train_correct += (predicted == labels).sum().item()\n",
    "\n",
    "#                 train_bar.set_postfix(\n",
    "#                     {\n",
    "#                         \"loss\": f\"{loss.item():.4f}\",\n",
    "#                         \"acc\": f\"{100.*train_correct/train_total:.2f}%\",\n",
    "#                     }\n",
    "#                 )\n",
    "\n",
    "#             # 验证阶段\n",
    "#             self.model.eval()\n",
    "#             val_loss = 0\n",
    "#             val_correct = 0\n",
    "#             val_total = 0\n",
    "\n",
    "#             with torch.no_grad():\n",
    "#                 for batch in tqdm(\n",
    "#                     val_loader, desc=f\"Epoch {epoch+1}/{num_epochs} [Val]\"\n",
    "#                 ):\n",
    "#                     input_ids = batch[\"input_ids\"].to(self.device)\n",
    "#                     attention_mask = batch[\"attention_mask\"].to(self.device)\n",
    "#                     features = batch[\"statistical_features\"].to(self.device)\n",
    "#                     labels = batch[\"labels\"].to(self.device)\n",
    "\n",
    "#                     logits = self.model(input_ids, attention_mask, features)\n",
    "#                     loss = criterion(logits, labels)\n",
    "\n",
    "#                     val_loss += loss.item()\n",
    "#                     _, predicted = torch.max(logits.data, 1)\n",
    "#                     val_total += labels.size(0)\n",
    "#                     val_correct += (predicted == labels).sum().item()\n",
    "\n",
    "#             # 计算平均损失和准确率\n",
    "#             avg_train_loss = train_loss / len(train_loader)\n",
    "#             avg_val_loss = val_loss / len(val_loader)\n",
    "#             train_acc = 100.0 * train_correct / train_total\n",
    "#             val_acc = 100.0 * val_correct / val_total\n",
    "\n",
    "#             print(f\"\\nEpoch {epoch+1}:\")\n",
    "#             print(f\"  Train Loss: {avg_train_loss:.4f}, Train Acc: {train_acc:.2f}%\")\n",
    "#             print(f\"  Val Loss: {avg_val_loss:.4f}, Val Acc: {val_acc:.2f}%\")\n",
    "\n",
    "#             # 学习率调度\n",
    "#             scheduler.step(avg_val_loss)\n",
    "\n",
    "#             # 保存最佳模型\n",
    "#             if avg_val_loss < best_val_loss:\n",
    "#                 best_val_loss = avg_val_loss\n",
    "#                 self.save_model(\"best_dual_path_model.pt\")\n",
    "#                 print(\" Saved best model\")\n",
    "\n",
    "#     def predict(\n",
    "#         self, texts: List[str], features_df: pd.DataFrame\n",
    "#     ) -> Tuple[np.ndarray, np.ndarray]:\n",
    "#         \"\"\"\n",
    "#         预测新文本\n",
    "\n",
    "#         Returns:\n",
    "#             predictions: 预测标签\n",
    "#             probabilities: 预测概率\n",
    "#         \"\"\"\n",
    "#         self.model.eval()\n",
    "\n",
    "#         # 标准化特征\n",
    "#         features_normalized = self.scaler.transform(features_df.values)\n",
    "\n",
    "#         # 创建数据集和加载器\n",
    "#         dataset = TextDetectionDataset(\n",
    "#             texts, features_normalized, [0] * len(texts), self.tokenizer  # 假标签\n",
    "#         )\n",
    "#         loader = DataLoader(dataset, batch_size=32)\n",
    "\n",
    "#         all_predictions = []\n",
    "#         all_probabilities = []\n",
    "\n",
    "#         with torch.no_grad():\n",
    "#             for batch in tqdm(loader, desc=\"Predicting\"):\n",
    "#                 input_ids = batch[\"input_ids\"].to(self.device)\n",
    "#                 attention_mask = batch[\"attention_mask\"].to(self.device)\n",
    "#                 features = batch[\"statistical_features\"].to(self.device)\n",
    "\n",
    "#                 logits = self.model(input_ids, attention_mask, features)\n",
    "#                 probs = F.softmax(logits, dim=1)\n",
    "\n",
    "#                 predictions = torch.argmax(logits, dim=1)\n",
    "\n",
    "#                 all_predictions.extend(predictions.cpu().numpy())\n",
    "#                 all_probabilities.extend(probs[:, 1].cpu().numpy())  # AI类的概率\n",
    "\n",
    "#         return np.array(all_predictions), np.array(all_probabilities)\n",
    "\n",
    "#     def save_model(self, path: str):\n",
    "#         \"\"\"保存模型\"\"\"\n",
    "#         torch.save(\n",
    "#             {\n",
    "#                 \"model_state_dict\": self.model.state_dict(),\n",
    "#                 \"scaler\": self.scaler,\n",
    "#                 \"model_name\": self.model_name,\n",
    "#                 \"num_features\": self.model.classifier[0].in_features\n",
    "#                 - self.model.transformer_dim,\n",
    "#             },\n",
    "#             path,\n",
    "#         )\n",
    "\n",
    "#     def load_model(self, path: str):\n",
    "#         \"\"\"加载模型\"\"\"\n",
    "#         checkpoint = torch.load(path, map_location=self.device)\n",
    "\n",
    "#         # 重新初始化模型\n",
    "#         self.model = DualPathFusionModel(\n",
    "#             transformer_name=checkpoint[\"model_name\"],\n",
    "#             num_statistical_features=checkpoint[\"num_features\"],\n",
    "#         ).to(self.device)\n",
    "\n",
    "#         self.model.load_state_dict(checkpoint[\"model_state_dict\"])\n",
    "#         self.scaler = checkpoint[\"scaler\"]\n",
    "#         self.model.eval()\n",
    "\n"
   ]
  },
  {
   "cell_type": "code",
   "execution_count": 3,
   "metadata": {
    "execution": {
     "iopub.execute_input": "2025-07-13T17:13:03.033426Z",
     "iopub.status.busy": "2025-07-13T17:13:03.033092Z",
     "iopub.status.idle": "2025-07-13T17:13:09.757501Z",
     "shell.execute_reply": "2025-07-13T17:13:09.756335Z",
     "shell.execute_reply.started": "2025-07-13T17:13:03.033399Z"
    },
    "trusted": true
   },
   "outputs": [],
   "source": [
    "\n",
    "\n",
    "# \"\"\"\n",
    "# 将双路径融合模型集成到现有的AI文本检测流程\n",
    "# \"\"\"\n",
    "# import sys\n",
    "# import torch\n",
    "# import numpy as np\n",
    "# import pandas as pd\n",
    "# from typing import Dict, List, Optional\n",
    "\n",
    "\n",
    "\n",
    "# class EnhancedAIDetector:\n",
    "#     \"\"\"\n",
    "#     MODIFIED AI Detector: Integrates the dual-path model.\n",
    "#     The __init__ method is updated to accept a model name for the dual-path detector.\n",
    "#     \"\"\"\n",
    "#     def __init__(self, config: Optional[DetectionConfig] = None, dual_path_model_name: str = \"distilbert-base-uncased\"):\n",
    "#         \"\"\"\n",
    "#         Args:\n",
    "#             config: Configuration for the base detector (feature extraction).\n",
    "#             dual_path_model_name: The name of the transformer to use in the DualPathFusionModel.\n",
    "#         \"\"\"\n",
    "#         self.config = config or DetectionConfig()\n",
    "#         self.base_detector = AITextDetector(self.config)\n",
    "#         # Pass the dynamic model name to the dual-path detector\n",
    "#         self.dual_path_detector = DualPathDetector(model_name=dual_path_model_name)\n",
    "#         print(f\"Enhanced AI Detector initialized with Dual Path Model: {dual_path_model_name}\")\n",
    "\n",
    "#     # --- All other methods of this class (like extract_all_features, etc.) remain the same ---\n",
    "#     # (For brevity, the other methods are omitted here but should be kept in your code)\n",
    "#     async def extract_all_features(self, texts: List[str]) -> pd.DataFrame:\n",
    "#         # This method should remain as is\n",
    "#         print(\"Extracting statistical features...\")\n",
    "#         results = await self.base_detector.detect_batch(texts)\n",
    "#         features_array = results['features']\n",
    "#         # ... rest of the feature processing logic\n",
    "#         # (Assuming the logic from your notebook is here)\n",
    "#         all_possible_features = [\n",
    "#             'semantic_similarity', 'word_overlap_ratio', 'vocabulary_change_ratio',\n",
    "#             'unique_words_ratio', 'stopword_ratio_change', 'sentence_count_ratio',\n",
    "#             'avg_sentence_length_change', 'pos_NN_ratio_change', 'pos_VB_ratio_change',\n",
    "#             'pos_JJ_ratio_change', 'pos_RB_ratio_change', 'punctuation_ratio_change',\n",
    "#             'capitalization_ratio_change', 'avg_word_length_change', 'char_level_similarity',\n",
    "#             'word_level_similarity', 'length_ratio'\n",
    "#         ]\n",
    "#         core_features = all_possible_features[:13] # Example, adjust as needed\n",
    "#         features_df = pd.DataFrame(features_array[:, :13], columns=core_features)\n",
    "#         return features_df\n",
    "\n",
    "#     async def train_dual_path_model(self, train_df: pd.DataFrame, num_epochs: int, batch_size: int):\n",
    "#         print(\"=== Training Dual Path Model ===\")\n",
    "#         texts = train_df[\"text\"].tolist()\n",
    "#         labels = train_df[\"label\"].tolist()\n",
    "#         print(\"1. Extracting features...\")\n",
    "#         features_df = await self.extract_all_features(texts)\n",
    "#         print(\"2. Preparing datasets...\")\n",
    "#         train_dataset, val_dataset = self.dual_path_detector.prepare_data(texts, features_df, labels)\n",
    "#         print(\"3. Training model...\")\n",
    "#         self.dual_path_detector.train(train_dataset, val_dataset, num_epochs=num_epochs, batch_size=batch_size)\n",
    "#         print(\"\\n Training completed!\")\n",
    "\n",
    "#     async def detect_with_dual_path(self, texts: List[str]) -> Dict:\n",
    "#         features_df = await self.extract_all_features(texts)\n",
    "#         predictions, probabilities = self.dual_path_detector.predict(texts, features_df)\n",
    "#         return {\"predictions\": predictions, \"probabilities\": probabilities, \"features\": features_df}\n",
    "\n",
    "# def setup_logging(output_dir: str = \"./result\"):\n",
    "#     \"\"\"\n",
    "#     Sets up logging to save all print output to a file and also show it on the console.\n",
    "#     \"\"\"\n",
    "#     log_file_path = os.path.join(output_dir, 'output.log')\n",
    "#     os.makedirs(output_dir, exist_ok=True)\n",
    "\n",
    "#     # Get the root logger\n",
    "#     logger = logging.getLogger()\n",
    "#     logger.setLevel(logging.INFO)\n",
    "\n",
    "#     # Clear existing handlers to avoid duplicate logs in interactive environments\n",
    "#     if logger.hasHandlers():\n",
    "#         logger.handlers.clear()\n",
    "\n",
    "#     # Create file handler to write to a log file (mode='w' overwrites the file each run)\n",
    "#     file_handler = logging.FileHandler(log_file_path, mode='w', encoding='utf-8')\n",
    "#     file_formatter = logging.Formatter('%(asctime)s - %(levelname)s - %(message)s')\n",
    "#     file_handler.setFormatter(file_formatter)\n",
    "#     logger.addHandler(file_handler)\n",
    "\n",
    "#     # Create console handler to also print to the console\n",
    "#     console_handler = logging.StreamHandler(sys.stdout)\n",
    "#     console_formatter = logging.Formatter('%(message)s') # Keep console output clean\n",
    "#     console_handler.setFormatter(console_formatter)\n",
    "#     logger.addHandler(console_handler)\n",
    "\n",
    "#     logging.info(f\"Logging setup complete. All output will be saved to {log_file_path}\")\n",
    "\n",
    "# def plot_roc_curves(results: Dict, output_dir: str = \"./result\"):\n",
    "#     \"\"\"绘制所有实验的ROC曲线并保存\"\"\"\n",
    "#     plt.figure(figsize=(10, 8))\n",
    "#     for name, result_data in results.items():\n",
    "#         fpr, tpr, _ = roc_curve(result_data[\"test_labels\"], result_data[\"test_results\"][\"probabilities\"])\n",
    "#         auc = roc_auc_score(result_data[\"test_labels\"], result_data[\"test_results\"][\"probabilities\"])\n",
    "#         plt.plot(fpr, tpr, label=f\"{name} (AUC = {auc:.3f})\")\n",
    "#     plt.plot([0, 1], [0, 1], \"k--\", label=\"Chance\")\n",
    "#     plt.xlabel(\"False Positive Rate\")\n",
    "#     plt.ylabel(\"True Positive Rate\")\n",
    "#     plt.title(\"ROC Curves Comparison\")\n",
    "#     plt.legend()\n",
    "#     plt.grid(True)\n",
    "#     plt.savefig(os.path.join(output_dir, \"roc_curves_comparison.png\"))\n",
    "#     plt.show()\n",
    "\n",
    "# def plot_precision_recall_curves(results: Dict, output_dir: str = \"./result\"):\n",
    "#     \"\"\"绘制所有实验的Precision-Recall曲线并保存\"\"\"\n",
    "#     plt.figure(figsize=(10, 8))\n",
    "#     for name, result_data in results.items():\n",
    "#         precision, recall, _ = precision_recall_curve(result_data[\"test_labels\"], result_data[\"test_results\"][\"probabilities\"])\n",
    "#         plt.plot(recall, precision, label=f\"{name}\")\n",
    "#     plt.xlabel(\"Recall\")\n",
    "#     plt.ylabel(\"Precision\")\n",
    "#     plt.title(\"Precision-Recall Curves Comparison\")\n",
    "#     plt.legend()\n",
    "#     plt.grid(True)\n",
    "#     plt.savefig(os.path.join(output_dir, \"precision_recall_curves_comparison.png\"))\n",
    "#     plt.show()\n",
    "\n",
    "# def plot_confusion_matrices(results: Dict, output_dir: str = \"./result\"):\n",
    "#     \"\"\"绘制所有实验的混淆矩阵并保存\"\"\"\n",
    "#     n_results = len(results)\n",
    "#     fig, axes = plt.subplots(1, n_results, figsize=(6 * n_results, 5), squeeze=False)\n",
    "#     for ax, (name, result_data) in zip(axes.flatten(), results.items()):\n",
    "#         cm = confusion_matrix(result_data[\"test_labels\"], result_data[\"test_results\"][\"predictions\"])\n",
    "#         sns.heatmap(cm, annot=True, fmt=\"d\", cmap=\"Blues\", ax=ax, cbar=False, xticklabels=[\"Human\", \"AI\"], yticklabels=[\"Human\", \"AI\"])\n",
    "#         ax.set_title(f\"Confusion Matrix: {name}\")\n",
    "#         ax.set_xlabel(\"Predicted Label\")\n",
    "#         ax.set_ylabel(\"True Label\")\n",
    "#     plt.tight_layout()\n",
    "#     plt.savefig(os.path.join(output_dir, \"confusion_matrices_comparison.png\"))\n",
    "#     plt.show()\n",
    "\n",
    "# def plot_classification_metrics(results: Dict, output_dir: str = \"./result\"):\n",
    "#     \"\"\"将关键分类指标（P, R, F1）绘制成条形图进行比较并保存\"\"\"\n",
    "#     metrics_data = []\n",
    "#     for name, result_data in results.items():\n",
    "#         report = classification_report(result_data[\"test_labels\"], result_data[\"test_results\"][\"predictions\"], target_names=[\"Human\", \"AI\"], output_dict=True)\n",
    "#         ai_metrics = report[\"AI\"]\n",
    "#         metrics_data.append({\"Configuration\": name, \"Precision\": ai_metrics[\"precision\"], \"Recall\": ai_metrics[\"recall\"], \"F1-Score\": ai_metrics[\"f1-score\"]})\n",
    "#     df = pd.DataFrame(metrics_data)\n",
    "#     df_melted = df.melt(id_vars=\"Configuration\", var_name=\"Metric\", value_name=\"Score\")\n",
    "#     plt.figure(figsize=(12, 7))\n",
    "#     sns.barplot(data=df_melted, x=\"Configuration\", y=\"Score\", hue=\"Metric\")\n",
    "#     plt.title('Classification Metrics for \"AI\" Class')\n",
    "#     plt.ylabel(\"Score\")\n",
    "#     plt.xticks(rotation=15)\n",
    "#     plt.ylim(0, 1.05)\n",
    "#     plt.grid(axis=\"y\", linestyle=\"--\", alpha=0.7)\n",
    "#     plt.savefig(os.path.join(output_dir, \"classification_metrics_comparison.png\"))\n",
    "#     plt.show()\n",
    "\n",
    "\n",
    "# async def main_workflow_for_comparison(\n",
    "#     data_path: str,\n",
    "#     max_samples: Optional[int],\n",
    "#     use_cache: bool,\n",
    "#     config: DetectionConfig,\n",
    "#     dual_path_model_name: str\n",
    "# ):\n",
    "#     \"\"\"\n",
    "#     MODIFIED Main Workflow: This function now uses logging instead of print.\n",
    "#     \"\"\"\n",
    "#     SEED = 42\n",
    "#     random.seed(SEED)\n",
    "#     np.random.seed(SEED)\n",
    "#     torch.manual_seed(SEED)\n",
    "#     if torch.cuda.is_available():\n",
    "#         torch.cuda.manual_seed_all(SEED)\n",
    "\n",
    "#     detector = EnhancedAIDetector(config=config, dual_path_model_name=dual_path_model_name)\n",
    "\n",
    "#     cache_path = f\"enhanced_cache_{config.revision_model}.json\"\n",
    "#     if use_cache and os.path.exists(cache_path):\n",
    "#         try:\n",
    "#             with open(cache_path, \"r\") as f:\n",
    "#                 detector.base_detector.cache = json.load(f)\n",
    "#             logging.info(f\"Successfully loaded cache with {len(detector.base_detector.cache)} entries from {cache_path}\")\n",
    "#         except Exception as e:\n",
    "#             logging.warning(f\"Could not load cache from {cache_path}: {e}\")\n",
    "#     elif use_cache:\n",
    "#         logging.info(f\"Cache file not found at {cache_path}. A new cache will be created.\")\n",
    "\n",
    "#     loader = CustomDataLoader()\n",
    "#     df_full = loader.load_data(data_path)\n",
    "#     df = df_full.head(max_samples) if max_samples else df_full\n",
    "    \n",
    "#     train_df, test_df = train_test_split(df, test_size=0.3, random_state=SEED, stratify=df['label'])\n",
    "#     logging.info(f\"Data prepared: {len(train_df)} training, {len(test_df)} testing.\")\n",
    "\n",
    "#     await detector.train_dual_path_model(train_df=train_df, num_epochs=5, batch_size=16)\n",
    "\n",
    "#     test_texts = test_df[\"text\"].tolist()\n",
    "#     test_labels = test_df[\"label\"].tolist()\n",
    "#     test_results = await detector.detect_with_dual_path(test_texts)\n",
    "\n",
    "#     accuracy = accuracy_score(test_labels, test_results['predictions'])\n",
    "#     auc = roc_auc_score(test_labels, test_results['probabilities'])\n",
    "#     report_dict = classification_report(test_labels, test_results['predictions'], output_dict=True)\n",
    "#     f1_score = report_dict['weighted avg']['f1-score']\n",
    "\n",
    "#     logging.info(f\"\\n--- Test Results for {dual_path_model_name} ---\")\n",
    "#     logging.info(f\"Accuracy: {accuracy:.4f}\")\n",
    "#     logging.info(f\"AUC: {auc:.4f}\")\n",
    "#     logging.info(f\"Weighted F1-Score: {f1_score:.4f}\")\n",
    "#     logging.info(\"\\nClassification Report:\")\n",
    "#     logging.info(f\"\\n{classification_report(test_labels, test_results['predictions'], target_names=['Human', 'AI'], digits=4)}\")\n",
    "\n",
    "#     return {\"detector\": detector, \"test_results\": test_results, \"test_labels\": test_labels, \"accuracy\": accuracy, \"auc\": auc, \"f1_score\": f1_score}\n",
    "\n",
    "\n",
    "\n",
    "\n",
    "# async def run_transformer_comparison(data_path: str = \"finance\", max_samples: Optional[int] = 1000):\n",
    "#     \"\"\"\n",
    "#     Runs a comparison experiment between different transformer models for both\n",
    "#     feature extraction and deep feature representation.\n",
    "#     \"\"\"\n",
    "#     setup_logging() # Setup logging to file and console\n",
    "#     logging.info(\"=== Transformer Model Comparison Experiment ===\")\n",
    "#     results = {}\n",
    "\n",
    "#     # Define the combinations of models you want to test\n",
    "#     configurations = {\n",
    "#         # \"BERT\": {\n",
    "#         #     \"embedding_model\": \"bert-base-uncased\",\n",
    "#         #     \"transformer_name\": \"bert-base-uncased\"\n",
    "#         # },\n",
    "#         # \"DistilBERT\": {\n",
    "#         #     \"embedding_model\": \"distilbert-base-uncased\",\n",
    "#         #     \"transformer_name\": \"distilbert-base-uncased\"\n",
    "#         # },\n",
    "#         # \"RoBERTa\": {\n",
    "#         #     \"embedding_model\": \"roberta-base\",\n",
    "#         #     \"transformer_name\": \"roberta-base\"\n",
    "#         # },\n",
    "#         # \"paraphrase-MiniLM-L6-v2\":{\n",
    "#         #     \"embedding_model\": \"sentence-transformers/paraphrase-MiniLM-L6-v2\",\n",
    "#         #     \"transformer_name\": \"sentence-transformers/paraphrase-MiniLM-L6-v2\",\n",
    "#         # },\n",
    "#         # \"fine-tune model\":{\n",
    "#         #     \"embedding_model\": \"./models/paraphrase-MiniLM-L6-v2-ai-detector-incomplete\",\n",
    "#         #     \"transformer_name\": \"./models/paraphrase-MiniLM-L6-v2-ai-detector-incomplete\",\n",
    "#         # },\n",
    "#         \"T5\": {\n",
    "#             \"embedding_model\": \"t5-small\",\n",
    "#             \"transformer_name\": \"t5-small\"\n",
    "#         },\n",
    "#         \"GPT-2\": {\n",
    "#             \"embedding_model\": \"gpt2\",\n",
    "#             \"transformer_name\": \"gpt2\"\n",
    "#         }\n",
    "        \n",
    "#     }\n",
    "\n",
    "#     # --- Run experiments for each configuration ---\n",
    "#     for name, model_config in configurations.items():\n",
    "#         logging.info(f\"\\n{'='*25} Running Experiment: {name} {'='*25}\")\n",
    "#         try:\n",
    "#             detection_config = DetectionConfig(\n",
    "#                 revision_model=\"gpt-3.5-turbo\",\n",
    "#                 embedding_model=model_config[\"embedding_model\"],\n",
    "#                 perturbation_rate=0.15,\n",
    "#                 use_ml_classifier=True,\n",
    "#             )\n",
    "            \n",
    "#             results[name] = await main_workflow_for_comparison(\n",
    "#                 data_path=data_path,\n",
    "#                 max_samples=max_samples,\n",
    "#                 use_cache=True,\n",
    "#                 config=detection_config,\n",
    "#                 dual_path_model_name=model_config[\"transformer_name\"]\n",
    "#             )\n",
    "#         except Exception as e:\n",
    "#             import traceback\n",
    "#             logging.error(f\"\\n!!!!!! Experiment '{name}' FAILED: {e} !!!!!!\")\n",
    "#             logging.error(traceback.format_exc())\n",
    "\n",
    "#     logging.info(\"\\n\\n\" + \"=\"*25 + \" Final Comparison Summary \" + \"=\"*25)\n",
    "#     summary_df = pd.DataFrame([\n",
    "#         {\"Configuration\": name, \"Accuracy\": res[\"accuracy\"], \"AUC\": res[\"auc\"], \"F1-Score\": res[\"f1_score\"]}\n",
    "#         for name, res in results.items()\n",
    "#     ])\n",
    "#     summary_df['Accuracy'] = summary_df['Accuracy'].map('{:.4f}'.format)\n",
    "#     summary_df['AUC'] = summary_df['AUC'].map('{:.4f}'.format)\n",
    "#     summary_df['F1-Score'] = summary_df['F1-Score'].map('{:.4f}'.format)\n",
    "#     logging.info(f\"\\n{summary_df.to_string(index=False)}\")\n",
    "\n",
    "#     logging.info(\"\\n\\nGenerating visualizations...\")\n",
    "#     if results:\n",
    "#         plot_roc_curves(results)\n",
    "#         plot_precision_recall_curves(results)\n",
    "#         plot_confusion_matrices(results)\n",
    "#         plot_classification_metrics(results)\n",
    "#     else:\n",
    "#         logging.warning(\"No successful experiments were completed to visualize.\")\n",
    "\n",
    "#     return results\n",
    "\n",
    "# if __name__ == \"__main__\":\n",
    "    \n",
    "#     await run_transformer_comparison(data_path=\"test\", max_samples=50)\n",
    "\n",
    "    "
   ]
  },
  {
   "cell_type": "code",
   "execution_count": 4,
   "metadata": {},
   "outputs": [
    {
     "name": "stdout",
     "output_type": "stream",
     "text": [
      "Logging setup complete. All output will be saved to ./result\\output.log\n",
      "=== Transformer Model Comparison Experiment ===\n",
      "\n",
      "========================= Running Experiment: GPT-2 =========================\n"
     ]
    },
    {
     "name": "stdout",
     "output_type": "stream",
     "text": [
      "Use pytorch device_name: cuda:0\n",
      "Load pretrained SentenceTransformer: gpt2\n",
      "No sentence-transformers model found with name gpt2. Creating a new one with mean pooling.\n",
      "Set pad_token to eos_token for SentenceTransformer with model gpt2\n",
      "Set pad_token to eos_token for gpt2 tokenizer.\n",
      "Dual Path Detector initialized on cuda\n",
      "Enhanced AI Detector initialized with Dual Path Model: gpt2\n",
      "Loaded cache with 7844 entries\n",
      "Searching for finance data files...\n",
      "Loading finance datasets...\n",
      "Found files: ['revised_chatgpt', 'revised_human', 'original']\n",
      "Loading from: ./data\\finance.jsonl\n",
      "Processed 1000 lines, extracted 2000 texts\n",
      "Processed 2000 lines, extracted 4000 texts\n",
      "Processed 3000 lines, extracted 6000 texts\n",
      "Successfully loaded 3933 JSON objects\n",
      "Total texts extracted: 7866\n",
      "\n",
      "=== Dataset Summary ===\n",
      "Total samples: 7866\n",
      "Human texts: 3933\n",
      "ChatGPT texts: 3933\n",
      "Dataset balance: 50.0% human, 50.0% ChatGPT\n",
      "\n",
      "Sample texts:\n",
      "\n",
      "[Human]: In the United States you can't, because the average millennial in the United States has no opportunity to save money. Either you get a college education, then you will be burdened with a student loan....\n",
      "\n",
      "[ChatGPT]: To determine your take-home pay if you claim 3 exemptions, you will need to calculate your federal income tax withholding and any other applicable deductions.First, you will need to determine your tax...\n",
      "Data prepared: 700 training, 300 testing.\n",
      "=== Training Dual Path Model ===\n",
      "Extracting statistical features...\n"
     ]
    },
    {
     "data": {
      "application/vnd.jupyter.widget-view+json": {
       "model_id": "470f70b05c814734947bdd97ceec49aa",
       "version_major": 2,
       "version_minor": 0
      },
      "text/plain": [
       "Batches:   0%|          | 0/1 [00:00<?, ?it/s]"
      ]
     },
     "metadata": {},
     "output_type": "display_data"
    },
    {
     "data": {
      "application/vnd.jupyter.widget-view+json": {
       "model_id": "41790a0d3c9b47298ee9818844ef7947",
       "version_major": 2,
       "version_minor": 0
      },
      "text/plain": [
       "Batches:   0%|          | 0/1 [00:00<?, ?it/s]"
      ]
     },
     "metadata": {},
     "output_type": "display_data"
    },
    {
     "data": {
      "application/vnd.jupyter.widget-view+json": {
       "model_id": "2ac68925880e48ee910329e9b00af174",
       "version_major": 2,
       "version_minor": 0
      },
      "text/plain": [
       "Batches:   0%|          | 0/1 [00:00<?, ?it/s]"
      ]
     },
     "metadata": {},
     "output_type": "display_data"
    },
    {
     "data": {
      "application/vnd.jupyter.widget-view+json": {
       "model_id": "a548df87fafd4d7ab77de5e9ce930af2",
       "version_major": 2,
       "version_minor": 0
      },
      "text/plain": [
       "Batches:   0%|          | 0/1 [00:00<?, ?it/s]"
      ]
     },
     "metadata": {},
     "output_type": "display_data"
    },
    {
     "data": {
      "application/vnd.jupyter.widget-view+json": {
       "model_id": "21d17405e99a4feab0b5f0862a7a7abf",
       "version_major": 2,
       "version_minor": 0
      },
      "text/plain": [
       "Batches:   0%|          | 0/1 [00:00<?, ?it/s]"
      ]
     },
     "metadata": {},
     "output_type": "display_data"
    },
    {
     "data": {
      "application/vnd.jupyter.widget-view+json": {
       "model_id": "4e97696f60d5481bb1c5399dc604bc23",
       "version_major": 2,
       "version_minor": 0
      },
      "text/plain": [
       "Batches:   0%|          | 0/1 [00:00<?, ?it/s]"
      ]
     },
     "metadata": {},
     "output_type": "display_data"
    },
    {
     "data": {
      "application/vnd.jupyter.widget-view+json": {
       "model_id": "55f51f7afee64ee796cdc52f9b3b712d",
       "version_major": 2,
       "version_minor": 0
      },
      "text/plain": [
       "Batches:   0%|          | 0/1 [00:00<?, ?it/s]"
      ]
     },
     "metadata": {},
     "output_type": "display_data"
    },
    {
     "data": {
      "application/vnd.jupyter.widget-view+json": {
       "model_id": "8c99f9838f704d7da496b3b4e889b53f",
       "version_major": 2,
       "version_minor": 0
      },
      "text/plain": [
       "Batches:   0%|          | 0/1 [00:00<?, ?it/s]"
      ]
     },
     "metadata": {},
     "output_type": "display_data"
    },
    {
     "data": {
      "application/vnd.jupyter.widget-view+json": {
       "model_id": "c1cdac13947f48209ee294fae9c73e5a",
       "version_major": 2,
       "version_minor": 0
      },
      "text/plain": [
       "Batches:   0%|          | 0/1 [00:00<?, ?it/s]"
      ]
     },
     "metadata": {},
     "output_type": "display_data"
    },
    {
     "data": {
      "application/vnd.jupyter.widget-view+json": {
       "model_id": "9d6a3bd173de416a98f08c8c857dfe64",
       "version_major": 2,
       "version_minor": 0
      },
      "text/plain": [
       "Batches:   0%|          | 0/1 [00:00<?, ?it/s]"
      ]
     },
     "metadata": {},
     "output_type": "display_data"
    },
    {
     "data": {
      "application/vnd.jupyter.widget-view+json": {
       "model_id": "a21a75d1471e4f82a320c2349f9c653a",
       "version_major": 2,
       "version_minor": 0
      },
      "text/plain": [
       "Batches:   0%|          | 0/1 [00:00<?, ?it/s]"
      ]
     },
     "metadata": {},
     "output_type": "display_data"
    },
    {
     "data": {
      "application/vnd.jupyter.widget-view+json": {
       "model_id": "fc625bbabca24cef95741d9352f2847e",
       "version_major": 2,
       "version_minor": 0
      },
      "text/plain": [
       "Batches:   0%|          | 0/1 [00:00<?, ?it/s]"
      ]
     },
     "metadata": {},
     "output_type": "display_data"
    },
    {
     "data": {
      "application/vnd.jupyter.widget-view+json": {
       "model_id": "327808adc04b482d9afb26277f598220",
       "version_major": 2,
       "version_minor": 0
      },
      "text/plain": [
       "Batches:   0%|          | 0/1 [00:00<?, ?it/s]"
      ]
     },
     "metadata": {},
     "output_type": "display_data"
    },
    {
     "data": {
      "application/vnd.jupyter.widget-view+json": {
       "model_id": "9954e7b4f8d24e5e9c214d754d9671e6",
       "version_major": 2,
       "version_minor": 0
      },
      "text/plain": [
       "Batches:   0%|          | 0/1 [00:00<?, ?it/s]"
      ]
     },
     "metadata": {},
     "output_type": "display_data"
    },
    {
     "data": {
      "application/vnd.jupyter.widget-view+json": {
       "model_id": "2518a8d57b14465c9df94905b6cb810d",
       "version_major": 2,
       "version_minor": 0
      },
      "text/plain": [
       "Batches:   0%|          | 0/1 [00:00<?, ?it/s]"
      ]
     },
     "metadata": {},
     "output_type": "display_data"
    },
    {
     "data": {
      "application/vnd.jupyter.widget-view+json": {
       "model_id": "82044277b6d9472a82c032e332c2f445",
       "version_major": 2,
       "version_minor": 0
      },
      "text/plain": [
       "Batches:   0%|          | 0/1 [00:00<?, ?it/s]"
      ]
     },
     "metadata": {},
     "output_type": "display_data"
    },
    {
     "data": {
      "application/vnd.jupyter.widget-view+json": {
       "model_id": "33fdbb2b99d747ef96cc32a9b5db91d8",
       "version_major": 2,
       "version_minor": 0
      },
      "text/plain": [
       "Batches:   0%|          | 0/1 [00:00<?, ?it/s]"
      ]
     },
     "metadata": {},
     "output_type": "display_data"
    },
    {
     "data": {
      "application/vnd.jupyter.widget-view+json": {
       "model_id": "28b733dfaf554842be1981a3e0f53e72",
       "version_major": 2,
       "version_minor": 0
      },
      "text/plain": [
       "Batches:   0%|          | 0/1 [00:00<?, ?it/s]"
      ]
     },
     "metadata": {},
     "output_type": "display_data"
    },
    {
     "data": {
      "application/vnd.jupyter.widget-view+json": {
       "model_id": "e53d36f9faac4092873eb3142f2c6d09",
       "version_major": 2,
       "version_minor": 0
      },
      "text/plain": [
       "Batches:   0%|          | 0/1 [00:00<?, ?it/s]"
      ]
     },
     "metadata": {},
     "output_type": "display_data"
    },
    {
     "data": {
      "application/vnd.jupyter.widget-view+json": {
       "model_id": "f412a158724b412bb1c2bc52ada34f56",
       "version_major": 2,
       "version_minor": 0
      },
      "text/plain": [
       "Batches:   0%|          | 0/1 [00:00<?, ?it/s]"
      ]
     },
     "metadata": {},
     "output_type": "display_data"
    },
    {
     "data": {
      "application/vnd.jupyter.widget-view+json": {
       "model_id": "22dcc4d58c13440e9164e0ed04a98366",
       "version_major": 2,
       "version_minor": 0
      },
      "text/plain": [
       "Batches:   0%|          | 0/1 [00:00<?, ?it/s]"
      ]
     },
     "metadata": {},
     "output_type": "display_data"
    },
    {
     "data": {
      "application/vnd.jupyter.widget-view+json": {
       "model_id": "9a28778d3975471ab9e259390d33f59e",
       "version_major": 2,
       "version_minor": 0
      },
      "text/plain": [
       "Batches:   0%|          | 0/1 [00:00<?, ?it/s]"
      ]
     },
     "metadata": {},
     "output_type": "display_data"
    },
    {
     "data": {
      "application/vnd.jupyter.widget-view+json": {
       "model_id": "3ee70ed2b342419ab1cab90aa3f21b77",
       "version_major": 2,
       "version_minor": 0
      },
      "text/plain": [
       "Batches:   0%|          | 0/1 [00:00<?, ?it/s]"
      ]
     },
     "metadata": {},
     "output_type": "display_data"
    },
    {
     "data": {
      "application/vnd.jupyter.widget-view+json": {
       "model_id": "958a6be919d4452e86f1ef331e1ee317",
       "version_major": 2,
       "version_minor": 0
      },
      "text/plain": [
       "Batches:   0%|          | 0/1 [00:00<?, ?it/s]"
      ]
     },
     "metadata": {},
     "output_type": "display_data"
    },
    {
     "data": {
      "application/vnd.jupyter.widget-view+json": {
       "model_id": "7d7377aaef6d46f2a5c7d922ea2ce8b9",
       "version_major": 2,
       "version_minor": 0
      },
      "text/plain": [
       "Batches:   0%|          | 0/1 [00:00<?, ?it/s]"
      ]
     },
     "metadata": {},
     "output_type": "display_data"
    },
    {
     "data": {
      "application/vnd.jupyter.widget-view+json": {
       "model_id": "59ede5de5b864042b49f456475df6690",
       "version_major": 2,
       "version_minor": 0
      },
      "text/plain": [
       "Batches:   0%|          | 0/1 [00:00<?, ?it/s]"
      ]
     },
     "metadata": {},
     "output_type": "display_data"
    },
    {
     "data": {
      "application/vnd.jupyter.widget-view+json": {
       "model_id": "e2978cee5f6b486d98d65f75f9206d1f",
       "version_major": 2,
       "version_minor": 0
      },
      "text/plain": [
       "Batches:   0%|          | 0/1 [00:00<?, ?it/s]"
      ]
     },
     "metadata": {},
     "output_type": "display_data"
    },
    {
     "data": {
      "application/vnd.jupyter.widget-view+json": {
       "model_id": "fb2a5f8ab3da4781938873b6b8a21ff6",
       "version_major": 2,
       "version_minor": 0
      },
      "text/plain": [
       "Batches:   0%|          | 0/1 [00:00<?, ?it/s]"
      ]
     },
     "metadata": {},
     "output_type": "display_data"
    },
    {
     "data": {
      "application/vnd.jupyter.widget-view+json": {
       "model_id": "1587fe4d761e447d941bb2463c40e7c5",
       "version_major": 2,
       "version_minor": 0
      },
      "text/plain": [
       "Batches:   0%|          | 0/1 [00:00<?, ?it/s]"
      ]
     },
     "metadata": {},
     "output_type": "display_data"
    },
    {
     "data": {
      "application/vnd.jupyter.widget-view+json": {
       "model_id": "cd2fe2bedf774f97a59e2fae9c3c9f07",
       "version_major": 2,
       "version_minor": 0
      },
      "text/plain": [
       "Batches:   0%|          | 0/1 [00:00<?, ?it/s]"
      ]
     },
     "metadata": {},
     "output_type": "display_data"
    },
    {
     "data": {
      "application/vnd.jupyter.widget-view+json": {
       "model_id": "468ecc3b46fb46c0b91b37a87aea4f16",
       "version_major": 2,
       "version_minor": 0
      },
      "text/plain": [
       "Batches:   0%|          | 0/1 [00:00<?, ?it/s]"
      ]
     },
     "metadata": {},
     "output_type": "display_data"
    },
    {
     "data": {
      "application/vnd.jupyter.widget-view+json": {
       "model_id": "6279a0c50eeb49f7b8a7fdd66738af0a",
       "version_major": 2,
       "version_minor": 0
      },
      "text/plain": [
       "Batches:   0%|          | 0/1 [00:00<?, ?it/s]"
      ]
     },
     "metadata": {},
     "output_type": "display_data"
    },
    {
     "data": {
      "application/vnd.jupyter.widget-view+json": {
       "model_id": "89e5260d50da49cb8abc825911d46407",
       "version_major": 2,
       "version_minor": 0
      },
      "text/plain": [
       "Batches:   0%|          | 0/1 [00:00<?, ?it/s]"
      ]
     },
     "metadata": {},
     "output_type": "display_data"
    },
    {
     "data": {
      "application/vnd.jupyter.widget-view+json": {
       "model_id": "e4f76817d101469688dec0e9b1cacae1",
       "version_major": 2,
       "version_minor": 0
      },
      "text/plain": [
       "Batches:   0%|          | 0/1 [00:00<?, ?it/s]"
      ]
     },
     "metadata": {},
     "output_type": "display_data"
    },
    {
     "data": {
      "application/vnd.jupyter.widget-view+json": {
       "model_id": "bc5ffe1e43764f0bbd0d2395073a9484",
       "version_major": 2,
       "version_minor": 0
      },
      "text/plain": [
       "Batches:   0%|          | 0/1 [00:00<?, ?it/s]"
      ]
     },
     "metadata": {},
     "output_type": "display_data"
    },
    {
     "data": {
      "application/vnd.jupyter.widget-view+json": {
       "model_id": "5d4677d7bccb4075a8ca7282fe2129d6",
       "version_major": 2,
       "version_minor": 0
      },
      "text/plain": [
       "Batches:   0%|          | 0/1 [00:00<?, ?it/s]"
      ]
     },
     "metadata": {},
     "output_type": "display_data"
    },
    {
     "data": {
      "application/vnd.jupyter.widget-view+json": {
       "model_id": "d99828e01d1b44a4aece19a27429ec85",
       "version_major": 2,
       "version_minor": 0
      },
      "text/plain": [
       "Batches:   0%|          | 0/1 [00:00<?, ?it/s]"
      ]
     },
     "metadata": {},
     "output_type": "display_data"
    },
    {
     "data": {
      "application/vnd.jupyter.widget-view+json": {
       "model_id": "1fff9250cba54e679debd9dbcfe1774c",
       "version_major": 2,
       "version_minor": 0
      },
      "text/plain": [
       "Batches:   0%|          | 0/1 [00:00<?, ?it/s]"
      ]
     },
     "metadata": {},
     "output_type": "display_data"
    },
    {
     "data": {
      "application/vnd.jupyter.widget-view+json": {
       "model_id": "1d1980638684461da83f9cdbb819ecd1",
       "version_major": 2,
       "version_minor": 0
      },
      "text/plain": [
       "Batches:   0%|          | 0/1 [00:00<?, ?it/s]"
      ]
     },
     "metadata": {},
     "output_type": "display_data"
    },
    {
     "data": {
      "application/vnd.jupyter.widget-view+json": {
       "model_id": "b8c42a5130374b619218af09b71122aa",
       "version_major": 2,
       "version_minor": 0
      },
      "text/plain": [
       "Batches:   0%|          | 0/1 [00:00<?, ?it/s]"
      ]
     },
     "metadata": {},
     "output_type": "display_data"
    },
    {
     "data": {
      "application/vnd.jupyter.widget-view+json": {
       "model_id": "7d870ffcc58c4a409626e00f03670970",
       "version_major": 2,
       "version_minor": 0
      },
      "text/plain": [
       "Batches:   0%|          | 0/1 [00:00<?, ?it/s]"
      ]
     },
     "metadata": {},
     "output_type": "display_data"
    },
    {
     "data": {
      "application/vnd.jupyter.widget-view+json": {
       "model_id": "03435d3ad2c74871ad57835de2ee858e",
       "version_major": 2,
       "version_minor": 0
      },
      "text/plain": [
       "Batches:   0%|          | 0/1 [00:00<?, ?it/s]"
      ]
     },
     "metadata": {},
     "output_type": "display_data"
    },
    {
     "data": {
      "application/vnd.jupyter.widget-view+json": {
       "model_id": "e27f48b89cb6477ea6b475960481accc",
       "version_major": 2,
       "version_minor": 0
      },
      "text/plain": [
       "Batches:   0%|          | 0/1 [00:00<?, ?it/s]"
      ]
     },
     "metadata": {},
     "output_type": "display_data"
    },
    {
     "data": {
      "application/vnd.jupyter.widget-view+json": {
       "model_id": "d4e7cf58af7845628081546889d5778d",
       "version_major": 2,
       "version_minor": 0
      },
      "text/plain": [
       "Batches:   0%|          | 0/1 [00:00<?, ?it/s]"
      ]
     },
     "metadata": {},
     "output_type": "display_data"
    },
    {
     "data": {
      "application/vnd.jupyter.widget-view+json": {
       "model_id": "81fc9f580a9c468e8da65bb63aba7528",
       "version_major": 2,
       "version_minor": 0
      },
      "text/plain": [
       "Batches:   0%|          | 0/1 [00:00<?, ?it/s]"
      ]
     },
     "metadata": {},
     "output_type": "display_data"
    },
    {
     "data": {
      "application/vnd.jupyter.widget-view+json": {
       "model_id": "08fbd3ad8e414882b84e035ee4495fda",
       "version_major": 2,
       "version_minor": 0
      },
      "text/plain": [
       "Batches:   0%|          | 0/1 [00:00<?, ?it/s]"
      ]
     },
     "metadata": {},
     "output_type": "display_data"
    },
    {
     "data": {
      "application/vnd.jupyter.widget-view+json": {
       "model_id": "5e6abf58cf0e4420832ab9e0cfe7cdf9",
       "version_major": 2,
       "version_minor": 0
      },
      "text/plain": [
       "Batches:   0%|          | 0/1 [00:00<?, ?it/s]"
      ]
     },
     "metadata": {},
     "output_type": "display_data"
    },
    {
     "data": {
      "application/vnd.jupyter.widget-view+json": {
       "model_id": "6deab633316c4077b0e027055a087a46",
       "version_major": 2,
       "version_minor": 0
      },
      "text/plain": [
       "Batches:   0%|          | 0/1 [00:00<?, ?it/s]"
      ]
     },
     "metadata": {},
     "output_type": "display_data"
    },
    {
     "data": {
      "application/vnd.jupyter.widget-view+json": {
       "model_id": "01506e6699714b70816cfafeda66fca8",
       "version_major": 2,
       "version_minor": 0
      },
      "text/plain": [
       "Batches:   0%|          | 0/1 [00:00<?, ?it/s]"
      ]
     },
     "metadata": {},
     "output_type": "display_data"
    },
    {
     "data": {
      "application/vnd.jupyter.widget-view+json": {
       "model_id": "8d6cc42f2a244e31a2c9930d8444259c",
       "version_major": 2,
       "version_minor": 0
      },
      "text/plain": [
       "Batches:   0%|          | 0/1 [00:00<?, ?it/s]"
      ]
     },
     "metadata": {},
     "output_type": "display_data"
    },
    {
     "data": {
      "application/vnd.jupyter.widget-view+json": {
       "model_id": "ccf9a5e76b9947aea60b6ab97b5e3f8c",
       "version_major": 2,
       "version_minor": 0
      },
      "text/plain": [
       "Batches:   0%|          | 0/1 [00:00<?, ?it/s]"
      ]
     },
     "metadata": {},
     "output_type": "display_data"
    },
    {
     "data": {
      "application/vnd.jupyter.widget-view+json": {
       "model_id": "754154f8d45f47f7b1002ce44387d148",
       "version_major": 2,
       "version_minor": 0
      },
      "text/plain": [
       "Batches:   0%|          | 0/1 [00:00<?, ?it/s]"
      ]
     },
     "metadata": {},
     "output_type": "display_data"
    },
    {
     "data": {
      "application/vnd.jupyter.widget-view+json": {
       "model_id": "dd7649e6d9e24582803c496a602afc9a",
       "version_major": 2,
       "version_minor": 0
      },
      "text/plain": [
       "Batches:   0%|          | 0/1 [00:00<?, ?it/s]"
      ]
     },
     "metadata": {},
     "output_type": "display_data"
    },
    {
     "data": {
      "application/vnd.jupyter.widget-view+json": {
       "model_id": "c7ac9fd25c6743249575ffcbccc196de",
       "version_major": 2,
       "version_minor": 0
      },
      "text/plain": [
       "Batches:   0%|          | 0/1 [00:00<?, ?it/s]"
      ]
     },
     "metadata": {},
     "output_type": "display_data"
    },
    {
     "data": {
      "application/vnd.jupyter.widget-view+json": {
       "model_id": "02289146eb95440baa7444ac9a0297a9",
       "version_major": 2,
       "version_minor": 0
      },
      "text/plain": [
       "Batches:   0%|          | 0/1 [00:00<?, ?it/s]"
      ]
     },
     "metadata": {},
     "output_type": "display_data"
    },
    {
     "data": {
      "application/vnd.jupyter.widget-view+json": {
       "model_id": "a2329612e2c34c23a70e3210702dd14e",
       "version_major": 2,
       "version_minor": 0
      },
      "text/plain": [
       "Batches:   0%|          | 0/1 [00:00<?, ?it/s]"
      ]
     },
     "metadata": {},
     "output_type": "display_data"
    },
    {
     "data": {
      "application/vnd.jupyter.widget-view+json": {
       "model_id": "9f917a5b87374343b923abb71b62101c",
       "version_major": 2,
       "version_minor": 0
      },
      "text/plain": [
       "Batches:   0%|          | 0/1 [00:00<?, ?it/s]"
      ]
     },
     "metadata": {},
     "output_type": "display_data"
    },
    {
     "data": {
      "application/vnd.jupyter.widget-view+json": {
       "model_id": "0e62f2a436884f23b45366bfde369862",
       "version_major": 2,
       "version_minor": 0
      },
      "text/plain": [
       "Batches:   0%|          | 0/1 [00:00<?, ?it/s]"
      ]
     },
     "metadata": {},
     "output_type": "display_data"
    },
    {
     "data": {
      "application/vnd.jupyter.widget-view+json": {
       "model_id": "c50db8e2a1aa48dea569faa3a892f3d4",
       "version_major": 2,
       "version_minor": 0
      },
      "text/plain": [
       "Batches:   0%|          | 0/1 [00:00<?, ?it/s]"
      ]
     },
     "metadata": {},
     "output_type": "display_data"
    },
    {
     "data": {
      "application/vnd.jupyter.widget-view+json": {
       "model_id": "5053f47c2b9f49d2b28223461c11313a",
       "version_major": 2,
       "version_minor": 0
      },
      "text/plain": [
       "Batches:   0%|          | 0/1 [00:00<?, ?it/s]"
      ]
     },
     "metadata": {},
     "output_type": "display_data"
    },
    {
     "data": {
      "application/vnd.jupyter.widget-view+json": {
       "model_id": "501603e642c4445585430f4afb5ca129",
       "version_major": 2,
       "version_minor": 0
      },
      "text/plain": [
       "Batches:   0%|          | 0/1 [00:00<?, ?it/s]"
      ]
     },
     "metadata": {},
     "output_type": "display_data"
    },
    {
     "data": {
      "application/vnd.jupyter.widget-view+json": {
       "model_id": "9eafc53448224318864bd71b974f1d3e",
       "version_major": 2,
       "version_minor": 0
      },
      "text/plain": [
       "Batches:   0%|          | 0/1 [00:00<?, ?it/s]"
      ]
     },
     "metadata": {},
     "output_type": "display_data"
    },
    {
     "data": {
      "application/vnd.jupyter.widget-view+json": {
       "model_id": "915dc26df9ae4a2399f60ae341311a8d",
       "version_major": 2,
       "version_minor": 0
      },
      "text/plain": [
       "Batches:   0%|          | 0/1 [00:00<?, ?it/s]"
      ]
     },
     "metadata": {},
     "output_type": "display_data"
    },
    {
     "data": {
      "application/vnd.jupyter.widget-view+json": {
       "model_id": "479e48b896d445eca525623e0afb87eb",
       "version_major": 2,
       "version_minor": 0
      },
      "text/plain": [
       "Batches:   0%|          | 0/1 [00:00<?, ?it/s]"
      ]
     },
     "metadata": {},
     "output_type": "display_data"
    },
    {
     "data": {
      "application/vnd.jupyter.widget-view+json": {
       "model_id": "c5cdab5e03df4181b95c4b6d428064f5",
       "version_major": 2,
       "version_minor": 0
      },
      "text/plain": [
       "Batches:   0%|          | 0/1 [00:00<?, ?it/s]"
      ]
     },
     "metadata": {},
     "output_type": "display_data"
    },
    {
     "data": {
      "application/vnd.jupyter.widget-view+json": {
       "model_id": "5941144ea4fa48b982193969b5f8afb2",
       "version_major": 2,
       "version_minor": 0
      },
      "text/plain": [
       "Batches:   0%|          | 0/1 [00:00<?, ?it/s]"
      ]
     },
     "metadata": {},
     "output_type": "display_data"
    },
    {
     "data": {
      "application/vnd.jupyter.widget-view+json": {
       "model_id": "5d17b01e08f24da5b765ef7580689649",
       "version_major": 2,
       "version_minor": 0
      },
      "text/plain": [
       "Batches:   0%|          | 0/1 [00:00<?, ?it/s]"
      ]
     },
     "metadata": {},
     "output_type": "display_data"
    },
    {
     "data": {
      "application/vnd.jupyter.widget-view+json": {
       "model_id": "aaf5615ee3f54267af36542ed1ab3c36",
       "version_major": 2,
       "version_minor": 0
      },
      "text/plain": [
       "Batches:   0%|          | 0/1 [00:00<?, ?it/s]"
      ]
     },
     "metadata": {},
     "output_type": "display_data"
    },
    {
     "data": {
      "application/vnd.jupyter.widget-view+json": {
       "model_id": "2b1155d7d9814437a538431bff65ef75",
       "version_major": 2,
       "version_minor": 0
      },
      "text/plain": [
       "Batches:   0%|          | 0/1 [00:00<?, ?it/s]"
      ]
     },
     "metadata": {},
     "output_type": "display_data"
    },
    {
     "data": {
      "application/vnd.jupyter.widget-view+json": {
       "model_id": "686e0f4e246344b2970751c25d134917",
       "version_major": 2,
       "version_minor": 0
      },
      "text/plain": [
       "Batches:   0%|          | 0/1 [00:00<?, ?it/s]"
      ]
     },
     "metadata": {},
     "output_type": "display_data"
    },
    {
     "data": {
      "application/vnd.jupyter.widget-view+json": {
       "model_id": "f15174cf8129403e975dbe20bba1d0a0",
       "version_major": 2,
       "version_minor": 0
      },
      "text/plain": [
       "Batches:   0%|          | 0/1 [00:00<?, ?it/s]"
      ]
     },
     "metadata": {},
     "output_type": "display_data"
    },
    {
     "data": {
      "application/vnd.jupyter.widget-view+json": {
       "model_id": "ef705ef5a31245d19cc198f243ddd7b9",
       "version_major": 2,
       "version_minor": 0
      },
      "text/plain": [
       "Batches:   0%|          | 0/1 [00:00<?, ?it/s]"
      ]
     },
     "metadata": {},
     "output_type": "display_data"
    },
    {
     "data": {
      "application/vnd.jupyter.widget-view+json": {
       "model_id": "90dac32a19c94eb0860fe6b8335468b9",
       "version_major": 2,
       "version_minor": 0
      },
      "text/plain": [
       "Batches:   0%|          | 0/1 [00:00<?, ?it/s]"
      ]
     },
     "metadata": {},
     "output_type": "display_data"
    },
    {
     "data": {
      "application/vnd.jupyter.widget-view+json": {
       "model_id": "6ad360e10c44435ea052503708f9c426",
       "version_major": 2,
       "version_minor": 0
      },
      "text/plain": [
       "Batches:   0%|          | 0/1 [00:00<?, ?it/s]"
      ]
     },
     "metadata": {},
     "output_type": "display_data"
    },
    {
     "data": {
      "application/vnd.jupyter.widget-view+json": {
       "model_id": "fb39fe12abc249e49ef23c4641738cf3",
       "version_major": 2,
       "version_minor": 0
      },
      "text/plain": [
       "Batches:   0%|          | 0/1 [00:00<?, ?it/s]"
      ]
     },
     "metadata": {},
     "output_type": "display_data"
    },
    {
     "data": {
      "application/vnd.jupyter.widget-view+json": {
       "model_id": "838109e11507410296de415f51917ebb",
       "version_major": 2,
       "version_minor": 0
      },
      "text/plain": [
       "Batches:   0%|          | 0/1 [00:00<?, ?it/s]"
      ]
     },
     "metadata": {},
     "output_type": "display_data"
    },
    {
     "data": {
      "application/vnd.jupyter.widget-view+json": {
       "model_id": "92c004ce5c1c45e2b69806b35a92321f",
       "version_major": 2,
       "version_minor": 0
      },
      "text/plain": [
       "Batches:   0%|          | 0/1 [00:00<?, ?it/s]"
      ]
     },
     "metadata": {},
     "output_type": "display_data"
    },
    {
     "data": {
      "application/vnd.jupyter.widget-view+json": {
       "model_id": "d10499ae9378467593b58b3c0b7bf6e2",
       "version_major": 2,
       "version_minor": 0
      },
      "text/plain": [
       "Batches:   0%|          | 0/1 [00:00<?, ?it/s]"
      ]
     },
     "metadata": {},
     "output_type": "display_data"
    },
    {
     "data": {
      "application/vnd.jupyter.widget-view+json": {
       "model_id": "84a7043dbb834826a82579ca5e65fae8",
       "version_major": 2,
       "version_minor": 0
      },
      "text/plain": [
       "Batches:   0%|          | 0/1 [00:00<?, ?it/s]"
      ]
     },
     "metadata": {},
     "output_type": "display_data"
    },
    {
     "data": {
      "application/vnd.jupyter.widget-view+json": {
       "model_id": "8f6f7753580646d3b8f6a4a56c3a4fb1",
       "version_major": 2,
       "version_minor": 0
      },
      "text/plain": [
       "Batches:   0%|          | 0/1 [00:00<?, ?it/s]"
      ]
     },
     "metadata": {},
     "output_type": "display_data"
    },
    {
     "data": {
      "application/vnd.jupyter.widget-view+json": {
       "model_id": "fac7fa5686f44420b6c3234c11e853c0",
       "version_major": 2,
       "version_minor": 0
      },
      "text/plain": [
       "Batches:   0%|          | 0/1 [00:00<?, ?it/s]"
      ]
     },
     "metadata": {},
     "output_type": "display_data"
    },
    {
     "data": {
      "application/vnd.jupyter.widget-view+json": {
       "model_id": "7881ee3d4aed4938b09757176b358004",
       "version_major": 2,
       "version_minor": 0
      },
      "text/plain": [
       "Batches:   0%|          | 0/1 [00:00<?, ?it/s]"
      ]
     },
     "metadata": {},
     "output_type": "display_data"
    },
    {
     "data": {
      "application/vnd.jupyter.widget-view+json": {
       "model_id": "c116ae9cf8cf42078024af736d801a9c",
       "version_major": 2,
       "version_minor": 0
      },
      "text/plain": [
       "Batches:   0%|          | 0/1 [00:00<?, ?it/s]"
      ]
     },
     "metadata": {},
     "output_type": "display_data"
    },
    {
     "data": {
      "application/vnd.jupyter.widget-view+json": {
       "model_id": "8ff10d95b392467ea78a31fb40ea3a53",
       "version_major": 2,
       "version_minor": 0
      },
      "text/plain": [
       "Batches:   0%|          | 0/1 [00:00<?, ?it/s]"
      ]
     },
     "metadata": {},
     "output_type": "display_data"
    },
    {
     "data": {
      "application/vnd.jupyter.widget-view+json": {
       "model_id": "67b1a17059a14befa29e5e2f74b85edd",
       "version_major": 2,
       "version_minor": 0
      },
      "text/plain": [
       "Batches:   0%|          | 0/1 [00:00<?, ?it/s]"
      ]
     },
     "metadata": {},
     "output_type": "display_data"
    },
    {
     "data": {
      "application/vnd.jupyter.widget-view+json": {
       "model_id": "3cd9d37db48f410bbe20a02e85e99ca9",
       "version_major": 2,
       "version_minor": 0
      },
      "text/plain": [
       "Batches:   0%|          | 0/1 [00:00<?, ?it/s]"
      ]
     },
     "metadata": {},
     "output_type": "display_data"
    },
    {
     "data": {
      "application/vnd.jupyter.widget-view+json": {
       "model_id": "b289b4e0c895497fbba817b9192b3c0e",
       "version_major": 2,
       "version_minor": 0
      },
      "text/plain": [
       "Batches:   0%|          | 0/1 [00:00<?, ?it/s]"
      ]
     },
     "metadata": {},
     "output_type": "display_data"
    },
    {
     "data": {
      "application/vnd.jupyter.widget-view+json": {
       "model_id": "1b2466ba85af4bb9b0f2c20b33a95fec",
       "version_major": 2,
       "version_minor": 0
      },
      "text/plain": [
       "Batches:   0%|          | 0/1 [00:00<?, ?it/s]"
      ]
     },
     "metadata": {},
     "output_type": "display_data"
    },
    {
     "data": {
      "application/vnd.jupyter.widget-view+json": {
       "model_id": "f441c353adc24504a7d3f1e1a8b5c160",
       "version_major": 2,
       "version_minor": 0
      },
      "text/plain": [
       "Batches:   0%|          | 0/1 [00:00<?, ?it/s]"
      ]
     },
     "metadata": {},
     "output_type": "display_data"
    },
    {
     "data": {
      "application/vnd.jupyter.widget-view+json": {
       "model_id": "d98ab96542cd4497bef5aaf2ae1068ff",
       "version_major": 2,
       "version_minor": 0
      },
      "text/plain": [
       "Batches:   0%|          | 0/1 [00:00<?, ?it/s]"
      ]
     },
     "metadata": {},
     "output_type": "display_data"
    },
    {
     "data": {
      "application/vnd.jupyter.widget-view+json": {
       "model_id": "13076fe3c9204b20899387fb26806af7",
       "version_major": 2,
       "version_minor": 0
      },
      "text/plain": [
       "Batches:   0%|          | 0/1 [00:00<?, ?it/s]"
      ]
     },
     "metadata": {},
     "output_type": "display_data"
    },
    {
     "data": {
      "application/vnd.jupyter.widget-view+json": {
       "model_id": "37371ceb9eb04079bec13f4311d093dd",
       "version_major": 2,
       "version_minor": 0
      },
      "text/plain": [
       "Batches:   0%|          | 0/1 [00:00<?, ?it/s]"
      ]
     },
     "metadata": {},
     "output_type": "display_data"
    },
    {
     "data": {
      "application/vnd.jupyter.widget-view+json": {
       "model_id": "80de3af24705405bb6a1f02068f7fec3",
       "version_major": 2,
       "version_minor": 0
      },
      "text/plain": [
       "Batches:   0%|          | 0/1 [00:00<?, ?it/s]"
      ]
     },
     "metadata": {},
     "output_type": "display_data"
    },
    {
     "data": {
      "application/vnd.jupyter.widget-view+json": {
       "model_id": "85cab184e8fb4a2da81ab06fc626a3e5",
       "version_major": 2,
       "version_minor": 0
      },
      "text/plain": [
       "Batches:   0%|          | 0/1 [00:00<?, ?it/s]"
      ]
     },
     "metadata": {},
     "output_type": "display_data"
    },
    {
     "data": {
      "application/vnd.jupyter.widget-view+json": {
       "model_id": "c4b76a9b9f184358949a708ccc03ae4b",
       "version_major": 2,
       "version_minor": 0
      },
      "text/plain": [
       "Batches:   0%|          | 0/1 [00:00<?, ?it/s]"
      ]
     },
     "metadata": {},
     "output_type": "display_data"
    },
    {
     "data": {
      "application/vnd.jupyter.widget-view+json": {
       "model_id": "9ecfad921f7a40b0885d82a0c7ec1ce4",
       "version_major": 2,
       "version_minor": 0
      },
      "text/plain": [
       "Batches:   0%|          | 0/1 [00:00<?, ?it/s]"
      ]
     },
     "metadata": {},
     "output_type": "display_data"
    },
    {
     "data": {
      "application/vnd.jupyter.widget-view+json": {
       "model_id": "cc5103f1913c4ffdb8e09e7fcbcf550a",
       "version_major": 2,
       "version_minor": 0
      },
      "text/plain": [
       "Batches:   0%|          | 0/1 [00:00<?, ?it/s]"
      ]
     },
     "metadata": {},
     "output_type": "display_data"
    },
    {
     "data": {
      "application/vnd.jupyter.widget-view+json": {
       "model_id": "018a9b798e0c47f393e9611190821d6c",
       "version_major": 2,
       "version_minor": 0
      },
      "text/plain": [
       "Batches:   0%|          | 0/1 [00:00<?, ?it/s]"
      ]
     },
     "metadata": {},
     "output_type": "display_data"
    },
    {
     "data": {
      "application/vnd.jupyter.widget-view+json": {
       "model_id": "78f9818ca87f455f8e24c91fe2dda7d4",
       "version_major": 2,
       "version_minor": 0
      },
      "text/plain": [
       "Batches:   0%|          | 0/1 [00:00<?, ?it/s]"
      ]
     },
     "metadata": {},
     "output_type": "display_data"
    },
    {
     "data": {
      "application/vnd.jupyter.widget-view+json": {
       "model_id": "cd4b748019504af791350f71af962638",
       "version_major": 2,
       "version_minor": 0
      },
      "text/plain": [
       "Batches:   0%|          | 0/1 [00:00<?, ?it/s]"
      ]
     },
     "metadata": {},
     "output_type": "display_data"
    },
    {
     "data": {
      "application/vnd.jupyter.widget-view+json": {
       "model_id": "b63b1e887b6e44b8a180002c2afc3e04",
       "version_major": 2,
       "version_minor": 0
      },
      "text/plain": [
       "Batches:   0%|          | 0/1 [00:00<?, ?it/s]"
      ]
     },
     "metadata": {},
     "output_type": "display_data"
    },
    {
     "data": {
      "application/vnd.jupyter.widget-view+json": {
       "model_id": "f982f3feff0b494e9a9b38b53fe70459",
       "version_major": 2,
       "version_minor": 0
      },
      "text/plain": [
       "Batches:   0%|          | 0/1 [00:00<?, ?it/s]"
      ]
     },
     "metadata": {},
     "output_type": "display_data"
    },
    {
     "data": {
      "application/vnd.jupyter.widget-view+json": {
       "model_id": "8f9ce4f644c94f6fb66959baead9ba91",
       "version_major": 2,
       "version_minor": 0
      },
      "text/plain": [
       "Batches:   0%|          | 0/1 [00:00<?, ?it/s]"
      ]
     },
     "metadata": {},
     "output_type": "display_data"
    },
    {
     "data": {
      "application/vnd.jupyter.widget-view+json": {
       "model_id": "a9e9757f991e498cab87655f9dedf238",
       "version_major": 2,
       "version_minor": 0
      },
      "text/plain": [
       "Batches:   0%|          | 0/1 [00:00<?, ?it/s]"
      ]
     },
     "metadata": {},
     "output_type": "display_data"
    },
    {
     "data": {
      "application/vnd.jupyter.widget-view+json": {
       "model_id": "99d0a17cb65941d9825e6914a83e7425",
       "version_major": 2,
       "version_minor": 0
      },
      "text/plain": [
       "Batches:   0%|          | 0/1 [00:00<?, ?it/s]"
      ]
     },
     "metadata": {},
     "output_type": "display_data"
    },
    {
     "data": {
      "application/vnd.jupyter.widget-view+json": {
       "model_id": "5c6f17e039dd4484aab7fa96e6a0ca6a",
       "version_major": 2,
       "version_minor": 0
      },
      "text/plain": [
       "Batches:   0%|          | 0/1 [00:00<?, ?it/s]"
      ]
     },
     "metadata": {},
     "output_type": "display_data"
    },
    {
     "data": {
      "application/vnd.jupyter.widget-view+json": {
       "model_id": "f58320d2e9414adea91c91fb248c4a62",
       "version_major": 2,
       "version_minor": 0
      },
      "text/plain": [
       "Batches:   0%|          | 0/1 [00:00<?, ?it/s]"
      ]
     },
     "metadata": {},
     "output_type": "display_data"
    },
    {
     "data": {
      "application/vnd.jupyter.widget-view+json": {
       "model_id": "94640c33e0e64876b9e6d1214d016d79",
       "version_major": 2,
       "version_minor": 0
      },
      "text/plain": [
       "Batches:   0%|          | 0/1 [00:00<?, ?it/s]"
      ]
     },
     "metadata": {},
     "output_type": "display_data"
    },
    {
     "data": {
      "application/vnd.jupyter.widget-view+json": {
       "model_id": "80d157d92f7b4f00a3e5ffae78a2f633",
       "version_major": 2,
       "version_minor": 0
      },
      "text/plain": [
       "Batches:   0%|          | 0/1 [00:00<?, ?it/s]"
      ]
     },
     "metadata": {},
     "output_type": "display_data"
    },
    {
     "data": {
      "application/vnd.jupyter.widget-view+json": {
       "model_id": "be35a7ad5d1d41ec9289054fc9861b97",
       "version_major": 2,
       "version_minor": 0
      },
      "text/plain": [
       "Batches:   0%|          | 0/1 [00:00<?, ?it/s]"
      ]
     },
     "metadata": {},
     "output_type": "display_data"
    },
    {
     "data": {
      "application/vnd.jupyter.widget-view+json": {
       "model_id": "d3b03b06afbd44c1b685c05718a443bc",
       "version_major": 2,
       "version_minor": 0
      },
      "text/plain": [
       "Batches:   0%|          | 0/1 [00:00<?, ?it/s]"
      ]
     },
     "metadata": {},
     "output_type": "display_data"
    },
    {
     "data": {
      "application/vnd.jupyter.widget-view+json": {
       "model_id": "a9d825b6773f4d6186b1cc2dd3208d3f",
       "version_major": 2,
       "version_minor": 0
      },
      "text/plain": [
       "Batches:   0%|          | 0/1 [00:00<?, ?it/s]"
      ]
     },
     "metadata": {},
     "output_type": "display_data"
    },
    {
     "data": {
      "application/vnd.jupyter.widget-view+json": {
       "model_id": "92f8c755fef54c26a41bc43f8abed344",
       "version_major": 2,
       "version_minor": 0
      },
      "text/plain": [
       "Batches:   0%|          | 0/1 [00:00<?, ?it/s]"
      ]
     },
     "metadata": {},
     "output_type": "display_data"
    },
    {
     "data": {
      "application/vnd.jupyter.widget-view+json": {
       "model_id": "fc1e516f4121433eb07c12ba26eaa494",
       "version_major": 2,
       "version_minor": 0
      },
      "text/plain": [
       "Batches:   0%|          | 0/1 [00:00<?, ?it/s]"
      ]
     },
     "metadata": {},
     "output_type": "display_data"
    },
    {
     "data": {
      "application/vnd.jupyter.widget-view+json": {
       "model_id": "a725acad92674355a1dc00bb4045bc24",
       "version_major": 2,
       "version_minor": 0
      },
      "text/plain": [
       "Batches:   0%|          | 0/1 [00:00<?, ?it/s]"
      ]
     },
     "metadata": {},
     "output_type": "display_data"
    },
    {
     "data": {
      "application/vnd.jupyter.widget-view+json": {
       "model_id": "999c0227f5df40f8b0a8c805c23e5270",
       "version_major": 2,
       "version_minor": 0
      },
      "text/plain": [
       "Batches:   0%|          | 0/1 [00:00<?, ?it/s]"
      ]
     },
     "metadata": {},
     "output_type": "display_data"
    },
    {
     "data": {
      "application/vnd.jupyter.widget-view+json": {
       "model_id": "c00fda8675b8451cb66256e2bbe783f4",
       "version_major": 2,
       "version_minor": 0
      },
      "text/plain": [
       "Batches:   0%|          | 0/1 [00:00<?, ?it/s]"
      ]
     },
     "metadata": {},
     "output_type": "display_data"
    },
    {
     "data": {
      "application/vnd.jupyter.widget-view+json": {
       "model_id": "078a7c690758418d8750596c218598af",
       "version_major": 2,
       "version_minor": 0
      },
      "text/plain": [
       "Batches:   0%|          | 0/1 [00:00<?, ?it/s]"
      ]
     },
     "metadata": {},
     "output_type": "display_data"
    },
    {
     "data": {
      "application/vnd.jupyter.widget-view+json": {
       "model_id": "fd91ac806f50471e880a60ab2e3e2e62",
       "version_major": 2,
       "version_minor": 0
      },
      "text/plain": [
       "Batches:   0%|          | 0/1 [00:00<?, ?it/s]"
      ]
     },
     "metadata": {},
     "output_type": "display_data"
    },
    {
     "data": {
      "application/vnd.jupyter.widget-view+json": {
       "model_id": "bf451e2730b6474591da654fd3db46fa",
       "version_major": 2,
       "version_minor": 0
      },
      "text/plain": [
       "Batches:   0%|          | 0/1 [00:00<?, ?it/s]"
      ]
     },
     "metadata": {},
     "output_type": "display_data"
    },
    {
     "data": {
      "application/vnd.jupyter.widget-view+json": {
       "model_id": "2f7e1167047741ed9fb7d7c1342b9041",
       "version_major": 2,
       "version_minor": 0
      },
      "text/plain": [
       "Batches:   0%|          | 0/1 [00:00<?, ?it/s]"
      ]
     },
     "metadata": {},
     "output_type": "display_data"
    },
    {
     "data": {
      "application/vnd.jupyter.widget-view+json": {
       "model_id": "fe7c8ce8956c4337ac6af7d4a9e4a0cc",
       "version_major": 2,
       "version_minor": 0
      },
      "text/plain": [
       "Batches:   0%|          | 0/1 [00:00<?, ?it/s]"
      ]
     },
     "metadata": {},
     "output_type": "display_data"
    },
    {
     "data": {
      "application/vnd.jupyter.widget-view+json": {
       "model_id": "142cd86a480e401b91c6606fa6164648",
       "version_major": 2,
       "version_minor": 0
      },
      "text/plain": [
       "Batches:   0%|          | 0/1 [00:00<?, ?it/s]"
      ]
     },
     "metadata": {},
     "output_type": "display_data"
    },
    {
     "data": {
      "application/vnd.jupyter.widget-view+json": {
       "model_id": "723951099a6e4cbdafaeda15e66d0d44",
       "version_major": 2,
       "version_minor": 0
      },
      "text/plain": [
       "Batches:   0%|          | 0/1 [00:00<?, ?it/s]"
      ]
     },
     "metadata": {},
     "output_type": "display_data"
    },
    {
     "data": {
      "application/vnd.jupyter.widget-view+json": {
       "model_id": "32021475d37d472fad2541555e0f08b9",
       "version_major": 2,
       "version_minor": 0
      },
      "text/plain": [
       "Batches:   0%|          | 0/1 [00:00<?, ?it/s]"
      ]
     },
     "metadata": {},
     "output_type": "display_data"
    },
    {
     "data": {
      "application/vnd.jupyter.widget-view+json": {
       "model_id": "e1fcb702e1f54b2bb35ece10ba284add",
       "version_major": 2,
       "version_minor": 0
      },
      "text/plain": [
       "Batches:   0%|          | 0/1 [00:00<?, ?it/s]"
      ]
     },
     "metadata": {},
     "output_type": "display_data"
    },
    {
     "data": {
      "application/vnd.jupyter.widget-view+json": {
       "model_id": "905ce48befa54ecdb5c0d67538bec2f3",
       "version_major": 2,
       "version_minor": 0
      },
      "text/plain": [
       "Batches:   0%|          | 0/1 [00:00<?, ?it/s]"
      ]
     },
     "metadata": {},
     "output_type": "display_data"
    },
    {
     "data": {
      "application/vnd.jupyter.widget-view+json": {
       "model_id": "8f16a60be3be4aeeb40821d3d6639515",
       "version_major": 2,
       "version_minor": 0
      },
      "text/plain": [
       "Batches:   0%|          | 0/1 [00:00<?, ?it/s]"
      ]
     },
     "metadata": {},
     "output_type": "display_data"
    },
    {
     "data": {
      "application/vnd.jupyter.widget-view+json": {
       "model_id": "24e6a91613d64ca7bae96dfc12cc81fc",
       "version_major": 2,
       "version_minor": 0
      },
      "text/plain": [
       "Batches:   0%|          | 0/1 [00:00<?, ?it/s]"
      ]
     },
     "metadata": {},
     "output_type": "display_data"
    },
    {
     "data": {
      "application/vnd.jupyter.widget-view+json": {
       "model_id": "8ee238e17b654420b60d33650da5797f",
       "version_major": 2,
       "version_minor": 0
      },
      "text/plain": [
       "Batches:   0%|          | 0/1 [00:00<?, ?it/s]"
      ]
     },
     "metadata": {},
     "output_type": "display_data"
    },
    {
     "data": {
      "application/vnd.jupyter.widget-view+json": {
       "model_id": "976250c0b8864ea98ed3d9d1d66a5bde",
       "version_major": 2,
       "version_minor": 0
      },
      "text/plain": [
       "Batches:   0%|          | 0/1 [00:00<?, ?it/s]"
      ]
     },
     "metadata": {},
     "output_type": "display_data"
    },
    {
     "data": {
      "application/vnd.jupyter.widget-view+json": {
       "model_id": "53e886cb041746a3b3c6c79d0d9edb74",
       "version_major": 2,
       "version_minor": 0
      },
      "text/plain": [
       "Batches:   0%|          | 0/1 [00:00<?, ?it/s]"
      ]
     },
     "metadata": {},
     "output_type": "display_data"
    },
    {
     "data": {
      "application/vnd.jupyter.widget-view+json": {
       "model_id": "d3f9240eb02e4db29de73a1f9151a3ee",
       "version_major": 2,
       "version_minor": 0
      },
      "text/plain": [
       "Batches:   0%|          | 0/1 [00:00<?, ?it/s]"
      ]
     },
     "metadata": {},
     "output_type": "display_data"
    },
    {
     "data": {
      "application/vnd.jupyter.widget-view+json": {
       "model_id": "c0936654f89349baa8b4d430688fc7a0",
       "version_major": 2,
       "version_minor": 0
      },
      "text/plain": [
       "Batches:   0%|          | 0/1 [00:00<?, ?it/s]"
      ]
     },
     "metadata": {},
     "output_type": "display_data"
    },
    {
     "data": {
      "application/vnd.jupyter.widget-view+json": {
       "model_id": "04cae539d2414fbebcef625930b759cd",
       "version_major": 2,
       "version_minor": 0
      },
      "text/plain": [
       "Batches:   0%|          | 0/1 [00:00<?, ?it/s]"
      ]
     },
     "metadata": {},
     "output_type": "display_data"
    },
    {
     "data": {
      "application/vnd.jupyter.widget-view+json": {
       "model_id": "85cbb09481c74850907e2bc44abd503c",
       "version_major": 2,
       "version_minor": 0
      },
      "text/plain": [
       "Batches:   0%|          | 0/1 [00:00<?, ?it/s]"
      ]
     },
     "metadata": {},
     "output_type": "display_data"
    },
    {
     "data": {
      "application/vnd.jupyter.widget-view+json": {
       "model_id": "8a8c3681d46544e393ecd07687462691",
       "version_major": 2,
       "version_minor": 0
      },
      "text/plain": [
       "Batches:   0%|          | 0/1 [00:00<?, ?it/s]"
      ]
     },
     "metadata": {},
     "output_type": "display_data"
    },
    {
     "data": {
      "application/vnd.jupyter.widget-view+json": {
       "model_id": "6a9dcc2af77e4954ab66695089809b5b",
       "version_major": 2,
       "version_minor": 0
      },
      "text/plain": [
       "Batches:   0%|          | 0/1 [00:00<?, ?it/s]"
      ]
     },
     "metadata": {},
     "output_type": "display_data"
    },
    {
     "data": {
      "application/vnd.jupyter.widget-view+json": {
       "model_id": "b34fe53d321240fdba2ea2504b77d804",
       "version_major": 2,
       "version_minor": 0
      },
      "text/plain": [
       "Batches:   0%|          | 0/1 [00:00<?, ?it/s]"
      ]
     },
     "metadata": {},
     "output_type": "display_data"
    },
    {
     "data": {
      "application/vnd.jupyter.widget-view+json": {
       "model_id": "db1e8d730ef444079455782e08c77c01",
       "version_major": 2,
       "version_minor": 0
      },
      "text/plain": [
       "Batches:   0%|          | 0/1 [00:00<?, ?it/s]"
      ]
     },
     "metadata": {},
     "output_type": "display_data"
    },
    {
     "data": {
      "application/vnd.jupyter.widget-view+json": {
       "model_id": "ba971ad1eb4249eea207d8640f3ea085",
       "version_major": 2,
       "version_minor": 0
      },
      "text/plain": [
       "Batches:   0%|          | 0/1 [00:00<?, ?it/s]"
      ]
     },
     "metadata": {},
     "output_type": "display_data"
    },
    {
     "data": {
      "application/vnd.jupyter.widget-view+json": {
       "model_id": "0e14f8d462354c6c961c6dd137dcdcfb",
       "version_major": 2,
       "version_minor": 0
      },
      "text/plain": [
       "Batches:   0%|          | 0/1 [00:00<?, ?it/s]"
      ]
     },
     "metadata": {},
     "output_type": "display_data"
    },
    {
     "data": {
      "application/vnd.jupyter.widget-view+json": {
       "model_id": "a06fd7f54a5d4934b260dd40de9664e4",
       "version_major": 2,
       "version_minor": 0
      },
      "text/plain": [
       "Batches:   0%|          | 0/1 [00:00<?, ?it/s]"
      ]
     },
     "metadata": {},
     "output_type": "display_data"
    },
    {
     "data": {
      "application/vnd.jupyter.widget-view+json": {
       "model_id": "05576ed44872449b9567e89e6a533267",
       "version_major": 2,
       "version_minor": 0
      },
      "text/plain": [
       "Batches:   0%|          | 0/1 [00:00<?, ?it/s]"
      ]
     },
     "metadata": {},
     "output_type": "display_data"
    },
    {
     "data": {
      "application/vnd.jupyter.widget-view+json": {
       "model_id": "bdb0e90356dd4ebd962da4805b5dd471",
       "version_major": 2,
       "version_minor": 0
      },
      "text/plain": [
       "Batches:   0%|          | 0/1 [00:00<?, ?it/s]"
      ]
     },
     "metadata": {},
     "output_type": "display_data"
    },
    {
     "data": {
      "application/vnd.jupyter.widget-view+json": {
       "model_id": "e7c72e5846e64deba0e599312b62e2d6",
       "version_major": 2,
       "version_minor": 0
      },
      "text/plain": [
       "Batches:   0%|          | 0/1 [00:00<?, ?it/s]"
      ]
     },
     "metadata": {},
     "output_type": "display_data"
    },
    {
     "data": {
      "application/vnd.jupyter.widget-view+json": {
       "model_id": "defbc97323a84c658983b82d6e1437d7",
       "version_major": 2,
       "version_minor": 0
      },
      "text/plain": [
       "Batches:   0%|          | 0/1 [00:00<?, ?it/s]"
      ]
     },
     "metadata": {},
     "output_type": "display_data"
    },
    {
     "data": {
      "application/vnd.jupyter.widget-view+json": {
       "model_id": "dbf1e83013ae45528abf0b016508e4d6",
       "version_major": 2,
       "version_minor": 0
      },
      "text/plain": [
       "Batches:   0%|          | 0/1 [00:00<?, ?it/s]"
      ]
     },
     "metadata": {},
     "output_type": "display_data"
    },
    {
     "data": {
      "application/vnd.jupyter.widget-view+json": {
       "model_id": "5cad7615ca5a4563b01460dd7635cebc",
       "version_major": 2,
       "version_minor": 0
      },
      "text/plain": [
       "Batches:   0%|          | 0/1 [00:00<?, ?it/s]"
      ]
     },
     "metadata": {},
     "output_type": "display_data"
    },
    {
     "data": {
      "application/vnd.jupyter.widget-view+json": {
       "model_id": "9b6259748874428cbf6ed2dd08d28a42",
       "version_major": 2,
       "version_minor": 0
      },
      "text/plain": [
       "Batches:   0%|          | 0/1 [00:00<?, ?it/s]"
      ]
     },
     "metadata": {},
     "output_type": "display_data"
    },
    {
     "data": {
      "application/vnd.jupyter.widget-view+json": {
       "model_id": "7c0c8b56aefc455b8b31f41e59235254",
       "version_major": 2,
       "version_minor": 0
      },
      "text/plain": [
       "Batches:   0%|          | 0/1 [00:00<?, ?it/s]"
      ]
     },
     "metadata": {},
     "output_type": "display_data"
    },
    {
     "data": {
      "application/vnd.jupyter.widget-view+json": {
       "model_id": "113bbb3a8e0b4456a378c5172ad09bb5",
       "version_major": 2,
       "version_minor": 0
      },
      "text/plain": [
       "Batches:   0%|          | 0/1 [00:00<?, ?it/s]"
      ]
     },
     "metadata": {},
     "output_type": "display_data"
    },
    {
     "data": {
      "application/vnd.jupyter.widget-view+json": {
       "model_id": "20d42b7cd38744c3927d0946ad21a127",
       "version_major": 2,
       "version_minor": 0
      },
      "text/plain": [
       "Batches:   0%|          | 0/1 [00:00<?, ?it/s]"
      ]
     },
     "metadata": {},
     "output_type": "display_data"
    },
    {
     "data": {
      "application/vnd.jupyter.widget-view+json": {
       "model_id": "ccacef9ed60a43b08a5a260c702ea425",
       "version_major": 2,
       "version_minor": 0
      },
      "text/plain": [
       "Batches:   0%|          | 0/1 [00:00<?, ?it/s]"
      ]
     },
     "metadata": {},
     "output_type": "display_data"
    },
    {
     "data": {
      "application/vnd.jupyter.widget-view+json": {
       "model_id": "8eed3669f08849eab98d862244c55b4c",
       "version_major": 2,
       "version_minor": 0
      },
      "text/plain": [
       "Batches:   0%|          | 0/1 [00:00<?, ?it/s]"
      ]
     },
     "metadata": {},
     "output_type": "display_data"
    },
    {
     "data": {
      "application/vnd.jupyter.widget-view+json": {
       "model_id": "12105c02ac9246b6b50818700dc6f70e",
       "version_major": 2,
       "version_minor": 0
      },
      "text/plain": [
       "Batches:   0%|          | 0/1 [00:00<?, ?it/s]"
      ]
     },
     "metadata": {},
     "output_type": "display_data"
    },
    {
     "data": {
      "application/vnd.jupyter.widget-view+json": {
       "model_id": "0a6172663d1e43b9865e6683ca2ce47f",
       "version_major": 2,
       "version_minor": 0
      },
      "text/plain": [
       "Batches:   0%|          | 0/1 [00:00<?, ?it/s]"
      ]
     },
     "metadata": {},
     "output_type": "display_data"
    },
    {
     "data": {
      "application/vnd.jupyter.widget-view+json": {
       "model_id": "7efb6ee6d2f240208f471070d531859f",
       "version_major": 2,
       "version_minor": 0
      },
      "text/plain": [
       "Batches:   0%|          | 0/1 [00:00<?, ?it/s]"
      ]
     },
     "metadata": {},
     "output_type": "display_data"
    },
    {
     "data": {
      "application/vnd.jupyter.widget-view+json": {
       "model_id": "c4cf1c8037cd41ae9c02b750b77ebb9e",
       "version_major": 2,
       "version_minor": 0
      },
      "text/plain": [
       "Batches:   0%|          | 0/1 [00:00<?, ?it/s]"
      ]
     },
     "metadata": {},
     "output_type": "display_data"
    },
    {
     "data": {
      "application/vnd.jupyter.widget-view+json": {
       "model_id": "03554b772ac342e7b5de32fc03540601",
       "version_major": 2,
       "version_minor": 0
      },
      "text/plain": [
       "Batches:   0%|          | 0/1 [00:00<?, ?it/s]"
      ]
     },
     "metadata": {},
     "output_type": "display_data"
    },
    {
     "data": {
      "application/vnd.jupyter.widget-view+json": {
       "model_id": "55ef0c9a10ad42acac9844b268d10e16",
       "version_major": 2,
       "version_minor": 0
      },
      "text/plain": [
       "Batches:   0%|          | 0/1 [00:00<?, ?it/s]"
      ]
     },
     "metadata": {},
     "output_type": "display_data"
    },
    {
     "data": {
      "application/vnd.jupyter.widget-view+json": {
       "model_id": "9eb1d3f4a66b46b7942727ffab1f37d6",
       "version_major": 2,
       "version_minor": 0
      },
      "text/plain": [
       "Batches:   0%|          | 0/1 [00:00<?, ?it/s]"
      ]
     },
     "metadata": {},
     "output_type": "display_data"
    },
    {
     "data": {
      "application/vnd.jupyter.widget-view+json": {
       "model_id": "c6b4ed74437540858d3e9098d126c8e8",
       "version_major": 2,
       "version_minor": 0
      },
      "text/plain": [
       "Batches:   0%|          | 0/1 [00:00<?, ?it/s]"
      ]
     },
     "metadata": {},
     "output_type": "display_data"
    },
    {
     "data": {
      "application/vnd.jupyter.widget-view+json": {
       "model_id": "ac915b9192ba45d5984c8fce13ec971b",
       "version_major": 2,
       "version_minor": 0
      },
      "text/plain": [
       "Batches:   0%|          | 0/1 [00:00<?, ?it/s]"
      ]
     },
     "metadata": {},
     "output_type": "display_data"
    },
    {
     "data": {
      "application/vnd.jupyter.widget-view+json": {
       "model_id": "82a9f903bad448bf9727247fa8ffd0e5",
       "version_major": 2,
       "version_minor": 0
      },
      "text/plain": [
       "Batches:   0%|          | 0/1 [00:00<?, ?it/s]"
      ]
     },
     "metadata": {},
     "output_type": "display_data"
    },
    {
     "data": {
      "application/vnd.jupyter.widget-view+json": {
       "model_id": "433060667f9448ddbfab9500eaa1f6eb",
       "version_major": 2,
       "version_minor": 0
      },
      "text/plain": [
       "Batches:   0%|          | 0/1 [00:00<?, ?it/s]"
      ]
     },
     "metadata": {},
     "output_type": "display_data"
    },
    {
     "data": {
      "application/vnd.jupyter.widget-view+json": {
       "model_id": "6bfa92c269db4cd1b42148436ad79df3",
       "version_major": 2,
       "version_minor": 0
      },
      "text/plain": [
       "Batches:   0%|          | 0/1 [00:00<?, ?it/s]"
      ]
     },
     "metadata": {},
     "output_type": "display_data"
    },
    {
     "data": {
      "application/vnd.jupyter.widget-view+json": {
       "model_id": "a1f20278f4974ff6b4e4751b3013a9a9",
       "version_major": 2,
       "version_minor": 0
      },
      "text/plain": [
       "Batches:   0%|          | 0/1 [00:00<?, ?it/s]"
      ]
     },
     "metadata": {},
     "output_type": "display_data"
    },
    {
     "data": {
      "application/vnd.jupyter.widget-view+json": {
       "model_id": "4e91f44512cd4d21b0688a5ed5f68ed1",
       "version_major": 2,
       "version_minor": 0
      },
      "text/plain": [
       "Batches:   0%|          | 0/1 [00:00<?, ?it/s]"
      ]
     },
     "metadata": {},
     "output_type": "display_data"
    },
    {
     "data": {
      "application/vnd.jupyter.widget-view+json": {
       "model_id": "19208e470e744acc8f6b22c32be29684",
       "version_major": 2,
       "version_minor": 0
      },
      "text/plain": [
       "Batches:   0%|          | 0/1 [00:00<?, ?it/s]"
      ]
     },
     "metadata": {},
     "output_type": "display_data"
    },
    {
     "data": {
      "application/vnd.jupyter.widget-view+json": {
       "model_id": "bc8f84a0178f4d738ec04259211a4d6b",
       "version_major": 2,
       "version_minor": 0
      },
      "text/plain": [
       "Batches:   0%|          | 0/1 [00:00<?, ?it/s]"
      ]
     },
     "metadata": {},
     "output_type": "display_data"
    },
    {
     "data": {
      "application/vnd.jupyter.widget-view+json": {
       "model_id": "68cb4d61c0214a3d8907a881c1d25788",
       "version_major": 2,
       "version_minor": 0
      },
      "text/plain": [
       "Batches:   0%|          | 0/1 [00:00<?, ?it/s]"
      ]
     },
     "metadata": {},
     "output_type": "display_data"
    },
    {
     "data": {
      "application/vnd.jupyter.widget-view+json": {
       "model_id": "c40ec4e2b6f54556b633b2c6e51a8375",
       "version_major": 2,
       "version_minor": 0
      },
      "text/plain": [
       "Batches:   0%|          | 0/1 [00:00<?, ?it/s]"
      ]
     },
     "metadata": {},
     "output_type": "display_data"
    },
    {
     "data": {
      "application/vnd.jupyter.widget-view+json": {
       "model_id": "1cb73019646c45738f70c7a705e6a5ed",
       "version_major": 2,
       "version_minor": 0
      },
      "text/plain": [
       "Batches:   0%|          | 0/1 [00:00<?, ?it/s]"
      ]
     },
     "metadata": {},
     "output_type": "display_data"
    },
    {
     "data": {
      "application/vnd.jupyter.widget-view+json": {
       "model_id": "b2a503730d3844529c42fefaeb34c91b",
       "version_major": 2,
       "version_minor": 0
      },
      "text/plain": [
       "Batches:   0%|          | 0/1 [00:00<?, ?it/s]"
      ]
     },
     "metadata": {},
     "output_type": "display_data"
    },
    {
     "data": {
      "application/vnd.jupyter.widget-view+json": {
       "model_id": "adea2a2aaf504a97a667b945a0dba3e5",
       "version_major": 2,
       "version_minor": 0
      },
      "text/plain": [
       "Batches:   0%|          | 0/1 [00:00<?, ?it/s]"
      ]
     },
     "metadata": {},
     "output_type": "display_data"
    },
    {
     "data": {
      "application/vnd.jupyter.widget-view+json": {
       "model_id": "2c945dbf12d94ef7927e3e6e21cc9981",
       "version_major": 2,
       "version_minor": 0
      },
      "text/plain": [
       "Batches:   0%|          | 0/1 [00:00<?, ?it/s]"
      ]
     },
     "metadata": {},
     "output_type": "display_data"
    },
    {
     "data": {
      "application/vnd.jupyter.widget-view+json": {
       "model_id": "e71b1d65e1594833bf806eb8d653c581",
       "version_major": 2,
       "version_minor": 0
      },
      "text/plain": [
       "Batches:   0%|          | 0/1 [00:00<?, ?it/s]"
      ]
     },
     "metadata": {},
     "output_type": "display_data"
    },
    {
     "data": {
      "application/vnd.jupyter.widget-view+json": {
       "model_id": "caa8a8f35a3c45d698a2ba6427969094",
       "version_major": 2,
       "version_minor": 0
      },
      "text/plain": [
       "Batches:   0%|          | 0/1 [00:00<?, ?it/s]"
      ]
     },
     "metadata": {},
     "output_type": "display_data"
    },
    {
     "data": {
      "application/vnd.jupyter.widget-view+json": {
       "model_id": "bd4bdc72f3e44c25b90c0aa8b917f7e5",
       "version_major": 2,
       "version_minor": 0
      },
      "text/plain": [
       "Batches:   0%|          | 0/1 [00:00<?, ?it/s]"
      ]
     },
     "metadata": {},
     "output_type": "display_data"
    },
    {
     "data": {
      "application/vnd.jupyter.widget-view+json": {
       "model_id": "c532db634bb8470589c3dfa795d4ed3e",
       "version_major": 2,
       "version_minor": 0
      },
      "text/plain": [
       "Batches:   0%|          | 0/1 [00:00<?, ?it/s]"
      ]
     },
     "metadata": {},
     "output_type": "display_data"
    },
    {
     "data": {
      "application/vnd.jupyter.widget-view+json": {
       "model_id": "680bc24d7bdc489b951632ec6d9a3bc0",
       "version_major": 2,
       "version_minor": 0
      },
      "text/plain": [
       "Batches:   0%|          | 0/1 [00:00<?, ?it/s]"
      ]
     },
     "metadata": {},
     "output_type": "display_data"
    },
    {
     "data": {
      "application/vnd.jupyter.widget-view+json": {
       "model_id": "c483b485db1440579d7f05054d96df13",
       "version_major": 2,
       "version_minor": 0
      },
      "text/plain": [
       "Batches:   0%|          | 0/1 [00:00<?, ?it/s]"
      ]
     },
     "metadata": {},
     "output_type": "display_data"
    },
    {
     "data": {
      "application/vnd.jupyter.widget-view+json": {
       "model_id": "f4a1d66ab8e1457d82f48d8c14c6dcbd",
       "version_major": 2,
       "version_minor": 0
      },
      "text/plain": [
       "Batches:   0%|          | 0/1 [00:00<?, ?it/s]"
      ]
     },
     "metadata": {},
     "output_type": "display_data"
    },
    {
     "data": {
      "application/vnd.jupyter.widget-view+json": {
       "model_id": "5dbacb1382814f4ba05b43b57dcff053",
       "version_major": 2,
       "version_minor": 0
      },
      "text/plain": [
       "Batches:   0%|          | 0/1 [00:00<?, ?it/s]"
      ]
     },
     "metadata": {},
     "output_type": "display_data"
    },
    {
     "data": {
      "application/vnd.jupyter.widget-view+json": {
       "model_id": "1d7ae86c33d54ac689f57ec7885b92d4",
       "version_major": 2,
       "version_minor": 0
      },
      "text/plain": [
       "Batches:   0%|          | 0/1 [00:00<?, ?it/s]"
      ]
     },
     "metadata": {},
     "output_type": "display_data"
    },
    {
     "data": {
      "application/vnd.jupyter.widget-view+json": {
       "model_id": "69ef6b41300443dfa85f6eb7c4bac24d",
       "version_major": 2,
       "version_minor": 0
      },
      "text/plain": [
       "Batches:   0%|          | 0/1 [00:00<?, ?it/s]"
      ]
     },
     "metadata": {},
     "output_type": "display_data"
    },
    {
     "data": {
      "application/vnd.jupyter.widget-view+json": {
       "model_id": "46e635ea42ef4b018c6c45f15afb481b",
       "version_major": 2,
       "version_minor": 0
      },
      "text/plain": [
       "Batches:   0%|          | 0/1 [00:00<?, ?it/s]"
      ]
     },
     "metadata": {},
     "output_type": "display_data"
    },
    {
     "data": {
      "application/vnd.jupyter.widget-view+json": {
       "model_id": "c4dbface147b47eebce33bd5eb0ca04c",
       "version_major": 2,
       "version_minor": 0
      },
      "text/plain": [
       "Batches:   0%|          | 0/1 [00:00<?, ?it/s]"
      ]
     },
     "metadata": {},
     "output_type": "display_data"
    },
    {
     "data": {
      "application/vnd.jupyter.widget-view+json": {
       "model_id": "5ac66b993cc443bd86063cb25406fcec",
       "version_major": 2,
       "version_minor": 0
      },
      "text/plain": [
       "Batches:   0%|          | 0/1 [00:00<?, ?it/s]"
      ]
     },
     "metadata": {},
     "output_type": "display_data"
    },
    {
     "data": {
      "application/vnd.jupyter.widget-view+json": {
       "model_id": "c823aedbaf7441069123fc1b0493466d",
       "version_major": 2,
       "version_minor": 0
      },
      "text/plain": [
       "Batches:   0%|          | 0/1 [00:00<?, ?it/s]"
      ]
     },
     "metadata": {},
     "output_type": "display_data"
    },
    {
     "data": {
      "application/vnd.jupyter.widget-view+json": {
       "model_id": "30b9859b51a34a61806db552b8af5b2c",
       "version_major": 2,
       "version_minor": 0
      },
      "text/plain": [
       "Batches:   0%|          | 0/1 [00:00<?, ?it/s]"
      ]
     },
     "metadata": {},
     "output_type": "display_data"
    },
    {
     "data": {
      "application/vnd.jupyter.widget-view+json": {
       "model_id": "4ead8bc21a034aba8c9553d2a7f82709",
       "version_major": 2,
       "version_minor": 0
      },
      "text/plain": [
       "Batches:   0%|          | 0/1 [00:00<?, ?it/s]"
      ]
     },
     "metadata": {},
     "output_type": "display_data"
    },
    {
     "data": {
      "application/vnd.jupyter.widget-view+json": {
       "model_id": "c35261831e16408eaa9dbd7ea31d4519",
       "version_major": 2,
       "version_minor": 0
      },
      "text/plain": [
       "Batches:   0%|          | 0/1 [00:00<?, ?it/s]"
      ]
     },
     "metadata": {},
     "output_type": "display_data"
    },
    {
     "data": {
      "application/vnd.jupyter.widget-view+json": {
       "model_id": "da953edfec2c41e4b5507ca6d510bfe9",
       "version_major": 2,
       "version_minor": 0
      },
      "text/plain": [
       "Batches:   0%|          | 0/1 [00:00<?, ?it/s]"
      ]
     },
     "metadata": {},
     "output_type": "display_data"
    },
    {
     "data": {
      "application/vnd.jupyter.widget-view+json": {
       "model_id": "cf1e2cb3a18e4f02869c32780524922c",
       "version_major": 2,
       "version_minor": 0
      },
      "text/plain": [
       "Batches:   0%|          | 0/1 [00:00<?, ?it/s]"
      ]
     },
     "metadata": {},
     "output_type": "display_data"
    },
    {
     "data": {
      "application/vnd.jupyter.widget-view+json": {
       "model_id": "6deb41079d394ababc5c4d27b3c52cee",
       "version_major": 2,
       "version_minor": 0
      },
      "text/plain": [
       "Batches:   0%|          | 0/1 [00:00<?, ?it/s]"
      ]
     },
     "metadata": {},
     "output_type": "display_data"
    },
    {
     "data": {
      "application/vnd.jupyter.widget-view+json": {
       "model_id": "e2e05467b56a4d60970e61e258b9a557",
       "version_major": 2,
       "version_minor": 0
      },
      "text/plain": [
       "Batches:   0%|          | 0/1 [00:00<?, ?it/s]"
      ]
     },
     "metadata": {},
     "output_type": "display_data"
    },
    {
     "data": {
      "application/vnd.jupyter.widget-view+json": {
       "model_id": "781447575bb64dd3a521349384e1d954",
       "version_major": 2,
       "version_minor": 0
      },
      "text/plain": [
       "Batches:   0%|          | 0/1 [00:00<?, ?it/s]"
      ]
     },
     "metadata": {},
     "output_type": "display_data"
    },
    {
     "data": {
      "application/vnd.jupyter.widget-view+json": {
       "model_id": "a78cbab7da6b49e3a342d73650f844dc",
       "version_major": 2,
       "version_minor": 0
      },
      "text/plain": [
       "Batches:   0%|          | 0/1 [00:00<?, ?it/s]"
      ]
     },
     "metadata": {},
     "output_type": "display_data"
    },
    {
     "data": {
      "application/vnd.jupyter.widget-view+json": {
       "model_id": "f9cec9648f8a4d6486ac753b0192fd59",
       "version_major": 2,
       "version_minor": 0
      },
      "text/plain": [
       "Batches:   0%|          | 0/1 [00:00<?, ?it/s]"
      ]
     },
     "metadata": {},
     "output_type": "display_data"
    },
    {
     "data": {
      "application/vnd.jupyter.widget-view+json": {
       "model_id": "3de832f2e24e4a69bea40bf005b39d31",
       "version_major": 2,
       "version_minor": 0
      },
      "text/plain": [
       "Batches:   0%|          | 0/1 [00:00<?, ?it/s]"
      ]
     },
     "metadata": {},
     "output_type": "display_data"
    },
    {
     "data": {
      "application/vnd.jupyter.widget-view+json": {
       "model_id": "006368ee81564b8a95fa06f3c98f2a8e",
       "version_major": 2,
       "version_minor": 0
      },
      "text/plain": [
       "Batches:   0%|          | 0/1 [00:00<?, ?it/s]"
      ]
     },
     "metadata": {},
     "output_type": "display_data"
    },
    {
     "data": {
      "application/vnd.jupyter.widget-view+json": {
       "model_id": "452a4748a17c4eaca04c2fa935fa636f",
       "version_major": 2,
       "version_minor": 0
      },
      "text/plain": [
       "Batches:   0%|          | 0/1 [00:00<?, ?it/s]"
      ]
     },
     "metadata": {},
     "output_type": "display_data"
    },
    {
     "data": {
      "application/vnd.jupyter.widget-view+json": {
       "model_id": "5f9d91e36e964b479c9739785f0fc829",
       "version_major": 2,
       "version_minor": 0
      },
      "text/plain": [
       "Batches:   0%|          | 0/1 [00:00<?, ?it/s]"
      ]
     },
     "metadata": {},
     "output_type": "display_data"
    },
    {
     "data": {
      "application/vnd.jupyter.widget-view+json": {
       "model_id": "62082f2c4be74f14be72dffc8271fbd8",
       "version_major": 2,
       "version_minor": 0
      },
      "text/plain": [
       "Batches:   0%|          | 0/1 [00:00<?, ?it/s]"
      ]
     },
     "metadata": {},
     "output_type": "display_data"
    },
    {
     "data": {
      "application/vnd.jupyter.widget-view+json": {
       "model_id": "f732841a81fb478b91b72d4a09de0164",
       "version_major": 2,
       "version_minor": 0
      },
      "text/plain": [
       "Batches:   0%|          | 0/1 [00:00<?, ?it/s]"
      ]
     },
     "metadata": {},
     "output_type": "display_data"
    },
    {
     "data": {
      "application/vnd.jupyter.widget-view+json": {
       "model_id": "7eb63f2e1e574b0dac09bfb10e60479f",
       "version_major": 2,
       "version_minor": 0
      },
      "text/plain": [
       "Batches:   0%|          | 0/1 [00:00<?, ?it/s]"
      ]
     },
     "metadata": {},
     "output_type": "display_data"
    },
    {
     "data": {
      "application/vnd.jupyter.widget-view+json": {
       "model_id": "62ff0e1067984012b4fcb2892ab01240",
       "version_major": 2,
       "version_minor": 0
      },
      "text/plain": [
       "Batches:   0%|          | 0/1 [00:00<?, ?it/s]"
      ]
     },
     "metadata": {},
     "output_type": "display_data"
    },
    {
     "data": {
      "application/vnd.jupyter.widget-view+json": {
       "model_id": "556ccd48584744b9a5cb0e38fb8eb48f",
       "version_major": 2,
       "version_minor": 0
      },
      "text/plain": [
       "Batches:   0%|          | 0/1 [00:00<?, ?it/s]"
      ]
     },
     "metadata": {},
     "output_type": "display_data"
    },
    {
     "data": {
      "application/vnd.jupyter.widget-view+json": {
       "model_id": "48c184e36de24922ba4dcac9a40253cd",
       "version_major": 2,
       "version_minor": 0
      },
      "text/plain": [
       "Batches:   0%|          | 0/1 [00:00<?, ?it/s]"
      ]
     },
     "metadata": {},
     "output_type": "display_data"
    },
    {
     "data": {
      "application/vnd.jupyter.widget-view+json": {
       "model_id": "7aa23e1baffe42cda53ebb17e81fcc02",
       "version_major": 2,
       "version_minor": 0
      },
      "text/plain": [
       "Batches:   0%|          | 0/1 [00:00<?, ?it/s]"
      ]
     },
     "metadata": {},
     "output_type": "display_data"
    },
    {
     "data": {
      "application/vnd.jupyter.widget-view+json": {
       "model_id": "57d5820db223478fa17d4972165466e7",
       "version_major": 2,
       "version_minor": 0
      },
      "text/plain": [
       "Batches:   0%|          | 0/1 [00:00<?, ?it/s]"
      ]
     },
     "metadata": {},
     "output_type": "display_data"
    },
    {
     "data": {
      "application/vnd.jupyter.widget-view+json": {
       "model_id": "3548d3fd328244499e8f12045dd862a9",
       "version_major": 2,
       "version_minor": 0
      },
      "text/plain": [
       "Batches:   0%|          | 0/1 [00:00<?, ?it/s]"
      ]
     },
     "metadata": {},
     "output_type": "display_data"
    },
    {
     "data": {
      "application/vnd.jupyter.widget-view+json": {
       "model_id": "86aba5641eba45038cd7511543ac2854",
       "version_major": 2,
       "version_minor": 0
      },
      "text/plain": [
       "Batches:   0%|          | 0/1 [00:00<?, ?it/s]"
      ]
     },
     "metadata": {},
     "output_type": "display_data"
    },
    {
     "data": {
      "application/vnd.jupyter.widget-view+json": {
       "model_id": "63d09cb28b4a46159a3eb0b564619d2a",
       "version_major": 2,
       "version_minor": 0
      },
      "text/plain": [
       "Batches:   0%|          | 0/1 [00:00<?, ?it/s]"
      ]
     },
     "metadata": {},
     "output_type": "display_data"
    },
    {
     "data": {
      "application/vnd.jupyter.widget-view+json": {
       "model_id": "fc254125120045c7b43e8c97f1742428",
       "version_major": 2,
       "version_minor": 0
      },
      "text/plain": [
       "Batches:   0%|          | 0/1 [00:00<?, ?it/s]"
      ]
     },
     "metadata": {},
     "output_type": "display_data"
    },
    {
     "data": {
      "application/vnd.jupyter.widget-view+json": {
       "model_id": "75eb94a0afdd4c9fb64786bcebf034aa",
       "version_major": 2,
       "version_minor": 0
      },
      "text/plain": [
       "Batches:   0%|          | 0/1 [00:00<?, ?it/s]"
      ]
     },
     "metadata": {},
     "output_type": "display_data"
    },
    {
     "data": {
      "application/vnd.jupyter.widget-view+json": {
       "model_id": "cfc4dc956d60455eb87967dc5a3998ad",
       "version_major": 2,
       "version_minor": 0
      },
      "text/plain": [
       "Batches:   0%|          | 0/1 [00:00<?, ?it/s]"
      ]
     },
     "metadata": {},
     "output_type": "display_data"
    },
    {
     "data": {
      "application/vnd.jupyter.widget-view+json": {
       "model_id": "5f23571730bf443c8fc9a62b739a1da1",
       "version_major": 2,
       "version_minor": 0
      },
      "text/plain": [
       "Batches:   0%|          | 0/1 [00:00<?, ?it/s]"
      ]
     },
     "metadata": {},
     "output_type": "display_data"
    },
    {
     "data": {
      "application/vnd.jupyter.widget-view+json": {
       "model_id": "d0836b8b5ffd448c8684cd5538a78342",
       "version_major": 2,
       "version_minor": 0
      },
      "text/plain": [
       "Batches:   0%|          | 0/1 [00:00<?, ?it/s]"
      ]
     },
     "metadata": {},
     "output_type": "display_data"
    },
    {
     "data": {
      "application/vnd.jupyter.widget-view+json": {
       "model_id": "2ac8a7923f9c4eb3b9fa154b0601c7f7",
       "version_major": 2,
       "version_minor": 0
      },
      "text/plain": [
       "Batches:   0%|          | 0/1 [00:00<?, ?it/s]"
      ]
     },
     "metadata": {},
     "output_type": "display_data"
    },
    {
     "data": {
      "application/vnd.jupyter.widget-view+json": {
       "model_id": "ce1265d35fcf4c078c7b1597950cdfe2",
       "version_major": 2,
       "version_minor": 0
      },
      "text/plain": [
       "Batches:   0%|          | 0/1 [00:00<?, ?it/s]"
      ]
     },
     "metadata": {},
     "output_type": "display_data"
    },
    {
     "data": {
      "application/vnd.jupyter.widget-view+json": {
       "model_id": "2275d588b344404588cd751a21d4ad0b",
       "version_major": 2,
       "version_minor": 0
      },
      "text/plain": [
       "Batches:   0%|          | 0/1 [00:00<?, ?it/s]"
      ]
     },
     "metadata": {},
     "output_type": "display_data"
    },
    {
     "data": {
      "application/vnd.jupyter.widget-view+json": {
       "model_id": "146ac1595abf49368d5ca36ce0271e44",
       "version_major": 2,
       "version_minor": 0
      },
      "text/plain": [
       "Batches:   0%|          | 0/1 [00:00<?, ?it/s]"
      ]
     },
     "metadata": {},
     "output_type": "display_data"
    },
    {
     "data": {
      "application/vnd.jupyter.widget-view+json": {
       "model_id": "b064e2d906ba4af48cd8e5414148971d",
       "version_major": 2,
       "version_minor": 0
      },
      "text/plain": [
       "Batches:   0%|          | 0/1 [00:00<?, ?it/s]"
      ]
     },
     "metadata": {},
     "output_type": "display_data"
    },
    {
     "data": {
      "application/vnd.jupyter.widget-view+json": {
       "model_id": "ee18da9c218647e8a3a60a0f444c61f8",
       "version_major": 2,
       "version_minor": 0
      },
      "text/plain": [
       "Batches:   0%|          | 0/1 [00:00<?, ?it/s]"
      ]
     },
     "metadata": {},
     "output_type": "display_data"
    },
    {
     "data": {
      "application/vnd.jupyter.widget-view+json": {
       "model_id": "c9dfb3e9290345e7981c6e36f2673112",
       "version_major": 2,
       "version_minor": 0
      },
      "text/plain": [
       "Batches:   0%|          | 0/1 [00:00<?, ?it/s]"
      ]
     },
     "metadata": {},
     "output_type": "display_data"
    },
    {
     "data": {
      "application/vnd.jupyter.widget-view+json": {
       "model_id": "0824a39d2df6429d8b456c6e32fba550",
       "version_major": 2,
       "version_minor": 0
      },
      "text/plain": [
       "Batches:   0%|          | 0/1 [00:00<?, ?it/s]"
      ]
     },
     "metadata": {},
     "output_type": "display_data"
    },
    {
     "data": {
      "application/vnd.jupyter.widget-view+json": {
       "model_id": "080b9ec2c7cb47ae8379293da2f272c9",
       "version_major": 2,
       "version_minor": 0
      },
      "text/plain": [
       "Batches:   0%|          | 0/1 [00:00<?, ?it/s]"
      ]
     },
     "metadata": {},
     "output_type": "display_data"
    },
    {
     "data": {
      "application/vnd.jupyter.widget-view+json": {
       "model_id": "3090544bdf944a9c997fbeb2ac5968cc",
       "version_major": 2,
       "version_minor": 0
      },
      "text/plain": [
       "Batches:   0%|          | 0/1 [00:00<?, ?it/s]"
      ]
     },
     "metadata": {},
     "output_type": "display_data"
    },
    {
     "data": {
      "application/vnd.jupyter.widget-view+json": {
       "model_id": "9330238340d7421cba3b786355d3daaf",
       "version_major": 2,
       "version_minor": 0
      },
      "text/plain": [
       "Batches:   0%|          | 0/1 [00:00<?, ?it/s]"
      ]
     },
     "metadata": {},
     "output_type": "display_data"
    },
    {
     "data": {
      "application/vnd.jupyter.widget-view+json": {
       "model_id": "28f2e92437b542b7830a4ea49ee824e1",
       "version_major": 2,
       "version_minor": 0
      },
      "text/plain": [
       "Batches:   0%|          | 0/1 [00:00<?, ?it/s]"
      ]
     },
     "metadata": {},
     "output_type": "display_data"
    },
    {
     "data": {
      "application/vnd.jupyter.widget-view+json": {
       "model_id": "249ce5be08014e24b7449f7e87c534a7",
       "version_major": 2,
       "version_minor": 0
      },
      "text/plain": [
       "Batches:   0%|          | 0/1 [00:00<?, ?it/s]"
      ]
     },
     "metadata": {},
     "output_type": "display_data"
    },
    {
     "data": {
      "application/vnd.jupyter.widget-view+json": {
       "model_id": "a1fc1fc95dcd4f199d202c63a20285be",
       "version_major": 2,
       "version_minor": 0
      },
      "text/plain": [
       "Batches:   0%|          | 0/1 [00:00<?, ?it/s]"
      ]
     },
     "metadata": {},
     "output_type": "display_data"
    },
    {
     "data": {
      "application/vnd.jupyter.widget-view+json": {
       "model_id": "5dd32642762b475b84829bc8a2aaabdc",
       "version_major": 2,
       "version_minor": 0
      },
      "text/plain": [
       "Batches:   0%|          | 0/1 [00:00<?, ?it/s]"
      ]
     },
     "metadata": {},
     "output_type": "display_data"
    },
    {
     "data": {
      "application/vnd.jupyter.widget-view+json": {
       "model_id": "e77b320d4a5043c5822fe458b0b1cf4b",
       "version_major": 2,
       "version_minor": 0
      },
      "text/plain": [
       "Batches:   0%|          | 0/1 [00:00<?, ?it/s]"
      ]
     },
     "metadata": {},
     "output_type": "display_data"
    },
    {
     "data": {
      "application/vnd.jupyter.widget-view+json": {
       "model_id": "c671a154e7a9469d915c948d3c0f8980",
       "version_major": 2,
       "version_minor": 0
      },
      "text/plain": [
       "Batches:   0%|          | 0/1 [00:00<?, ?it/s]"
      ]
     },
     "metadata": {},
     "output_type": "display_data"
    },
    {
     "data": {
      "application/vnd.jupyter.widget-view+json": {
       "model_id": "7a57c39ba76b4c7ca1d92185ac7446a3",
       "version_major": 2,
       "version_minor": 0
      },
      "text/plain": [
       "Batches:   0%|          | 0/1 [00:00<?, ?it/s]"
      ]
     },
     "metadata": {},
     "output_type": "display_data"
    },
    {
     "data": {
      "application/vnd.jupyter.widget-view+json": {
       "model_id": "c031081138ae4f95ba0287151ee258fc",
       "version_major": 2,
       "version_minor": 0
      },
      "text/plain": [
       "Batches:   0%|          | 0/1 [00:00<?, ?it/s]"
      ]
     },
     "metadata": {},
     "output_type": "display_data"
    },
    {
     "data": {
      "application/vnd.jupyter.widget-view+json": {
       "model_id": "735bedc7399844b99e64430c514d95a7",
       "version_major": 2,
       "version_minor": 0
      },
      "text/plain": [
       "Batches:   0%|          | 0/1 [00:00<?, ?it/s]"
      ]
     },
     "metadata": {},
     "output_type": "display_data"
    },
    {
     "data": {
      "application/vnd.jupyter.widget-view+json": {
       "model_id": "88896585890942e092abc8ded74bf524",
       "version_major": 2,
       "version_minor": 0
      },
      "text/plain": [
       "Batches:   0%|          | 0/1 [00:00<?, ?it/s]"
      ]
     },
     "metadata": {},
     "output_type": "display_data"
    },
    {
     "data": {
      "application/vnd.jupyter.widget-view+json": {
       "model_id": "0cc37b71ceb94274b4d1bcf1fb45ba9a",
       "version_major": 2,
       "version_minor": 0
      },
      "text/plain": [
       "Batches:   0%|          | 0/1 [00:00<?, ?it/s]"
      ]
     },
     "metadata": {},
     "output_type": "display_data"
    },
    {
     "data": {
      "application/vnd.jupyter.widget-view+json": {
       "model_id": "fc4ff5483be847adae190576e46de49a",
       "version_major": 2,
       "version_minor": 0
      },
      "text/plain": [
       "Batches:   0%|          | 0/1 [00:00<?, ?it/s]"
      ]
     },
     "metadata": {},
     "output_type": "display_data"
    },
    {
     "data": {
      "application/vnd.jupyter.widget-view+json": {
       "model_id": "9b9e36192a554a8992a35918f10d8259",
       "version_major": 2,
       "version_minor": 0
      },
      "text/plain": [
       "Batches:   0%|          | 0/1 [00:00<?, ?it/s]"
      ]
     },
     "metadata": {},
     "output_type": "display_data"
    },
    {
     "data": {
      "application/vnd.jupyter.widget-view+json": {
       "model_id": "6d5255038b4848088960575321f8545e",
       "version_major": 2,
       "version_minor": 0
      },
      "text/plain": [
       "Batches:   0%|          | 0/1 [00:00<?, ?it/s]"
      ]
     },
     "metadata": {},
     "output_type": "display_data"
    },
    {
     "data": {
      "application/vnd.jupyter.widget-view+json": {
       "model_id": "510019ec154f45978142079d8e8e6fe0",
       "version_major": 2,
       "version_minor": 0
      },
      "text/plain": [
       "Batches:   0%|          | 0/1 [00:00<?, ?it/s]"
      ]
     },
     "metadata": {},
     "output_type": "display_data"
    },
    {
     "data": {
      "application/vnd.jupyter.widget-view+json": {
       "model_id": "7b6012bd47c24a55a9ceb3c1ba5d569f",
       "version_major": 2,
       "version_minor": 0
      },
      "text/plain": [
       "Batches:   0%|          | 0/1 [00:00<?, ?it/s]"
      ]
     },
     "metadata": {},
     "output_type": "display_data"
    },
    {
     "data": {
      "application/vnd.jupyter.widget-view+json": {
       "model_id": "b92794679705428cb9bd8245ced2109f",
       "version_major": 2,
       "version_minor": 0
      },
      "text/plain": [
       "Batches:   0%|          | 0/1 [00:00<?, ?it/s]"
      ]
     },
     "metadata": {},
     "output_type": "display_data"
    },
    {
     "data": {
      "application/vnd.jupyter.widget-view+json": {
       "model_id": "f14f56b530b748f493215411e16b66e7",
       "version_major": 2,
       "version_minor": 0
      },
      "text/plain": [
       "Batches:   0%|          | 0/1 [00:00<?, ?it/s]"
      ]
     },
     "metadata": {},
     "output_type": "display_data"
    },
    {
     "data": {
      "application/vnd.jupyter.widget-view+json": {
       "model_id": "939b93021c724d8bbc52aad09ccdcaf2",
       "version_major": 2,
       "version_minor": 0
      },
      "text/plain": [
       "Batches:   0%|          | 0/1 [00:00<?, ?it/s]"
      ]
     },
     "metadata": {},
     "output_type": "display_data"
    },
    {
     "data": {
      "application/vnd.jupyter.widget-view+json": {
       "model_id": "1ba99c6ac4984b2dada32a578428fe29",
       "version_major": 2,
       "version_minor": 0
      },
      "text/plain": [
       "Batches:   0%|          | 0/1 [00:00<?, ?it/s]"
      ]
     },
     "metadata": {},
     "output_type": "display_data"
    },
    {
     "data": {
      "application/vnd.jupyter.widget-view+json": {
       "model_id": "260a20c1bf5f4039a46c23616528c080",
       "version_major": 2,
       "version_minor": 0
      },
      "text/plain": [
       "Batches:   0%|          | 0/1 [00:00<?, ?it/s]"
      ]
     },
     "metadata": {},
     "output_type": "display_data"
    },
    {
     "data": {
      "application/vnd.jupyter.widget-view+json": {
       "model_id": "4682587682d04f09be69e7a5e8c5a82e",
       "version_major": 2,
       "version_minor": 0
      },
      "text/plain": [
       "Batches:   0%|          | 0/1 [00:00<?, ?it/s]"
      ]
     },
     "metadata": {},
     "output_type": "display_data"
    },
    {
     "data": {
      "application/vnd.jupyter.widget-view+json": {
       "model_id": "fa90c139e8b84cd390287fa7a57cd20e",
       "version_major": 2,
       "version_minor": 0
      },
      "text/plain": [
       "Batches:   0%|          | 0/1 [00:00<?, ?it/s]"
      ]
     },
     "metadata": {},
     "output_type": "display_data"
    },
    {
     "data": {
      "application/vnd.jupyter.widget-view+json": {
       "model_id": "5ab94d822c404ddea6da200ac5825ed4",
       "version_major": 2,
       "version_minor": 0
      },
      "text/plain": [
       "Batches:   0%|          | 0/1 [00:00<?, ?it/s]"
      ]
     },
     "metadata": {},
     "output_type": "display_data"
    },
    {
     "data": {
      "application/vnd.jupyter.widget-view+json": {
       "model_id": "2575e39e07e24a28b9247477c6c24963",
       "version_major": 2,
       "version_minor": 0
      },
      "text/plain": [
       "Batches:   0%|          | 0/1 [00:00<?, ?it/s]"
      ]
     },
     "metadata": {},
     "output_type": "display_data"
    },
    {
     "data": {
      "application/vnd.jupyter.widget-view+json": {
       "model_id": "e77de8614a9849d68211325a10f90a80",
       "version_major": 2,
       "version_minor": 0
      },
      "text/plain": [
       "Batches:   0%|          | 0/1 [00:00<?, ?it/s]"
      ]
     },
     "metadata": {},
     "output_type": "display_data"
    },
    {
     "data": {
      "application/vnd.jupyter.widget-view+json": {
       "model_id": "0ae404e56102434f9e2663dd1c91deb7",
       "version_major": 2,
       "version_minor": 0
      },
      "text/plain": [
       "Batches:   0%|          | 0/1 [00:00<?, ?it/s]"
      ]
     },
     "metadata": {},
     "output_type": "display_data"
    },
    {
     "data": {
      "application/vnd.jupyter.widget-view+json": {
       "model_id": "1264f3e3ad8742f19de308d515479934",
       "version_major": 2,
       "version_minor": 0
      },
      "text/plain": [
       "Batches:   0%|          | 0/1 [00:00<?, ?it/s]"
      ]
     },
     "metadata": {},
     "output_type": "display_data"
    },
    {
     "data": {
      "application/vnd.jupyter.widget-view+json": {
       "model_id": "aeaa123c8e96405da392d39c9d780439",
       "version_major": 2,
       "version_minor": 0
      },
      "text/plain": [
       "Batches:   0%|          | 0/1 [00:00<?, ?it/s]"
      ]
     },
     "metadata": {},
     "output_type": "display_data"
    },
    {
     "data": {
      "application/vnd.jupyter.widget-view+json": {
       "model_id": "58beff02e6f447378521bf00e491f04f",
       "version_major": 2,
       "version_minor": 0
      },
      "text/plain": [
       "Batches:   0%|          | 0/1 [00:00<?, ?it/s]"
      ]
     },
     "metadata": {},
     "output_type": "display_data"
    },
    {
     "data": {
      "application/vnd.jupyter.widget-view+json": {
       "model_id": "3627dd828ccc4332a7c652bc99e41f51",
       "version_major": 2,
       "version_minor": 0
      },
      "text/plain": [
       "Batches:   0%|          | 0/1 [00:00<?, ?it/s]"
      ]
     },
     "metadata": {},
     "output_type": "display_data"
    },
    {
     "data": {
      "application/vnd.jupyter.widget-view+json": {
       "model_id": "8d794210b03b44d7a7b2079260e13299",
       "version_major": 2,
       "version_minor": 0
      },
      "text/plain": [
       "Batches:   0%|          | 0/1 [00:00<?, ?it/s]"
      ]
     },
     "metadata": {},
     "output_type": "display_data"
    },
    {
     "data": {
      "application/vnd.jupyter.widget-view+json": {
       "model_id": "266854db2532485ea8d9308a0367ecc5",
       "version_major": 2,
       "version_minor": 0
      },
      "text/plain": [
       "Batches:   0%|          | 0/1 [00:00<?, ?it/s]"
      ]
     },
     "metadata": {},
     "output_type": "display_data"
    },
    {
     "data": {
      "application/vnd.jupyter.widget-view+json": {
       "model_id": "2ae09e9f576b472e99e22cd710f99117",
       "version_major": 2,
       "version_minor": 0
      },
      "text/plain": [
       "Batches:   0%|          | 0/1 [00:00<?, ?it/s]"
      ]
     },
     "metadata": {},
     "output_type": "display_data"
    },
    {
     "data": {
      "application/vnd.jupyter.widget-view+json": {
       "model_id": "bc0bc75fe3744f25b6ca1b7c5d1adb96",
       "version_major": 2,
       "version_minor": 0
      },
      "text/plain": [
       "Batches:   0%|          | 0/1 [00:00<?, ?it/s]"
      ]
     },
     "metadata": {},
     "output_type": "display_data"
    },
    {
     "data": {
      "application/vnd.jupyter.widget-view+json": {
       "model_id": "5f3219674a1b4a72b13ca4a02cfb42f6",
       "version_major": 2,
       "version_minor": 0
      },
      "text/plain": [
       "Batches:   0%|          | 0/1 [00:00<?, ?it/s]"
      ]
     },
     "metadata": {},
     "output_type": "display_data"
    },
    {
     "data": {
      "application/vnd.jupyter.widget-view+json": {
       "model_id": "ef63c94c0a3c46fa9263e7830100582b",
       "version_major": 2,
       "version_minor": 0
      },
      "text/plain": [
       "Batches:   0%|          | 0/1 [00:00<?, ?it/s]"
      ]
     },
     "metadata": {},
     "output_type": "display_data"
    },
    {
     "data": {
      "application/vnd.jupyter.widget-view+json": {
       "model_id": "a33af15ad1cd41b5bb973de74c8e989c",
       "version_major": 2,
       "version_minor": 0
      },
      "text/plain": [
       "Batches:   0%|          | 0/1 [00:00<?, ?it/s]"
      ]
     },
     "metadata": {},
     "output_type": "display_data"
    },
    {
     "data": {
      "application/vnd.jupyter.widget-view+json": {
       "model_id": "02eed31e25aa417693b85bcc5fd0cb2a",
       "version_major": 2,
       "version_minor": 0
      },
      "text/plain": [
       "Batches:   0%|          | 0/1 [00:00<?, ?it/s]"
      ]
     },
     "metadata": {},
     "output_type": "display_data"
    },
    {
     "data": {
      "application/vnd.jupyter.widget-view+json": {
       "model_id": "547d78ba6e92497face18da200e300ba",
       "version_major": 2,
       "version_minor": 0
      },
      "text/plain": [
       "Batches:   0%|          | 0/1 [00:00<?, ?it/s]"
      ]
     },
     "metadata": {},
     "output_type": "display_data"
    },
    {
     "data": {
      "application/vnd.jupyter.widget-view+json": {
       "model_id": "72d78e39a88c475b8ab2c419eff298e6",
       "version_major": 2,
       "version_minor": 0
      },
      "text/plain": [
       "Batches:   0%|          | 0/1 [00:00<?, ?it/s]"
      ]
     },
     "metadata": {},
     "output_type": "display_data"
    },
    {
     "data": {
      "application/vnd.jupyter.widget-view+json": {
       "model_id": "849459cab0df4f12a8bc38a44da044de",
       "version_major": 2,
       "version_minor": 0
      },
      "text/plain": [
       "Batches:   0%|          | 0/1 [00:00<?, ?it/s]"
      ]
     },
     "metadata": {},
     "output_type": "display_data"
    },
    {
     "data": {
      "application/vnd.jupyter.widget-view+json": {
       "model_id": "6c98e458bba94650957d2e8ceed4f532",
       "version_major": 2,
       "version_minor": 0
      },
      "text/plain": [
       "Batches:   0%|          | 0/1 [00:00<?, ?it/s]"
      ]
     },
     "metadata": {},
     "output_type": "display_data"
    },
    {
     "data": {
      "application/vnd.jupyter.widget-view+json": {
       "model_id": "12d022c043674d5aa7b879807a94c347",
       "version_major": 2,
       "version_minor": 0
      },
      "text/plain": [
       "Batches:   0%|          | 0/1 [00:00<?, ?it/s]"
      ]
     },
     "metadata": {},
     "output_type": "display_data"
    },
    {
     "data": {
      "application/vnd.jupyter.widget-view+json": {
       "model_id": "49ac0e0204984be298517e414d83fc92",
       "version_major": 2,
       "version_minor": 0
      },
      "text/plain": [
       "Batches:   0%|          | 0/1 [00:00<?, ?it/s]"
      ]
     },
     "metadata": {},
     "output_type": "display_data"
    },
    {
     "data": {
      "application/vnd.jupyter.widget-view+json": {
       "model_id": "b16f25b7a4324719b98b25792c40f096",
       "version_major": 2,
       "version_minor": 0
      },
      "text/plain": [
       "Batches:   0%|          | 0/1 [00:00<?, ?it/s]"
      ]
     },
     "metadata": {},
     "output_type": "display_data"
    },
    {
     "data": {
      "application/vnd.jupyter.widget-view+json": {
       "model_id": "163188efa72a40e0b7dccc2a0a54cecc",
       "version_major": 2,
       "version_minor": 0
      },
      "text/plain": [
       "Batches:   0%|          | 0/1 [00:00<?, ?it/s]"
      ]
     },
     "metadata": {},
     "output_type": "display_data"
    },
    {
     "data": {
      "application/vnd.jupyter.widget-view+json": {
       "model_id": "cd603a3ce43e407aa5201bedaa7dd34a",
       "version_major": 2,
       "version_minor": 0
      },
      "text/plain": [
       "Batches:   0%|          | 0/1 [00:00<?, ?it/s]"
      ]
     },
     "metadata": {},
     "output_type": "display_data"
    },
    {
     "data": {
      "application/vnd.jupyter.widget-view+json": {
       "model_id": "cfa92321415c4f388fd05184350e60fa",
       "version_major": 2,
       "version_minor": 0
      },
      "text/plain": [
       "Batches:   0%|          | 0/1 [00:00<?, ?it/s]"
      ]
     },
     "metadata": {},
     "output_type": "display_data"
    },
    {
     "data": {
      "application/vnd.jupyter.widget-view+json": {
       "model_id": "ef08e12022e54f94a0d46164b1a6d0aa",
       "version_major": 2,
       "version_minor": 0
      },
      "text/plain": [
       "Batches:   0%|          | 0/1 [00:00<?, ?it/s]"
      ]
     },
     "metadata": {},
     "output_type": "display_data"
    },
    {
     "data": {
      "application/vnd.jupyter.widget-view+json": {
       "model_id": "501ad5c677f942bfbfb9688844b50f1a",
       "version_major": 2,
       "version_minor": 0
      },
      "text/plain": [
       "Batches:   0%|          | 0/1 [00:00<?, ?it/s]"
      ]
     },
     "metadata": {},
     "output_type": "display_data"
    },
    {
     "data": {
      "application/vnd.jupyter.widget-view+json": {
       "model_id": "e33eb2f3266242eba238a4880083216a",
       "version_major": 2,
       "version_minor": 0
      },
      "text/plain": [
       "Batches:   0%|          | 0/1 [00:00<?, ?it/s]"
      ]
     },
     "metadata": {},
     "output_type": "display_data"
    },
    {
     "data": {
      "application/vnd.jupyter.widget-view+json": {
       "model_id": "e3bc4eea426240b989e5ef911b19eee9",
       "version_major": 2,
       "version_minor": 0
      },
      "text/plain": [
       "Batches:   0%|          | 0/1 [00:00<?, ?it/s]"
      ]
     },
     "metadata": {},
     "output_type": "display_data"
    },
    {
     "data": {
      "application/vnd.jupyter.widget-view+json": {
       "model_id": "f0bdfe6f444a4ae3bb374d51c99e4367",
       "version_major": 2,
       "version_minor": 0
      },
      "text/plain": [
       "Batches:   0%|          | 0/1 [00:00<?, ?it/s]"
      ]
     },
     "metadata": {},
     "output_type": "display_data"
    },
    {
     "data": {
      "application/vnd.jupyter.widget-view+json": {
       "model_id": "ff3427e165324f828478a15b70c40cf2",
       "version_major": 2,
       "version_minor": 0
      },
      "text/plain": [
       "Batches:   0%|          | 0/1 [00:00<?, ?it/s]"
      ]
     },
     "metadata": {},
     "output_type": "display_data"
    },
    {
     "data": {
      "application/vnd.jupyter.widget-view+json": {
       "model_id": "951da1a360514e6093935b318ba988e7",
       "version_major": 2,
       "version_minor": 0
      },
      "text/plain": [
       "Batches:   0%|          | 0/1 [00:00<?, ?it/s]"
      ]
     },
     "metadata": {},
     "output_type": "display_data"
    },
    {
     "data": {
      "application/vnd.jupyter.widget-view+json": {
       "model_id": "49519a94f71649309b3f4c7bf1620014",
       "version_major": 2,
       "version_minor": 0
      },
      "text/plain": [
       "Batches:   0%|          | 0/1 [00:00<?, ?it/s]"
      ]
     },
     "metadata": {},
     "output_type": "display_data"
    },
    {
     "data": {
      "application/vnd.jupyter.widget-view+json": {
       "model_id": "f55b648ecaca4c9480cc98518240d9f4",
       "version_major": 2,
       "version_minor": 0
      },
      "text/plain": [
       "Batches:   0%|          | 0/1 [00:00<?, ?it/s]"
      ]
     },
     "metadata": {},
     "output_type": "display_data"
    },
    {
     "data": {
      "application/vnd.jupyter.widget-view+json": {
       "model_id": "3e6b5be00662477cbf519a6e8ba21799",
       "version_major": 2,
       "version_minor": 0
      },
      "text/plain": [
       "Batches:   0%|          | 0/1 [00:00<?, ?it/s]"
      ]
     },
     "metadata": {},
     "output_type": "display_data"
    },
    {
     "data": {
      "application/vnd.jupyter.widget-view+json": {
       "model_id": "734a43012c034317bb14016478a513f5",
       "version_major": 2,
       "version_minor": 0
      },
      "text/plain": [
       "Batches:   0%|          | 0/1 [00:00<?, ?it/s]"
      ]
     },
     "metadata": {},
     "output_type": "display_data"
    },
    {
     "data": {
      "application/vnd.jupyter.widget-view+json": {
       "model_id": "fd12860ff81f4dee9f27676850e51eee",
       "version_major": 2,
       "version_minor": 0
      },
      "text/plain": [
       "Batches:   0%|          | 0/1 [00:00<?, ?it/s]"
      ]
     },
     "metadata": {},
     "output_type": "display_data"
    },
    {
     "data": {
      "application/vnd.jupyter.widget-view+json": {
       "model_id": "ee24c42d8f114a7bb701c4c4b76d68c1",
       "version_major": 2,
       "version_minor": 0
      },
      "text/plain": [
       "Batches:   0%|          | 0/1 [00:00<?, ?it/s]"
      ]
     },
     "metadata": {},
     "output_type": "display_data"
    },
    {
     "data": {
      "application/vnd.jupyter.widget-view+json": {
       "model_id": "17bf6dab96da4c32974eb23277cbb0d8",
       "version_major": 2,
       "version_minor": 0
      },
      "text/plain": [
       "Batches:   0%|          | 0/1 [00:00<?, ?it/s]"
      ]
     },
     "metadata": {},
     "output_type": "display_data"
    },
    {
     "data": {
      "application/vnd.jupyter.widget-view+json": {
       "model_id": "1925507860914ec4823497b75be45bae",
       "version_major": 2,
       "version_minor": 0
      },
      "text/plain": [
       "Batches:   0%|          | 0/1 [00:00<?, ?it/s]"
      ]
     },
     "metadata": {},
     "output_type": "display_data"
    },
    {
     "data": {
      "application/vnd.jupyter.widget-view+json": {
       "model_id": "2aafda5692af494a8d80872caae853d9",
       "version_major": 2,
       "version_minor": 0
      },
      "text/plain": [
       "Batches:   0%|          | 0/1 [00:00<?, ?it/s]"
      ]
     },
     "metadata": {},
     "output_type": "display_data"
    },
    {
     "data": {
      "application/vnd.jupyter.widget-view+json": {
       "model_id": "be3bb345eeab425ca4606d6fa850b339",
       "version_major": 2,
       "version_minor": 0
      },
      "text/plain": [
       "Batches:   0%|          | 0/1 [00:00<?, ?it/s]"
      ]
     },
     "metadata": {},
     "output_type": "display_data"
    },
    {
     "data": {
      "application/vnd.jupyter.widget-view+json": {
       "model_id": "c7e7c7a98de74ee2a5390087e8cd564b",
       "version_major": 2,
       "version_minor": 0
      },
      "text/plain": [
       "Batches:   0%|          | 0/1 [00:00<?, ?it/s]"
      ]
     },
     "metadata": {},
     "output_type": "display_data"
    },
    {
     "data": {
      "application/vnd.jupyter.widget-view+json": {
       "model_id": "77a533811f4648a5b7c1a8d6eb352e43",
       "version_major": 2,
       "version_minor": 0
      },
      "text/plain": [
       "Batches:   0%|          | 0/1 [00:00<?, ?it/s]"
      ]
     },
     "metadata": {},
     "output_type": "display_data"
    },
    {
     "data": {
      "application/vnd.jupyter.widget-view+json": {
       "model_id": "5878dfe722c64107a21277d9bce5f156",
       "version_major": 2,
       "version_minor": 0
      },
      "text/plain": [
       "Batches:   0%|          | 0/1 [00:00<?, ?it/s]"
      ]
     },
     "metadata": {},
     "output_type": "display_data"
    },
    {
     "data": {
      "application/vnd.jupyter.widget-view+json": {
       "model_id": "f0285e41e9f6494685ac9c8445dbf60d",
       "version_major": 2,
       "version_minor": 0
      },
      "text/plain": [
       "Batches:   0%|          | 0/1 [00:00<?, ?it/s]"
      ]
     },
     "metadata": {},
     "output_type": "display_data"
    },
    {
     "data": {
      "application/vnd.jupyter.widget-view+json": {
       "model_id": "9483c5c173534b5eba52d6ee1d0c44f7",
       "version_major": 2,
       "version_minor": 0
      },
      "text/plain": [
       "Batches:   0%|          | 0/1 [00:00<?, ?it/s]"
      ]
     },
     "metadata": {},
     "output_type": "display_data"
    },
    {
     "data": {
      "application/vnd.jupyter.widget-view+json": {
       "model_id": "798cb5f3076e40718b05ee32444c2db5",
       "version_major": 2,
       "version_minor": 0
      },
      "text/plain": [
       "Batches:   0%|          | 0/1 [00:00<?, ?it/s]"
      ]
     },
     "metadata": {},
     "output_type": "display_data"
    },
    {
     "data": {
      "application/vnd.jupyter.widget-view+json": {
       "model_id": "f83dd2d04d3f41808acc654e53ab51d3",
       "version_major": 2,
       "version_minor": 0
      },
      "text/plain": [
       "Batches:   0%|          | 0/1 [00:00<?, ?it/s]"
      ]
     },
     "metadata": {},
     "output_type": "display_data"
    },
    {
     "data": {
      "application/vnd.jupyter.widget-view+json": {
       "model_id": "780db81eceee4cb8a65c672cfeb32e55",
       "version_major": 2,
       "version_minor": 0
      },
      "text/plain": [
       "Batches:   0%|          | 0/1 [00:00<?, ?it/s]"
      ]
     },
     "metadata": {},
     "output_type": "display_data"
    },
    {
     "data": {
      "application/vnd.jupyter.widget-view+json": {
       "model_id": "9a465b9def6c466fabfb5ddc6119a33b",
       "version_major": 2,
       "version_minor": 0
      },
      "text/plain": [
       "Batches:   0%|          | 0/1 [00:00<?, ?it/s]"
      ]
     },
     "metadata": {},
     "output_type": "display_data"
    },
    {
     "data": {
      "application/vnd.jupyter.widget-view+json": {
       "model_id": "800634675f5646ed93e7b5dca499fab4",
       "version_major": 2,
       "version_minor": 0
      },
      "text/plain": [
       "Batches:   0%|          | 0/1 [00:00<?, ?it/s]"
      ]
     },
     "metadata": {},
     "output_type": "display_data"
    },
    {
     "data": {
      "application/vnd.jupyter.widget-view+json": {
       "model_id": "5bc3968ce5ad4dddbba632b0131cb7ca",
       "version_major": 2,
       "version_minor": 0
      },
      "text/plain": [
       "Batches:   0%|          | 0/1 [00:00<?, ?it/s]"
      ]
     },
     "metadata": {},
     "output_type": "display_data"
    },
    {
     "data": {
      "application/vnd.jupyter.widget-view+json": {
       "model_id": "b9f4938c0c234b9e8ccf17b8ebfb865e",
       "version_major": 2,
       "version_minor": 0
      },
      "text/plain": [
       "Batches:   0%|          | 0/1 [00:00<?, ?it/s]"
      ]
     },
     "metadata": {},
     "output_type": "display_data"
    },
    {
     "data": {
      "application/vnd.jupyter.widget-view+json": {
       "model_id": "d23163b707f24d99b7f47089c2880776",
       "version_major": 2,
       "version_minor": 0
      },
      "text/plain": [
       "Batches:   0%|          | 0/1 [00:00<?, ?it/s]"
      ]
     },
     "metadata": {},
     "output_type": "display_data"
    },
    {
     "data": {
      "application/vnd.jupyter.widget-view+json": {
       "model_id": "04bf73f46bf945d586287c9ed3b30ef4",
       "version_major": 2,
       "version_minor": 0
      },
      "text/plain": [
       "Batches:   0%|          | 0/1 [00:00<?, ?it/s]"
      ]
     },
     "metadata": {},
     "output_type": "display_data"
    },
    {
     "data": {
      "application/vnd.jupyter.widget-view+json": {
       "model_id": "e53f02520e8a45949428c0183c3259af",
       "version_major": 2,
       "version_minor": 0
      },
      "text/plain": [
       "Batches:   0%|          | 0/1 [00:00<?, ?it/s]"
      ]
     },
     "metadata": {},
     "output_type": "display_data"
    },
    {
     "data": {
      "application/vnd.jupyter.widget-view+json": {
       "model_id": "7f2b0e13a56a45f7b79330ac7d5d44a8",
       "version_major": 2,
       "version_minor": 0
      },
      "text/plain": [
       "Batches:   0%|          | 0/1 [00:00<?, ?it/s]"
      ]
     },
     "metadata": {},
     "output_type": "display_data"
    },
    {
     "data": {
      "application/vnd.jupyter.widget-view+json": {
       "model_id": "0d4fb028b9ba4d78bfd36d6cd2db1ec8",
       "version_major": 2,
       "version_minor": 0
      },
      "text/plain": [
       "Batches:   0%|          | 0/1 [00:00<?, ?it/s]"
      ]
     },
     "metadata": {},
     "output_type": "display_data"
    },
    {
     "data": {
      "application/vnd.jupyter.widget-view+json": {
       "model_id": "558fb10404694f3ba820fa931b499d89",
       "version_major": 2,
       "version_minor": 0
      },
      "text/plain": [
       "Batches:   0%|          | 0/1 [00:00<?, ?it/s]"
      ]
     },
     "metadata": {},
     "output_type": "display_data"
    },
    {
     "data": {
      "application/vnd.jupyter.widget-view+json": {
       "model_id": "5af93f3ecc494104a73cae028e19e3fe",
       "version_major": 2,
       "version_minor": 0
      },
      "text/plain": [
       "Batches:   0%|          | 0/1 [00:00<?, ?it/s]"
      ]
     },
     "metadata": {},
     "output_type": "display_data"
    },
    {
     "data": {
      "application/vnd.jupyter.widget-view+json": {
       "model_id": "da181b0aaeac4cdeaa5c72a6bda3bf69",
       "version_major": 2,
       "version_minor": 0
      },
      "text/plain": [
       "Batches:   0%|          | 0/1 [00:00<?, ?it/s]"
      ]
     },
     "metadata": {},
     "output_type": "display_data"
    },
    {
     "data": {
      "application/vnd.jupyter.widget-view+json": {
       "model_id": "f7c29623d2844f3bad22212afc734c5a",
       "version_major": 2,
       "version_minor": 0
      },
      "text/plain": [
       "Batches:   0%|          | 0/1 [00:00<?, ?it/s]"
      ]
     },
     "metadata": {},
     "output_type": "display_data"
    },
    {
     "data": {
      "application/vnd.jupyter.widget-view+json": {
       "model_id": "bb2a43332c334a90ae46d2a7eacb9698",
       "version_major": 2,
       "version_minor": 0
      },
      "text/plain": [
       "Batches:   0%|          | 0/1 [00:00<?, ?it/s]"
      ]
     },
     "metadata": {},
     "output_type": "display_data"
    },
    {
     "data": {
      "application/vnd.jupyter.widget-view+json": {
       "model_id": "cafb7b3fec964f15aedd0e3f92c990cc",
       "version_major": 2,
       "version_minor": 0
      },
      "text/plain": [
       "Batches:   0%|          | 0/1 [00:00<?, ?it/s]"
      ]
     },
     "metadata": {},
     "output_type": "display_data"
    },
    {
     "data": {
      "application/vnd.jupyter.widget-view+json": {
       "model_id": "fecf67c62d74466cb3432c08fb4d3659",
       "version_major": 2,
       "version_minor": 0
      },
      "text/plain": [
       "Batches:   0%|          | 0/1 [00:00<?, ?it/s]"
      ]
     },
     "metadata": {},
     "output_type": "display_data"
    },
    {
     "data": {
      "application/vnd.jupyter.widget-view+json": {
       "model_id": "d9491c4289844065ab98a2cc27c70a1f",
       "version_major": 2,
       "version_minor": 0
      },
      "text/plain": [
       "Batches:   0%|          | 0/1 [00:00<?, ?it/s]"
      ]
     },
     "metadata": {},
     "output_type": "display_data"
    },
    {
     "data": {
      "application/vnd.jupyter.widget-view+json": {
       "model_id": "9c4ea254631442e1a4a8fdc81c395b3f",
       "version_major": 2,
       "version_minor": 0
      },
      "text/plain": [
       "Batches:   0%|          | 0/1 [00:00<?, ?it/s]"
      ]
     },
     "metadata": {},
     "output_type": "display_data"
    },
    {
     "data": {
      "application/vnd.jupyter.widget-view+json": {
       "model_id": "38a68d4c382e4b3cbdabb375983f56d4",
       "version_major": 2,
       "version_minor": 0
      },
      "text/plain": [
       "Batches:   0%|          | 0/1 [00:00<?, ?it/s]"
      ]
     },
     "metadata": {},
     "output_type": "display_data"
    },
    {
     "data": {
      "application/vnd.jupyter.widget-view+json": {
       "model_id": "134e19a80b524aa3bed21b3e5dc827bc",
       "version_major": 2,
       "version_minor": 0
      },
      "text/plain": [
       "Batches:   0%|          | 0/1 [00:00<?, ?it/s]"
      ]
     },
     "metadata": {},
     "output_type": "display_data"
    },
    {
     "data": {
      "application/vnd.jupyter.widget-view+json": {
       "model_id": "be9d0cdf490c48a395e7e1a42c65cedd",
       "version_major": 2,
       "version_minor": 0
      },
      "text/plain": [
       "Batches:   0%|          | 0/1 [00:00<?, ?it/s]"
      ]
     },
     "metadata": {},
     "output_type": "display_data"
    },
    {
     "data": {
      "application/vnd.jupyter.widget-view+json": {
       "model_id": "410dbb66456b44f5baa2fc1717591c89",
       "version_major": 2,
       "version_minor": 0
      },
      "text/plain": [
       "Batches:   0%|          | 0/1 [00:00<?, ?it/s]"
      ]
     },
     "metadata": {},
     "output_type": "display_data"
    },
    {
     "data": {
      "application/vnd.jupyter.widget-view+json": {
       "model_id": "e550becd90b14b92b57259fbe7d5733b",
       "version_major": 2,
       "version_minor": 0
      },
      "text/plain": [
       "Batches:   0%|          | 0/1 [00:00<?, ?it/s]"
      ]
     },
     "metadata": {},
     "output_type": "display_data"
    },
    {
     "data": {
      "application/vnd.jupyter.widget-view+json": {
       "model_id": "bd4e2fac59bf4985afec03900b6a5bce",
       "version_major": 2,
       "version_minor": 0
      },
      "text/plain": [
       "Batches:   0%|          | 0/1 [00:00<?, ?it/s]"
      ]
     },
     "metadata": {},
     "output_type": "display_data"
    },
    {
     "data": {
      "application/vnd.jupyter.widget-view+json": {
       "model_id": "22cf025061bf4283886c544a1178ec2f",
       "version_major": 2,
       "version_minor": 0
      },
      "text/plain": [
       "Batches:   0%|          | 0/1 [00:00<?, ?it/s]"
      ]
     },
     "metadata": {},
     "output_type": "display_data"
    },
    {
     "data": {
      "application/vnd.jupyter.widget-view+json": {
       "model_id": "d8e1c5d8a85e48459b67c3f890757228",
       "version_major": 2,
       "version_minor": 0
      },
      "text/plain": [
       "Batches:   0%|          | 0/1 [00:00<?, ?it/s]"
      ]
     },
     "metadata": {},
     "output_type": "display_data"
    },
    {
     "data": {
      "application/vnd.jupyter.widget-view+json": {
       "model_id": "7b1529c292a341e2bfef13dcceaec380",
       "version_major": 2,
       "version_minor": 0
      },
      "text/plain": [
       "Batches:   0%|          | 0/1 [00:00<?, ?it/s]"
      ]
     },
     "metadata": {},
     "output_type": "display_data"
    },
    {
     "data": {
      "application/vnd.jupyter.widget-view+json": {
       "model_id": "e3f0becba251406cb8336143b3a920ca",
       "version_major": 2,
       "version_minor": 0
      },
      "text/plain": [
       "Batches:   0%|          | 0/1 [00:00<?, ?it/s]"
      ]
     },
     "metadata": {},
     "output_type": "display_data"
    },
    {
     "data": {
      "application/vnd.jupyter.widget-view+json": {
       "model_id": "8b6ced88d65e4dcfaa3e9e282c6e6d09",
       "version_major": 2,
       "version_minor": 0
      },
      "text/plain": [
       "Batches:   0%|          | 0/1 [00:00<?, ?it/s]"
      ]
     },
     "metadata": {},
     "output_type": "display_data"
    },
    {
     "data": {
      "application/vnd.jupyter.widget-view+json": {
       "model_id": "a07a781dd4f34ef586ca008c2baf4f01",
       "version_major": 2,
       "version_minor": 0
      },
      "text/plain": [
       "Batches:   0%|          | 0/1 [00:00<?, ?it/s]"
      ]
     },
     "metadata": {},
     "output_type": "display_data"
    },
    {
     "data": {
      "application/vnd.jupyter.widget-view+json": {
       "model_id": "ac8d12a4aaed4bffbda1dcd4be564cdb",
       "version_major": 2,
       "version_minor": 0
      },
      "text/plain": [
       "Batches:   0%|          | 0/1 [00:00<?, ?it/s]"
      ]
     },
     "metadata": {},
     "output_type": "display_data"
    },
    {
     "data": {
      "application/vnd.jupyter.widget-view+json": {
       "model_id": "7c8e75e161c84602b91f94857267faf3",
       "version_major": 2,
       "version_minor": 0
      },
      "text/plain": [
       "Batches:   0%|          | 0/1 [00:00<?, ?it/s]"
      ]
     },
     "metadata": {},
     "output_type": "display_data"
    },
    {
     "data": {
      "application/vnd.jupyter.widget-view+json": {
       "model_id": "8ea8d112f6a54029aad43f677ca96883",
       "version_major": 2,
       "version_minor": 0
      },
      "text/plain": [
       "Batches:   0%|          | 0/1 [00:00<?, ?it/s]"
      ]
     },
     "metadata": {},
     "output_type": "display_data"
    },
    {
     "data": {
      "application/vnd.jupyter.widget-view+json": {
       "model_id": "cb582570a2f34800bf96f138f9c6c501",
       "version_major": 2,
       "version_minor": 0
      },
      "text/plain": [
       "Batches:   0%|          | 0/1 [00:00<?, ?it/s]"
      ]
     },
     "metadata": {},
     "output_type": "display_data"
    },
    {
     "data": {
      "application/vnd.jupyter.widget-view+json": {
       "model_id": "97a3ad4d67f9478aace2a70666dc9be7",
       "version_major": 2,
       "version_minor": 0
      },
      "text/plain": [
       "Batches:   0%|          | 0/1 [00:00<?, ?it/s]"
      ]
     },
     "metadata": {},
     "output_type": "display_data"
    },
    {
     "data": {
      "application/vnd.jupyter.widget-view+json": {
       "model_id": "cbdec7c2c2cf465aadfc822e8069863b",
       "version_major": 2,
       "version_minor": 0
      },
      "text/plain": [
       "Batches:   0%|          | 0/1 [00:00<?, ?it/s]"
      ]
     },
     "metadata": {},
     "output_type": "display_data"
    },
    {
     "data": {
      "application/vnd.jupyter.widget-view+json": {
       "model_id": "ecccccf58df641319641652c7fae0518",
       "version_major": 2,
       "version_minor": 0
      },
      "text/plain": [
       "Batches:   0%|          | 0/1 [00:00<?, ?it/s]"
      ]
     },
     "metadata": {},
     "output_type": "display_data"
    },
    {
     "data": {
      "application/vnd.jupyter.widget-view+json": {
       "model_id": "1699b44de4754bd19093fcc4b0b202b7",
       "version_major": 2,
       "version_minor": 0
      },
      "text/plain": [
       "Batches:   0%|          | 0/1 [00:00<?, ?it/s]"
      ]
     },
     "metadata": {},
     "output_type": "display_data"
    },
    {
     "data": {
      "application/vnd.jupyter.widget-view+json": {
       "model_id": "e38d5d6bd924486184ccfd0150ba7ea4",
       "version_major": 2,
       "version_minor": 0
      },
      "text/plain": [
       "Batches:   0%|          | 0/1 [00:00<?, ?it/s]"
      ]
     },
     "metadata": {},
     "output_type": "display_data"
    },
    {
     "data": {
      "application/vnd.jupyter.widget-view+json": {
       "model_id": "0292d2a1136c4804a70952d6ad36a04b",
       "version_major": 2,
       "version_minor": 0
      },
      "text/plain": [
       "Batches:   0%|          | 0/1 [00:00<?, ?it/s]"
      ]
     },
     "metadata": {},
     "output_type": "display_data"
    },
    {
     "data": {
      "application/vnd.jupyter.widget-view+json": {
       "model_id": "d9d66d5a587a462caf7ff78d0889c51c",
       "version_major": 2,
       "version_minor": 0
      },
      "text/plain": [
       "Batches:   0%|          | 0/1 [00:00<?, ?it/s]"
      ]
     },
     "metadata": {},
     "output_type": "display_data"
    },
    {
     "data": {
      "application/vnd.jupyter.widget-view+json": {
       "model_id": "ee6d7d129cce4312a5aaa77fedecec33",
       "version_major": 2,
       "version_minor": 0
      },
      "text/plain": [
       "Batches:   0%|          | 0/1 [00:00<?, ?it/s]"
      ]
     },
     "metadata": {},
     "output_type": "display_data"
    },
    {
     "data": {
      "application/vnd.jupyter.widget-view+json": {
       "model_id": "af048bfd3a934392a70e45c3d524a54e",
       "version_major": 2,
       "version_minor": 0
      },
      "text/plain": [
       "Batches:   0%|          | 0/1 [00:00<?, ?it/s]"
      ]
     },
     "metadata": {},
     "output_type": "display_data"
    },
    {
     "data": {
      "application/vnd.jupyter.widget-view+json": {
       "model_id": "30aeebc6ac33437bbdf5f56d12be9101",
       "version_major": 2,
       "version_minor": 0
      },
      "text/plain": [
       "Batches:   0%|          | 0/1 [00:00<?, ?it/s]"
      ]
     },
     "metadata": {},
     "output_type": "display_data"
    },
    {
     "data": {
      "application/vnd.jupyter.widget-view+json": {
       "model_id": "7d5ace644f514c4997d272d26045462e",
       "version_major": 2,
       "version_minor": 0
      },
      "text/plain": [
       "Batches:   0%|          | 0/1 [00:00<?, ?it/s]"
      ]
     },
     "metadata": {},
     "output_type": "display_data"
    },
    {
     "data": {
      "application/vnd.jupyter.widget-view+json": {
       "model_id": "1a52dd87924647b88d6d7b6948b5fd13",
       "version_major": 2,
       "version_minor": 0
      },
      "text/plain": [
       "Batches:   0%|          | 0/1 [00:00<?, ?it/s]"
      ]
     },
     "metadata": {},
     "output_type": "display_data"
    },
    {
     "data": {
      "application/vnd.jupyter.widget-view+json": {
       "model_id": "3d68f710f58948b580c88015d6a2f236",
       "version_major": 2,
       "version_minor": 0
      },
      "text/plain": [
       "Batches:   0%|          | 0/1 [00:00<?, ?it/s]"
      ]
     },
     "metadata": {},
     "output_type": "display_data"
    },
    {
     "data": {
      "application/vnd.jupyter.widget-view+json": {
       "model_id": "4f74cc1ac9b14e4b816b95d8e19152cf",
       "version_major": 2,
       "version_minor": 0
      },
      "text/plain": [
       "Batches:   0%|          | 0/1 [00:00<?, ?it/s]"
      ]
     },
     "metadata": {},
     "output_type": "display_data"
    },
    {
     "data": {
      "application/vnd.jupyter.widget-view+json": {
       "model_id": "12d078b46b544143b41ec43d6651be8e",
       "version_major": 2,
       "version_minor": 0
      },
      "text/plain": [
       "Batches:   0%|          | 0/1 [00:00<?, ?it/s]"
      ]
     },
     "metadata": {},
     "output_type": "display_data"
    },
    {
     "data": {
      "application/vnd.jupyter.widget-view+json": {
       "model_id": "1677e094fad6424eb6c03232183d2f86",
       "version_major": 2,
       "version_minor": 0
      },
      "text/plain": [
       "Batches:   0%|          | 0/1 [00:00<?, ?it/s]"
      ]
     },
     "metadata": {},
     "output_type": "display_data"
    },
    {
     "data": {
      "application/vnd.jupyter.widget-view+json": {
       "model_id": "68ce48c99eec4bcb8902c95fc4c80546",
       "version_major": 2,
       "version_minor": 0
      },
      "text/plain": [
       "Batches:   0%|          | 0/1 [00:00<?, ?it/s]"
      ]
     },
     "metadata": {},
     "output_type": "display_data"
    },
    {
     "data": {
      "application/vnd.jupyter.widget-view+json": {
       "model_id": "633da92f406d416eb99181f352a4538c",
       "version_major": 2,
       "version_minor": 0
      },
      "text/plain": [
       "Batches:   0%|          | 0/1 [00:00<?, ?it/s]"
      ]
     },
     "metadata": {},
     "output_type": "display_data"
    },
    {
     "data": {
      "application/vnd.jupyter.widget-view+json": {
       "model_id": "bdc715a597cf4e398319fbc9e35c00f3",
       "version_major": 2,
       "version_minor": 0
      },
      "text/plain": [
       "Batches:   0%|          | 0/1 [00:00<?, ?it/s]"
      ]
     },
     "metadata": {},
     "output_type": "display_data"
    },
    {
     "data": {
      "application/vnd.jupyter.widget-view+json": {
       "model_id": "d4c3f29348f049898e81ded9115fb549",
       "version_major": 2,
       "version_minor": 0
      },
      "text/plain": [
       "Batches:   0%|          | 0/1 [00:00<?, ?it/s]"
      ]
     },
     "metadata": {},
     "output_type": "display_data"
    },
    {
     "data": {
      "application/vnd.jupyter.widget-view+json": {
       "model_id": "6e3447300f6f4f8197f78e290ad829a8",
       "version_major": 2,
       "version_minor": 0
      },
      "text/plain": [
       "Batches:   0%|          | 0/1 [00:00<?, ?it/s]"
      ]
     },
     "metadata": {},
     "output_type": "display_data"
    },
    {
     "data": {
      "application/vnd.jupyter.widget-view+json": {
       "model_id": "d37c5c2e9c964991be71c77b1cc4b3f9",
       "version_major": 2,
       "version_minor": 0
      },
      "text/plain": [
       "Batches:   0%|          | 0/1 [00:00<?, ?it/s]"
      ]
     },
     "metadata": {},
     "output_type": "display_data"
    },
    {
     "data": {
      "application/vnd.jupyter.widget-view+json": {
       "model_id": "f9e187c421474cb4830e39d12bce28fb",
       "version_major": 2,
       "version_minor": 0
      },
      "text/plain": [
       "Batches:   0%|          | 0/1 [00:00<?, ?it/s]"
      ]
     },
     "metadata": {},
     "output_type": "display_data"
    },
    {
     "data": {
      "application/vnd.jupyter.widget-view+json": {
       "model_id": "2682cc8a42aa4b61a9b707fbdfc97df1",
       "version_major": 2,
       "version_minor": 0
      },
      "text/plain": [
       "Batches:   0%|          | 0/1 [00:00<?, ?it/s]"
      ]
     },
     "metadata": {},
     "output_type": "display_data"
    },
    {
     "data": {
      "application/vnd.jupyter.widget-view+json": {
       "model_id": "f59ef538cb60477cbac89e52dbc59f14",
       "version_major": 2,
       "version_minor": 0
      },
      "text/plain": [
       "Batches:   0%|          | 0/1 [00:00<?, ?it/s]"
      ]
     },
     "metadata": {},
     "output_type": "display_data"
    },
    {
     "data": {
      "application/vnd.jupyter.widget-view+json": {
       "model_id": "88f89ebf6dc047c1aaf4fcc0d92e2b9f",
       "version_major": 2,
       "version_minor": 0
      },
      "text/plain": [
       "Batches:   0%|          | 0/1 [00:00<?, ?it/s]"
      ]
     },
     "metadata": {},
     "output_type": "display_data"
    },
    {
     "data": {
      "application/vnd.jupyter.widget-view+json": {
       "model_id": "a5254c8512c5445388eced238a68dac2",
       "version_major": 2,
       "version_minor": 0
      },
      "text/plain": [
       "Batches:   0%|          | 0/1 [00:00<?, ?it/s]"
      ]
     },
     "metadata": {},
     "output_type": "display_data"
    },
    {
     "data": {
      "application/vnd.jupyter.widget-view+json": {
       "model_id": "e10ce83be1814bfcb8118ef79f1d5bc6",
       "version_major": 2,
       "version_minor": 0
      },
      "text/plain": [
       "Batches:   0%|          | 0/1 [00:00<?, ?it/s]"
      ]
     },
     "metadata": {},
     "output_type": "display_data"
    },
    {
     "data": {
      "application/vnd.jupyter.widget-view+json": {
       "model_id": "e0f82fe599394578b433cc126e8bc311",
       "version_major": 2,
       "version_minor": 0
      },
      "text/plain": [
       "Batches:   0%|          | 0/1 [00:00<?, ?it/s]"
      ]
     },
     "metadata": {},
     "output_type": "display_data"
    },
    {
     "data": {
      "application/vnd.jupyter.widget-view+json": {
       "model_id": "b2e3150e100e4686aaab4168e57461db",
       "version_major": 2,
       "version_minor": 0
      },
      "text/plain": [
       "Batches:   0%|          | 0/1 [00:00<?, ?it/s]"
      ]
     },
     "metadata": {},
     "output_type": "display_data"
    },
    {
     "data": {
      "application/vnd.jupyter.widget-view+json": {
       "model_id": "d31c00bef67e44958ca24c2b563c1dd9",
       "version_major": 2,
       "version_minor": 0
      },
      "text/plain": [
       "Batches:   0%|          | 0/1 [00:00<?, ?it/s]"
      ]
     },
     "metadata": {},
     "output_type": "display_data"
    },
    {
     "data": {
      "application/vnd.jupyter.widget-view+json": {
       "model_id": "296826df91b24b8fbaae9cc9411689f9",
       "version_major": 2,
       "version_minor": 0
      },
      "text/plain": [
       "Batches:   0%|          | 0/1 [00:00<?, ?it/s]"
      ]
     },
     "metadata": {},
     "output_type": "display_data"
    },
    {
     "data": {
      "application/vnd.jupyter.widget-view+json": {
       "model_id": "a14a4e51a58440ac92ad3c60e355466a",
       "version_major": 2,
       "version_minor": 0
      },
      "text/plain": [
       "Batches:   0%|          | 0/1 [00:00<?, ?it/s]"
      ]
     },
     "metadata": {},
     "output_type": "display_data"
    },
    {
     "data": {
      "application/vnd.jupyter.widget-view+json": {
       "model_id": "768e44239115467bacf81f95ef6bac2a",
       "version_major": 2,
       "version_minor": 0
      },
      "text/plain": [
       "Batches:   0%|          | 0/1 [00:00<?, ?it/s]"
      ]
     },
     "metadata": {},
     "output_type": "display_data"
    },
    {
     "data": {
      "application/vnd.jupyter.widget-view+json": {
       "model_id": "0475e1fba1664993970a9f941fcb5c0b",
       "version_major": 2,
       "version_minor": 0
      },
      "text/plain": [
       "Batches:   0%|          | 0/1 [00:00<?, ?it/s]"
      ]
     },
     "metadata": {},
     "output_type": "display_data"
    },
    {
     "data": {
      "application/vnd.jupyter.widget-view+json": {
       "model_id": "76cd79f6a01440da94cf65b9d1e458b0",
       "version_major": 2,
       "version_minor": 0
      },
      "text/plain": [
       "Batches:   0%|          | 0/1 [00:00<?, ?it/s]"
      ]
     },
     "metadata": {},
     "output_type": "display_data"
    },
    {
     "data": {
      "application/vnd.jupyter.widget-view+json": {
       "model_id": "3306ab1a98084ab39357f642d56b5d95",
       "version_major": 2,
       "version_minor": 0
      },
      "text/plain": [
       "Batches:   0%|          | 0/1 [00:00<?, ?it/s]"
      ]
     },
     "metadata": {},
     "output_type": "display_data"
    },
    {
     "data": {
      "application/vnd.jupyter.widget-view+json": {
       "model_id": "ffbf2209ba304d458e72f43e0d83245d",
       "version_major": 2,
       "version_minor": 0
      },
      "text/plain": [
       "Batches:   0%|          | 0/1 [00:00<?, ?it/s]"
      ]
     },
     "metadata": {},
     "output_type": "display_data"
    },
    {
     "data": {
      "application/vnd.jupyter.widget-view+json": {
       "model_id": "42edd4c0977848de9b0099b9d0737aee",
       "version_major": 2,
       "version_minor": 0
      },
      "text/plain": [
       "Batches:   0%|          | 0/1 [00:00<?, ?it/s]"
      ]
     },
     "metadata": {},
     "output_type": "display_data"
    },
    {
     "data": {
      "application/vnd.jupyter.widget-view+json": {
       "model_id": "17f41e62c5684a738f750d62e350a323",
       "version_major": 2,
       "version_minor": 0
      },
      "text/plain": [
       "Batches:   0%|          | 0/1 [00:00<?, ?it/s]"
      ]
     },
     "metadata": {},
     "output_type": "display_data"
    },
    {
     "data": {
      "application/vnd.jupyter.widget-view+json": {
       "model_id": "7141d60ee37b497b8c85c7770c8e9969",
       "version_major": 2,
       "version_minor": 0
      },
      "text/plain": [
       "Batches:   0%|          | 0/1 [00:00<?, ?it/s]"
      ]
     },
     "metadata": {},
     "output_type": "display_data"
    },
    {
     "data": {
      "application/vnd.jupyter.widget-view+json": {
       "model_id": "be71a9e8dbe14b2391e58a41018535a8",
       "version_major": 2,
       "version_minor": 0
      },
      "text/plain": [
       "Batches:   0%|          | 0/1 [00:00<?, ?it/s]"
      ]
     },
     "metadata": {},
     "output_type": "display_data"
    },
    {
     "data": {
      "application/vnd.jupyter.widget-view+json": {
       "model_id": "e060bca0bcb54d25a8daeb7caa95f8e4",
       "version_major": 2,
       "version_minor": 0
      },
      "text/plain": [
       "Batches:   0%|          | 0/1 [00:00<?, ?it/s]"
      ]
     },
     "metadata": {},
     "output_type": "display_data"
    },
    {
     "data": {
      "application/vnd.jupyter.widget-view+json": {
       "model_id": "726c0552a8ec4bab9fff2de84cc7995a",
       "version_major": 2,
       "version_minor": 0
      },
      "text/plain": [
       "Batches:   0%|          | 0/1 [00:00<?, ?it/s]"
      ]
     },
     "metadata": {},
     "output_type": "display_data"
    },
    {
     "data": {
      "application/vnd.jupyter.widget-view+json": {
       "model_id": "51761a7471c647a49e9a534df76bd296",
       "version_major": 2,
       "version_minor": 0
      },
      "text/plain": [
       "Batches:   0%|          | 0/1 [00:00<?, ?it/s]"
      ]
     },
     "metadata": {},
     "output_type": "display_data"
    },
    {
     "data": {
      "application/vnd.jupyter.widget-view+json": {
       "model_id": "f8d8ff76ec4144cfaae2762a19f90d15",
       "version_major": 2,
       "version_minor": 0
      },
      "text/plain": [
       "Batches:   0%|          | 0/1 [00:00<?, ?it/s]"
      ]
     },
     "metadata": {},
     "output_type": "display_data"
    },
    {
     "data": {
      "application/vnd.jupyter.widget-view+json": {
       "model_id": "97335a935c374c7dbabc47c60fae251e",
       "version_major": 2,
       "version_minor": 0
      },
      "text/plain": [
       "Batches:   0%|          | 0/1 [00:00<?, ?it/s]"
      ]
     },
     "metadata": {},
     "output_type": "display_data"
    },
    {
     "data": {
      "application/vnd.jupyter.widget-view+json": {
       "model_id": "b2296919afda4e67a5b4a6cb7eb61e6b",
       "version_major": 2,
       "version_minor": 0
      },
      "text/plain": [
       "Batches:   0%|          | 0/1 [00:00<?, ?it/s]"
      ]
     },
     "metadata": {},
     "output_type": "display_data"
    },
    {
     "data": {
      "application/vnd.jupyter.widget-view+json": {
       "model_id": "17aaf007ad8442d4be84700bf389ef32",
       "version_major": 2,
       "version_minor": 0
      },
      "text/plain": [
       "Batches:   0%|          | 0/1 [00:00<?, ?it/s]"
      ]
     },
     "metadata": {},
     "output_type": "display_data"
    },
    {
     "data": {
      "application/vnd.jupyter.widget-view+json": {
       "model_id": "59a5c88c15c34b57a9183721877d7ad4",
       "version_major": 2,
       "version_minor": 0
      },
      "text/plain": [
       "Batches:   0%|          | 0/1 [00:00<?, ?it/s]"
      ]
     },
     "metadata": {},
     "output_type": "display_data"
    },
    {
     "data": {
      "application/vnd.jupyter.widget-view+json": {
       "model_id": "2c844616c2ed4de3b2dc2ede182e1417",
       "version_major": 2,
       "version_minor": 0
      },
      "text/plain": [
       "Batches:   0%|          | 0/1 [00:00<?, ?it/s]"
      ]
     },
     "metadata": {},
     "output_type": "display_data"
    },
    {
     "data": {
      "application/vnd.jupyter.widget-view+json": {
       "model_id": "3eea9baa48db4fbea800195f0be19520",
       "version_major": 2,
       "version_minor": 0
      },
      "text/plain": [
       "Batches:   0%|          | 0/1 [00:00<?, ?it/s]"
      ]
     },
     "metadata": {},
     "output_type": "display_data"
    },
    {
     "data": {
      "application/vnd.jupyter.widget-view+json": {
       "model_id": "f2a1a4a8101a411baa6fc24713651f99",
       "version_major": 2,
       "version_minor": 0
      },
      "text/plain": [
       "Batches:   0%|          | 0/1 [00:00<?, ?it/s]"
      ]
     },
     "metadata": {},
     "output_type": "display_data"
    },
    {
     "data": {
      "application/vnd.jupyter.widget-view+json": {
       "model_id": "da94b7703d194d35b74d0ebf4cbe10e0",
       "version_major": 2,
       "version_minor": 0
      },
      "text/plain": [
       "Batches:   0%|          | 0/1 [00:00<?, ?it/s]"
      ]
     },
     "metadata": {},
     "output_type": "display_data"
    },
    {
     "data": {
      "application/vnd.jupyter.widget-view+json": {
       "model_id": "4ffe11cfb63a4699812e52c41ffe87a2",
       "version_major": 2,
       "version_minor": 0
      },
      "text/plain": [
       "Batches:   0%|          | 0/1 [00:00<?, ?it/s]"
      ]
     },
     "metadata": {},
     "output_type": "display_data"
    },
    {
     "data": {
      "application/vnd.jupyter.widget-view+json": {
       "model_id": "4da49d69a389437f96a9d7ade012e1dc",
       "version_major": 2,
       "version_minor": 0
      },
      "text/plain": [
       "Batches:   0%|          | 0/1 [00:00<?, ?it/s]"
      ]
     },
     "metadata": {},
     "output_type": "display_data"
    },
    {
     "data": {
      "application/vnd.jupyter.widget-view+json": {
       "model_id": "4a7b8735be7145ab99d9882e7d681590",
       "version_major": 2,
       "version_minor": 0
      },
      "text/plain": [
       "Batches:   0%|          | 0/1 [00:00<?, ?it/s]"
      ]
     },
     "metadata": {},
     "output_type": "display_data"
    },
    {
     "data": {
      "application/vnd.jupyter.widget-view+json": {
       "model_id": "e5d0644845294ae6a36780a5c05429bf",
       "version_major": 2,
       "version_minor": 0
      },
      "text/plain": [
       "Batches:   0%|          | 0/1 [00:00<?, ?it/s]"
      ]
     },
     "metadata": {},
     "output_type": "display_data"
    },
    {
     "data": {
      "application/vnd.jupyter.widget-view+json": {
       "model_id": "56888499048649bf862987256b54aa0d",
       "version_major": 2,
       "version_minor": 0
      },
      "text/plain": [
       "Batches:   0%|          | 0/1 [00:00<?, ?it/s]"
      ]
     },
     "metadata": {},
     "output_type": "display_data"
    },
    {
     "data": {
      "application/vnd.jupyter.widget-view+json": {
       "model_id": "166e8879f823422181fa32286f1fea88",
       "version_major": 2,
       "version_minor": 0
      },
      "text/plain": [
       "Batches:   0%|          | 0/1 [00:00<?, ?it/s]"
      ]
     },
     "metadata": {},
     "output_type": "display_data"
    },
    {
     "data": {
      "application/vnd.jupyter.widget-view+json": {
       "model_id": "206432471afc4779bcd7e5157f11b5a0",
       "version_major": 2,
       "version_minor": 0
      },
      "text/plain": [
       "Batches:   0%|          | 0/1 [00:00<?, ?it/s]"
      ]
     },
     "metadata": {},
     "output_type": "display_data"
    },
    {
     "data": {
      "application/vnd.jupyter.widget-view+json": {
       "model_id": "af16d35edac64b728db23a4e600557d6",
       "version_major": 2,
       "version_minor": 0
      },
      "text/plain": [
       "Batches:   0%|          | 0/1 [00:00<?, ?it/s]"
      ]
     },
     "metadata": {},
     "output_type": "display_data"
    },
    {
     "data": {
      "application/vnd.jupyter.widget-view+json": {
       "model_id": "18031c29b5e74db0b1a34a8d21ad6677",
       "version_major": 2,
       "version_minor": 0
      },
      "text/plain": [
       "Batches:   0%|          | 0/1 [00:00<?, ?it/s]"
      ]
     },
     "metadata": {},
     "output_type": "display_data"
    },
    {
     "data": {
      "application/vnd.jupyter.widget-view+json": {
       "model_id": "a4616e3b370d47768edcdd8754793c6e",
       "version_major": 2,
       "version_minor": 0
      },
      "text/plain": [
       "Batches:   0%|          | 0/1 [00:00<?, ?it/s]"
      ]
     },
     "metadata": {},
     "output_type": "display_data"
    },
    {
     "data": {
      "application/vnd.jupyter.widget-view+json": {
       "model_id": "e81ab572d6c3497888a163940d07a66f",
       "version_major": 2,
       "version_minor": 0
      },
      "text/plain": [
       "Batches:   0%|          | 0/1 [00:00<?, ?it/s]"
      ]
     },
     "metadata": {},
     "output_type": "display_data"
    },
    {
     "data": {
      "application/vnd.jupyter.widget-view+json": {
       "model_id": "e5fb015de178410e9d630053702824a5",
       "version_major": 2,
       "version_minor": 0
      },
      "text/plain": [
       "Batches:   0%|          | 0/1 [00:00<?, ?it/s]"
      ]
     },
     "metadata": {},
     "output_type": "display_data"
    },
    {
     "data": {
      "application/vnd.jupyter.widget-view+json": {
       "model_id": "67089b36e3f0423eb81b6f5411365217",
       "version_major": 2,
       "version_minor": 0
      },
      "text/plain": [
       "Batches:   0%|          | 0/1 [00:00<?, ?it/s]"
      ]
     },
     "metadata": {},
     "output_type": "display_data"
    },
    {
     "data": {
      "application/vnd.jupyter.widget-view+json": {
       "model_id": "41e12d5a7bd34a538929094080e80a84",
       "version_major": 2,
       "version_minor": 0
      },
      "text/plain": [
       "Batches:   0%|          | 0/1 [00:00<?, ?it/s]"
      ]
     },
     "metadata": {},
     "output_type": "display_data"
    },
    {
     "data": {
      "application/vnd.jupyter.widget-view+json": {
       "model_id": "9910fa25d06d477a90c0bee7c8fb85e7",
       "version_major": 2,
       "version_minor": 0
      },
      "text/plain": [
       "Batches:   0%|          | 0/1 [00:00<?, ?it/s]"
      ]
     },
     "metadata": {},
     "output_type": "display_data"
    },
    {
     "data": {
      "application/vnd.jupyter.widget-view+json": {
       "model_id": "0c79d68760394062923081533e1fff6f",
       "version_major": 2,
       "version_minor": 0
      },
      "text/plain": [
       "Batches:   0%|          | 0/1 [00:00<?, ?it/s]"
      ]
     },
     "metadata": {},
     "output_type": "display_data"
    },
    {
     "data": {
      "application/vnd.jupyter.widget-view+json": {
       "model_id": "e97f1e7f334743328a1d95423b23ff85",
       "version_major": 2,
       "version_minor": 0
      },
      "text/plain": [
       "Batches:   0%|          | 0/1 [00:00<?, ?it/s]"
      ]
     },
     "metadata": {},
     "output_type": "display_data"
    },
    {
     "data": {
      "application/vnd.jupyter.widget-view+json": {
       "model_id": "403a7159f2844eb0ada3bfdbea579b60",
       "version_major": 2,
       "version_minor": 0
      },
      "text/plain": [
       "Batches:   0%|          | 0/1 [00:00<?, ?it/s]"
      ]
     },
     "metadata": {},
     "output_type": "display_data"
    },
    {
     "data": {
      "application/vnd.jupyter.widget-view+json": {
       "model_id": "ad94f15972834faf87352db49b13a526",
       "version_major": 2,
       "version_minor": 0
      },
      "text/plain": [
       "Batches:   0%|          | 0/1 [00:00<?, ?it/s]"
      ]
     },
     "metadata": {},
     "output_type": "display_data"
    },
    {
     "data": {
      "application/vnd.jupyter.widget-view+json": {
       "model_id": "8a3c3c96e4ef42b388a4c6fdff12ff4c",
       "version_major": 2,
       "version_minor": 0
      },
      "text/plain": [
       "Batches:   0%|          | 0/1 [00:00<?, ?it/s]"
      ]
     },
     "metadata": {},
     "output_type": "display_data"
    },
    {
     "data": {
      "application/vnd.jupyter.widget-view+json": {
       "model_id": "ceb918e1f853496c8b38ba1b4b8096f6",
       "version_major": 2,
       "version_minor": 0
      },
      "text/plain": [
       "Batches:   0%|          | 0/1 [00:00<?, ?it/s]"
      ]
     },
     "metadata": {},
     "output_type": "display_data"
    },
    {
     "data": {
      "application/vnd.jupyter.widget-view+json": {
       "model_id": "7019ee9605304eb89eec00105a9b4e64",
       "version_major": 2,
       "version_minor": 0
      },
      "text/plain": [
       "Batches:   0%|          | 0/1 [00:00<?, ?it/s]"
      ]
     },
     "metadata": {},
     "output_type": "display_data"
    },
    {
     "data": {
      "application/vnd.jupyter.widget-view+json": {
       "model_id": "3a8fabdeca0b4ac4976c8c969f99dfcc",
       "version_major": 2,
       "version_minor": 0
      },
      "text/plain": [
       "Batches:   0%|          | 0/1 [00:00<?, ?it/s]"
      ]
     },
     "metadata": {},
     "output_type": "display_data"
    },
    {
     "data": {
      "application/vnd.jupyter.widget-view+json": {
       "model_id": "158a7fda08e24993a121151388333840",
       "version_major": 2,
       "version_minor": 0
      },
      "text/plain": [
       "Batches:   0%|          | 0/1 [00:00<?, ?it/s]"
      ]
     },
     "metadata": {},
     "output_type": "display_data"
    },
    {
     "data": {
      "application/vnd.jupyter.widget-view+json": {
       "model_id": "c0b5819e57734778a90f37c375e67d36",
       "version_major": 2,
       "version_minor": 0
      },
      "text/plain": [
       "Batches:   0%|          | 0/1 [00:00<?, ?it/s]"
      ]
     },
     "metadata": {},
     "output_type": "display_data"
    },
    {
     "data": {
      "application/vnd.jupyter.widget-view+json": {
       "model_id": "556b196aec364472afc132268d35041b",
       "version_major": 2,
       "version_minor": 0
      },
      "text/plain": [
       "Batches:   0%|          | 0/1 [00:00<?, ?it/s]"
      ]
     },
     "metadata": {},
     "output_type": "display_data"
    },
    {
     "data": {
      "application/vnd.jupyter.widget-view+json": {
       "model_id": "7fd38553e2784b4ebe7946f11cfd8b65",
       "version_major": 2,
       "version_minor": 0
      },
      "text/plain": [
       "Batches:   0%|          | 0/1 [00:00<?, ?it/s]"
      ]
     },
     "metadata": {},
     "output_type": "display_data"
    },
    {
     "data": {
      "application/vnd.jupyter.widget-view+json": {
       "model_id": "afc017b50c134f17a3f12541adbac28b",
       "version_major": 2,
       "version_minor": 0
      },
      "text/plain": [
       "Batches:   0%|          | 0/1 [00:00<?, ?it/s]"
      ]
     },
     "metadata": {},
     "output_type": "display_data"
    },
    {
     "data": {
      "application/vnd.jupyter.widget-view+json": {
       "model_id": "2ffd302701054150baa17286c386516f",
       "version_major": 2,
       "version_minor": 0
      },
      "text/plain": [
       "Batches:   0%|          | 0/1 [00:00<?, ?it/s]"
      ]
     },
     "metadata": {},
     "output_type": "display_data"
    },
    {
     "data": {
      "application/vnd.jupyter.widget-view+json": {
       "model_id": "54b9798d27644fd0834cca0676d6f401",
       "version_major": 2,
       "version_minor": 0
      },
      "text/plain": [
       "Batches:   0%|          | 0/1 [00:00<?, ?it/s]"
      ]
     },
     "metadata": {},
     "output_type": "display_data"
    },
    {
     "data": {
      "application/vnd.jupyter.widget-view+json": {
       "model_id": "a1269bb14273490e82fab37fef3e5b74",
       "version_major": 2,
       "version_minor": 0
      },
      "text/plain": [
       "Batches:   0%|          | 0/1 [00:00<?, ?it/s]"
      ]
     },
     "metadata": {},
     "output_type": "display_data"
    },
    {
     "data": {
      "application/vnd.jupyter.widget-view+json": {
       "model_id": "9e882d87ad6e4ffe89f43a4d57b26f50",
       "version_major": 2,
       "version_minor": 0
      },
      "text/plain": [
       "Batches:   0%|          | 0/1 [00:00<?, ?it/s]"
      ]
     },
     "metadata": {},
     "output_type": "display_data"
    },
    {
     "data": {
      "application/vnd.jupyter.widget-view+json": {
       "model_id": "ca5d4e05b65042dd83b2dcdb08e1cc61",
       "version_major": 2,
       "version_minor": 0
      },
      "text/plain": [
       "Batches:   0%|          | 0/1 [00:00<?, ?it/s]"
      ]
     },
     "metadata": {},
     "output_type": "display_data"
    },
    {
     "data": {
      "application/vnd.jupyter.widget-view+json": {
       "model_id": "9af12bac0e9648649b50363f80b99cdc",
       "version_major": 2,
       "version_minor": 0
      },
      "text/plain": [
       "Batches:   0%|          | 0/1 [00:00<?, ?it/s]"
      ]
     },
     "metadata": {},
     "output_type": "display_data"
    },
    {
     "data": {
      "application/vnd.jupyter.widget-view+json": {
       "model_id": "d9d1fec1ccd743a29b9aacfad2423638",
       "version_major": 2,
       "version_minor": 0
      },
      "text/plain": [
       "Batches:   0%|          | 0/1 [00:00<?, ?it/s]"
      ]
     },
     "metadata": {},
     "output_type": "display_data"
    },
    {
     "data": {
      "application/vnd.jupyter.widget-view+json": {
       "model_id": "a79439b92d254ff6b852fa3664001f52",
       "version_major": 2,
       "version_minor": 0
      },
      "text/plain": [
       "Batches:   0%|          | 0/1 [00:00<?, ?it/s]"
      ]
     },
     "metadata": {},
     "output_type": "display_data"
    },
    {
     "data": {
      "application/vnd.jupyter.widget-view+json": {
       "model_id": "1054ae00069147058ac45d5f53a817e7",
       "version_major": 2,
       "version_minor": 0
      },
      "text/plain": [
       "Batches:   0%|          | 0/1 [00:00<?, ?it/s]"
      ]
     },
     "metadata": {},
     "output_type": "display_data"
    },
    {
     "data": {
      "application/vnd.jupyter.widget-view+json": {
       "model_id": "9f9618f6296f423dac3d6ff9b5ead4b8",
       "version_major": 2,
       "version_minor": 0
      },
      "text/plain": [
       "Batches:   0%|          | 0/1 [00:00<?, ?it/s]"
      ]
     },
     "metadata": {},
     "output_type": "display_data"
    },
    {
     "data": {
      "application/vnd.jupyter.widget-view+json": {
       "model_id": "b880bd5545414f2f931f36a20092466c",
       "version_major": 2,
       "version_minor": 0
      },
      "text/plain": [
       "Batches:   0%|          | 0/1 [00:00<?, ?it/s]"
      ]
     },
     "metadata": {},
     "output_type": "display_data"
    },
    {
     "data": {
      "application/vnd.jupyter.widget-view+json": {
       "model_id": "14b8010b550e47538a178176cf0da9ca",
       "version_major": 2,
       "version_minor": 0
      },
      "text/plain": [
       "Batches:   0%|          | 0/1 [00:00<?, ?it/s]"
      ]
     },
     "metadata": {},
     "output_type": "display_data"
    },
    {
     "data": {
      "application/vnd.jupyter.widget-view+json": {
       "model_id": "395fccaae6904655bc1ec05785ea7270",
       "version_major": 2,
       "version_minor": 0
      },
      "text/plain": [
       "Batches:   0%|          | 0/1 [00:00<?, ?it/s]"
      ]
     },
     "metadata": {},
     "output_type": "display_data"
    },
    {
     "data": {
      "application/vnd.jupyter.widget-view+json": {
       "model_id": "7d15ad35a74d413b89b8f8e24fe19830",
       "version_major": 2,
       "version_minor": 0
      },
      "text/plain": [
       "Batches:   0%|          | 0/1 [00:00<?, ?it/s]"
      ]
     },
     "metadata": {},
     "output_type": "display_data"
    },
    {
     "data": {
      "application/vnd.jupyter.widget-view+json": {
       "model_id": "b96166d4749f4fd9b0e07d3011ac501c",
       "version_major": 2,
       "version_minor": 0
      },
      "text/plain": [
       "Batches:   0%|          | 0/1 [00:00<?, ?it/s]"
      ]
     },
     "metadata": {},
     "output_type": "display_data"
    },
    {
     "data": {
      "application/vnd.jupyter.widget-view+json": {
       "model_id": "db2637d76b44422380be68222156b204",
       "version_major": 2,
       "version_minor": 0
      },
      "text/plain": [
       "Batches:   0%|          | 0/1 [00:00<?, ?it/s]"
      ]
     },
     "metadata": {},
     "output_type": "display_data"
    },
    {
     "data": {
      "application/vnd.jupyter.widget-view+json": {
       "model_id": "e5947e769f8748b39fe385055824d784",
       "version_major": 2,
       "version_minor": 0
      },
      "text/plain": [
       "Batches:   0%|          | 0/1 [00:00<?, ?it/s]"
      ]
     },
     "metadata": {},
     "output_type": "display_data"
    },
    {
     "data": {
      "application/vnd.jupyter.widget-view+json": {
       "model_id": "f652068d8e5f4e449e1255cfdd7b4f9c",
       "version_major": 2,
       "version_minor": 0
      },
      "text/plain": [
       "Batches:   0%|          | 0/1 [00:00<?, ?it/s]"
      ]
     },
     "metadata": {},
     "output_type": "display_data"
    },
    {
     "data": {
      "application/vnd.jupyter.widget-view+json": {
       "model_id": "74d68f9a574a4c55bfbb1d430c5957c3",
       "version_major": 2,
       "version_minor": 0
      },
      "text/plain": [
       "Batches:   0%|          | 0/1 [00:00<?, ?it/s]"
      ]
     },
     "metadata": {},
     "output_type": "display_data"
    },
    {
     "data": {
      "application/vnd.jupyter.widget-view+json": {
       "model_id": "da82ecebe9e74bb897fb1d44bbb467e9",
       "version_major": 2,
       "version_minor": 0
      },
      "text/plain": [
       "Batches:   0%|          | 0/1 [00:00<?, ?it/s]"
      ]
     },
     "metadata": {},
     "output_type": "display_data"
    },
    {
     "data": {
      "application/vnd.jupyter.widget-view+json": {
       "model_id": "b3413c8761654f7d89511c1cd01f6f28",
       "version_major": 2,
       "version_minor": 0
      },
      "text/plain": [
       "Batches:   0%|          | 0/1 [00:00<?, ?it/s]"
      ]
     },
     "metadata": {},
     "output_type": "display_data"
    },
    {
     "data": {
      "application/vnd.jupyter.widget-view+json": {
       "model_id": "98c2c159f22b482b8440cbb448960a18",
       "version_major": 2,
       "version_minor": 0
      },
      "text/plain": [
       "Batches:   0%|          | 0/1 [00:00<?, ?it/s]"
      ]
     },
     "metadata": {},
     "output_type": "display_data"
    },
    {
     "data": {
      "application/vnd.jupyter.widget-view+json": {
       "model_id": "a069bfa66dfb47748a17dcf16e4e7ddc",
       "version_major": 2,
       "version_minor": 0
      },
      "text/plain": [
       "Batches:   0%|          | 0/1 [00:00<?, ?it/s]"
      ]
     },
     "metadata": {},
     "output_type": "display_data"
    },
    {
     "data": {
      "application/vnd.jupyter.widget-view+json": {
       "model_id": "dc7322a1ad284b95a01055ebdd70ba16",
       "version_major": 2,
       "version_minor": 0
      },
      "text/plain": [
       "Batches:   0%|          | 0/1 [00:00<?, ?it/s]"
      ]
     },
     "metadata": {},
     "output_type": "display_data"
    },
    {
     "data": {
      "application/vnd.jupyter.widget-view+json": {
       "model_id": "cc6242bd9c1e4fc59d26bb2d7a3517a2",
       "version_major": 2,
       "version_minor": 0
      },
      "text/plain": [
       "Batches:   0%|          | 0/1 [00:00<?, ?it/s]"
      ]
     },
     "metadata": {},
     "output_type": "display_data"
    },
    {
     "data": {
      "application/vnd.jupyter.widget-view+json": {
       "model_id": "1a1cdb26f2044948871c825d6ba19021",
       "version_major": 2,
       "version_minor": 0
      },
      "text/plain": [
       "Batches:   0%|          | 0/1 [00:00<?, ?it/s]"
      ]
     },
     "metadata": {},
     "output_type": "display_data"
    },
    {
     "data": {
      "application/vnd.jupyter.widget-view+json": {
       "model_id": "b40692bab298471a8fd413419909480b",
       "version_major": 2,
       "version_minor": 0
      },
      "text/plain": [
       "Batches:   0%|          | 0/1 [00:00<?, ?it/s]"
      ]
     },
     "metadata": {},
     "output_type": "display_data"
    },
    {
     "data": {
      "application/vnd.jupyter.widget-view+json": {
       "model_id": "ba512ddf694c465da1e35f4cd12a2655",
       "version_major": 2,
       "version_minor": 0
      },
      "text/plain": [
       "Batches:   0%|          | 0/1 [00:00<?, ?it/s]"
      ]
     },
     "metadata": {},
     "output_type": "display_data"
    },
    {
     "data": {
      "application/vnd.jupyter.widget-view+json": {
       "model_id": "74412303217d48e7a1e03bb277f5beb9",
       "version_major": 2,
       "version_minor": 0
      },
      "text/plain": [
       "Batches:   0%|          | 0/1 [00:00<?, ?it/s]"
      ]
     },
     "metadata": {},
     "output_type": "display_data"
    },
    {
     "data": {
      "application/vnd.jupyter.widget-view+json": {
       "model_id": "56ede8173735448a9319a76534e48c2c",
       "version_major": 2,
       "version_minor": 0
      },
      "text/plain": [
       "Batches:   0%|          | 0/1 [00:00<?, ?it/s]"
      ]
     },
     "metadata": {},
     "output_type": "display_data"
    },
    {
     "data": {
      "application/vnd.jupyter.widget-view+json": {
       "model_id": "cbd194e9244948cf8b12db7eb01054f4",
       "version_major": 2,
       "version_minor": 0
      },
      "text/plain": [
       "Batches:   0%|          | 0/1 [00:00<?, ?it/s]"
      ]
     },
     "metadata": {},
     "output_type": "display_data"
    },
    {
     "data": {
      "application/vnd.jupyter.widget-view+json": {
       "model_id": "afbbf4dbac9f4efe9361eea39242d7c0",
       "version_major": 2,
       "version_minor": 0
      },
      "text/plain": [
       "Batches:   0%|          | 0/1 [00:00<?, ?it/s]"
      ]
     },
     "metadata": {},
     "output_type": "display_data"
    },
    {
     "data": {
      "application/vnd.jupyter.widget-view+json": {
       "model_id": "0561e64d452546a1ac01646d5d0a7622",
       "version_major": 2,
       "version_minor": 0
      },
      "text/plain": [
       "Batches:   0%|          | 0/1 [00:00<?, ?it/s]"
      ]
     },
     "metadata": {},
     "output_type": "display_data"
    },
    {
     "data": {
      "application/vnd.jupyter.widget-view+json": {
       "model_id": "caa01ea7e2e34201b722682238c67ff1",
       "version_major": 2,
       "version_minor": 0
      },
      "text/plain": [
       "Batches:   0%|          | 0/1 [00:00<?, ?it/s]"
      ]
     },
     "metadata": {},
     "output_type": "display_data"
    },
    {
     "data": {
      "application/vnd.jupyter.widget-view+json": {
       "model_id": "86dfec50791546a3b04223a1ace4f986",
       "version_major": 2,
       "version_minor": 0
      },
      "text/plain": [
       "Batches:   0%|          | 0/1 [00:00<?, ?it/s]"
      ]
     },
     "metadata": {},
     "output_type": "display_data"
    },
    {
     "data": {
      "application/vnd.jupyter.widget-view+json": {
       "model_id": "44490cb7fa2d416a83e1ccc830dc32da",
       "version_major": 2,
       "version_minor": 0
      },
      "text/plain": [
       "Batches:   0%|          | 0/1 [00:00<?, ?it/s]"
      ]
     },
     "metadata": {},
     "output_type": "display_data"
    },
    {
     "data": {
      "application/vnd.jupyter.widget-view+json": {
       "model_id": "cb335db7975f40b3818fc423bdc1c988",
       "version_major": 2,
       "version_minor": 0
      },
      "text/plain": [
       "Batches:   0%|          | 0/1 [00:00<?, ?it/s]"
      ]
     },
     "metadata": {},
     "output_type": "display_data"
    },
    {
     "data": {
      "application/vnd.jupyter.widget-view+json": {
       "model_id": "ad49112c1a344023950fe3bb8e426cf6",
       "version_major": 2,
       "version_minor": 0
      },
      "text/plain": [
       "Batches:   0%|          | 0/1 [00:00<?, ?it/s]"
      ]
     },
     "metadata": {},
     "output_type": "display_data"
    },
    {
     "data": {
      "application/vnd.jupyter.widget-view+json": {
       "model_id": "0377caf29a864381aa45f33c0ac33ac3",
       "version_major": 2,
       "version_minor": 0
      },
      "text/plain": [
       "Batches:   0%|          | 0/1 [00:00<?, ?it/s]"
      ]
     },
     "metadata": {},
     "output_type": "display_data"
    },
    {
     "data": {
      "application/vnd.jupyter.widget-view+json": {
       "model_id": "47e05ddfbc094f7e9418309d7576d0ad",
       "version_major": 2,
       "version_minor": 0
      },
      "text/plain": [
       "Batches:   0%|          | 0/1 [00:00<?, ?it/s]"
      ]
     },
     "metadata": {},
     "output_type": "display_data"
    },
    {
     "data": {
      "application/vnd.jupyter.widget-view+json": {
       "model_id": "272c53092bfe4472adb60f67e8d8afc0",
       "version_major": 2,
       "version_minor": 0
      },
      "text/plain": [
       "Batches:   0%|          | 0/1 [00:00<?, ?it/s]"
      ]
     },
     "metadata": {},
     "output_type": "display_data"
    },
    {
     "data": {
      "application/vnd.jupyter.widget-view+json": {
       "model_id": "6e66e00998224c069be8a4ee3fc40855",
       "version_major": 2,
       "version_minor": 0
      },
      "text/plain": [
       "Batches:   0%|          | 0/1 [00:00<?, ?it/s]"
      ]
     },
     "metadata": {},
     "output_type": "display_data"
    },
    {
     "data": {
      "application/vnd.jupyter.widget-view+json": {
       "model_id": "157bd248d0474fc284cc5e627a53d59b",
       "version_major": 2,
       "version_minor": 0
      },
      "text/plain": [
       "Batches:   0%|          | 0/1 [00:00<?, ?it/s]"
      ]
     },
     "metadata": {},
     "output_type": "display_data"
    },
    {
     "data": {
      "application/vnd.jupyter.widget-view+json": {
       "model_id": "a99a890670fc4aa48714bc6dfd65f045",
       "version_major": 2,
       "version_minor": 0
      },
      "text/plain": [
       "Batches:   0%|          | 0/1 [00:00<?, ?it/s]"
      ]
     },
     "metadata": {},
     "output_type": "display_data"
    },
    {
     "data": {
      "application/vnd.jupyter.widget-view+json": {
       "model_id": "176776a2d4c14e618887cef1e4e4556f",
       "version_major": 2,
       "version_minor": 0
      },
      "text/plain": [
       "Batches:   0%|          | 0/1 [00:00<?, ?it/s]"
      ]
     },
     "metadata": {},
     "output_type": "display_data"
    },
    {
     "data": {
      "application/vnd.jupyter.widget-view+json": {
       "model_id": "a5fc202238ef4171aba678f69e614dab",
       "version_major": 2,
       "version_minor": 0
      },
      "text/plain": [
       "Batches:   0%|          | 0/1 [00:00<?, ?it/s]"
      ]
     },
     "metadata": {},
     "output_type": "display_data"
    },
    {
     "data": {
      "application/vnd.jupyter.widget-view+json": {
       "model_id": "7339ca8b47a34a7597bfecd60d731fe3",
       "version_major": 2,
       "version_minor": 0
      },
      "text/plain": [
       "Batches:   0%|          | 0/1 [00:00<?, ?it/s]"
      ]
     },
     "metadata": {},
     "output_type": "display_data"
    },
    {
     "data": {
      "application/vnd.jupyter.widget-view+json": {
       "model_id": "088afab5ae77467ca0c0c22a08e4761f",
       "version_major": 2,
       "version_minor": 0
      },
      "text/plain": [
       "Batches:   0%|          | 0/1 [00:00<?, ?it/s]"
      ]
     },
     "metadata": {},
     "output_type": "display_data"
    },
    {
     "data": {
      "application/vnd.jupyter.widget-view+json": {
       "model_id": "2228078d9a614a9ba09c8927783f868b",
       "version_major": 2,
       "version_minor": 0
      },
      "text/plain": [
       "Batches:   0%|          | 0/1 [00:00<?, ?it/s]"
      ]
     },
     "metadata": {},
     "output_type": "display_data"
    },
    {
     "data": {
      "application/vnd.jupyter.widget-view+json": {
       "model_id": "7c37dc6be3214dbe9e9f79983bfd79df",
       "version_major": 2,
       "version_minor": 0
      },
      "text/plain": [
       "Batches:   0%|          | 0/1 [00:00<?, ?it/s]"
      ]
     },
     "metadata": {},
     "output_type": "display_data"
    },
    {
     "data": {
      "application/vnd.jupyter.widget-view+json": {
       "model_id": "85b3a2a418b64f16b1d34da9d887d2a9",
       "version_major": 2,
       "version_minor": 0
      },
      "text/plain": [
       "Batches:   0%|          | 0/1 [00:00<?, ?it/s]"
      ]
     },
     "metadata": {},
     "output_type": "display_data"
    },
    {
     "data": {
      "application/vnd.jupyter.widget-view+json": {
       "model_id": "80b070126c7d466396c49a1b1c764e56",
       "version_major": 2,
       "version_minor": 0
      },
      "text/plain": [
       "Batches:   0%|          | 0/1 [00:00<?, ?it/s]"
      ]
     },
     "metadata": {},
     "output_type": "display_data"
    },
    {
     "data": {
      "application/vnd.jupyter.widget-view+json": {
       "model_id": "51d3ee38102744e7bfb18806c8d51ce0",
       "version_major": 2,
       "version_minor": 0
      },
      "text/plain": [
       "Batches:   0%|          | 0/1 [00:00<?, ?it/s]"
      ]
     },
     "metadata": {},
     "output_type": "display_data"
    },
    {
     "data": {
      "application/vnd.jupyter.widget-view+json": {
       "model_id": "feb0678cb6ca4275984db56a663e541f",
       "version_major": 2,
       "version_minor": 0
      },
      "text/plain": [
       "Batches:   0%|          | 0/1 [00:00<?, ?it/s]"
      ]
     },
     "metadata": {},
     "output_type": "display_data"
    },
    {
     "data": {
      "application/vnd.jupyter.widget-view+json": {
       "model_id": "5307f847fd2d406baf99755c9bf0f494",
       "version_major": 2,
       "version_minor": 0
      },
      "text/plain": [
       "Batches:   0%|          | 0/1 [00:00<?, ?it/s]"
      ]
     },
     "metadata": {},
     "output_type": "display_data"
    },
    {
     "data": {
      "application/vnd.jupyter.widget-view+json": {
       "model_id": "9c6a989db41b49eead8d463b66516a65",
       "version_major": 2,
       "version_minor": 0
      },
      "text/plain": [
       "Batches:   0%|          | 0/1 [00:00<?, ?it/s]"
      ]
     },
     "metadata": {},
     "output_type": "display_data"
    },
    {
     "data": {
      "application/vnd.jupyter.widget-view+json": {
       "model_id": "728c0b8b473b417cb279c0de5d444475",
       "version_major": 2,
       "version_minor": 0
      },
      "text/plain": [
       "Batches:   0%|          | 0/1 [00:00<?, ?it/s]"
      ]
     },
     "metadata": {},
     "output_type": "display_data"
    },
    {
     "data": {
      "application/vnd.jupyter.widget-view+json": {
       "model_id": "5429aaf65a924dd783456b0810f5f172",
       "version_major": 2,
       "version_minor": 0
      },
      "text/plain": [
       "Batches:   0%|          | 0/1 [00:00<?, ?it/s]"
      ]
     },
     "metadata": {},
     "output_type": "display_data"
    },
    {
     "data": {
      "application/vnd.jupyter.widget-view+json": {
       "model_id": "f638f5aab4ff4521a6f4e8722449c55e",
       "version_major": 2,
       "version_minor": 0
      },
      "text/plain": [
       "Batches:   0%|          | 0/1 [00:00<?, ?it/s]"
      ]
     },
     "metadata": {},
     "output_type": "display_data"
    },
    {
     "data": {
      "application/vnd.jupyter.widget-view+json": {
       "model_id": "ad8fb951e2ef43c69547f315432621f8",
       "version_major": 2,
       "version_minor": 0
      },
      "text/plain": [
       "Batches:   0%|          | 0/1 [00:00<?, ?it/s]"
      ]
     },
     "metadata": {},
     "output_type": "display_data"
    },
    {
     "data": {
      "application/vnd.jupyter.widget-view+json": {
       "model_id": "73440e2720974127bd36a01c90efbbc5",
       "version_major": 2,
       "version_minor": 0
      },
      "text/plain": [
       "Batches:   0%|          | 0/1 [00:00<?, ?it/s]"
      ]
     },
     "metadata": {},
     "output_type": "display_data"
    },
    {
     "data": {
      "application/vnd.jupyter.widget-view+json": {
       "model_id": "1243aa6b39f7412b853a2531046e687b",
       "version_major": 2,
       "version_minor": 0
      },
      "text/plain": [
       "Batches:   0%|          | 0/1 [00:00<?, ?it/s]"
      ]
     },
     "metadata": {},
     "output_type": "display_data"
    },
    {
     "data": {
      "application/vnd.jupyter.widget-view+json": {
       "model_id": "1e16504746f142c4ba2560b7a35a4377",
       "version_major": 2,
       "version_minor": 0
      },
      "text/plain": [
       "Batches:   0%|          | 0/1 [00:00<?, ?it/s]"
      ]
     },
     "metadata": {},
     "output_type": "display_data"
    },
    {
     "data": {
      "application/vnd.jupyter.widget-view+json": {
       "model_id": "9e8405894cab4967a26c5f9deba082bb",
       "version_major": 2,
       "version_minor": 0
      },
      "text/plain": [
       "Batches:   0%|          | 0/1 [00:00<?, ?it/s]"
      ]
     },
     "metadata": {},
     "output_type": "display_data"
    },
    {
     "data": {
      "application/vnd.jupyter.widget-view+json": {
       "model_id": "2d209e287a344745b539656be5be8403",
       "version_major": 2,
       "version_minor": 0
      },
      "text/plain": [
       "Batches:   0%|          | 0/1 [00:00<?, ?it/s]"
      ]
     },
     "metadata": {},
     "output_type": "display_data"
    },
    {
     "data": {
      "application/vnd.jupyter.widget-view+json": {
       "model_id": "d4b4609c5303480a967a1e2cb97b195a",
       "version_major": 2,
       "version_minor": 0
      },
      "text/plain": [
       "Batches:   0%|          | 0/1 [00:00<?, ?it/s]"
      ]
     },
     "metadata": {},
     "output_type": "display_data"
    },
    {
     "data": {
      "application/vnd.jupyter.widget-view+json": {
       "model_id": "237c2cff72e747f68afd2e198ae0a4d6",
       "version_major": 2,
       "version_minor": 0
      },
      "text/plain": [
       "Batches:   0%|          | 0/1 [00:00<?, ?it/s]"
      ]
     },
     "metadata": {},
     "output_type": "display_data"
    },
    {
     "data": {
      "application/vnd.jupyter.widget-view+json": {
       "model_id": "08bab74e5b954ade9073bb31fb18509d",
       "version_major": 2,
       "version_minor": 0
      },
      "text/plain": [
       "Batches:   0%|          | 0/1 [00:00<?, ?it/s]"
      ]
     },
     "metadata": {},
     "output_type": "display_data"
    },
    {
     "data": {
      "application/vnd.jupyter.widget-view+json": {
       "model_id": "b9bcd305834e4382b2271c3f8048e282",
       "version_major": 2,
       "version_minor": 0
      },
      "text/plain": [
       "Batches:   0%|          | 0/1 [00:00<?, ?it/s]"
      ]
     },
     "metadata": {},
     "output_type": "display_data"
    },
    {
     "data": {
      "application/vnd.jupyter.widget-view+json": {
       "model_id": "131414af85a3402ba69ae3f89939ffa6",
       "version_major": 2,
       "version_minor": 0
      },
      "text/plain": [
       "Batches:   0%|          | 0/1 [00:00<?, ?it/s]"
      ]
     },
     "metadata": {},
     "output_type": "display_data"
    },
    {
     "data": {
      "application/vnd.jupyter.widget-view+json": {
       "model_id": "e53d11254efb4478977afa66741fef06",
       "version_major": 2,
       "version_minor": 0
      },
      "text/plain": [
       "Batches:   0%|          | 0/1 [00:00<?, ?it/s]"
      ]
     },
     "metadata": {},
     "output_type": "display_data"
    },
    {
     "data": {
      "application/vnd.jupyter.widget-view+json": {
       "model_id": "8dc9568cf37d4e9f93c4f863c86807c4",
       "version_major": 2,
       "version_minor": 0
      },
      "text/plain": [
       "Batches:   0%|          | 0/1 [00:00<?, ?it/s]"
      ]
     },
     "metadata": {},
     "output_type": "display_data"
    },
    {
     "data": {
      "application/vnd.jupyter.widget-view+json": {
       "model_id": "bb8692a0eacd4a25ad223bf2864601ae",
       "version_major": 2,
       "version_minor": 0
      },
      "text/plain": [
       "Batches:   0%|          | 0/1 [00:00<?, ?it/s]"
      ]
     },
     "metadata": {},
     "output_type": "display_data"
    },
    {
     "data": {
      "application/vnd.jupyter.widget-view+json": {
       "model_id": "47a64dc5008e486ba4275510c6050f33",
       "version_major": 2,
       "version_minor": 0
      },
      "text/plain": [
       "Batches:   0%|          | 0/1 [00:00<?, ?it/s]"
      ]
     },
     "metadata": {},
     "output_type": "display_data"
    },
    {
     "data": {
      "application/vnd.jupyter.widget-view+json": {
       "model_id": "93ef827574a54404b3c3ae3615ea21c2",
       "version_major": 2,
       "version_minor": 0
      },
      "text/plain": [
       "Batches:   0%|          | 0/1 [00:00<?, ?it/s]"
      ]
     },
     "metadata": {},
     "output_type": "display_data"
    },
    {
     "data": {
      "application/vnd.jupyter.widget-view+json": {
       "model_id": "13524526d1144f8a89180d34e0465d33",
       "version_major": 2,
       "version_minor": 0
      },
      "text/plain": [
       "Batches:   0%|          | 0/1 [00:00<?, ?it/s]"
      ]
     },
     "metadata": {},
     "output_type": "display_data"
    },
    {
     "data": {
      "application/vnd.jupyter.widget-view+json": {
       "model_id": "7ed102ca1efe4ad6ad010cb51db3212a",
       "version_major": 2,
       "version_minor": 0
      },
      "text/plain": [
       "Batches:   0%|          | 0/1 [00:00<?, ?it/s]"
      ]
     },
     "metadata": {},
     "output_type": "display_data"
    },
    {
     "data": {
      "application/vnd.jupyter.widget-view+json": {
       "model_id": "21e03a687eec4abd8538ba296505971c",
       "version_major": 2,
       "version_minor": 0
      },
      "text/plain": [
       "Batches:   0%|          | 0/1 [00:00<?, ?it/s]"
      ]
     },
     "metadata": {},
     "output_type": "display_data"
    },
    {
     "data": {
      "application/vnd.jupyter.widget-view+json": {
       "model_id": "874151332ea4457c9b3c9abb86441932",
       "version_major": 2,
       "version_minor": 0
      },
      "text/plain": [
       "Batches:   0%|          | 0/1 [00:00<?, ?it/s]"
      ]
     },
     "metadata": {},
     "output_type": "display_data"
    },
    {
     "data": {
      "application/vnd.jupyter.widget-view+json": {
       "model_id": "4e7b4fc7fb51419dabea4ce2202c5af6",
       "version_major": 2,
       "version_minor": 0
      },
      "text/plain": [
       "Batches:   0%|          | 0/1 [00:00<?, ?it/s]"
      ]
     },
     "metadata": {},
     "output_type": "display_data"
    },
    {
     "data": {
      "application/vnd.jupyter.widget-view+json": {
       "model_id": "7df40e0776e648ab82258ca19a37bff6",
       "version_major": 2,
       "version_minor": 0
      },
      "text/plain": [
       "Batches:   0%|          | 0/1 [00:00<?, ?it/s]"
      ]
     },
     "metadata": {},
     "output_type": "display_data"
    },
    {
     "data": {
      "application/vnd.jupyter.widget-view+json": {
       "model_id": "4b4d211262a04b16ad68563d2f786d63",
       "version_major": 2,
       "version_minor": 0
      },
      "text/plain": [
       "Batches:   0%|          | 0/1 [00:00<?, ?it/s]"
      ]
     },
     "metadata": {},
     "output_type": "display_data"
    },
    {
     "data": {
      "application/vnd.jupyter.widget-view+json": {
       "model_id": "822aa2db40ba482182f167238e1a666a",
       "version_major": 2,
       "version_minor": 0
      },
      "text/plain": [
       "Batches:   0%|          | 0/1 [00:00<?, ?it/s]"
      ]
     },
     "metadata": {},
     "output_type": "display_data"
    },
    {
     "data": {
      "application/vnd.jupyter.widget-view+json": {
       "model_id": "97445efbe57b469587bffa3337c63a37",
       "version_major": 2,
       "version_minor": 0
      },
      "text/plain": [
       "Batches:   0%|          | 0/1 [00:00<?, ?it/s]"
      ]
     },
     "metadata": {},
     "output_type": "display_data"
    },
    {
     "data": {
      "application/vnd.jupyter.widget-view+json": {
       "model_id": "92dc4116f4374ca0bd21c345f96003d7",
       "version_major": 2,
       "version_minor": 0
      },
      "text/plain": [
       "Batches:   0%|          | 0/1 [00:00<?, ?it/s]"
      ]
     },
     "metadata": {},
     "output_type": "display_data"
    },
    {
     "data": {
      "application/vnd.jupyter.widget-view+json": {
       "model_id": "d3cef2234e2e4ee2af361c48ca91a369",
       "version_major": 2,
       "version_minor": 0
      },
      "text/plain": [
       "Batches:   0%|          | 0/1 [00:00<?, ?it/s]"
      ]
     },
     "metadata": {},
     "output_type": "display_data"
    },
    {
     "data": {
      "application/vnd.jupyter.widget-view+json": {
       "model_id": "c4e3ff4b43714185850495e6df5a7d4a",
       "version_major": 2,
       "version_minor": 0
      },
      "text/plain": [
       "Batches:   0%|          | 0/1 [00:00<?, ?it/s]"
      ]
     },
     "metadata": {},
     "output_type": "display_data"
    },
    {
     "data": {
      "application/vnd.jupyter.widget-view+json": {
       "model_id": "f378e4696af54e13ae58fc2b846db306",
       "version_major": 2,
       "version_minor": 0
      },
      "text/plain": [
       "Batches:   0%|          | 0/1 [00:00<?, ?it/s]"
      ]
     },
     "metadata": {},
     "output_type": "display_data"
    },
    {
     "data": {
      "application/vnd.jupyter.widget-view+json": {
       "model_id": "c1c95ccab1f446ab8c2cfb2e1bdb9dfc",
       "version_major": 2,
       "version_minor": 0
      },
      "text/plain": [
       "Batches:   0%|          | 0/1 [00:00<?, ?it/s]"
      ]
     },
     "metadata": {},
     "output_type": "display_data"
    },
    {
     "data": {
      "application/vnd.jupyter.widget-view+json": {
       "model_id": "5e60b5679a6842b280ea3e30c6e83001",
       "version_major": 2,
       "version_minor": 0
      },
      "text/plain": [
       "Batches:   0%|          | 0/1 [00:00<?, ?it/s]"
      ]
     },
     "metadata": {},
     "output_type": "display_data"
    },
    {
     "data": {
      "application/vnd.jupyter.widget-view+json": {
       "model_id": "7a3b6ff4cb5e4300aae4524bc303090e",
       "version_major": 2,
       "version_minor": 0
      },
      "text/plain": [
       "Batches:   0%|          | 0/1 [00:00<?, ?it/s]"
      ]
     },
     "metadata": {},
     "output_type": "display_data"
    },
    {
     "data": {
      "application/vnd.jupyter.widget-view+json": {
       "model_id": "b1c0f44b54ba43bcbc8a94675b901478",
       "version_major": 2,
       "version_minor": 0
      },
      "text/plain": [
       "Batches:   0%|          | 0/1 [00:00<?, ?it/s]"
      ]
     },
     "metadata": {},
     "output_type": "display_data"
    },
    {
     "data": {
      "application/vnd.jupyter.widget-view+json": {
       "model_id": "504d70eb13bd4530970182d88d0dc666",
       "version_major": 2,
       "version_minor": 0
      },
      "text/plain": [
       "Batches:   0%|          | 0/1 [00:00<?, ?it/s]"
      ]
     },
     "metadata": {},
     "output_type": "display_data"
    },
    {
     "data": {
      "application/vnd.jupyter.widget-view+json": {
       "model_id": "b8bd07c2b6614e8c99cf7a4ceb5247cc",
       "version_major": 2,
       "version_minor": 0
      },
      "text/plain": [
       "Batches:   0%|          | 0/1 [00:00<?, ?it/s]"
      ]
     },
     "metadata": {},
     "output_type": "display_data"
    },
    {
     "data": {
      "application/vnd.jupyter.widget-view+json": {
       "model_id": "b08f4baf05f84b269fc25b9d7415c6eb",
       "version_major": 2,
       "version_minor": 0
      },
      "text/plain": [
       "Batches:   0%|          | 0/1 [00:00<?, ?it/s]"
      ]
     },
     "metadata": {},
     "output_type": "display_data"
    },
    {
     "data": {
      "application/vnd.jupyter.widget-view+json": {
       "model_id": "dea0c73ca4a746f1974379f80c021ce7",
       "version_major": 2,
       "version_minor": 0
      },
      "text/plain": [
       "Batches:   0%|          | 0/1 [00:00<?, ?it/s]"
      ]
     },
     "metadata": {},
     "output_type": "display_data"
    },
    {
     "data": {
      "application/vnd.jupyter.widget-view+json": {
       "model_id": "22742b6a073e41458eed15cbf18375f6",
       "version_major": 2,
       "version_minor": 0
      },
      "text/plain": [
       "Batches:   0%|          | 0/1 [00:00<?, ?it/s]"
      ]
     },
     "metadata": {},
     "output_type": "display_data"
    },
    {
     "data": {
      "application/vnd.jupyter.widget-view+json": {
       "model_id": "6168aa07cac1463089295ea106466147",
       "version_major": 2,
       "version_minor": 0
      },
      "text/plain": [
       "Batches:   0%|          | 0/1 [00:00<?, ?it/s]"
      ]
     },
     "metadata": {},
     "output_type": "display_data"
    },
    {
     "data": {
      "application/vnd.jupyter.widget-view+json": {
       "model_id": "383d22180a384a57af720b1fa43ed21b",
       "version_major": 2,
       "version_minor": 0
      },
      "text/plain": [
       "Batches:   0%|          | 0/1 [00:00<?, ?it/s]"
      ]
     },
     "metadata": {},
     "output_type": "display_data"
    },
    {
     "data": {
      "application/vnd.jupyter.widget-view+json": {
       "model_id": "e04a5aab4e99443facd8b3287e1e3904",
       "version_major": 2,
       "version_minor": 0
      },
      "text/plain": [
       "Batches:   0%|          | 0/1 [00:00<?, ?it/s]"
      ]
     },
     "metadata": {},
     "output_type": "display_data"
    },
    {
     "data": {
      "application/vnd.jupyter.widget-view+json": {
       "model_id": "a5cb7622b31343628565125dc4b4ff0a",
       "version_major": 2,
       "version_minor": 0
      },
      "text/plain": [
       "Batches:   0%|          | 0/1 [00:00<?, ?it/s]"
      ]
     },
     "metadata": {},
     "output_type": "display_data"
    },
    {
     "data": {
      "application/vnd.jupyter.widget-view+json": {
       "model_id": "e7513796af1d426a9f4b7696c576bd8a",
       "version_major": 2,
       "version_minor": 0
      },
      "text/plain": [
       "Batches:   0%|          | 0/1 [00:00<?, ?it/s]"
      ]
     },
     "metadata": {},
     "output_type": "display_data"
    },
    {
     "data": {
      "application/vnd.jupyter.widget-view+json": {
       "model_id": "bad1a4c88ce94f37869f1a1fdbd49b53",
       "version_major": 2,
       "version_minor": 0
      },
      "text/plain": [
       "Batches:   0%|          | 0/1 [00:00<?, ?it/s]"
      ]
     },
     "metadata": {},
     "output_type": "display_data"
    },
    {
     "data": {
      "application/vnd.jupyter.widget-view+json": {
       "model_id": "39af93a8efdb45e1ab36903d085b7358",
       "version_major": 2,
       "version_minor": 0
      },
      "text/plain": [
       "Batches:   0%|          | 0/1 [00:00<?, ?it/s]"
      ]
     },
     "metadata": {},
     "output_type": "display_data"
    },
    {
     "data": {
      "application/vnd.jupyter.widget-view+json": {
       "model_id": "c8cb9ad8246d4c4cb553728e036c53ee",
       "version_major": 2,
       "version_minor": 0
      },
      "text/plain": [
       "Batches:   0%|          | 0/1 [00:00<?, ?it/s]"
      ]
     },
     "metadata": {},
     "output_type": "display_data"
    },
    {
     "data": {
      "application/vnd.jupyter.widget-view+json": {
       "model_id": "6ef36c04724849c4a1d94316daaf491d",
       "version_major": 2,
       "version_minor": 0
      },
      "text/plain": [
       "Batches:   0%|          | 0/1 [00:00<?, ?it/s]"
      ]
     },
     "metadata": {},
     "output_type": "display_data"
    },
    {
     "data": {
      "application/vnd.jupyter.widget-view+json": {
       "model_id": "3eb97b6a20134e6482661ca3a6fb5dba",
       "version_major": 2,
       "version_minor": 0
      },
      "text/plain": [
       "Batches:   0%|          | 0/1 [00:00<?, ?it/s]"
      ]
     },
     "metadata": {},
     "output_type": "display_data"
    },
    {
     "data": {
      "application/vnd.jupyter.widget-view+json": {
       "model_id": "1697297bbab54380a00abacf91e7421d",
       "version_major": 2,
       "version_minor": 0
      },
      "text/plain": [
       "Batches:   0%|          | 0/1 [00:00<?, ?it/s]"
      ]
     },
     "metadata": {},
     "output_type": "display_data"
    },
    {
     "data": {
      "application/vnd.jupyter.widget-view+json": {
       "model_id": "989a6d1e97b3410480642a6f5557350f",
       "version_major": 2,
       "version_minor": 0
      },
      "text/plain": [
       "Batches:   0%|          | 0/1 [00:00<?, ?it/s]"
      ]
     },
     "metadata": {},
     "output_type": "display_data"
    },
    {
     "data": {
      "application/vnd.jupyter.widget-view+json": {
       "model_id": "b56d3ba75b484c4b8390e108f02cd32b",
       "version_major": 2,
       "version_minor": 0
      },
      "text/plain": [
       "Batches:   0%|          | 0/1 [00:00<?, ?it/s]"
      ]
     },
     "metadata": {},
     "output_type": "display_data"
    },
    {
     "data": {
      "application/vnd.jupyter.widget-view+json": {
       "model_id": "89a8dafd7cf54ed39d89d9bbaae45ff8",
       "version_major": 2,
       "version_minor": 0
      },
      "text/plain": [
       "Batches:   0%|          | 0/1 [00:00<?, ?it/s]"
      ]
     },
     "metadata": {},
     "output_type": "display_data"
    },
    {
     "data": {
      "application/vnd.jupyter.widget-view+json": {
       "model_id": "36812eca45f9465b8153e0413ff84ea1",
       "version_major": 2,
       "version_minor": 0
      },
      "text/plain": [
       "Batches:   0%|          | 0/1 [00:00<?, ?it/s]"
      ]
     },
     "metadata": {},
     "output_type": "display_data"
    },
    {
     "data": {
      "application/vnd.jupyter.widget-view+json": {
       "model_id": "e9dc23716ca442eab336ee2461ac2645",
       "version_major": 2,
       "version_minor": 0
      },
      "text/plain": [
       "Batches:   0%|          | 0/1 [00:00<?, ?it/s]"
      ]
     },
     "metadata": {},
     "output_type": "display_data"
    },
    {
     "data": {
      "application/vnd.jupyter.widget-view+json": {
       "model_id": "75843995642c4ea2b432c1a44411f32e",
       "version_major": 2,
       "version_minor": 0
      },
      "text/plain": [
       "Batches:   0%|          | 0/1 [00:00<?, ?it/s]"
      ]
     },
     "metadata": {},
     "output_type": "display_data"
    },
    {
     "data": {
      "application/vnd.jupyter.widget-view+json": {
       "model_id": "ca922d79a59f43be8c4a632afc3667b3",
       "version_major": 2,
       "version_minor": 0
      },
      "text/plain": [
       "Batches:   0%|          | 0/1 [00:00<?, ?it/s]"
      ]
     },
     "metadata": {},
     "output_type": "display_data"
    },
    {
     "data": {
      "application/vnd.jupyter.widget-view+json": {
       "model_id": "310f5dc8da9f4fdab7db664deef48fb9",
       "version_major": 2,
       "version_minor": 0
      },
      "text/plain": [
       "Batches:   0%|          | 0/1 [00:00<?, ?it/s]"
      ]
     },
     "metadata": {},
     "output_type": "display_data"
    },
    {
     "data": {
      "application/vnd.jupyter.widget-view+json": {
       "model_id": "c286dcadd21e42f8a6c222ba656e7a8e",
       "version_major": 2,
       "version_minor": 0
      },
      "text/plain": [
       "Batches:   0%|          | 0/1 [00:00<?, ?it/s]"
      ]
     },
     "metadata": {},
     "output_type": "display_data"
    },
    {
     "data": {
      "application/vnd.jupyter.widget-view+json": {
       "model_id": "7bdb80b275054041a83fdc5ca27a84f4",
       "version_major": 2,
       "version_minor": 0
      },
      "text/plain": [
       "Batches:   0%|          | 0/1 [00:00<?, ?it/s]"
      ]
     },
     "metadata": {},
     "output_type": "display_data"
    },
    {
     "data": {
      "application/vnd.jupyter.widget-view+json": {
       "model_id": "971e74e4b6ea4c84874cc3206349b8c7",
       "version_major": 2,
       "version_minor": 0
      },
      "text/plain": [
       "Batches:   0%|          | 0/1 [00:00<?, ?it/s]"
      ]
     },
     "metadata": {},
     "output_type": "display_data"
    },
    {
     "data": {
      "application/vnd.jupyter.widget-view+json": {
       "model_id": "cfddbb3301194dc9ac185f7a54b294ce",
       "version_major": 2,
       "version_minor": 0
      },
      "text/plain": [
       "Batches:   0%|          | 0/1 [00:00<?, ?it/s]"
      ]
     },
     "metadata": {},
     "output_type": "display_data"
    },
    {
     "data": {
      "application/vnd.jupyter.widget-view+json": {
       "model_id": "748f2884e2df4b3bb9ef5a6966141fb4",
       "version_major": 2,
       "version_minor": 0
      },
      "text/plain": [
       "Batches:   0%|          | 0/1 [00:00<?, ?it/s]"
      ]
     },
     "metadata": {},
     "output_type": "display_data"
    },
    {
     "data": {
      "application/vnd.jupyter.widget-view+json": {
       "model_id": "c0c4bb8df9624b41ba768207dfc39ff9",
       "version_major": 2,
       "version_minor": 0
      },
      "text/plain": [
       "Batches:   0%|          | 0/1 [00:00<?, ?it/s]"
      ]
     },
     "metadata": {},
     "output_type": "display_data"
    },
    {
     "data": {
      "application/vnd.jupyter.widget-view+json": {
       "model_id": "01040eafff1a446aba1f3c58d20bdc2d",
       "version_major": 2,
       "version_minor": 0
      },
      "text/plain": [
       "Batches:   0%|          | 0/1 [00:00<?, ?it/s]"
      ]
     },
     "metadata": {},
     "output_type": "display_data"
    },
    {
     "data": {
      "application/vnd.jupyter.widget-view+json": {
       "model_id": "aee58492cb30483488d05b29a22db48a",
       "version_major": 2,
       "version_minor": 0
      },
      "text/plain": [
       "Batches:   0%|          | 0/1 [00:00<?, ?it/s]"
      ]
     },
     "metadata": {},
     "output_type": "display_data"
    },
    {
     "data": {
      "application/vnd.jupyter.widget-view+json": {
       "model_id": "1f5833fca19d44809e657be930a91fd9",
       "version_major": 2,
       "version_minor": 0
      },
      "text/plain": [
       "Batches:   0%|          | 0/1 [00:00<?, ?it/s]"
      ]
     },
     "metadata": {},
     "output_type": "display_data"
    },
    {
     "data": {
      "application/vnd.jupyter.widget-view+json": {
       "model_id": "4eff76cb6403475882f2d92deae7c1c3",
       "version_major": 2,
       "version_minor": 0
      },
      "text/plain": [
       "Batches:   0%|          | 0/1 [00:00<?, ?it/s]"
      ]
     },
     "metadata": {},
     "output_type": "display_data"
    },
    {
     "data": {
      "application/vnd.jupyter.widget-view+json": {
       "model_id": "3a82a30de6fd4a128e8f354a4798ccb5",
       "version_major": 2,
       "version_minor": 0
      },
      "text/plain": [
       "Batches:   0%|          | 0/1 [00:00<?, ?it/s]"
      ]
     },
     "metadata": {},
     "output_type": "display_data"
    },
    {
     "data": {
      "application/vnd.jupyter.widget-view+json": {
       "model_id": "41c01ef763bb493586b06b0a6adddeb9",
       "version_major": 2,
       "version_minor": 0
      },
      "text/plain": [
       "Batches:   0%|          | 0/1 [00:00<?, ?it/s]"
      ]
     },
     "metadata": {},
     "output_type": "display_data"
    },
    {
     "data": {
      "application/vnd.jupyter.widget-view+json": {
       "model_id": "2b3c95dfa2ed4d92b1c6e5830cc93037",
       "version_major": 2,
       "version_minor": 0
      },
      "text/plain": [
       "Batches:   0%|          | 0/1 [00:00<?, ?it/s]"
      ]
     },
     "metadata": {},
     "output_type": "display_data"
    },
    {
     "data": {
      "application/vnd.jupyter.widget-view+json": {
       "model_id": "fb55166b4dfe4b67af6364b14d1682a8",
       "version_major": 2,
       "version_minor": 0
      },
      "text/plain": [
       "Batches:   0%|          | 0/1 [00:00<?, ?it/s]"
      ]
     },
     "metadata": {},
     "output_type": "display_data"
    },
    {
     "data": {
      "application/vnd.jupyter.widget-view+json": {
       "model_id": "5a32dcce63c441c097f9ae17543f0df3",
       "version_major": 2,
       "version_minor": 0
      },
      "text/plain": [
       "Batches:   0%|          | 0/1 [00:00<?, ?it/s]"
      ]
     },
     "metadata": {},
     "output_type": "display_data"
    },
    {
     "data": {
      "application/vnd.jupyter.widget-view+json": {
       "model_id": "e66363479e7841c4a2cd0a00e86e9c23",
       "version_major": 2,
       "version_minor": 0
      },
      "text/plain": [
       "Batches:   0%|          | 0/1 [00:00<?, ?it/s]"
      ]
     },
     "metadata": {},
     "output_type": "display_data"
    },
    {
     "data": {
      "application/vnd.jupyter.widget-view+json": {
       "model_id": "3a7eec324883457196b102963d78d835",
       "version_major": 2,
       "version_minor": 0
      },
      "text/plain": [
       "Batches:   0%|          | 0/1 [00:00<?, ?it/s]"
      ]
     },
     "metadata": {},
     "output_type": "display_data"
    },
    {
     "data": {
      "application/vnd.jupyter.widget-view+json": {
       "model_id": "12abd836153c4ba28fe77b1e2dffccb4",
       "version_major": 2,
       "version_minor": 0
      },
      "text/plain": [
       "Batches:   0%|          | 0/1 [00:00<?, ?it/s]"
      ]
     },
     "metadata": {},
     "output_type": "display_data"
    },
    {
     "data": {
      "application/vnd.jupyter.widget-view+json": {
       "model_id": "5eee1f40f7714f10a62216c243cb4222",
       "version_major": 2,
       "version_minor": 0
      },
      "text/plain": [
       "Batches:   0%|          | 0/1 [00:00<?, ?it/s]"
      ]
     },
     "metadata": {},
     "output_type": "display_data"
    },
    {
     "data": {
      "application/vnd.jupyter.widget-view+json": {
       "model_id": "add4210ee8c743b2914c7702e4909e63",
       "version_major": 2,
       "version_minor": 0
      },
      "text/plain": [
       "Batches:   0%|          | 0/1 [00:00<?, ?it/s]"
      ]
     },
     "metadata": {},
     "output_type": "display_data"
    },
    {
     "data": {
      "application/vnd.jupyter.widget-view+json": {
       "model_id": "a0887d03705a402ebcbdf44bcb243a79",
       "version_major": 2,
       "version_minor": 0
      },
      "text/plain": [
       "Batches:   0%|          | 0/1 [00:00<?, ?it/s]"
      ]
     },
     "metadata": {},
     "output_type": "display_data"
    },
    {
     "data": {
      "application/vnd.jupyter.widget-view+json": {
       "model_id": "749d94c13c4a425a8857f71644e28b58",
       "version_major": 2,
       "version_minor": 0
      },
      "text/plain": [
       "Batches:   0%|          | 0/1 [00:00<?, ?it/s]"
      ]
     },
     "metadata": {},
     "output_type": "display_data"
    },
    {
     "data": {
      "application/vnd.jupyter.widget-view+json": {
       "model_id": "fbb89e3307854f10a83d0687f82be9f9",
       "version_major": 2,
       "version_minor": 0
      },
      "text/plain": [
       "Batches:   0%|          | 0/1 [00:00<?, ?it/s]"
      ]
     },
     "metadata": {},
     "output_type": "display_data"
    },
    {
     "data": {
      "application/vnd.jupyter.widget-view+json": {
       "model_id": "b907e2229351450c8266f79aa0a47075",
       "version_major": 2,
       "version_minor": 0
      },
      "text/plain": [
       "Batches:   0%|          | 0/1 [00:00<?, ?it/s]"
      ]
     },
     "metadata": {},
     "output_type": "display_data"
    },
    {
     "data": {
      "application/vnd.jupyter.widget-view+json": {
       "model_id": "1be448438d2c4e62af3d01378a4f1496",
       "version_major": 2,
       "version_minor": 0
      },
      "text/plain": [
       "Batches:   0%|          | 0/1 [00:00<?, ?it/s]"
      ]
     },
     "metadata": {},
     "output_type": "display_data"
    },
    {
     "data": {
      "application/vnd.jupyter.widget-view+json": {
       "model_id": "bc22feeab8d84595995b60030027b29a",
       "version_major": 2,
       "version_minor": 0
      },
      "text/plain": [
       "Batches:   0%|          | 0/1 [00:00<?, ?it/s]"
      ]
     },
     "metadata": {},
     "output_type": "display_data"
    },
    {
     "data": {
      "application/vnd.jupyter.widget-view+json": {
       "model_id": "8e2261a6a93b4382bdac93c270d856f7",
       "version_major": 2,
       "version_minor": 0
      },
      "text/plain": [
       "Batches:   0%|          | 0/1 [00:00<?, ?it/s]"
      ]
     },
     "metadata": {},
     "output_type": "display_data"
    },
    {
     "data": {
      "application/vnd.jupyter.widget-view+json": {
       "model_id": "9e897edd956b46f3b5f1cbc96bf0173c",
       "version_major": 2,
       "version_minor": 0
      },
      "text/plain": [
       "Batches:   0%|          | 0/1 [00:00<?, ?it/s]"
      ]
     },
     "metadata": {},
     "output_type": "display_data"
    },
    {
     "data": {
      "application/vnd.jupyter.widget-view+json": {
       "model_id": "cb9e22fc9cc54041b23c1d7c6b10fabe",
       "version_major": 2,
       "version_minor": 0
      },
      "text/plain": [
       "Batches:   0%|          | 0/1 [00:00<?, ?it/s]"
      ]
     },
     "metadata": {},
     "output_type": "display_data"
    },
    {
     "data": {
      "application/vnd.jupyter.widget-view+json": {
       "model_id": "7b91410650e0495684d42ae2f60e5751",
       "version_major": 2,
       "version_minor": 0
      },
      "text/plain": [
       "Batches:   0%|          | 0/1 [00:00<?, ?it/s]"
      ]
     },
     "metadata": {},
     "output_type": "display_data"
    },
    {
     "data": {
      "application/vnd.jupyter.widget-view+json": {
       "model_id": "7cadc719d991495d8c55479076ef362d",
       "version_major": 2,
       "version_minor": 0
      },
      "text/plain": [
       "Batches:   0%|          | 0/1 [00:00<?, ?it/s]"
      ]
     },
     "metadata": {},
     "output_type": "display_data"
    },
    {
     "data": {
      "application/vnd.jupyter.widget-view+json": {
       "model_id": "d75b21528f0044e59ee1c7edb7702284",
       "version_major": 2,
       "version_minor": 0
      },
      "text/plain": [
       "Batches:   0%|          | 0/1 [00:00<?, ?it/s]"
      ]
     },
     "metadata": {},
     "output_type": "display_data"
    },
    {
     "data": {
      "application/vnd.jupyter.widget-view+json": {
       "model_id": "b8467e58e177416686efd2b3e8436e51",
       "version_major": 2,
       "version_minor": 0
      },
      "text/plain": [
       "Batches:   0%|          | 0/1 [00:00<?, ?it/s]"
      ]
     },
     "metadata": {},
     "output_type": "display_data"
    },
    {
     "data": {
      "application/vnd.jupyter.widget-view+json": {
       "model_id": "0c44f0d913394f358c903e41ed852d3a",
       "version_major": 2,
       "version_minor": 0
      },
      "text/plain": [
       "Batches:   0%|          | 0/1 [00:00<?, ?it/s]"
      ]
     },
     "metadata": {},
     "output_type": "display_data"
    },
    {
     "data": {
      "application/vnd.jupyter.widget-view+json": {
       "model_id": "b1c92a5786ea4080a3ecb7c59fbf8fe6",
       "version_major": 2,
       "version_minor": 0
      },
      "text/plain": [
       "Batches:   0%|          | 0/1 [00:00<?, ?it/s]"
      ]
     },
     "metadata": {},
     "output_type": "display_data"
    },
    {
     "data": {
      "application/vnd.jupyter.widget-view+json": {
       "model_id": "123b8857ed2b4d148ebab70d94adc080",
       "version_major": 2,
       "version_minor": 0
      },
      "text/plain": [
       "Batches:   0%|          | 0/1 [00:00<?, ?it/s]"
      ]
     },
     "metadata": {},
     "output_type": "display_data"
    },
    {
     "data": {
      "application/vnd.jupyter.widget-view+json": {
       "model_id": "1861f7204b1d4547983d28dfa0db10bf",
       "version_major": 2,
       "version_minor": 0
      },
      "text/plain": [
       "Batches:   0%|          | 0/1 [00:00<?, ?it/s]"
      ]
     },
     "metadata": {},
     "output_type": "display_data"
    },
    {
     "data": {
      "application/vnd.jupyter.widget-view+json": {
       "model_id": "8e32131c96bc4d35a4cad7022b921466",
       "version_major": 2,
       "version_minor": 0
      },
      "text/plain": [
       "Batches:   0%|          | 0/1 [00:00<?, ?it/s]"
      ]
     },
     "metadata": {},
     "output_type": "display_data"
    },
    {
     "data": {
      "application/vnd.jupyter.widget-view+json": {
       "model_id": "bee8f36f61c949869d69f78cf9c1f38b",
       "version_major": 2,
       "version_minor": 0
      },
      "text/plain": [
       "Batches:   0%|          | 0/1 [00:00<?, ?it/s]"
      ]
     },
     "metadata": {},
     "output_type": "display_data"
    },
    {
     "data": {
      "application/vnd.jupyter.widget-view+json": {
       "model_id": "249b699f504b4ecab6375117559e07fa",
       "version_major": 2,
       "version_minor": 0
      },
      "text/plain": [
       "Batches:   0%|          | 0/1 [00:00<?, ?it/s]"
      ]
     },
     "metadata": {},
     "output_type": "display_data"
    },
    {
     "data": {
      "application/vnd.jupyter.widget-view+json": {
       "model_id": "aa6991dbb292465caf7d7e49bc6b2535",
       "version_major": 2,
       "version_minor": 0
      },
      "text/plain": [
       "Batches:   0%|          | 0/1 [00:00<?, ?it/s]"
      ]
     },
     "metadata": {},
     "output_type": "display_data"
    },
    {
     "data": {
      "application/vnd.jupyter.widget-view+json": {
       "model_id": "aad70960dfde4b08bfdd9b4c570be6aa",
       "version_major": 2,
       "version_minor": 0
      },
      "text/plain": [
       "Batches:   0%|          | 0/1 [00:00<?, ?it/s]"
      ]
     },
     "metadata": {},
     "output_type": "display_data"
    },
    {
     "data": {
      "application/vnd.jupyter.widget-view+json": {
       "model_id": "f313907201e64708b3ad2beca80b1afb",
       "version_major": 2,
       "version_minor": 0
      },
      "text/plain": [
       "Batches:   0%|          | 0/1 [00:00<?, ?it/s]"
      ]
     },
     "metadata": {},
     "output_type": "display_data"
    },
    {
     "data": {
      "application/vnd.jupyter.widget-view+json": {
       "model_id": "82f26d50c1104fa1b83695271400d2c1",
       "version_major": 2,
       "version_minor": 0
      },
      "text/plain": [
       "Batches:   0%|          | 0/1 [00:00<?, ?it/s]"
      ]
     },
     "metadata": {},
     "output_type": "display_data"
    },
    {
     "data": {
      "application/vnd.jupyter.widget-view+json": {
       "model_id": "700bcb9cc3cf4c6ba028c426b73fa4de",
       "version_major": 2,
       "version_minor": 0
      },
      "text/plain": [
       "Batches:   0%|          | 0/1 [00:00<?, ?it/s]"
      ]
     },
     "metadata": {},
     "output_type": "display_data"
    },
    {
     "data": {
      "application/vnd.jupyter.widget-view+json": {
       "model_id": "cc188ba814b448d39a0bc2a65ea1276c",
       "version_major": 2,
       "version_minor": 0
      },
      "text/plain": [
       "Batches:   0%|          | 0/1 [00:00<?, ?it/s]"
      ]
     },
     "metadata": {},
     "output_type": "display_data"
    },
    {
     "data": {
      "application/vnd.jupyter.widget-view+json": {
       "model_id": "dd17b6c3c9844a00b0592ba45759b8a5",
       "version_major": 2,
       "version_minor": 0
      },
      "text/plain": [
       "Batches:   0%|          | 0/1 [00:00<?, ?it/s]"
      ]
     },
     "metadata": {},
     "output_type": "display_data"
    },
    {
     "data": {
      "application/vnd.jupyter.widget-view+json": {
       "model_id": "7e95ecb61b8448e9ac87bafc5d1ab46f",
       "version_major": 2,
       "version_minor": 0
      },
      "text/plain": [
       "Batches:   0%|          | 0/1 [00:00<?, ?it/s]"
      ]
     },
     "metadata": {},
     "output_type": "display_data"
    },
    {
     "data": {
      "application/vnd.jupyter.widget-view+json": {
       "model_id": "0da777261b7e482997cc6977fc4781ea",
       "version_major": 2,
       "version_minor": 0
      },
      "text/plain": [
       "Batches:   0%|          | 0/1 [00:00<?, ?it/s]"
      ]
     },
     "metadata": {},
     "output_type": "display_data"
    },
    {
     "data": {
      "application/vnd.jupyter.widget-view+json": {
       "model_id": "e05f22029a8145578403d7296486c5d4",
       "version_major": 2,
       "version_minor": 0
      },
      "text/plain": [
       "Batches:   0%|          | 0/1 [00:00<?, ?it/s]"
      ]
     },
     "metadata": {},
     "output_type": "display_data"
    },
    {
     "data": {
      "application/vnd.jupyter.widget-view+json": {
       "model_id": "f50202e31fd349f6b821e90bb6209289",
       "version_major": 2,
       "version_minor": 0
      },
      "text/plain": [
       "Batches:   0%|          | 0/1 [00:00<?, ?it/s]"
      ]
     },
     "metadata": {},
     "output_type": "display_data"
    },
    {
     "data": {
      "application/vnd.jupyter.widget-view+json": {
       "model_id": "f20ca99c3cdc4034bc58f2be32e7de23",
       "version_major": 2,
       "version_minor": 0
      },
      "text/plain": [
       "Batches:   0%|          | 0/1 [00:00<?, ?it/s]"
      ]
     },
     "metadata": {},
     "output_type": "display_data"
    },
    {
     "data": {
      "application/vnd.jupyter.widget-view+json": {
       "model_id": "ed1075032e72453bb820cd4bd190f0f0",
       "version_major": 2,
       "version_minor": 0
      },
      "text/plain": [
       "Batches:   0%|          | 0/1 [00:00<?, ?it/s]"
      ]
     },
     "metadata": {},
     "output_type": "display_data"
    },
    {
     "data": {
      "application/vnd.jupyter.widget-view+json": {
       "model_id": "80ec09a7114d49d28c376468aefb9794",
       "version_major": 2,
       "version_minor": 0
      },
      "text/plain": [
       "Batches:   0%|          | 0/1 [00:00<?, ?it/s]"
      ]
     },
     "metadata": {},
     "output_type": "display_data"
    },
    {
     "data": {
      "application/vnd.jupyter.widget-view+json": {
       "model_id": "1dcb9fa8e59242eb82753d25e4453bb7",
       "version_major": 2,
       "version_minor": 0
      },
      "text/plain": [
       "Batches:   0%|          | 0/1 [00:00<?, ?it/s]"
      ]
     },
     "metadata": {},
     "output_type": "display_data"
    },
    {
     "data": {
      "application/vnd.jupyter.widget-view+json": {
       "model_id": "ab7e62c8833241729ac97056cf8f4d03",
       "version_major": 2,
       "version_minor": 0
      },
      "text/plain": [
       "Batches:   0%|          | 0/1 [00:00<?, ?it/s]"
      ]
     },
     "metadata": {},
     "output_type": "display_data"
    },
    {
     "data": {
      "application/vnd.jupyter.widget-view+json": {
       "model_id": "9d6c9b871c07495bafb40b91ed330e30",
       "version_major": 2,
       "version_minor": 0
      },
      "text/plain": [
       "Batches:   0%|          | 0/1 [00:00<?, ?it/s]"
      ]
     },
     "metadata": {},
     "output_type": "display_data"
    },
    {
     "data": {
      "application/vnd.jupyter.widget-view+json": {
       "model_id": "6b761e5c4e5842fd80232b1854218205",
       "version_major": 2,
       "version_minor": 0
      },
      "text/plain": [
       "Batches:   0%|          | 0/1 [00:00<?, ?it/s]"
      ]
     },
     "metadata": {},
     "output_type": "display_data"
    },
    {
     "data": {
      "application/vnd.jupyter.widget-view+json": {
       "model_id": "76ad8b8710a74709bd9c1eee23f6c4a1",
       "version_major": 2,
       "version_minor": 0
      },
      "text/plain": [
       "Batches:   0%|          | 0/1 [00:00<?, ?it/s]"
      ]
     },
     "metadata": {},
     "output_type": "display_data"
    },
    {
     "data": {
      "application/vnd.jupyter.widget-view+json": {
       "model_id": "ab7a07ede47742fba11b15bdf4a0cf6e",
       "version_major": 2,
       "version_minor": 0
      },
      "text/plain": [
       "Batches:   0%|          | 0/1 [00:00<?, ?it/s]"
      ]
     },
     "metadata": {},
     "output_type": "display_data"
    },
    {
     "data": {
      "application/vnd.jupyter.widget-view+json": {
       "model_id": "b509363f724842588aac663cb6fb2f14",
       "version_major": 2,
       "version_minor": 0
      },
      "text/plain": [
       "Batches:   0%|          | 0/1 [00:00<?, ?it/s]"
      ]
     },
     "metadata": {},
     "output_type": "display_data"
    },
    {
     "data": {
      "application/vnd.jupyter.widget-view+json": {
       "model_id": "b7884076ed774923bf201cb62fafd5cf",
       "version_major": 2,
       "version_minor": 0
      },
      "text/plain": [
       "Batches:   0%|          | 0/1 [00:00<?, ?it/s]"
      ]
     },
     "metadata": {},
     "output_type": "display_data"
    },
    {
     "data": {
      "application/vnd.jupyter.widget-view+json": {
       "model_id": "dc5febcb02ab4f31902edc03fde024e9",
       "version_major": 2,
       "version_minor": 0
      },
      "text/plain": [
       "Batches:   0%|          | 0/1 [00:00<?, ?it/s]"
      ]
     },
     "metadata": {},
     "output_type": "display_data"
    },
    {
     "data": {
      "application/vnd.jupyter.widget-view+json": {
       "model_id": "101c1b4e4f6b441a9d6c7aa954d1cb59",
       "version_major": 2,
       "version_minor": 0
      },
      "text/plain": [
       "Batches:   0%|          | 0/1 [00:00<?, ?it/s]"
      ]
     },
     "metadata": {},
     "output_type": "display_data"
    },
    {
     "data": {
      "application/vnd.jupyter.widget-view+json": {
       "model_id": "502b4492c3c94f85afcab12739489b24",
       "version_major": 2,
       "version_minor": 0
      },
      "text/plain": [
       "Batches:   0%|          | 0/1 [00:00<?, ?it/s]"
      ]
     },
     "metadata": {},
     "output_type": "display_data"
    },
    {
     "data": {
      "application/vnd.jupyter.widget-view+json": {
       "model_id": "418255695bd44b519d463db42a588783",
       "version_major": 2,
       "version_minor": 0
      },
      "text/plain": [
       "Batches:   0%|          | 0/1 [00:00<?, ?it/s]"
      ]
     },
     "metadata": {},
     "output_type": "display_data"
    },
    {
     "data": {
      "application/vnd.jupyter.widget-view+json": {
       "model_id": "d0617dad44ab450fa328188a0878d93d",
       "version_major": 2,
       "version_minor": 0
      },
      "text/plain": [
       "Batches:   0%|          | 0/1 [00:00<?, ?it/s]"
      ]
     },
     "metadata": {},
     "output_type": "display_data"
    },
    {
     "data": {
      "application/vnd.jupyter.widget-view+json": {
       "model_id": "51f7057e3b014ea4844e123d8b3469c8",
       "version_major": 2,
       "version_minor": 0
      },
      "text/plain": [
       "Batches:   0%|          | 0/1 [00:00<?, ?it/s]"
      ]
     },
     "metadata": {},
     "output_type": "display_data"
    },
    {
     "data": {
      "application/vnd.jupyter.widget-view+json": {
       "model_id": "c52d66d06dc34a32b2fbf14d7032ad39",
       "version_major": 2,
       "version_minor": 0
      },
      "text/plain": [
       "Batches:   0%|          | 0/1 [00:00<?, ?it/s]"
      ]
     },
     "metadata": {},
     "output_type": "display_data"
    },
    {
     "data": {
      "application/vnd.jupyter.widget-view+json": {
       "model_id": "bbd28bb4be4642a09112928234cac57c",
       "version_major": 2,
       "version_minor": 0
      },
      "text/plain": [
       "Batches:   0%|          | 0/1 [00:00<?, ?it/s]"
      ]
     },
     "metadata": {},
     "output_type": "display_data"
    },
    {
     "data": {
      "application/vnd.jupyter.widget-view+json": {
       "model_id": "21209474dfa142a4bf4c00a7a4f97e70",
       "version_major": 2,
       "version_minor": 0
      },
      "text/plain": [
       "Batches:   0%|          | 0/1 [00:00<?, ?it/s]"
      ]
     },
     "metadata": {},
     "output_type": "display_data"
    },
    {
     "data": {
      "application/vnd.jupyter.widget-view+json": {
       "model_id": "d056f9dcc9cc4e68a61bc8746718d280",
       "version_major": 2,
       "version_minor": 0
      },
      "text/plain": [
       "Batches:   0%|          | 0/1 [00:00<?, ?it/s]"
      ]
     },
     "metadata": {},
     "output_type": "display_data"
    },
    {
     "data": {
      "application/vnd.jupyter.widget-view+json": {
       "model_id": "aca4e76dd054474192e1312f1b44eb4f",
       "version_major": 2,
       "version_minor": 0
      },
      "text/plain": [
       "Batches:   0%|          | 0/1 [00:00<?, ?it/s]"
      ]
     },
     "metadata": {},
     "output_type": "display_data"
    },
    {
     "data": {
      "application/vnd.jupyter.widget-view+json": {
       "model_id": "2e618407737442edb8069a7b75781aa6",
       "version_major": 2,
       "version_minor": 0
      },
      "text/plain": [
       "Batches:   0%|          | 0/1 [00:00<?, ?it/s]"
      ]
     },
     "metadata": {},
     "output_type": "display_data"
    },
    {
     "data": {
      "application/vnd.jupyter.widget-view+json": {
       "model_id": "f507c4b4227e455a8b04d9fff7f2732f",
       "version_major": 2,
       "version_minor": 0
      },
      "text/plain": [
       "Batches:   0%|          | 0/1 [00:00<?, ?it/s]"
      ]
     },
     "metadata": {},
     "output_type": "display_data"
    },
    {
     "data": {
      "application/vnd.jupyter.widget-view+json": {
       "model_id": "7ef94ca946664bdb9f7b2d2be65127d7",
       "version_major": 2,
       "version_minor": 0
      },
      "text/plain": [
       "Batches:   0%|          | 0/1 [00:00<?, ?it/s]"
      ]
     },
     "metadata": {},
     "output_type": "display_data"
    },
    {
     "data": {
      "application/vnd.jupyter.widget-view+json": {
       "model_id": "d21b01c2fc9b4bdf82ead0157d9b411c",
       "version_major": 2,
       "version_minor": 0
      },
      "text/plain": [
       "Batches:   0%|          | 0/1 [00:00<?, ?it/s]"
      ]
     },
     "metadata": {},
     "output_type": "display_data"
    },
    {
     "data": {
      "application/vnd.jupyter.widget-view+json": {
       "model_id": "d7e865cb5ce94d218d1a3537327e1177",
       "version_major": 2,
       "version_minor": 0
      },
      "text/plain": [
       "Batches:   0%|          | 0/1 [00:00<?, ?it/s]"
      ]
     },
     "metadata": {},
     "output_type": "display_data"
    },
    {
     "data": {
      "application/vnd.jupyter.widget-view+json": {
       "model_id": "f9a9b6dbf2f84a4d9beef0c378251be1",
       "version_major": 2,
       "version_minor": 0
      },
      "text/plain": [
       "Batches:   0%|          | 0/1 [00:00<?, ?it/s]"
      ]
     },
     "metadata": {},
     "output_type": "display_data"
    },
    {
     "data": {
      "application/vnd.jupyter.widget-view+json": {
       "model_id": "94e7711b783e4d289c3e99a332020b64",
       "version_major": 2,
       "version_minor": 0
      },
      "text/plain": [
       "Batches:   0%|          | 0/1 [00:00<?, ?it/s]"
      ]
     },
     "metadata": {},
     "output_type": "display_data"
    },
    {
     "data": {
      "application/vnd.jupyter.widget-view+json": {
       "model_id": "aebe9507a76842a3bd31848ed8787674",
       "version_major": 2,
       "version_minor": 0
      },
      "text/plain": [
       "Batches:   0%|          | 0/1 [00:00<?, ?it/s]"
      ]
     },
     "metadata": {},
     "output_type": "display_data"
    },
    {
     "data": {
      "application/vnd.jupyter.widget-view+json": {
       "model_id": "81b22f0d00b447aa8a1414c37ed94657",
       "version_major": 2,
       "version_minor": 0
      },
      "text/plain": [
       "Batches:   0%|          | 0/1 [00:00<?, ?it/s]"
      ]
     },
     "metadata": {},
     "output_type": "display_data"
    },
    {
     "data": {
      "application/vnd.jupyter.widget-view+json": {
       "model_id": "5a8925bfdf5e4a4c9896a35d0fb27d30",
       "version_major": 2,
       "version_minor": 0
      },
      "text/plain": [
       "Batches:   0%|          | 0/1 [00:00<?, ?it/s]"
      ]
     },
     "metadata": {},
     "output_type": "display_data"
    },
    {
     "data": {
      "application/vnd.jupyter.widget-view+json": {
       "model_id": "04cedf4484714e949d1b88bbe0906587",
       "version_major": 2,
       "version_minor": 0
      },
      "text/plain": [
       "Batches:   0%|          | 0/1 [00:00<?, ?it/s]"
      ]
     },
     "metadata": {},
     "output_type": "display_data"
    },
    {
     "data": {
      "application/vnd.jupyter.widget-view+json": {
       "model_id": "7f934aa27451459ab3a7efc2cab2b1c4",
       "version_major": 2,
       "version_minor": 0
      },
      "text/plain": [
       "Batches:   0%|          | 0/1 [00:00<?, ?it/s]"
      ]
     },
     "metadata": {},
     "output_type": "display_data"
    },
    {
     "data": {
      "application/vnd.jupyter.widget-view+json": {
       "model_id": "e6a353dda41245a88883b6caec6f75fa",
       "version_major": 2,
       "version_minor": 0
      },
      "text/plain": [
       "Batches:   0%|          | 0/1 [00:00<?, ?it/s]"
      ]
     },
     "metadata": {},
     "output_type": "display_data"
    },
    {
     "data": {
      "application/vnd.jupyter.widget-view+json": {
       "model_id": "2d48643754d74192b1d2edd6c0cacba9",
       "version_major": 2,
       "version_minor": 0
      },
      "text/plain": [
       "Batches:   0%|          | 0/1 [00:00<?, ?it/s]"
      ]
     },
     "metadata": {},
     "output_type": "display_data"
    },
    {
     "data": {
      "application/vnd.jupyter.widget-view+json": {
       "model_id": "22c5ef45775f463dbf659f0c34338ef1",
       "version_major": 2,
       "version_minor": 0
      },
      "text/plain": [
       "Batches:   0%|          | 0/1 [00:00<?, ?it/s]"
      ]
     },
     "metadata": {},
     "output_type": "display_data"
    },
    {
     "data": {
      "application/vnd.jupyter.widget-view+json": {
       "model_id": "0adc38360c0a49d8abd31a378ac89090",
       "version_major": 2,
       "version_minor": 0
      },
      "text/plain": [
       "Batches:   0%|          | 0/1 [00:00<?, ?it/s]"
      ]
     },
     "metadata": {},
     "output_type": "display_data"
    },
    {
     "data": {
      "application/vnd.jupyter.widget-view+json": {
       "model_id": "5c24be37cef5427286b6c9bd3297fbba",
       "version_major": 2,
       "version_minor": 0
      },
      "text/plain": [
       "Batches:   0%|          | 0/1 [00:00<?, ?it/s]"
      ]
     },
     "metadata": {},
     "output_type": "display_data"
    },
    {
     "data": {
      "application/vnd.jupyter.widget-view+json": {
       "model_id": "21c597a2e5e34843beee08cadcd21d07",
       "version_major": 2,
       "version_minor": 0
      },
      "text/plain": [
       "Batches:   0%|          | 0/1 [00:00<?, ?it/s]"
      ]
     },
     "metadata": {},
     "output_type": "display_data"
    },
    {
     "data": {
      "application/vnd.jupyter.widget-view+json": {
       "model_id": "24b0cd284aae4d3ea19a2b562fa4c65b",
       "version_major": 2,
       "version_minor": 0
      },
      "text/plain": [
       "Batches:   0%|          | 0/1 [00:00<?, ?it/s]"
      ]
     },
     "metadata": {},
     "output_type": "display_data"
    },
    {
     "data": {
      "application/vnd.jupyter.widget-view+json": {
       "model_id": "1481f694f40844768c7d6090690ad368",
       "version_major": 2,
       "version_minor": 0
      },
      "text/plain": [
       "Batches:   0%|          | 0/1 [00:00<?, ?it/s]"
      ]
     },
     "metadata": {},
     "output_type": "display_data"
    },
    {
     "data": {
      "application/vnd.jupyter.widget-view+json": {
       "model_id": "2018da8fb29c4b76910660c44a07fbde",
       "version_major": 2,
       "version_minor": 0
      },
      "text/plain": [
       "Batches:   0%|          | 0/1 [00:00<?, ?it/s]"
      ]
     },
     "metadata": {},
     "output_type": "display_data"
    },
    {
     "data": {
      "application/vnd.jupyter.widget-view+json": {
       "model_id": "5984b067fa3c40ea9ca507973988dfd1",
       "version_major": 2,
       "version_minor": 0
      },
      "text/plain": [
       "Batches:   0%|          | 0/1 [00:00<?, ?it/s]"
      ]
     },
     "metadata": {},
     "output_type": "display_data"
    },
    {
     "data": {
      "application/vnd.jupyter.widget-view+json": {
       "model_id": "2cd75733836645fc943f93426f500aa3",
       "version_major": 2,
       "version_minor": 0
      },
      "text/plain": [
       "Batches:   0%|          | 0/1 [00:00<?, ?it/s]"
      ]
     },
     "metadata": {},
     "output_type": "display_data"
    },
    {
     "data": {
      "application/vnd.jupyter.widget-view+json": {
       "model_id": "f4c42d2c2a6a4f18860cd8d21ed6ce1e",
       "version_major": 2,
       "version_minor": 0
      },
      "text/plain": [
       "Batches:   0%|          | 0/1 [00:00<?, ?it/s]"
      ]
     },
     "metadata": {},
     "output_type": "display_data"
    },
    {
     "data": {
      "application/vnd.jupyter.widget-view+json": {
       "model_id": "2ee610da66ad4dd89b758ed600891fbf",
       "version_major": 2,
       "version_minor": 0
      },
      "text/plain": [
       "Batches:   0%|          | 0/1 [00:00<?, ?it/s]"
      ]
     },
     "metadata": {},
     "output_type": "display_data"
    },
    {
     "data": {
      "application/vnd.jupyter.widget-view+json": {
       "model_id": "0438ba0285ae4e5a81d27878c590b614",
       "version_major": 2,
       "version_minor": 0
      },
      "text/plain": [
       "Batches:   0%|          | 0/1 [00:00<?, ?it/s]"
      ]
     },
     "metadata": {},
     "output_type": "display_data"
    },
    {
     "data": {
      "application/vnd.jupyter.widget-view+json": {
       "model_id": "9e7556057c5440acb3d6181682b02b2b",
       "version_major": 2,
       "version_minor": 0
      },
      "text/plain": [
       "Batches:   0%|          | 0/1 [00:00<?, ?it/s]"
      ]
     },
     "metadata": {},
     "output_type": "display_data"
    },
    {
     "data": {
      "application/vnd.jupyter.widget-view+json": {
       "model_id": "1fda075da08747f6b5f9ded5500df5ff",
       "version_major": 2,
       "version_minor": 0
      },
      "text/plain": [
       "Batches:   0%|          | 0/1 [00:00<?, ?it/s]"
      ]
     },
     "metadata": {},
     "output_type": "display_data"
    },
    {
     "data": {
      "application/vnd.jupyter.widget-view+json": {
       "model_id": "adac62f832554b4a80cd9d2a3f17bbb6",
       "version_major": 2,
       "version_minor": 0
      },
      "text/plain": [
       "Batches:   0%|          | 0/1 [00:00<?, ?it/s]"
      ]
     },
     "metadata": {},
     "output_type": "display_data"
    },
    {
     "data": {
      "application/vnd.jupyter.widget-view+json": {
       "model_id": "127b52da09784d3fbadde85db512f019",
       "version_major": 2,
       "version_minor": 0
      },
      "text/plain": [
       "Batches:   0%|          | 0/1 [00:00<?, ?it/s]"
      ]
     },
     "metadata": {},
     "output_type": "display_data"
    },
    {
     "data": {
      "application/vnd.jupyter.widget-view+json": {
       "model_id": "48ecc50b8d7644b3ac1f1d2516d43230",
       "version_major": 2,
       "version_minor": 0
      },
      "text/plain": [
       "Batches:   0%|          | 0/1 [00:00<?, ?it/s]"
      ]
     },
     "metadata": {},
     "output_type": "display_data"
    },
    {
     "data": {
      "application/vnd.jupyter.widget-view+json": {
       "model_id": "ca5bc0fb5b7f43c4bc376643e191b7c3",
       "version_major": 2,
       "version_minor": 0
      },
      "text/plain": [
       "Batches:   0%|          | 0/1 [00:00<?, ?it/s]"
      ]
     },
     "metadata": {},
     "output_type": "display_data"
    },
    {
     "data": {
      "application/vnd.jupyter.widget-view+json": {
       "model_id": "d66728d6b91342e3ba6ffc7c4649d29e",
       "version_major": 2,
       "version_minor": 0
      },
      "text/plain": [
       "Batches:   0%|          | 0/1 [00:00<?, ?it/s]"
      ]
     },
     "metadata": {},
     "output_type": "display_data"
    },
    {
     "data": {
      "application/vnd.jupyter.widget-view+json": {
       "model_id": "8644ac973dec479b8e4b55bf45878518",
       "version_major": 2,
       "version_minor": 0
      },
      "text/plain": [
       "Batches:   0%|          | 0/1 [00:00<?, ?it/s]"
      ]
     },
     "metadata": {},
     "output_type": "display_data"
    },
    {
     "data": {
      "application/vnd.jupyter.widget-view+json": {
       "model_id": "f4b5e2f5caeb4bb383dba25b31e7c995",
       "version_major": 2,
       "version_minor": 0
      },
      "text/plain": [
       "Batches:   0%|          | 0/1 [00:00<?, ?it/s]"
      ]
     },
     "metadata": {},
     "output_type": "display_data"
    },
    {
     "data": {
      "application/vnd.jupyter.widget-view+json": {
       "model_id": "87745077342c4dc193e34b121d25dcd0",
       "version_major": 2,
       "version_minor": 0
      },
      "text/plain": [
       "Batches:   0%|          | 0/1 [00:00<?, ?it/s]"
      ]
     },
     "metadata": {},
     "output_type": "display_data"
    },
    {
     "data": {
      "application/vnd.jupyter.widget-view+json": {
       "model_id": "7de6d22f7c0244cbae94ae5c2c6392d9",
       "version_major": 2,
       "version_minor": 0
      },
      "text/plain": [
       "Batches:   0%|          | 0/1 [00:00<?, ?it/s]"
      ]
     },
     "metadata": {},
     "output_type": "display_data"
    },
    {
     "data": {
      "application/vnd.jupyter.widget-view+json": {
       "model_id": "a637049a103d4ca583160c24bcd39c4c",
       "version_major": 2,
       "version_minor": 0
      },
      "text/plain": [
       "Batches:   0%|          | 0/1 [00:00<?, ?it/s]"
      ]
     },
     "metadata": {},
     "output_type": "display_data"
    },
    {
     "data": {
      "application/vnd.jupyter.widget-view+json": {
       "model_id": "b8c33ea214eb41368b3d4d0dc551c70e",
       "version_major": 2,
       "version_minor": 0
      },
      "text/plain": [
       "Batches:   0%|          | 0/1 [00:00<?, ?it/s]"
      ]
     },
     "metadata": {},
     "output_type": "display_data"
    },
    {
     "data": {
      "application/vnd.jupyter.widget-view+json": {
       "model_id": "bc94aa9ce8ed4782bf5f8159284ebeac",
       "version_major": 2,
       "version_minor": 0
      },
      "text/plain": [
       "Batches:   0%|          | 0/1 [00:00<?, ?it/s]"
      ]
     },
     "metadata": {},
     "output_type": "display_data"
    },
    {
     "data": {
      "application/vnd.jupyter.widget-view+json": {
       "model_id": "15e463689fe244649fad60a1d9735e9c",
       "version_major": 2,
       "version_minor": 0
      },
      "text/plain": [
       "Batches:   0%|          | 0/1 [00:00<?, ?it/s]"
      ]
     },
     "metadata": {},
     "output_type": "display_data"
    },
    {
     "data": {
      "application/vnd.jupyter.widget-view+json": {
       "model_id": "8105c65b68a143f3b0a5d96213556678",
       "version_major": 2,
       "version_minor": 0
      },
      "text/plain": [
       "Batches:   0%|          | 0/1 [00:00<?, ?it/s]"
      ]
     },
     "metadata": {},
     "output_type": "display_data"
    },
    {
     "data": {
      "application/vnd.jupyter.widget-view+json": {
       "model_id": "2e0578baa1c04332b521792c656db11b",
       "version_major": 2,
       "version_minor": 0
      },
      "text/plain": [
       "Batches:   0%|          | 0/1 [00:00<?, ?it/s]"
      ]
     },
     "metadata": {},
     "output_type": "display_data"
    },
    {
     "data": {
      "application/vnd.jupyter.widget-view+json": {
       "model_id": "f448fe63804e4ac0a0b0570bb3f6b679",
       "version_major": 2,
       "version_minor": 0
      },
      "text/plain": [
       "Batches:   0%|          | 0/1 [00:00<?, ?it/s]"
      ]
     },
     "metadata": {},
     "output_type": "display_data"
    },
    {
     "data": {
      "application/vnd.jupyter.widget-view+json": {
       "model_id": "1b24c4b2f5854d03be821aeab593e876",
       "version_major": 2,
       "version_minor": 0
      },
      "text/plain": [
       "Batches:   0%|          | 0/1 [00:00<?, ?it/s]"
      ]
     },
     "metadata": {},
     "output_type": "display_data"
    },
    {
     "data": {
      "application/vnd.jupyter.widget-view+json": {
       "model_id": "b0a0138e970d4d1582db7b736bf3e37a",
       "version_major": 2,
       "version_minor": 0
      },
      "text/plain": [
       "Batches:   0%|          | 0/1 [00:00<?, ?it/s]"
      ]
     },
     "metadata": {},
     "output_type": "display_data"
    },
    {
     "data": {
      "application/vnd.jupyter.widget-view+json": {
       "model_id": "34d03342cc634ce3a336f8e89cc8f51b",
       "version_major": 2,
       "version_minor": 0
      },
      "text/plain": [
       "Batches:   0%|          | 0/1 [00:00<?, ?it/s]"
      ]
     },
     "metadata": {},
     "output_type": "display_data"
    },
    {
     "data": {
      "application/vnd.jupyter.widget-view+json": {
       "model_id": "b4f2a283fff047a98661509b7984fb1b",
       "version_major": 2,
       "version_minor": 0
      },
      "text/plain": [
       "Batches:   0%|          | 0/1 [00:00<?, ?it/s]"
      ]
     },
     "metadata": {},
     "output_type": "display_data"
    },
    {
     "data": {
      "application/vnd.jupyter.widget-view+json": {
       "model_id": "a62a3b986399450dbdead2b78dd141a2",
       "version_major": 2,
       "version_minor": 0
      },
      "text/plain": [
       "Batches:   0%|          | 0/1 [00:00<?, ?it/s]"
      ]
     },
     "metadata": {},
     "output_type": "display_data"
    },
    {
     "data": {
      "application/vnd.jupyter.widget-view+json": {
       "model_id": "f1a20dc75e4b4a68b0473881ff287003",
       "version_major": 2,
       "version_minor": 0
      },
      "text/plain": [
       "Batches:   0%|          | 0/1 [00:00<?, ?it/s]"
      ]
     },
     "metadata": {},
     "output_type": "display_data"
    },
    {
     "data": {
      "application/vnd.jupyter.widget-view+json": {
       "model_id": "f6858695869c46b5b01088cda96052bd",
       "version_major": 2,
       "version_minor": 0
      },
      "text/plain": [
       "Batches:   0%|          | 0/1 [00:00<?, ?it/s]"
      ]
     },
     "metadata": {},
     "output_type": "display_data"
    },
    {
     "data": {
      "application/vnd.jupyter.widget-view+json": {
       "model_id": "c3a53f018ada4b0e8b1d72a128f33f84",
       "version_major": 2,
       "version_minor": 0
      },
      "text/plain": [
       "Batches:   0%|          | 0/1 [00:00<?, ?it/s]"
      ]
     },
     "metadata": {},
     "output_type": "display_data"
    },
    {
     "data": {
      "application/vnd.jupyter.widget-view+json": {
       "model_id": "314fde56566d449ca15717c3ed59ab39",
       "version_major": 2,
       "version_minor": 0
      },
      "text/plain": [
       "Batches:   0%|          | 0/1 [00:00<?, ?it/s]"
      ]
     },
     "metadata": {},
     "output_type": "display_data"
    },
    {
     "data": {
      "application/vnd.jupyter.widget-view+json": {
       "model_id": "541359d8676d461d89244ac24a783dab",
       "version_major": 2,
       "version_minor": 0
      },
      "text/plain": [
       "Batches:   0%|          | 0/1 [00:00<?, ?it/s]"
      ]
     },
     "metadata": {},
     "output_type": "display_data"
    },
    {
     "data": {
      "application/vnd.jupyter.widget-view+json": {
       "model_id": "6fb10a0266bb419f87d303fb71699b31",
       "version_major": 2,
       "version_minor": 0
      },
      "text/plain": [
       "Batches:   0%|          | 0/1 [00:00<?, ?it/s]"
      ]
     },
     "metadata": {},
     "output_type": "display_data"
    },
    {
     "data": {
      "application/vnd.jupyter.widget-view+json": {
       "model_id": "8470850a7a31479ba7fb42d734d69031",
       "version_major": 2,
       "version_minor": 0
      },
      "text/plain": [
       "Batches:   0%|          | 0/1 [00:00<?, ?it/s]"
      ]
     },
     "metadata": {},
     "output_type": "display_data"
    },
    {
     "data": {
      "application/vnd.jupyter.widget-view+json": {
       "model_id": "e755a47ca38e49cdad61ed26add6e896",
       "version_major": 2,
       "version_minor": 0
      },
      "text/plain": [
       "Batches:   0%|          | 0/1 [00:00<?, ?it/s]"
      ]
     },
     "metadata": {},
     "output_type": "display_data"
    },
    {
     "data": {
      "application/vnd.jupyter.widget-view+json": {
       "model_id": "0f245a02c2534ea2960760125c1d20eb",
       "version_major": 2,
       "version_minor": 0
      },
      "text/plain": [
       "Batches:   0%|          | 0/1 [00:00<?, ?it/s]"
      ]
     },
     "metadata": {},
     "output_type": "display_data"
    },
    {
     "data": {
      "application/vnd.jupyter.widget-view+json": {
       "model_id": "96f081d6d7aa4288b68d831113d86f1a",
       "version_major": 2,
       "version_minor": 0
      },
      "text/plain": [
       "Batches:   0%|          | 0/1 [00:00<?, ?it/s]"
      ]
     },
     "metadata": {},
     "output_type": "display_data"
    },
    {
     "data": {
      "application/vnd.jupyter.widget-view+json": {
       "model_id": "a42bc0c52b8f44389cd8504564594b84",
       "version_major": 2,
       "version_minor": 0
      },
      "text/plain": [
       "Batches:   0%|          | 0/1 [00:00<?, ?it/s]"
      ]
     },
     "metadata": {},
     "output_type": "display_data"
    },
    {
     "data": {
      "application/vnd.jupyter.widget-view+json": {
       "model_id": "d414f535076a44ebbf0af94fcc05e5f1",
       "version_major": 2,
       "version_minor": 0
      },
      "text/plain": [
       "Batches:   0%|          | 0/1 [00:00<?, ?it/s]"
      ]
     },
     "metadata": {},
     "output_type": "display_data"
    },
    {
     "data": {
      "application/vnd.jupyter.widget-view+json": {
       "model_id": "534ce1da25114e14a4032c65ed5f13cb",
       "version_major": 2,
       "version_minor": 0
      },
      "text/plain": [
       "Batches:   0%|          | 0/1 [00:00<?, ?it/s]"
      ]
     },
     "metadata": {},
     "output_type": "display_data"
    },
    {
     "data": {
      "application/vnd.jupyter.widget-view+json": {
       "model_id": "905f3f4bc5014a2c86cd7f7cc7ef7110",
       "version_major": 2,
       "version_minor": 0
      },
      "text/plain": [
       "Batches:   0%|          | 0/1 [00:00<?, ?it/s]"
      ]
     },
     "metadata": {},
     "output_type": "display_data"
    },
    {
     "data": {
      "application/vnd.jupyter.widget-view+json": {
       "model_id": "6b6b00935ae84116aca9943e6ad67ad5",
       "version_major": 2,
       "version_minor": 0
      },
      "text/plain": [
       "Batches:   0%|          | 0/1 [00:00<?, ?it/s]"
      ]
     },
     "metadata": {},
     "output_type": "display_data"
    },
    {
     "data": {
      "application/vnd.jupyter.widget-view+json": {
       "model_id": "7868792cc49541228bbf2c182d9bd410",
       "version_major": 2,
       "version_minor": 0
      },
      "text/plain": [
       "Batches:   0%|          | 0/1 [00:00<?, ?it/s]"
      ]
     },
     "metadata": {},
     "output_type": "display_data"
    },
    {
     "data": {
      "application/vnd.jupyter.widget-view+json": {
       "model_id": "40d7ce1b56984cd4869f8b95f5956797",
       "version_major": 2,
       "version_minor": 0
      },
      "text/plain": [
       "Batches:   0%|          | 0/1 [00:00<?, ?it/s]"
      ]
     },
     "metadata": {},
     "output_type": "display_data"
    },
    {
     "data": {
      "application/vnd.jupyter.widget-view+json": {
       "model_id": "40e33beb174a4358bc6241b833ea0630",
       "version_major": 2,
       "version_minor": 0
      },
      "text/plain": [
       "Batches:   0%|          | 0/1 [00:00<?, ?it/s]"
      ]
     },
     "metadata": {},
     "output_type": "display_data"
    },
    {
     "data": {
      "application/vnd.jupyter.widget-view+json": {
       "model_id": "101cc449c6da4c02979e299a5ba02968",
       "version_major": 2,
       "version_minor": 0
      },
      "text/plain": [
       "Batches:   0%|          | 0/1 [00:00<?, ?it/s]"
      ]
     },
     "metadata": {},
     "output_type": "display_data"
    },
    {
     "data": {
      "application/vnd.jupyter.widget-view+json": {
       "model_id": "f009acdfb82442da80c681e26ec372e4",
       "version_major": 2,
       "version_minor": 0
      },
      "text/plain": [
       "Batches:   0%|          | 0/1 [00:00<?, ?it/s]"
      ]
     },
     "metadata": {},
     "output_type": "display_data"
    },
    {
     "data": {
      "application/vnd.jupyter.widget-view+json": {
       "model_id": "cbb636402e7c4b419cb6661e55f3ed91",
       "version_major": 2,
       "version_minor": 0
      },
      "text/plain": [
       "Batches:   0%|          | 0/1 [00:00<?, ?it/s]"
      ]
     },
     "metadata": {},
     "output_type": "display_data"
    },
    {
     "data": {
      "application/vnd.jupyter.widget-view+json": {
       "model_id": "0b97dc567e494e71a68bbeeea0f094a0",
       "version_major": 2,
       "version_minor": 0
      },
      "text/plain": [
       "Batches:   0%|          | 0/1 [00:00<?, ?it/s]"
      ]
     },
     "metadata": {},
     "output_type": "display_data"
    },
    {
     "data": {
      "application/vnd.jupyter.widget-view+json": {
       "model_id": "5ccba7ad2e6c4d118b05d273a5105a9b",
       "version_major": 2,
       "version_minor": 0
      },
      "text/plain": [
       "Batches:   0%|          | 0/1 [00:00<?, ?it/s]"
      ]
     },
     "metadata": {},
     "output_type": "display_data"
    },
    {
     "data": {
      "application/vnd.jupyter.widget-view+json": {
       "model_id": "4aa103918bca4885ba692915082de392",
       "version_major": 2,
       "version_minor": 0
      },
      "text/plain": [
       "Batches:   0%|          | 0/1 [00:00<?, ?it/s]"
      ]
     },
     "metadata": {},
     "output_type": "display_data"
    },
    {
     "data": {
      "application/vnd.jupyter.widget-view+json": {
       "model_id": "526f822a575e4e76834fb857103ec7b4",
       "version_major": 2,
       "version_minor": 0
      },
      "text/plain": [
       "Batches:   0%|          | 0/1 [00:00<?, ?it/s]"
      ]
     },
     "metadata": {},
     "output_type": "display_data"
    },
    {
     "data": {
      "application/vnd.jupyter.widget-view+json": {
       "model_id": "94586865bee8463db04103a2d61fa09d",
       "version_major": 2,
       "version_minor": 0
      },
      "text/plain": [
       "Batches:   0%|          | 0/1 [00:00<?, ?it/s]"
      ]
     },
     "metadata": {},
     "output_type": "display_data"
    },
    {
     "data": {
      "application/vnd.jupyter.widget-view+json": {
       "model_id": "30b4ff25dd95412e8b0780209df0385d",
       "version_major": 2,
       "version_minor": 0
      },
      "text/plain": [
       "Batches:   0%|          | 0/1 [00:00<?, ?it/s]"
      ]
     },
     "metadata": {},
     "output_type": "display_data"
    },
    {
     "data": {
      "application/vnd.jupyter.widget-view+json": {
       "model_id": "08155b3b8b81478c9ebc9f8f606f28a9",
       "version_major": 2,
       "version_minor": 0
      },
      "text/plain": [
       "Batches:   0%|          | 0/1 [00:00<?, ?it/s]"
      ]
     },
     "metadata": {},
     "output_type": "display_data"
    },
    {
     "data": {
      "application/vnd.jupyter.widget-view+json": {
       "model_id": "d56e2649d9db4da2b55d82c5e3ab11cd",
       "version_major": 2,
       "version_minor": 0
      },
      "text/plain": [
       "Batches:   0%|          | 0/1 [00:00<?, ?it/s]"
      ]
     },
     "metadata": {},
     "output_type": "display_data"
    },
    {
     "data": {
      "application/vnd.jupyter.widget-view+json": {
       "model_id": "bf5dc385d85341d7b5c3cb3d6e2e443f",
       "version_major": 2,
       "version_minor": 0
      },
      "text/plain": [
       "Batches:   0%|          | 0/1 [00:00<?, ?it/s]"
      ]
     },
     "metadata": {},
     "output_type": "display_data"
    },
    {
     "data": {
      "application/vnd.jupyter.widget-view+json": {
       "model_id": "855f0b36877f4990af925978060285b9",
       "version_major": 2,
       "version_minor": 0
      },
      "text/plain": [
       "Batches:   0%|          | 0/1 [00:00<?, ?it/s]"
      ]
     },
     "metadata": {},
     "output_type": "display_data"
    },
    {
     "data": {
      "application/vnd.jupyter.widget-view+json": {
       "model_id": "f15d5174d59047e69c26c538dce1a675",
       "version_major": 2,
       "version_minor": 0
      },
      "text/plain": [
       "Batches:   0%|          | 0/1 [00:00<?, ?it/s]"
      ]
     },
     "metadata": {},
     "output_type": "display_data"
    },
    {
     "data": {
      "application/vnd.jupyter.widget-view+json": {
       "model_id": "80a0d4e340c041148cc2fd14560f23ce",
       "version_major": 2,
       "version_minor": 0
      },
      "text/plain": [
       "Batches:   0%|          | 0/1 [00:00<?, ?it/s]"
      ]
     },
     "metadata": {},
     "output_type": "display_data"
    },
    {
     "data": {
      "application/vnd.jupyter.widget-view+json": {
       "model_id": "ca5187b689764fea93e62d3ee6ac4b09",
       "version_major": 2,
       "version_minor": 0
      },
      "text/plain": [
       "Batches:   0%|          | 0/1 [00:00<?, ?it/s]"
      ]
     },
     "metadata": {},
     "output_type": "display_data"
    },
    {
     "data": {
      "application/vnd.jupyter.widget-view+json": {
       "model_id": "e07277163c964880ae022c2d2b1e4eb8",
       "version_major": 2,
       "version_minor": 0
      },
      "text/plain": [
       "Batches:   0%|          | 0/1 [00:00<?, ?it/s]"
      ]
     },
     "metadata": {},
     "output_type": "display_data"
    },
    {
     "data": {
      "application/vnd.jupyter.widget-view+json": {
       "model_id": "51cd9c38c70d4bb5a17cc065ae10fbea",
       "version_major": 2,
       "version_minor": 0
      },
      "text/plain": [
       "Batches:   0%|          | 0/1 [00:00<?, ?it/s]"
      ]
     },
     "metadata": {},
     "output_type": "display_data"
    },
    {
     "data": {
      "application/vnd.jupyter.widget-view+json": {
       "model_id": "4db9b86075f145a0802963b2acdfa9ab",
       "version_major": 2,
       "version_minor": 0
      },
      "text/plain": [
       "Batches:   0%|          | 0/1 [00:00<?, ?it/s]"
      ]
     },
     "metadata": {},
     "output_type": "display_data"
    },
    {
     "data": {
      "application/vnd.jupyter.widget-view+json": {
       "model_id": "201315579f914c0786773dbb73e1df07",
       "version_major": 2,
       "version_minor": 0
      },
      "text/plain": [
       "Batches:   0%|          | 0/1 [00:00<?, ?it/s]"
      ]
     },
     "metadata": {},
     "output_type": "display_data"
    },
    {
     "data": {
      "application/vnd.jupyter.widget-view+json": {
       "model_id": "2655d3fca64347aaab015b7f2a8c3106",
       "version_major": 2,
       "version_minor": 0
      },
      "text/plain": [
       "Batches:   0%|          | 0/1 [00:00<?, ?it/s]"
      ]
     },
     "metadata": {},
     "output_type": "display_data"
    },
    {
     "data": {
      "application/vnd.jupyter.widget-view+json": {
       "model_id": "1262b4aa4f974fb59a68df38925c767a",
       "version_major": 2,
       "version_minor": 0
      },
      "text/plain": [
       "Batches:   0%|          | 0/1 [00:00<?, ?it/s]"
      ]
     },
     "metadata": {},
     "output_type": "display_data"
    },
    {
     "name": "stdout",
     "output_type": "stream",
     "text": [
      "Could not freeze embedding layers for gpt2. This is expected for models like T5.\n"
     ]
    },
    {
     "name": "stderr",
     "output_type": "stream",
     "text": [
      "Epoch 1/5 [Train]: 100%|██████████| 35/35 [06:00<00:00, 10.30s/it]\n",
      "Epoch 1/5 [Val]: 100%|██████████| 9/9 [00:18<00:00,  2.11s/it]"
     ]
    },
    {
     "name": "stdout",
     "output_type": "stream",
     "text": [
      "Epoch 1 Val Metrics: Acc=0.5214, AUC=0.5344, F1=0.4056\n"
     ]
    },
    {
     "name": "stderr",
     "output_type": "stream",
     "text": [
      "\n"
     ]
    },
    {
     "name": "stdout",
     "output_type": "stream",
     "text": [
      "Saved new best model with validation loss: 0.6935\n"
     ]
    },
    {
     "name": "stderr",
     "output_type": "stream",
     "text": [
      "Epoch 2/5 [Train]: 100%|██████████| 35/35 [07:12<00:00, 12.35s/it]\n",
      "Epoch 2/5 [Val]: 100%|██████████| 9/9 [00:19<00:00,  2.16s/it]"
     ]
    },
    {
     "name": "stdout",
     "output_type": "stream",
     "text": [
      "Epoch 2 Val Metrics: Acc=0.5143, AUC=0.5942, F1=0.4892\n"
     ]
    },
    {
     "name": "stderr",
     "output_type": "stream",
     "text": [
      "\n"
     ]
    },
    {
     "name": "stdout",
     "output_type": "stream",
     "text": [
      "Saved new best model with validation loss: 0.6901\n"
     ]
    },
    {
     "name": "stderr",
     "output_type": "stream",
     "text": [
      "Epoch 3/5 [Train]: 100%|██████████| 35/35 [07:02<00:00, 12.06s/it]\n",
      "Epoch 3/5 [Val]: 100%|██████████| 9/9 [00:15<00:00,  1.72s/it]"
     ]
    },
    {
     "name": "stdout",
     "output_type": "stream",
     "text": [
      "Epoch 3 Val Metrics: Acc=0.5357, AUC=0.6169, F1=0.5101\n"
     ]
    },
    {
     "name": "stderr",
     "output_type": "stream",
     "text": [
      "\n"
     ]
    },
    {
     "name": "stdout",
     "output_type": "stream",
     "text": [
      "Saved new best model with validation loss: 0.6890\n"
     ]
    },
    {
     "name": "stderr",
     "output_type": "stream",
     "text": [
      "Epoch 4/5 [Train]: 100%|██████████| 35/35 [04:58<00:00,  8.52s/it]\n",
      "Epoch 4/5 [Val]: 100%|██████████| 9/9 [00:13<00:00,  1.48s/it]"
     ]
    },
    {
     "name": "stdout",
     "output_type": "stream",
     "text": [
      "Epoch 4 Val Metrics: Acc=0.6000, AUC=0.6395, F1=0.5665\n"
     ]
    },
    {
     "name": "stderr",
     "output_type": "stream",
     "text": [
      "\n"
     ]
    },
    {
     "name": "stdout",
     "output_type": "stream",
     "text": [
      "Saved new best model with validation loss: 0.6884\n"
     ]
    },
    {
     "name": "stderr",
     "output_type": "stream",
     "text": [
      "Epoch 5/5 [Train]: 100%|██████████| 35/35 [04:56<00:00,  8.46s/it]\n",
      "Epoch 5/5 [Val]: 100%|██████████| 9/9 [00:13<00:00,  1.45s/it]"
     ]
    },
    {
     "name": "stdout",
     "output_type": "stream",
     "text": [
      "Epoch 5 Val Metrics: Acc=0.5143, AUC=0.6456, F1=0.4581\n"
     ]
    },
    {
     "name": "stderr",
     "output_type": "stream",
     "text": [
      "\n"
     ]
    },
    {
     "name": "stdout",
     "output_type": "stream",
     "text": [
      "Saved new best model with validation loss: 0.6856\n",
      "\n",
      " Training completed!\n",
      "\n",
      "--- Average Performance Over All Training Epochs ---\n",
      "epoch           3.000000\n",
      "val_loss        0.689322\n",
      "val_accuracy    0.537143\n",
      "val_auc         0.606124\n",
      "val_f1_score    0.485883\n",
      "\n",
      "--- Evaluating Best Model on Test Set ---\n",
      "Could not freeze embedding layers for gpt2. This is expected for models like T5.\n",
      "Extracting statistical features...\n"
     ]
    },
    {
     "data": {
      "application/vnd.jupyter.widget-view+json": {
       "model_id": "77ff0ce203ed46369fcd927b10f71add",
       "version_major": 2,
       "version_minor": 0
      },
      "text/plain": [
       "Batches:   0%|          | 0/1 [00:00<?, ?it/s]"
      ]
     },
     "metadata": {},
     "output_type": "display_data"
    },
    {
     "data": {
      "application/vnd.jupyter.widget-view+json": {
       "model_id": "6e4e8bb62d84476e9f8789e3f342ce7e",
       "version_major": 2,
       "version_minor": 0
      },
      "text/plain": [
       "Batches:   0%|          | 0/1 [00:00<?, ?it/s]"
      ]
     },
     "metadata": {},
     "output_type": "display_data"
    },
    {
     "data": {
      "application/vnd.jupyter.widget-view+json": {
       "model_id": "b7f8102f22ac4de8a0a045d00317aa1e",
       "version_major": 2,
       "version_minor": 0
      },
      "text/plain": [
       "Batches:   0%|          | 0/1 [00:00<?, ?it/s]"
      ]
     },
     "metadata": {},
     "output_type": "display_data"
    },
    {
     "data": {
      "application/vnd.jupyter.widget-view+json": {
       "model_id": "8cafb3e8d61745018684e1169a5abd6c",
       "version_major": 2,
       "version_minor": 0
      },
      "text/plain": [
       "Batches:   0%|          | 0/1 [00:00<?, ?it/s]"
      ]
     },
     "metadata": {},
     "output_type": "display_data"
    },
    {
     "data": {
      "application/vnd.jupyter.widget-view+json": {
       "model_id": "d4e4fff2ce504feeb20ed1ac3d3e5f77",
       "version_major": 2,
       "version_minor": 0
      },
      "text/plain": [
       "Batches:   0%|          | 0/1 [00:00<?, ?it/s]"
      ]
     },
     "metadata": {},
     "output_type": "display_data"
    },
    {
     "data": {
      "application/vnd.jupyter.widget-view+json": {
       "model_id": "203da38d34d3474c9caf105f85f2cfa7",
       "version_major": 2,
       "version_minor": 0
      },
      "text/plain": [
       "Batches:   0%|          | 0/1 [00:00<?, ?it/s]"
      ]
     },
     "metadata": {},
     "output_type": "display_data"
    },
    {
     "data": {
      "application/vnd.jupyter.widget-view+json": {
       "model_id": "cd0a66f3c2ae489cb04e2f98abc37d6a",
       "version_major": 2,
       "version_minor": 0
      },
      "text/plain": [
       "Batches:   0%|          | 0/1 [00:00<?, ?it/s]"
      ]
     },
     "metadata": {},
     "output_type": "display_data"
    },
    {
     "data": {
      "application/vnd.jupyter.widget-view+json": {
       "model_id": "aac4eab468c747d0aeacb0b0486846b2",
       "version_major": 2,
       "version_minor": 0
      },
      "text/plain": [
       "Batches:   0%|          | 0/1 [00:00<?, ?it/s]"
      ]
     },
     "metadata": {},
     "output_type": "display_data"
    },
    {
     "data": {
      "application/vnd.jupyter.widget-view+json": {
       "model_id": "90e08b3c449c4a149690db42c4691913",
       "version_major": 2,
       "version_minor": 0
      },
      "text/plain": [
       "Batches:   0%|          | 0/1 [00:00<?, ?it/s]"
      ]
     },
     "metadata": {},
     "output_type": "display_data"
    },
    {
     "data": {
      "application/vnd.jupyter.widget-view+json": {
       "model_id": "aafb74b4c1fe495886d1c4a35b74274e",
       "version_major": 2,
       "version_minor": 0
      },
      "text/plain": [
       "Batches:   0%|          | 0/1 [00:00<?, ?it/s]"
      ]
     },
     "metadata": {},
     "output_type": "display_data"
    },
    {
     "data": {
      "application/vnd.jupyter.widget-view+json": {
       "model_id": "1f5c84eec3b34a0e8bf422a7c80fe679",
       "version_major": 2,
       "version_minor": 0
      },
      "text/plain": [
       "Batches:   0%|          | 0/1 [00:00<?, ?it/s]"
      ]
     },
     "metadata": {},
     "output_type": "display_data"
    },
    {
     "data": {
      "application/vnd.jupyter.widget-view+json": {
       "model_id": "272336e111b9451cb2b219b3705ead6c",
       "version_major": 2,
       "version_minor": 0
      },
      "text/plain": [
       "Batches:   0%|          | 0/1 [00:00<?, ?it/s]"
      ]
     },
     "metadata": {},
     "output_type": "display_data"
    },
    {
     "data": {
      "application/vnd.jupyter.widget-view+json": {
       "model_id": "7c914a92dc154b2b8eaca6277fc699e7",
       "version_major": 2,
       "version_minor": 0
      },
      "text/plain": [
       "Batches:   0%|          | 0/1 [00:00<?, ?it/s]"
      ]
     },
     "metadata": {},
     "output_type": "display_data"
    },
    {
     "data": {
      "application/vnd.jupyter.widget-view+json": {
       "model_id": "101c7dfde6824c7695619d02426a71ae",
       "version_major": 2,
       "version_minor": 0
      },
      "text/plain": [
       "Batches:   0%|          | 0/1 [00:00<?, ?it/s]"
      ]
     },
     "metadata": {},
     "output_type": "display_data"
    },
    {
     "data": {
      "application/vnd.jupyter.widget-view+json": {
       "model_id": "362f33c250364ba8b24b9678ea1eb55d",
       "version_major": 2,
       "version_minor": 0
      },
      "text/plain": [
       "Batches:   0%|          | 0/1 [00:00<?, ?it/s]"
      ]
     },
     "metadata": {},
     "output_type": "display_data"
    },
    {
     "data": {
      "application/vnd.jupyter.widget-view+json": {
       "model_id": "ea299a875aa84ef7851a56540f29869c",
       "version_major": 2,
       "version_minor": 0
      },
      "text/plain": [
       "Batches:   0%|          | 0/1 [00:00<?, ?it/s]"
      ]
     },
     "metadata": {},
     "output_type": "display_data"
    },
    {
     "data": {
      "application/vnd.jupyter.widget-view+json": {
       "model_id": "fcde5c19925444f688191f4b9a675c6e",
       "version_major": 2,
       "version_minor": 0
      },
      "text/plain": [
       "Batches:   0%|          | 0/1 [00:00<?, ?it/s]"
      ]
     },
     "metadata": {},
     "output_type": "display_data"
    },
    {
     "data": {
      "application/vnd.jupyter.widget-view+json": {
       "model_id": "2bb882134fb847a19ff0d6ea1b9c4131",
       "version_major": 2,
       "version_minor": 0
      },
      "text/plain": [
       "Batches:   0%|          | 0/1 [00:00<?, ?it/s]"
      ]
     },
     "metadata": {},
     "output_type": "display_data"
    },
    {
     "data": {
      "application/vnd.jupyter.widget-view+json": {
       "model_id": "93b9a1ba40aa4c3ea394a255004bee3e",
       "version_major": 2,
       "version_minor": 0
      },
      "text/plain": [
       "Batches:   0%|          | 0/1 [00:00<?, ?it/s]"
      ]
     },
     "metadata": {},
     "output_type": "display_data"
    },
    {
     "data": {
      "application/vnd.jupyter.widget-view+json": {
       "model_id": "a353440ece7f4c989d30b3078cc522ca",
       "version_major": 2,
       "version_minor": 0
      },
      "text/plain": [
       "Batches:   0%|          | 0/1 [00:00<?, ?it/s]"
      ]
     },
     "metadata": {},
     "output_type": "display_data"
    },
    {
     "data": {
      "application/vnd.jupyter.widget-view+json": {
       "model_id": "fa078ad3e6564e688daee1fdbdb87466",
       "version_major": 2,
       "version_minor": 0
      },
      "text/plain": [
       "Batches:   0%|          | 0/1 [00:00<?, ?it/s]"
      ]
     },
     "metadata": {},
     "output_type": "display_data"
    },
    {
     "data": {
      "application/vnd.jupyter.widget-view+json": {
       "model_id": "1364711b223d4104bf18670a862088c9",
       "version_major": 2,
       "version_minor": 0
      },
      "text/plain": [
       "Batches:   0%|          | 0/1 [00:00<?, ?it/s]"
      ]
     },
     "metadata": {},
     "output_type": "display_data"
    },
    {
     "data": {
      "application/vnd.jupyter.widget-view+json": {
       "model_id": "4cbd2ce34b8e4892bcca7f2c6111f751",
       "version_major": 2,
       "version_minor": 0
      },
      "text/plain": [
       "Batches:   0%|          | 0/1 [00:00<?, ?it/s]"
      ]
     },
     "metadata": {},
     "output_type": "display_data"
    },
    {
     "data": {
      "application/vnd.jupyter.widget-view+json": {
       "model_id": "c130b85f5b594c158802099d4537f335",
       "version_major": 2,
       "version_minor": 0
      },
      "text/plain": [
       "Batches:   0%|          | 0/1 [00:00<?, ?it/s]"
      ]
     },
     "metadata": {},
     "output_type": "display_data"
    },
    {
     "data": {
      "application/vnd.jupyter.widget-view+json": {
       "model_id": "599782b7622f4d3b84cb8a064fd52f30",
       "version_major": 2,
       "version_minor": 0
      },
      "text/plain": [
       "Batches:   0%|          | 0/1 [00:00<?, ?it/s]"
      ]
     },
     "metadata": {},
     "output_type": "display_data"
    },
    {
     "data": {
      "application/vnd.jupyter.widget-view+json": {
       "model_id": "e2974411dcdb459b88a5e198981ebcc4",
       "version_major": 2,
       "version_minor": 0
      },
      "text/plain": [
       "Batches:   0%|          | 0/1 [00:00<?, ?it/s]"
      ]
     },
     "metadata": {},
     "output_type": "display_data"
    },
    {
     "data": {
      "application/vnd.jupyter.widget-view+json": {
       "model_id": "88d81e0d3a5a4b92b0e12257bda02256",
       "version_major": 2,
       "version_minor": 0
      },
      "text/plain": [
       "Batches:   0%|          | 0/1 [00:00<?, ?it/s]"
      ]
     },
     "metadata": {},
     "output_type": "display_data"
    },
    {
     "data": {
      "application/vnd.jupyter.widget-view+json": {
       "model_id": "7462709069cc4daa837892d5b8953d70",
       "version_major": 2,
       "version_minor": 0
      },
      "text/plain": [
       "Batches:   0%|          | 0/1 [00:00<?, ?it/s]"
      ]
     },
     "metadata": {},
     "output_type": "display_data"
    },
    {
     "data": {
      "application/vnd.jupyter.widget-view+json": {
       "model_id": "74ed13eb8c1c4374b0eb02e24c01e8a7",
       "version_major": 2,
       "version_minor": 0
      },
      "text/plain": [
       "Batches:   0%|          | 0/1 [00:00<?, ?it/s]"
      ]
     },
     "metadata": {},
     "output_type": "display_data"
    },
    {
     "data": {
      "application/vnd.jupyter.widget-view+json": {
       "model_id": "12f18022994b49acbc20c81ebbc79149",
       "version_major": 2,
       "version_minor": 0
      },
      "text/plain": [
       "Batches:   0%|          | 0/1 [00:00<?, ?it/s]"
      ]
     },
     "metadata": {},
     "output_type": "display_data"
    },
    {
     "data": {
      "application/vnd.jupyter.widget-view+json": {
       "model_id": "977e49086d6c4166a71b9fa2f2a6fc18",
       "version_major": 2,
       "version_minor": 0
      },
      "text/plain": [
       "Batches:   0%|          | 0/1 [00:00<?, ?it/s]"
      ]
     },
     "metadata": {},
     "output_type": "display_data"
    },
    {
     "data": {
      "application/vnd.jupyter.widget-view+json": {
       "model_id": "c9a099ef6b834d2d85596482a60ad58b",
       "version_major": 2,
       "version_minor": 0
      },
      "text/plain": [
       "Batches:   0%|          | 0/1 [00:00<?, ?it/s]"
      ]
     },
     "metadata": {},
     "output_type": "display_data"
    },
    {
     "data": {
      "application/vnd.jupyter.widget-view+json": {
       "model_id": "5786ee6b3fb44e73865d977c7d37db93",
       "version_major": 2,
       "version_minor": 0
      },
      "text/plain": [
       "Batches:   0%|          | 0/1 [00:00<?, ?it/s]"
      ]
     },
     "metadata": {},
     "output_type": "display_data"
    },
    {
     "data": {
      "application/vnd.jupyter.widget-view+json": {
       "model_id": "cd6abfd326fc40cda8aa557a0f063da9",
       "version_major": 2,
       "version_minor": 0
      },
      "text/plain": [
       "Batches:   0%|          | 0/1 [00:00<?, ?it/s]"
      ]
     },
     "metadata": {},
     "output_type": "display_data"
    },
    {
     "data": {
      "application/vnd.jupyter.widget-view+json": {
       "model_id": "3533f80f8ef64f7e9d6d251f60b07731",
       "version_major": 2,
       "version_minor": 0
      },
      "text/plain": [
       "Batches:   0%|          | 0/1 [00:00<?, ?it/s]"
      ]
     },
     "metadata": {},
     "output_type": "display_data"
    },
    {
     "data": {
      "application/vnd.jupyter.widget-view+json": {
       "model_id": "7902f05d8ad1464d9d0c96fae82bf48f",
       "version_major": 2,
       "version_minor": 0
      },
      "text/plain": [
       "Batches:   0%|          | 0/1 [00:00<?, ?it/s]"
      ]
     },
     "metadata": {},
     "output_type": "display_data"
    },
    {
     "data": {
      "application/vnd.jupyter.widget-view+json": {
       "model_id": "7763986347db45a193cfc94b94afcf6b",
       "version_major": 2,
       "version_minor": 0
      },
      "text/plain": [
       "Batches:   0%|          | 0/1 [00:00<?, ?it/s]"
      ]
     },
     "metadata": {},
     "output_type": "display_data"
    },
    {
     "data": {
      "application/vnd.jupyter.widget-view+json": {
       "model_id": "72943eb43b564decb2ba4a4b992881f1",
       "version_major": 2,
       "version_minor": 0
      },
      "text/plain": [
       "Batches:   0%|          | 0/1 [00:00<?, ?it/s]"
      ]
     },
     "metadata": {},
     "output_type": "display_data"
    },
    {
     "data": {
      "application/vnd.jupyter.widget-view+json": {
       "model_id": "231cf04185e04a119dfbc16a23368fad",
       "version_major": 2,
       "version_minor": 0
      },
      "text/plain": [
       "Batches:   0%|          | 0/1 [00:00<?, ?it/s]"
      ]
     },
     "metadata": {},
     "output_type": "display_data"
    },
    {
     "data": {
      "application/vnd.jupyter.widget-view+json": {
       "model_id": "df71e47e572f4c0ba9fd5e920dc2d4b3",
       "version_major": 2,
       "version_minor": 0
      },
      "text/plain": [
       "Batches:   0%|          | 0/1 [00:00<?, ?it/s]"
      ]
     },
     "metadata": {},
     "output_type": "display_data"
    },
    {
     "data": {
      "application/vnd.jupyter.widget-view+json": {
       "model_id": "a89aa353cbe34320a417e1f08eac063e",
       "version_major": 2,
       "version_minor": 0
      },
      "text/plain": [
       "Batches:   0%|          | 0/1 [00:00<?, ?it/s]"
      ]
     },
     "metadata": {},
     "output_type": "display_data"
    },
    {
     "data": {
      "application/vnd.jupyter.widget-view+json": {
       "model_id": "29c77449d7e24aeb9f811f24f7170960",
       "version_major": 2,
       "version_minor": 0
      },
      "text/plain": [
       "Batches:   0%|          | 0/1 [00:00<?, ?it/s]"
      ]
     },
     "metadata": {},
     "output_type": "display_data"
    },
    {
     "data": {
      "application/vnd.jupyter.widget-view+json": {
       "model_id": "8c633d4b76694f42b7eae5009852ddfe",
       "version_major": 2,
       "version_minor": 0
      },
      "text/plain": [
       "Batches:   0%|          | 0/1 [00:00<?, ?it/s]"
      ]
     },
     "metadata": {},
     "output_type": "display_data"
    },
    {
     "data": {
      "application/vnd.jupyter.widget-view+json": {
       "model_id": "f63b4d6cf6ca47a5b720f0cb2e4516af",
       "version_major": 2,
       "version_minor": 0
      },
      "text/plain": [
       "Batches:   0%|          | 0/1 [00:00<?, ?it/s]"
      ]
     },
     "metadata": {},
     "output_type": "display_data"
    },
    {
     "data": {
      "application/vnd.jupyter.widget-view+json": {
       "model_id": "b4860c752741424a96cd87e926731f8b",
       "version_major": 2,
       "version_minor": 0
      },
      "text/plain": [
       "Batches:   0%|          | 0/1 [00:00<?, ?it/s]"
      ]
     },
     "metadata": {},
     "output_type": "display_data"
    },
    {
     "data": {
      "application/vnd.jupyter.widget-view+json": {
       "model_id": "c4a1bfd2984843e2bbca268e80e9975b",
       "version_major": 2,
       "version_minor": 0
      },
      "text/plain": [
       "Batches:   0%|          | 0/1 [00:00<?, ?it/s]"
      ]
     },
     "metadata": {},
     "output_type": "display_data"
    },
    {
     "data": {
      "application/vnd.jupyter.widget-view+json": {
       "model_id": "77bf2039fcd74a2b818a0d55ea854ba1",
       "version_major": 2,
       "version_minor": 0
      },
      "text/plain": [
       "Batches:   0%|          | 0/1 [00:00<?, ?it/s]"
      ]
     },
     "metadata": {},
     "output_type": "display_data"
    },
    {
     "data": {
      "application/vnd.jupyter.widget-view+json": {
       "model_id": "3cd369633a344ef4aa3d7b159dacfde8",
       "version_major": 2,
       "version_minor": 0
      },
      "text/plain": [
       "Batches:   0%|          | 0/1 [00:00<?, ?it/s]"
      ]
     },
     "metadata": {},
     "output_type": "display_data"
    },
    {
     "data": {
      "application/vnd.jupyter.widget-view+json": {
       "model_id": "22ff2bc4bc4d409a8f0973fed24de2ae",
       "version_major": 2,
       "version_minor": 0
      },
      "text/plain": [
       "Batches:   0%|          | 0/1 [00:00<?, ?it/s]"
      ]
     },
     "metadata": {},
     "output_type": "display_data"
    },
    {
     "data": {
      "application/vnd.jupyter.widget-view+json": {
       "model_id": "d1e49a08574b495c8dc52ac4ceb86136",
       "version_major": 2,
       "version_minor": 0
      },
      "text/plain": [
       "Batches:   0%|          | 0/1 [00:00<?, ?it/s]"
      ]
     },
     "metadata": {},
     "output_type": "display_data"
    },
    {
     "data": {
      "application/vnd.jupyter.widget-view+json": {
       "model_id": "1faf573410c344dab5a6ed8a91ddf743",
       "version_major": 2,
       "version_minor": 0
      },
      "text/plain": [
       "Batches:   0%|          | 0/1 [00:00<?, ?it/s]"
      ]
     },
     "metadata": {},
     "output_type": "display_data"
    },
    {
     "data": {
      "application/vnd.jupyter.widget-view+json": {
       "model_id": "3974d5a96ce34136b9965d68527174fb",
       "version_major": 2,
       "version_minor": 0
      },
      "text/plain": [
       "Batches:   0%|          | 0/1 [00:00<?, ?it/s]"
      ]
     },
     "metadata": {},
     "output_type": "display_data"
    },
    {
     "data": {
      "application/vnd.jupyter.widget-view+json": {
       "model_id": "47d25cd961944a71b74216145ad8c817",
       "version_major": 2,
       "version_minor": 0
      },
      "text/plain": [
       "Batches:   0%|          | 0/1 [00:00<?, ?it/s]"
      ]
     },
     "metadata": {},
     "output_type": "display_data"
    },
    {
     "data": {
      "application/vnd.jupyter.widget-view+json": {
       "model_id": "435d7237a05548b4a71f8ee6ee305374",
       "version_major": 2,
       "version_minor": 0
      },
      "text/plain": [
       "Batches:   0%|          | 0/1 [00:00<?, ?it/s]"
      ]
     },
     "metadata": {},
     "output_type": "display_data"
    },
    {
     "data": {
      "application/vnd.jupyter.widget-view+json": {
       "model_id": "3272ad37c95a4af0a0eacf6ba9989bde",
       "version_major": 2,
       "version_minor": 0
      },
      "text/plain": [
       "Batches:   0%|          | 0/1 [00:00<?, ?it/s]"
      ]
     },
     "metadata": {},
     "output_type": "display_data"
    },
    {
     "data": {
      "application/vnd.jupyter.widget-view+json": {
       "model_id": "207ff453a2274eaa9d586d20623d5386",
       "version_major": 2,
       "version_minor": 0
      },
      "text/plain": [
       "Batches:   0%|          | 0/1 [00:00<?, ?it/s]"
      ]
     },
     "metadata": {},
     "output_type": "display_data"
    },
    {
     "data": {
      "application/vnd.jupyter.widget-view+json": {
       "model_id": "8069131efec6493089e4d5181f2f1dee",
       "version_major": 2,
       "version_minor": 0
      },
      "text/plain": [
       "Batches:   0%|          | 0/1 [00:00<?, ?it/s]"
      ]
     },
     "metadata": {},
     "output_type": "display_data"
    },
    {
     "data": {
      "application/vnd.jupyter.widget-view+json": {
       "model_id": "8a65d2ad6968431da1c38be8d59e9733",
       "version_major": 2,
       "version_minor": 0
      },
      "text/plain": [
       "Batches:   0%|          | 0/1 [00:00<?, ?it/s]"
      ]
     },
     "metadata": {},
     "output_type": "display_data"
    },
    {
     "data": {
      "application/vnd.jupyter.widget-view+json": {
       "model_id": "d8d3525ffed043778ffb38b95fe1728f",
       "version_major": 2,
       "version_minor": 0
      },
      "text/plain": [
       "Batches:   0%|          | 0/1 [00:00<?, ?it/s]"
      ]
     },
     "metadata": {},
     "output_type": "display_data"
    },
    {
     "data": {
      "application/vnd.jupyter.widget-view+json": {
       "model_id": "8cfc803c6aa14848a4db2c255a2f0b74",
       "version_major": 2,
       "version_minor": 0
      },
      "text/plain": [
       "Batches:   0%|          | 0/1 [00:00<?, ?it/s]"
      ]
     },
     "metadata": {},
     "output_type": "display_data"
    },
    {
     "data": {
      "application/vnd.jupyter.widget-view+json": {
       "model_id": "6c109a51712c4237ae6f146930c85b1f",
       "version_major": 2,
       "version_minor": 0
      },
      "text/plain": [
       "Batches:   0%|          | 0/1 [00:00<?, ?it/s]"
      ]
     },
     "metadata": {},
     "output_type": "display_data"
    },
    {
     "data": {
      "application/vnd.jupyter.widget-view+json": {
       "model_id": "89209b5112e44a1985ccba7796dcecc3",
       "version_major": 2,
       "version_minor": 0
      },
      "text/plain": [
       "Batches:   0%|          | 0/1 [00:00<?, ?it/s]"
      ]
     },
     "metadata": {},
     "output_type": "display_data"
    },
    {
     "data": {
      "application/vnd.jupyter.widget-view+json": {
       "model_id": "542b368434314c8685f1d6c7fffc9a65",
       "version_major": 2,
       "version_minor": 0
      },
      "text/plain": [
       "Batches:   0%|          | 0/1 [00:00<?, ?it/s]"
      ]
     },
     "metadata": {},
     "output_type": "display_data"
    },
    {
     "data": {
      "application/vnd.jupyter.widget-view+json": {
       "model_id": "a73b5e5299234fe1bc95a7e3edbede8c",
       "version_major": 2,
       "version_minor": 0
      },
      "text/plain": [
       "Batches:   0%|          | 0/1 [00:00<?, ?it/s]"
      ]
     },
     "metadata": {},
     "output_type": "display_data"
    },
    {
     "data": {
      "application/vnd.jupyter.widget-view+json": {
       "model_id": "6ea4d194bbfc4aeeb6ce54ef5438f2eb",
       "version_major": 2,
       "version_minor": 0
      },
      "text/plain": [
       "Batches:   0%|          | 0/1 [00:00<?, ?it/s]"
      ]
     },
     "metadata": {},
     "output_type": "display_data"
    },
    {
     "data": {
      "application/vnd.jupyter.widget-view+json": {
       "model_id": "bdcfa5a69b4f45f4ae77aa49ff6debb1",
       "version_major": 2,
       "version_minor": 0
      },
      "text/plain": [
       "Batches:   0%|          | 0/1 [00:00<?, ?it/s]"
      ]
     },
     "metadata": {},
     "output_type": "display_data"
    },
    {
     "data": {
      "application/vnd.jupyter.widget-view+json": {
       "model_id": "1721bf3a2d374fb7ae3713d018dee61e",
       "version_major": 2,
       "version_minor": 0
      },
      "text/plain": [
       "Batches:   0%|          | 0/1 [00:00<?, ?it/s]"
      ]
     },
     "metadata": {},
     "output_type": "display_data"
    },
    {
     "data": {
      "application/vnd.jupyter.widget-view+json": {
       "model_id": "e8ed74ed65b74a44a55912cc8efa8108",
       "version_major": 2,
       "version_minor": 0
      },
      "text/plain": [
       "Batches:   0%|          | 0/1 [00:00<?, ?it/s]"
      ]
     },
     "metadata": {},
     "output_type": "display_data"
    },
    {
     "data": {
      "application/vnd.jupyter.widget-view+json": {
       "model_id": "cb0f947d43f6424698c37b3edee87a39",
       "version_major": 2,
       "version_minor": 0
      },
      "text/plain": [
       "Batches:   0%|          | 0/1 [00:00<?, ?it/s]"
      ]
     },
     "metadata": {},
     "output_type": "display_data"
    },
    {
     "data": {
      "application/vnd.jupyter.widget-view+json": {
       "model_id": "df6b6899f538435bac7c1383a0a31589",
       "version_major": 2,
       "version_minor": 0
      },
      "text/plain": [
       "Batches:   0%|          | 0/1 [00:00<?, ?it/s]"
      ]
     },
     "metadata": {},
     "output_type": "display_data"
    },
    {
     "data": {
      "application/vnd.jupyter.widget-view+json": {
       "model_id": "1cb038181178408a90a4df4bbed812de",
       "version_major": 2,
       "version_minor": 0
      },
      "text/plain": [
       "Batches:   0%|          | 0/1 [00:00<?, ?it/s]"
      ]
     },
     "metadata": {},
     "output_type": "display_data"
    },
    {
     "data": {
      "application/vnd.jupyter.widget-view+json": {
       "model_id": "eeba8fab3e574930a85f181f2ddbe23c",
       "version_major": 2,
       "version_minor": 0
      },
      "text/plain": [
       "Batches:   0%|          | 0/1 [00:00<?, ?it/s]"
      ]
     },
     "metadata": {},
     "output_type": "display_data"
    },
    {
     "data": {
      "application/vnd.jupyter.widget-view+json": {
       "model_id": "73deb84bbe0449d0b5b7d854f15cd8c5",
       "version_major": 2,
       "version_minor": 0
      },
      "text/plain": [
       "Batches:   0%|          | 0/1 [00:00<?, ?it/s]"
      ]
     },
     "metadata": {},
     "output_type": "display_data"
    },
    {
     "data": {
      "application/vnd.jupyter.widget-view+json": {
       "model_id": "bd56e1f2ae884b959119057aa5f4c0f3",
       "version_major": 2,
       "version_minor": 0
      },
      "text/plain": [
       "Batches:   0%|          | 0/1 [00:00<?, ?it/s]"
      ]
     },
     "metadata": {},
     "output_type": "display_data"
    },
    {
     "data": {
      "application/vnd.jupyter.widget-view+json": {
       "model_id": "4e6c0c5abd9147e49389b6a570bebdf3",
       "version_major": 2,
       "version_minor": 0
      },
      "text/plain": [
       "Batches:   0%|          | 0/1 [00:00<?, ?it/s]"
      ]
     },
     "metadata": {},
     "output_type": "display_data"
    },
    {
     "data": {
      "application/vnd.jupyter.widget-view+json": {
       "model_id": "25d0596cdca7450083c630d46d83262e",
       "version_major": 2,
       "version_minor": 0
      },
      "text/plain": [
       "Batches:   0%|          | 0/1 [00:00<?, ?it/s]"
      ]
     },
     "metadata": {},
     "output_type": "display_data"
    },
    {
     "data": {
      "application/vnd.jupyter.widget-view+json": {
       "model_id": "1ee5fdf17fb74cf08b3f4d243e36a166",
       "version_major": 2,
       "version_minor": 0
      },
      "text/plain": [
       "Batches:   0%|          | 0/1 [00:00<?, ?it/s]"
      ]
     },
     "metadata": {},
     "output_type": "display_data"
    },
    {
     "data": {
      "application/vnd.jupyter.widget-view+json": {
       "model_id": "8bd3a3598a50471291963553f822f7e1",
       "version_major": 2,
       "version_minor": 0
      },
      "text/plain": [
       "Batches:   0%|          | 0/1 [00:00<?, ?it/s]"
      ]
     },
     "metadata": {},
     "output_type": "display_data"
    },
    {
     "data": {
      "application/vnd.jupyter.widget-view+json": {
       "model_id": "a5882ace49e64ec8ad98b00831818c5b",
       "version_major": 2,
       "version_minor": 0
      },
      "text/plain": [
       "Batches:   0%|          | 0/1 [00:00<?, ?it/s]"
      ]
     },
     "metadata": {},
     "output_type": "display_data"
    },
    {
     "data": {
      "application/vnd.jupyter.widget-view+json": {
       "model_id": "0154bbc816094768a9688b0c94ea60be",
       "version_major": 2,
       "version_minor": 0
      },
      "text/plain": [
       "Batches:   0%|          | 0/1 [00:00<?, ?it/s]"
      ]
     },
     "metadata": {},
     "output_type": "display_data"
    },
    {
     "data": {
      "application/vnd.jupyter.widget-view+json": {
       "model_id": "12fb330d4bf14dd8be8d5d4d49f13b7d",
       "version_major": 2,
       "version_minor": 0
      },
      "text/plain": [
       "Batches:   0%|          | 0/1 [00:00<?, ?it/s]"
      ]
     },
     "metadata": {},
     "output_type": "display_data"
    },
    {
     "data": {
      "application/vnd.jupyter.widget-view+json": {
       "model_id": "83abe749510548af9dadfd3ec7b612d8",
       "version_major": 2,
       "version_minor": 0
      },
      "text/plain": [
       "Batches:   0%|          | 0/1 [00:00<?, ?it/s]"
      ]
     },
     "metadata": {},
     "output_type": "display_data"
    },
    {
     "data": {
      "application/vnd.jupyter.widget-view+json": {
       "model_id": "78a439d21401405c95043c3a58ea7134",
       "version_major": 2,
       "version_minor": 0
      },
      "text/plain": [
       "Batches:   0%|          | 0/1 [00:00<?, ?it/s]"
      ]
     },
     "metadata": {},
     "output_type": "display_data"
    },
    {
     "data": {
      "application/vnd.jupyter.widget-view+json": {
       "model_id": "2f236c7945e841378227b7a18ebfc38b",
       "version_major": 2,
       "version_minor": 0
      },
      "text/plain": [
       "Batches:   0%|          | 0/1 [00:00<?, ?it/s]"
      ]
     },
     "metadata": {},
     "output_type": "display_data"
    },
    {
     "data": {
      "application/vnd.jupyter.widget-view+json": {
       "model_id": "1746b5243b914708ab49c785d610ddff",
       "version_major": 2,
       "version_minor": 0
      },
      "text/plain": [
       "Batches:   0%|          | 0/1 [00:00<?, ?it/s]"
      ]
     },
     "metadata": {},
     "output_type": "display_data"
    },
    {
     "data": {
      "application/vnd.jupyter.widget-view+json": {
       "model_id": "d1b36fc236fa408e863c7691bc9ed21a",
       "version_major": 2,
       "version_minor": 0
      },
      "text/plain": [
       "Batches:   0%|          | 0/1 [00:00<?, ?it/s]"
      ]
     },
     "metadata": {},
     "output_type": "display_data"
    },
    {
     "data": {
      "application/vnd.jupyter.widget-view+json": {
       "model_id": "155b636a42e3482e8ed2fa987c7796d6",
       "version_major": 2,
       "version_minor": 0
      },
      "text/plain": [
       "Batches:   0%|          | 0/1 [00:00<?, ?it/s]"
      ]
     },
     "metadata": {},
     "output_type": "display_data"
    },
    {
     "data": {
      "application/vnd.jupyter.widget-view+json": {
       "model_id": "4005ed009dd346c2bb75e000a54281a4",
       "version_major": 2,
       "version_minor": 0
      },
      "text/plain": [
       "Batches:   0%|          | 0/1 [00:00<?, ?it/s]"
      ]
     },
     "metadata": {},
     "output_type": "display_data"
    },
    {
     "data": {
      "application/vnd.jupyter.widget-view+json": {
       "model_id": "89e2ab21d2164dd19e9dfb258f8162e6",
       "version_major": 2,
       "version_minor": 0
      },
      "text/plain": [
       "Batches:   0%|          | 0/1 [00:00<?, ?it/s]"
      ]
     },
     "metadata": {},
     "output_type": "display_data"
    },
    {
     "data": {
      "application/vnd.jupyter.widget-view+json": {
       "model_id": "5403ec23452d404fa2987af49b48b188",
       "version_major": 2,
       "version_minor": 0
      },
      "text/plain": [
       "Batches:   0%|          | 0/1 [00:00<?, ?it/s]"
      ]
     },
     "metadata": {},
     "output_type": "display_data"
    },
    {
     "data": {
      "application/vnd.jupyter.widget-view+json": {
       "model_id": "2451b0cf38d7481b8310d45fc751716b",
       "version_major": 2,
       "version_minor": 0
      },
      "text/plain": [
       "Batches:   0%|          | 0/1 [00:00<?, ?it/s]"
      ]
     },
     "metadata": {},
     "output_type": "display_data"
    },
    {
     "data": {
      "application/vnd.jupyter.widget-view+json": {
       "model_id": "3ce070e1d1e4483fa20918ef369dc1f6",
       "version_major": 2,
       "version_minor": 0
      },
      "text/plain": [
       "Batches:   0%|          | 0/1 [00:00<?, ?it/s]"
      ]
     },
     "metadata": {},
     "output_type": "display_data"
    },
    {
     "data": {
      "application/vnd.jupyter.widget-view+json": {
       "model_id": "30efc432d1c548868b7e003570ac72be",
       "version_major": 2,
       "version_minor": 0
      },
      "text/plain": [
       "Batches:   0%|          | 0/1 [00:00<?, ?it/s]"
      ]
     },
     "metadata": {},
     "output_type": "display_data"
    },
    {
     "data": {
      "application/vnd.jupyter.widget-view+json": {
       "model_id": "067e0442aee64d4689494f376f2fcc93",
       "version_major": 2,
       "version_minor": 0
      },
      "text/plain": [
       "Batches:   0%|          | 0/1 [00:00<?, ?it/s]"
      ]
     },
     "metadata": {},
     "output_type": "display_data"
    },
    {
     "data": {
      "application/vnd.jupyter.widget-view+json": {
       "model_id": "de40f46e379c4fea956388bdbb1c68c3",
       "version_major": 2,
       "version_minor": 0
      },
      "text/plain": [
       "Batches:   0%|          | 0/1 [00:00<?, ?it/s]"
      ]
     },
     "metadata": {},
     "output_type": "display_data"
    },
    {
     "data": {
      "application/vnd.jupyter.widget-view+json": {
       "model_id": "00fcdf2de7cc476ca30ff58473b9ea65",
       "version_major": 2,
       "version_minor": 0
      },
      "text/plain": [
       "Batches:   0%|          | 0/1 [00:00<?, ?it/s]"
      ]
     },
     "metadata": {},
     "output_type": "display_data"
    },
    {
     "data": {
      "application/vnd.jupyter.widget-view+json": {
       "model_id": "2b17c755619d4fad9a249a9d906ad7e2",
       "version_major": 2,
       "version_minor": 0
      },
      "text/plain": [
       "Batches:   0%|          | 0/1 [00:00<?, ?it/s]"
      ]
     },
     "metadata": {},
     "output_type": "display_data"
    },
    {
     "data": {
      "application/vnd.jupyter.widget-view+json": {
       "model_id": "e20eb0ddb0f042e48ee5742c6bfb31a0",
       "version_major": 2,
       "version_minor": 0
      },
      "text/plain": [
       "Batches:   0%|          | 0/1 [00:00<?, ?it/s]"
      ]
     },
     "metadata": {},
     "output_type": "display_data"
    },
    {
     "data": {
      "application/vnd.jupyter.widget-view+json": {
       "model_id": "f7f16b82a3214fc188511767f51051a3",
       "version_major": 2,
       "version_minor": 0
      },
      "text/plain": [
       "Batches:   0%|          | 0/1 [00:00<?, ?it/s]"
      ]
     },
     "metadata": {},
     "output_type": "display_data"
    },
    {
     "data": {
      "application/vnd.jupyter.widget-view+json": {
       "model_id": "a8b37ead18d246f2a5d9560159801fc1",
       "version_major": 2,
       "version_minor": 0
      },
      "text/plain": [
       "Batches:   0%|          | 0/1 [00:00<?, ?it/s]"
      ]
     },
     "metadata": {},
     "output_type": "display_data"
    },
    {
     "data": {
      "application/vnd.jupyter.widget-view+json": {
       "model_id": "a0baad17c99a42aa943bbd954aef91eb",
       "version_major": 2,
       "version_minor": 0
      },
      "text/plain": [
       "Batches:   0%|          | 0/1 [00:00<?, ?it/s]"
      ]
     },
     "metadata": {},
     "output_type": "display_data"
    },
    {
     "data": {
      "application/vnd.jupyter.widget-view+json": {
       "model_id": "c549d248d8f6411596e6f4fe9ebd0ad8",
       "version_major": 2,
       "version_minor": 0
      },
      "text/plain": [
       "Batches:   0%|          | 0/1 [00:00<?, ?it/s]"
      ]
     },
     "metadata": {},
     "output_type": "display_data"
    },
    {
     "data": {
      "application/vnd.jupyter.widget-view+json": {
       "model_id": "8a87bfa398fb4562b57b2e86f223ba35",
       "version_major": 2,
       "version_minor": 0
      },
      "text/plain": [
       "Batches:   0%|          | 0/1 [00:00<?, ?it/s]"
      ]
     },
     "metadata": {},
     "output_type": "display_data"
    },
    {
     "data": {
      "application/vnd.jupyter.widget-view+json": {
       "model_id": "8b1fcdf321e14a01b9bbe42d6eb7189c",
       "version_major": 2,
       "version_minor": 0
      },
      "text/plain": [
       "Batches:   0%|          | 0/1 [00:00<?, ?it/s]"
      ]
     },
     "metadata": {},
     "output_type": "display_data"
    },
    {
     "data": {
      "application/vnd.jupyter.widget-view+json": {
       "model_id": "6c2641bf15d741b9835547936980086f",
       "version_major": 2,
       "version_minor": 0
      },
      "text/plain": [
       "Batches:   0%|          | 0/1 [00:00<?, ?it/s]"
      ]
     },
     "metadata": {},
     "output_type": "display_data"
    },
    {
     "data": {
      "application/vnd.jupyter.widget-view+json": {
       "model_id": "7000d7373a9b4d4e972c2d537dfb9a3a",
       "version_major": 2,
       "version_minor": 0
      },
      "text/plain": [
       "Batches:   0%|          | 0/1 [00:00<?, ?it/s]"
      ]
     },
     "metadata": {},
     "output_type": "display_data"
    },
    {
     "data": {
      "application/vnd.jupyter.widget-view+json": {
       "model_id": "0002d3562e53480295637429e5b174af",
       "version_major": 2,
       "version_minor": 0
      },
      "text/plain": [
       "Batches:   0%|          | 0/1 [00:00<?, ?it/s]"
      ]
     },
     "metadata": {},
     "output_type": "display_data"
    },
    {
     "data": {
      "application/vnd.jupyter.widget-view+json": {
       "model_id": "bae3dd8661ad49b48da630d59bb5b251",
       "version_major": 2,
       "version_minor": 0
      },
      "text/plain": [
       "Batches:   0%|          | 0/1 [00:00<?, ?it/s]"
      ]
     },
     "metadata": {},
     "output_type": "display_data"
    },
    {
     "data": {
      "application/vnd.jupyter.widget-view+json": {
       "model_id": "1fae2e44c3214f9b896ed485caed2d42",
       "version_major": 2,
       "version_minor": 0
      },
      "text/plain": [
       "Batches:   0%|          | 0/1 [00:00<?, ?it/s]"
      ]
     },
     "metadata": {},
     "output_type": "display_data"
    },
    {
     "data": {
      "application/vnd.jupyter.widget-view+json": {
       "model_id": "0412782f38ec4a269eebb9fb50bc389f",
       "version_major": 2,
       "version_minor": 0
      },
      "text/plain": [
       "Batches:   0%|          | 0/1 [00:00<?, ?it/s]"
      ]
     },
     "metadata": {},
     "output_type": "display_data"
    },
    {
     "data": {
      "application/vnd.jupyter.widget-view+json": {
       "model_id": "ce2df904d4a14268b688c8d15ba87142",
       "version_major": 2,
       "version_minor": 0
      },
      "text/plain": [
       "Batches:   0%|          | 0/1 [00:00<?, ?it/s]"
      ]
     },
     "metadata": {},
     "output_type": "display_data"
    },
    {
     "data": {
      "application/vnd.jupyter.widget-view+json": {
       "model_id": "43542d9a00834971a77daf1ddc884bd0",
       "version_major": 2,
       "version_minor": 0
      },
      "text/plain": [
       "Batches:   0%|          | 0/1 [00:00<?, ?it/s]"
      ]
     },
     "metadata": {},
     "output_type": "display_data"
    },
    {
     "data": {
      "application/vnd.jupyter.widget-view+json": {
       "model_id": "67f4a76ed25a49cda636a1b6386576fc",
       "version_major": 2,
       "version_minor": 0
      },
      "text/plain": [
       "Batches:   0%|          | 0/1 [00:00<?, ?it/s]"
      ]
     },
     "metadata": {},
     "output_type": "display_data"
    },
    {
     "data": {
      "application/vnd.jupyter.widget-view+json": {
       "model_id": "deb8a7ff563745f1a77a0f4c56e48e0e",
       "version_major": 2,
       "version_minor": 0
      },
      "text/plain": [
       "Batches:   0%|          | 0/1 [00:00<?, ?it/s]"
      ]
     },
     "metadata": {},
     "output_type": "display_data"
    },
    {
     "data": {
      "application/vnd.jupyter.widget-view+json": {
       "model_id": "302fb7d70b724c468a919ece3dc78f70",
       "version_major": 2,
       "version_minor": 0
      },
      "text/plain": [
       "Batches:   0%|          | 0/1 [00:00<?, ?it/s]"
      ]
     },
     "metadata": {},
     "output_type": "display_data"
    },
    {
     "data": {
      "application/vnd.jupyter.widget-view+json": {
       "model_id": "0a6912ec920b48ab8f55d7dd75f70232",
       "version_major": 2,
       "version_minor": 0
      },
      "text/plain": [
       "Batches:   0%|          | 0/1 [00:00<?, ?it/s]"
      ]
     },
     "metadata": {},
     "output_type": "display_data"
    },
    {
     "data": {
      "application/vnd.jupyter.widget-view+json": {
       "model_id": "af7a506faa734216b83be89a1df71bf5",
       "version_major": 2,
       "version_minor": 0
      },
      "text/plain": [
       "Batches:   0%|          | 0/1 [00:00<?, ?it/s]"
      ]
     },
     "metadata": {},
     "output_type": "display_data"
    },
    {
     "data": {
      "application/vnd.jupyter.widget-view+json": {
       "model_id": "db6a0e8fed0d4f7fa1ac971556782f42",
       "version_major": 2,
       "version_minor": 0
      },
      "text/plain": [
       "Batches:   0%|          | 0/1 [00:00<?, ?it/s]"
      ]
     },
     "metadata": {},
     "output_type": "display_data"
    },
    {
     "data": {
      "application/vnd.jupyter.widget-view+json": {
       "model_id": "47c8c50c65894f3caa9c3c2e543168e1",
       "version_major": 2,
       "version_minor": 0
      },
      "text/plain": [
       "Batches:   0%|          | 0/1 [00:00<?, ?it/s]"
      ]
     },
     "metadata": {},
     "output_type": "display_data"
    },
    {
     "data": {
      "application/vnd.jupyter.widget-view+json": {
       "model_id": "fa11503d9b1b402780c8bcaafa3fe347",
       "version_major": 2,
       "version_minor": 0
      },
      "text/plain": [
       "Batches:   0%|          | 0/1 [00:00<?, ?it/s]"
      ]
     },
     "metadata": {},
     "output_type": "display_data"
    },
    {
     "data": {
      "application/vnd.jupyter.widget-view+json": {
       "model_id": "c22f9ba9e99b4021a57ebe24de2f623a",
       "version_major": 2,
       "version_minor": 0
      },
      "text/plain": [
       "Batches:   0%|          | 0/1 [00:00<?, ?it/s]"
      ]
     },
     "metadata": {},
     "output_type": "display_data"
    },
    {
     "data": {
      "application/vnd.jupyter.widget-view+json": {
       "model_id": "ecc004ba51db4457aec16f93e4693a27",
       "version_major": 2,
       "version_minor": 0
      },
      "text/plain": [
       "Batches:   0%|          | 0/1 [00:00<?, ?it/s]"
      ]
     },
     "metadata": {},
     "output_type": "display_data"
    },
    {
     "data": {
      "application/vnd.jupyter.widget-view+json": {
       "model_id": "7f32fd4d0d2e49a5bba69b5347adfeb4",
       "version_major": 2,
       "version_minor": 0
      },
      "text/plain": [
       "Batches:   0%|          | 0/1 [00:00<?, ?it/s]"
      ]
     },
     "metadata": {},
     "output_type": "display_data"
    },
    {
     "data": {
      "application/vnd.jupyter.widget-view+json": {
       "model_id": "4530773d1f604607a749fc5decc5cb63",
       "version_major": 2,
       "version_minor": 0
      },
      "text/plain": [
       "Batches:   0%|          | 0/1 [00:00<?, ?it/s]"
      ]
     },
     "metadata": {},
     "output_type": "display_data"
    },
    {
     "data": {
      "application/vnd.jupyter.widget-view+json": {
       "model_id": "9731abb996344d29beb3ec827969e740",
       "version_major": 2,
       "version_minor": 0
      },
      "text/plain": [
       "Batches:   0%|          | 0/1 [00:00<?, ?it/s]"
      ]
     },
     "metadata": {},
     "output_type": "display_data"
    },
    {
     "data": {
      "application/vnd.jupyter.widget-view+json": {
       "model_id": "854113d686b14935a6539d6140daf995",
       "version_major": 2,
       "version_minor": 0
      },
      "text/plain": [
       "Batches:   0%|          | 0/1 [00:00<?, ?it/s]"
      ]
     },
     "metadata": {},
     "output_type": "display_data"
    },
    {
     "data": {
      "application/vnd.jupyter.widget-view+json": {
       "model_id": "98b93939099f4e8889bf97d4088690ba",
       "version_major": 2,
       "version_minor": 0
      },
      "text/plain": [
       "Batches:   0%|          | 0/1 [00:00<?, ?it/s]"
      ]
     },
     "metadata": {},
     "output_type": "display_data"
    },
    {
     "data": {
      "application/vnd.jupyter.widget-view+json": {
       "model_id": "71e1d03a3c784eec8f752bcb3276a266",
       "version_major": 2,
       "version_minor": 0
      },
      "text/plain": [
       "Batches:   0%|          | 0/1 [00:00<?, ?it/s]"
      ]
     },
     "metadata": {},
     "output_type": "display_data"
    },
    {
     "data": {
      "application/vnd.jupyter.widget-view+json": {
       "model_id": "7e38e81083d945f78ca87ac45b6f14de",
       "version_major": 2,
       "version_minor": 0
      },
      "text/plain": [
       "Batches:   0%|          | 0/1 [00:00<?, ?it/s]"
      ]
     },
     "metadata": {},
     "output_type": "display_data"
    },
    {
     "data": {
      "application/vnd.jupyter.widget-view+json": {
       "model_id": "41952e639ced4d16a0cd1932826f1bf8",
       "version_major": 2,
       "version_minor": 0
      },
      "text/plain": [
       "Batches:   0%|          | 0/1 [00:00<?, ?it/s]"
      ]
     },
     "metadata": {},
     "output_type": "display_data"
    },
    {
     "data": {
      "application/vnd.jupyter.widget-view+json": {
       "model_id": "dcf6e8f7d1ea4d53ad3a1ee8410134d1",
       "version_major": 2,
       "version_minor": 0
      },
      "text/plain": [
       "Batches:   0%|          | 0/1 [00:00<?, ?it/s]"
      ]
     },
     "metadata": {},
     "output_type": "display_data"
    },
    {
     "data": {
      "application/vnd.jupyter.widget-view+json": {
       "model_id": "bd85e96fe995488abcc846c938e3c02b",
       "version_major": 2,
       "version_minor": 0
      },
      "text/plain": [
       "Batches:   0%|          | 0/1 [00:00<?, ?it/s]"
      ]
     },
     "metadata": {},
     "output_type": "display_data"
    },
    {
     "data": {
      "application/vnd.jupyter.widget-view+json": {
       "model_id": "2cc08061038c4db7a57c5174ff1eea5e",
       "version_major": 2,
       "version_minor": 0
      },
      "text/plain": [
       "Batches:   0%|          | 0/1 [00:00<?, ?it/s]"
      ]
     },
     "metadata": {},
     "output_type": "display_data"
    },
    {
     "data": {
      "application/vnd.jupyter.widget-view+json": {
       "model_id": "79a0eafd83734b1cbd60c087994020fb",
       "version_major": 2,
       "version_minor": 0
      },
      "text/plain": [
       "Batches:   0%|          | 0/1 [00:00<?, ?it/s]"
      ]
     },
     "metadata": {},
     "output_type": "display_data"
    },
    {
     "data": {
      "application/vnd.jupyter.widget-view+json": {
       "model_id": "4637966ef6cc436a81c526cadf97994e",
       "version_major": 2,
       "version_minor": 0
      },
      "text/plain": [
       "Batches:   0%|          | 0/1 [00:00<?, ?it/s]"
      ]
     },
     "metadata": {},
     "output_type": "display_data"
    },
    {
     "data": {
      "application/vnd.jupyter.widget-view+json": {
       "model_id": "5d254022e12843059c320b428b4bf8ef",
       "version_major": 2,
       "version_minor": 0
      },
      "text/plain": [
       "Batches:   0%|          | 0/1 [00:00<?, ?it/s]"
      ]
     },
     "metadata": {},
     "output_type": "display_data"
    },
    {
     "data": {
      "application/vnd.jupyter.widget-view+json": {
       "model_id": "06c5964f526c4c77890d5d59f8334410",
       "version_major": 2,
       "version_minor": 0
      },
      "text/plain": [
       "Batches:   0%|          | 0/1 [00:00<?, ?it/s]"
      ]
     },
     "metadata": {},
     "output_type": "display_data"
    },
    {
     "data": {
      "application/vnd.jupyter.widget-view+json": {
       "model_id": "2d46d6e3fe204c97845ef8a95228bb82",
       "version_major": 2,
       "version_minor": 0
      },
      "text/plain": [
       "Batches:   0%|          | 0/1 [00:00<?, ?it/s]"
      ]
     },
     "metadata": {},
     "output_type": "display_data"
    },
    {
     "data": {
      "application/vnd.jupyter.widget-view+json": {
       "model_id": "6a6d779a691c4073a2d148f1b81984ca",
       "version_major": 2,
       "version_minor": 0
      },
      "text/plain": [
       "Batches:   0%|          | 0/1 [00:00<?, ?it/s]"
      ]
     },
     "metadata": {},
     "output_type": "display_data"
    },
    {
     "data": {
      "application/vnd.jupyter.widget-view+json": {
       "model_id": "d5ca5373487340d4a1a4b7d8e869a4ad",
       "version_major": 2,
       "version_minor": 0
      },
      "text/plain": [
       "Batches:   0%|          | 0/1 [00:00<?, ?it/s]"
      ]
     },
     "metadata": {},
     "output_type": "display_data"
    },
    {
     "data": {
      "application/vnd.jupyter.widget-view+json": {
       "model_id": "5ae94ac1daca45c1bb791bc06ca8e07b",
       "version_major": 2,
       "version_minor": 0
      },
      "text/plain": [
       "Batches:   0%|          | 0/1 [00:00<?, ?it/s]"
      ]
     },
     "metadata": {},
     "output_type": "display_data"
    },
    {
     "data": {
      "application/vnd.jupyter.widget-view+json": {
       "model_id": "7d42848ab73e499e8aeea66cc48a6758",
       "version_major": 2,
       "version_minor": 0
      },
      "text/plain": [
       "Batches:   0%|          | 0/1 [00:00<?, ?it/s]"
      ]
     },
     "metadata": {},
     "output_type": "display_data"
    },
    {
     "data": {
      "application/vnd.jupyter.widget-view+json": {
       "model_id": "85ae2eecb7ab4d2e94c274d40c7d4b1a",
       "version_major": 2,
       "version_minor": 0
      },
      "text/plain": [
       "Batches:   0%|          | 0/1 [00:00<?, ?it/s]"
      ]
     },
     "metadata": {},
     "output_type": "display_data"
    },
    {
     "data": {
      "application/vnd.jupyter.widget-view+json": {
       "model_id": "268c47cecbac46d0bf7f05938d677e3a",
       "version_major": 2,
       "version_minor": 0
      },
      "text/plain": [
       "Batches:   0%|          | 0/1 [00:00<?, ?it/s]"
      ]
     },
     "metadata": {},
     "output_type": "display_data"
    },
    {
     "data": {
      "application/vnd.jupyter.widget-view+json": {
       "model_id": "1ab4d7424302424bb65159380c1d0ae2",
       "version_major": 2,
       "version_minor": 0
      },
      "text/plain": [
       "Batches:   0%|          | 0/1 [00:00<?, ?it/s]"
      ]
     },
     "metadata": {},
     "output_type": "display_data"
    },
    {
     "data": {
      "application/vnd.jupyter.widget-view+json": {
       "model_id": "8bf8492408bc471287b3ec70fea21027",
       "version_major": 2,
       "version_minor": 0
      },
      "text/plain": [
       "Batches:   0%|          | 0/1 [00:00<?, ?it/s]"
      ]
     },
     "metadata": {},
     "output_type": "display_data"
    },
    {
     "data": {
      "application/vnd.jupyter.widget-view+json": {
       "model_id": "a3a9cb6f8a134cc1a7108958d3e9c4c2",
       "version_major": 2,
       "version_minor": 0
      },
      "text/plain": [
       "Batches:   0%|          | 0/1 [00:00<?, ?it/s]"
      ]
     },
     "metadata": {},
     "output_type": "display_data"
    },
    {
     "data": {
      "application/vnd.jupyter.widget-view+json": {
       "model_id": "f102aa5a461e4f01ae3c7493c352a3e8",
       "version_major": 2,
       "version_minor": 0
      },
      "text/plain": [
       "Batches:   0%|          | 0/1 [00:00<?, ?it/s]"
      ]
     },
     "metadata": {},
     "output_type": "display_data"
    },
    {
     "data": {
      "application/vnd.jupyter.widget-view+json": {
       "model_id": "e9fe573041124019baa9daf27c6e1fe2",
       "version_major": 2,
       "version_minor": 0
      },
      "text/plain": [
       "Batches:   0%|          | 0/1 [00:00<?, ?it/s]"
      ]
     },
     "metadata": {},
     "output_type": "display_data"
    },
    {
     "data": {
      "application/vnd.jupyter.widget-view+json": {
       "model_id": "bba6bf7d11c54f37958b6b9dc2be4a2b",
       "version_major": 2,
       "version_minor": 0
      },
      "text/plain": [
       "Batches:   0%|          | 0/1 [00:00<?, ?it/s]"
      ]
     },
     "metadata": {},
     "output_type": "display_data"
    },
    {
     "data": {
      "application/vnd.jupyter.widget-view+json": {
       "model_id": "74dd32df85484b7db09c35c177a8ccb9",
       "version_major": 2,
       "version_minor": 0
      },
      "text/plain": [
       "Batches:   0%|          | 0/1 [00:00<?, ?it/s]"
      ]
     },
     "metadata": {},
     "output_type": "display_data"
    },
    {
     "data": {
      "application/vnd.jupyter.widget-view+json": {
       "model_id": "b04e5724167c4f60abb0cc6f6b6625ed",
       "version_major": 2,
       "version_minor": 0
      },
      "text/plain": [
       "Batches:   0%|          | 0/1 [00:00<?, ?it/s]"
      ]
     },
     "metadata": {},
     "output_type": "display_data"
    },
    {
     "data": {
      "application/vnd.jupyter.widget-view+json": {
       "model_id": "69108a8707ed4b9e969c3a09b3595272",
       "version_major": 2,
       "version_minor": 0
      },
      "text/plain": [
       "Batches:   0%|          | 0/1 [00:00<?, ?it/s]"
      ]
     },
     "metadata": {},
     "output_type": "display_data"
    },
    {
     "data": {
      "application/vnd.jupyter.widget-view+json": {
       "model_id": "4ebe96f28f8f4201a10c1538bc509ded",
       "version_major": 2,
       "version_minor": 0
      },
      "text/plain": [
       "Batches:   0%|          | 0/1 [00:00<?, ?it/s]"
      ]
     },
     "metadata": {},
     "output_type": "display_data"
    },
    {
     "data": {
      "application/vnd.jupyter.widget-view+json": {
       "model_id": "3cd236352f814626bbb278af0ba46e0d",
       "version_major": 2,
       "version_minor": 0
      },
      "text/plain": [
       "Batches:   0%|          | 0/1 [00:00<?, ?it/s]"
      ]
     },
     "metadata": {},
     "output_type": "display_data"
    },
    {
     "data": {
      "application/vnd.jupyter.widget-view+json": {
       "model_id": "fe17ce43af004c2688f3bceb07a50214",
       "version_major": 2,
       "version_minor": 0
      },
      "text/plain": [
       "Batches:   0%|          | 0/1 [00:00<?, ?it/s]"
      ]
     },
     "metadata": {},
     "output_type": "display_data"
    },
    {
     "data": {
      "application/vnd.jupyter.widget-view+json": {
       "model_id": "5153027a9a6842098272f1e421b48f7d",
       "version_major": 2,
       "version_minor": 0
      },
      "text/plain": [
       "Batches:   0%|          | 0/1 [00:00<?, ?it/s]"
      ]
     },
     "metadata": {},
     "output_type": "display_data"
    },
    {
     "data": {
      "application/vnd.jupyter.widget-view+json": {
       "model_id": "65d6b1351e074c52807978ddde827f43",
       "version_major": 2,
       "version_minor": 0
      },
      "text/plain": [
       "Batches:   0%|          | 0/1 [00:00<?, ?it/s]"
      ]
     },
     "metadata": {},
     "output_type": "display_data"
    },
    {
     "data": {
      "application/vnd.jupyter.widget-view+json": {
       "model_id": "d6eb3f42de5e41469f357925b54afd8c",
       "version_major": 2,
       "version_minor": 0
      },
      "text/plain": [
       "Batches:   0%|          | 0/1 [00:00<?, ?it/s]"
      ]
     },
     "metadata": {},
     "output_type": "display_data"
    },
    {
     "data": {
      "application/vnd.jupyter.widget-view+json": {
       "model_id": "669c60808b404f94b1b791824c1e6bff",
       "version_major": 2,
       "version_minor": 0
      },
      "text/plain": [
       "Batches:   0%|          | 0/1 [00:00<?, ?it/s]"
      ]
     },
     "metadata": {},
     "output_type": "display_data"
    },
    {
     "data": {
      "application/vnd.jupyter.widget-view+json": {
       "model_id": "a79671c9e93044868218e23fb940e7fe",
       "version_major": 2,
       "version_minor": 0
      },
      "text/plain": [
       "Batches:   0%|          | 0/1 [00:00<?, ?it/s]"
      ]
     },
     "metadata": {},
     "output_type": "display_data"
    },
    {
     "data": {
      "application/vnd.jupyter.widget-view+json": {
       "model_id": "707f007fcabd4d91a171e9819086a676",
       "version_major": 2,
       "version_minor": 0
      },
      "text/plain": [
       "Batches:   0%|          | 0/1 [00:00<?, ?it/s]"
      ]
     },
     "metadata": {},
     "output_type": "display_data"
    },
    {
     "data": {
      "application/vnd.jupyter.widget-view+json": {
       "model_id": "b019237288964a229e957dce51f00458",
       "version_major": 2,
       "version_minor": 0
      },
      "text/plain": [
       "Batches:   0%|          | 0/1 [00:00<?, ?it/s]"
      ]
     },
     "metadata": {},
     "output_type": "display_data"
    },
    {
     "data": {
      "application/vnd.jupyter.widget-view+json": {
       "model_id": "ba13a2f3c5f14d48b1e9fb5cbaf9b5ee",
       "version_major": 2,
       "version_minor": 0
      },
      "text/plain": [
       "Batches:   0%|          | 0/1 [00:00<?, ?it/s]"
      ]
     },
     "metadata": {},
     "output_type": "display_data"
    },
    {
     "data": {
      "application/vnd.jupyter.widget-view+json": {
       "model_id": "ced03c780e434cada09e78783b1357cf",
       "version_major": 2,
       "version_minor": 0
      },
      "text/plain": [
       "Batches:   0%|          | 0/1 [00:00<?, ?it/s]"
      ]
     },
     "metadata": {},
     "output_type": "display_data"
    },
    {
     "data": {
      "application/vnd.jupyter.widget-view+json": {
       "model_id": "fd1679c687bd4d1aba14aaaaca13888b",
       "version_major": 2,
       "version_minor": 0
      },
      "text/plain": [
       "Batches:   0%|          | 0/1 [00:00<?, ?it/s]"
      ]
     },
     "metadata": {},
     "output_type": "display_data"
    },
    {
     "data": {
      "application/vnd.jupyter.widget-view+json": {
       "model_id": "356184ffbca54808b78189bbd26174cd",
       "version_major": 2,
       "version_minor": 0
      },
      "text/plain": [
       "Batches:   0%|          | 0/1 [00:00<?, ?it/s]"
      ]
     },
     "metadata": {},
     "output_type": "display_data"
    },
    {
     "data": {
      "application/vnd.jupyter.widget-view+json": {
       "model_id": "d736249d2b9241a5857c9cb0bdb32576",
       "version_major": 2,
       "version_minor": 0
      },
      "text/plain": [
       "Batches:   0%|          | 0/1 [00:00<?, ?it/s]"
      ]
     },
     "metadata": {},
     "output_type": "display_data"
    },
    {
     "data": {
      "application/vnd.jupyter.widget-view+json": {
       "model_id": "1aee7f6b42fb4cc0915ed9169fe82580",
       "version_major": 2,
       "version_minor": 0
      },
      "text/plain": [
       "Batches:   0%|          | 0/1 [00:00<?, ?it/s]"
      ]
     },
     "metadata": {},
     "output_type": "display_data"
    },
    {
     "data": {
      "application/vnd.jupyter.widget-view+json": {
       "model_id": "b6c1d2545ded4347a9a94a573fde67a8",
       "version_major": 2,
       "version_minor": 0
      },
      "text/plain": [
       "Batches:   0%|          | 0/1 [00:00<?, ?it/s]"
      ]
     },
     "metadata": {},
     "output_type": "display_data"
    },
    {
     "data": {
      "application/vnd.jupyter.widget-view+json": {
       "model_id": "4994eee19f844efbbe309860668122d8",
       "version_major": 2,
       "version_minor": 0
      },
      "text/plain": [
       "Batches:   0%|          | 0/1 [00:00<?, ?it/s]"
      ]
     },
     "metadata": {},
     "output_type": "display_data"
    },
    {
     "data": {
      "application/vnd.jupyter.widget-view+json": {
       "model_id": "cbb3e84e05ed46098c3afe3c1b628091",
       "version_major": 2,
       "version_minor": 0
      },
      "text/plain": [
       "Batches:   0%|          | 0/1 [00:00<?, ?it/s]"
      ]
     },
     "metadata": {},
     "output_type": "display_data"
    },
    {
     "data": {
      "application/vnd.jupyter.widget-view+json": {
       "model_id": "fdbb8a420a7d4bcdbeb9db13512c892d",
       "version_major": 2,
       "version_minor": 0
      },
      "text/plain": [
       "Batches:   0%|          | 0/1 [00:00<?, ?it/s]"
      ]
     },
     "metadata": {},
     "output_type": "display_data"
    },
    {
     "data": {
      "application/vnd.jupyter.widget-view+json": {
       "model_id": "c19539ec3953483c9a3c9b11ad49c765",
       "version_major": 2,
       "version_minor": 0
      },
      "text/plain": [
       "Batches:   0%|          | 0/1 [00:00<?, ?it/s]"
      ]
     },
     "metadata": {},
     "output_type": "display_data"
    },
    {
     "data": {
      "application/vnd.jupyter.widget-view+json": {
       "model_id": "0c38132a66444f789461928a0fe5fc87",
       "version_major": 2,
       "version_minor": 0
      },
      "text/plain": [
       "Batches:   0%|          | 0/1 [00:00<?, ?it/s]"
      ]
     },
     "metadata": {},
     "output_type": "display_data"
    },
    {
     "data": {
      "application/vnd.jupyter.widget-view+json": {
       "model_id": "91efb780e383479eb755240083d71c05",
       "version_major": 2,
       "version_minor": 0
      },
      "text/plain": [
       "Batches:   0%|          | 0/1 [00:00<?, ?it/s]"
      ]
     },
     "metadata": {},
     "output_type": "display_data"
    },
    {
     "data": {
      "application/vnd.jupyter.widget-view+json": {
       "model_id": "3642f0d1d649449bb132adc82b47f6a8",
       "version_major": 2,
       "version_minor": 0
      },
      "text/plain": [
       "Batches:   0%|          | 0/1 [00:00<?, ?it/s]"
      ]
     },
     "metadata": {},
     "output_type": "display_data"
    },
    {
     "data": {
      "application/vnd.jupyter.widget-view+json": {
       "model_id": "327cfd1789494e2ab47032e37068426d",
       "version_major": 2,
       "version_minor": 0
      },
      "text/plain": [
       "Batches:   0%|          | 0/1 [00:00<?, ?it/s]"
      ]
     },
     "metadata": {},
     "output_type": "display_data"
    },
    {
     "data": {
      "application/vnd.jupyter.widget-view+json": {
       "model_id": "09d7c9df93bb4a7f9875bb7d1028c378",
       "version_major": 2,
       "version_minor": 0
      },
      "text/plain": [
       "Batches:   0%|          | 0/1 [00:00<?, ?it/s]"
      ]
     },
     "metadata": {},
     "output_type": "display_data"
    },
    {
     "data": {
      "application/vnd.jupyter.widget-view+json": {
       "model_id": "5f61ab62491d49bdb6bc2558b67c94b6",
       "version_major": 2,
       "version_minor": 0
      },
      "text/plain": [
       "Batches:   0%|          | 0/1 [00:00<?, ?it/s]"
      ]
     },
     "metadata": {},
     "output_type": "display_data"
    },
    {
     "data": {
      "application/vnd.jupyter.widget-view+json": {
       "model_id": "1c9d1b84b728451aaf6a96beab8bc0a3",
       "version_major": 2,
       "version_minor": 0
      },
      "text/plain": [
       "Batches:   0%|          | 0/1 [00:00<?, ?it/s]"
      ]
     },
     "metadata": {},
     "output_type": "display_data"
    },
    {
     "data": {
      "application/vnd.jupyter.widget-view+json": {
       "model_id": "aa7da583eab040d3bbbd0c84882bf677",
       "version_major": 2,
       "version_minor": 0
      },
      "text/plain": [
       "Batches:   0%|          | 0/1 [00:00<?, ?it/s]"
      ]
     },
     "metadata": {},
     "output_type": "display_data"
    },
    {
     "data": {
      "application/vnd.jupyter.widget-view+json": {
       "model_id": "2ac6d3e8d8174f5ba485ea3534db38ca",
       "version_major": 2,
       "version_minor": 0
      },
      "text/plain": [
       "Batches:   0%|          | 0/1 [00:00<?, ?it/s]"
      ]
     },
     "metadata": {},
     "output_type": "display_data"
    },
    {
     "data": {
      "application/vnd.jupyter.widget-view+json": {
       "model_id": "4a190aad5a4c4ae5aaff8950972014e7",
       "version_major": 2,
       "version_minor": 0
      },
      "text/plain": [
       "Batches:   0%|          | 0/1 [00:00<?, ?it/s]"
      ]
     },
     "metadata": {},
     "output_type": "display_data"
    },
    {
     "data": {
      "application/vnd.jupyter.widget-view+json": {
       "model_id": "7afbba4400d54209bac67b7f9415f323",
       "version_major": 2,
       "version_minor": 0
      },
      "text/plain": [
       "Batches:   0%|          | 0/1 [00:00<?, ?it/s]"
      ]
     },
     "metadata": {},
     "output_type": "display_data"
    },
    {
     "data": {
      "application/vnd.jupyter.widget-view+json": {
       "model_id": "e0d6dc39efb74a4081995c3d5f55e4c1",
       "version_major": 2,
       "version_minor": 0
      },
      "text/plain": [
       "Batches:   0%|          | 0/1 [00:00<?, ?it/s]"
      ]
     },
     "metadata": {},
     "output_type": "display_data"
    },
    {
     "data": {
      "application/vnd.jupyter.widget-view+json": {
       "model_id": "3a3335b3af0d46279730c7d1dcd624f0",
       "version_major": 2,
       "version_minor": 0
      },
      "text/plain": [
       "Batches:   0%|          | 0/1 [00:00<?, ?it/s]"
      ]
     },
     "metadata": {},
     "output_type": "display_data"
    },
    {
     "data": {
      "application/vnd.jupyter.widget-view+json": {
       "model_id": "e93e5dba943b49a68338a6b52d5823d7",
       "version_major": 2,
       "version_minor": 0
      },
      "text/plain": [
       "Batches:   0%|          | 0/1 [00:00<?, ?it/s]"
      ]
     },
     "metadata": {},
     "output_type": "display_data"
    },
    {
     "data": {
      "application/vnd.jupyter.widget-view+json": {
       "model_id": "ff6152eb18254e47bce552b0e80b914c",
       "version_major": 2,
       "version_minor": 0
      },
      "text/plain": [
       "Batches:   0%|          | 0/1 [00:00<?, ?it/s]"
      ]
     },
     "metadata": {},
     "output_type": "display_data"
    },
    {
     "data": {
      "application/vnd.jupyter.widget-view+json": {
       "model_id": "cf27dd5a1df84fd6882b4d36098d1be2",
       "version_major": 2,
       "version_minor": 0
      },
      "text/plain": [
       "Batches:   0%|          | 0/1 [00:00<?, ?it/s]"
      ]
     },
     "metadata": {},
     "output_type": "display_data"
    },
    {
     "data": {
      "application/vnd.jupyter.widget-view+json": {
       "model_id": "3a6ccf55e73b49b1b95343ed2d9c24cf",
       "version_major": 2,
       "version_minor": 0
      },
      "text/plain": [
       "Batches:   0%|          | 0/1 [00:00<?, ?it/s]"
      ]
     },
     "metadata": {},
     "output_type": "display_data"
    },
    {
     "data": {
      "application/vnd.jupyter.widget-view+json": {
       "model_id": "e8fdafd3fd284a638535969b2e2efdf5",
       "version_major": 2,
       "version_minor": 0
      },
      "text/plain": [
       "Batches:   0%|          | 0/1 [00:00<?, ?it/s]"
      ]
     },
     "metadata": {},
     "output_type": "display_data"
    },
    {
     "data": {
      "application/vnd.jupyter.widget-view+json": {
       "model_id": "96d072694f1c491ea2531eaf7ffad38e",
       "version_major": 2,
       "version_minor": 0
      },
      "text/plain": [
       "Batches:   0%|          | 0/1 [00:00<?, ?it/s]"
      ]
     },
     "metadata": {},
     "output_type": "display_data"
    },
    {
     "data": {
      "application/vnd.jupyter.widget-view+json": {
       "model_id": "bf2fe904e176420fb1d55d91a81d9ce9",
       "version_major": 2,
       "version_minor": 0
      },
      "text/plain": [
       "Batches:   0%|          | 0/1 [00:00<?, ?it/s]"
      ]
     },
     "metadata": {},
     "output_type": "display_data"
    },
    {
     "data": {
      "application/vnd.jupyter.widget-view+json": {
       "model_id": "2f9e145b807e4d88a61d20527ca67166",
       "version_major": 2,
       "version_minor": 0
      },
      "text/plain": [
       "Batches:   0%|          | 0/1 [00:00<?, ?it/s]"
      ]
     },
     "metadata": {},
     "output_type": "display_data"
    },
    {
     "data": {
      "application/vnd.jupyter.widget-view+json": {
       "model_id": "b93ec6a4eb0c49e085ec4c1b334e8bc2",
       "version_major": 2,
       "version_minor": 0
      },
      "text/plain": [
       "Batches:   0%|          | 0/1 [00:00<?, ?it/s]"
      ]
     },
     "metadata": {},
     "output_type": "display_data"
    },
    {
     "data": {
      "application/vnd.jupyter.widget-view+json": {
       "model_id": "c842b0aa2fd34c0c8b0fa08f63e541a8",
       "version_major": 2,
       "version_minor": 0
      },
      "text/plain": [
       "Batches:   0%|          | 0/1 [00:00<?, ?it/s]"
      ]
     },
     "metadata": {},
     "output_type": "display_data"
    },
    {
     "data": {
      "application/vnd.jupyter.widget-view+json": {
       "model_id": "3984ea4565034c7b9845d0e90c7aabd8",
       "version_major": 2,
       "version_minor": 0
      },
      "text/plain": [
       "Batches:   0%|          | 0/1 [00:00<?, ?it/s]"
      ]
     },
     "metadata": {},
     "output_type": "display_data"
    },
    {
     "data": {
      "application/vnd.jupyter.widget-view+json": {
       "model_id": "a753692ee7c7494697f1245e2d5a046e",
       "version_major": 2,
       "version_minor": 0
      },
      "text/plain": [
       "Batches:   0%|          | 0/1 [00:00<?, ?it/s]"
      ]
     },
     "metadata": {},
     "output_type": "display_data"
    },
    {
     "data": {
      "application/vnd.jupyter.widget-view+json": {
       "model_id": "e72df889ad9f418f96ebb37cbc1eb21c",
       "version_major": 2,
       "version_minor": 0
      },
      "text/plain": [
       "Batches:   0%|          | 0/1 [00:00<?, ?it/s]"
      ]
     },
     "metadata": {},
     "output_type": "display_data"
    },
    {
     "data": {
      "application/vnd.jupyter.widget-view+json": {
       "model_id": "3039f7afc8bd4d8bb5d6953028ae1a3b",
       "version_major": 2,
       "version_minor": 0
      },
      "text/plain": [
       "Batches:   0%|          | 0/1 [00:00<?, ?it/s]"
      ]
     },
     "metadata": {},
     "output_type": "display_data"
    },
    {
     "data": {
      "application/vnd.jupyter.widget-view+json": {
       "model_id": "d5031cb5395e4b3894bbc763084e3a31",
       "version_major": 2,
       "version_minor": 0
      },
      "text/plain": [
       "Batches:   0%|          | 0/1 [00:00<?, ?it/s]"
      ]
     },
     "metadata": {},
     "output_type": "display_data"
    },
    {
     "data": {
      "application/vnd.jupyter.widget-view+json": {
       "model_id": "30bd8af6915a492b9021689f67462432",
       "version_major": 2,
       "version_minor": 0
      },
      "text/plain": [
       "Batches:   0%|          | 0/1 [00:00<?, ?it/s]"
      ]
     },
     "metadata": {},
     "output_type": "display_data"
    },
    {
     "data": {
      "application/vnd.jupyter.widget-view+json": {
       "model_id": "9c74b21ab96341e09fb2059ada2207fc",
       "version_major": 2,
       "version_minor": 0
      },
      "text/plain": [
       "Batches:   0%|          | 0/1 [00:00<?, ?it/s]"
      ]
     },
     "metadata": {},
     "output_type": "display_data"
    },
    {
     "data": {
      "application/vnd.jupyter.widget-view+json": {
       "model_id": "e329ab2c3b02405f87ea9c391798cb5e",
       "version_major": 2,
       "version_minor": 0
      },
      "text/plain": [
       "Batches:   0%|          | 0/1 [00:00<?, ?it/s]"
      ]
     },
     "metadata": {},
     "output_type": "display_data"
    },
    {
     "data": {
      "application/vnd.jupyter.widget-view+json": {
       "model_id": "e8dfea689cff4324b52b4826e83745b3",
       "version_major": 2,
       "version_minor": 0
      },
      "text/plain": [
       "Batches:   0%|          | 0/1 [00:00<?, ?it/s]"
      ]
     },
     "metadata": {},
     "output_type": "display_data"
    },
    {
     "data": {
      "application/vnd.jupyter.widget-view+json": {
       "model_id": "81e845cfa4cd4c4ea563ca164c2886bc",
       "version_major": 2,
       "version_minor": 0
      },
      "text/plain": [
       "Batches:   0%|          | 0/1 [00:00<?, ?it/s]"
      ]
     },
     "metadata": {},
     "output_type": "display_data"
    },
    {
     "data": {
      "application/vnd.jupyter.widget-view+json": {
       "model_id": "e68bbcdfe0aa4e8bb3bfe856fdf5bcdb",
       "version_major": 2,
       "version_minor": 0
      },
      "text/plain": [
       "Batches:   0%|          | 0/1 [00:00<?, ?it/s]"
      ]
     },
     "metadata": {},
     "output_type": "display_data"
    },
    {
     "data": {
      "application/vnd.jupyter.widget-view+json": {
       "model_id": "a1e4d85095c0430288bcc1b0d1268bfa",
       "version_major": 2,
       "version_minor": 0
      },
      "text/plain": [
       "Batches:   0%|          | 0/1 [00:00<?, ?it/s]"
      ]
     },
     "metadata": {},
     "output_type": "display_data"
    },
    {
     "data": {
      "application/vnd.jupyter.widget-view+json": {
       "model_id": "74b5cbc4288544fb9857c58a85a3a204",
       "version_major": 2,
       "version_minor": 0
      },
      "text/plain": [
       "Batches:   0%|          | 0/1 [00:00<?, ?it/s]"
      ]
     },
     "metadata": {},
     "output_type": "display_data"
    },
    {
     "data": {
      "application/vnd.jupyter.widget-view+json": {
       "model_id": "d30aa4b5e9394386aeafa159cad33cca",
       "version_major": 2,
       "version_minor": 0
      },
      "text/plain": [
       "Batches:   0%|          | 0/1 [00:00<?, ?it/s]"
      ]
     },
     "metadata": {},
     "output_type": "display_data"
    },
    {
     "data": {
      "application/vnd.jupyter.widget-view+json": {
       "model_id": "ae2ea3cc268a4b3cba3c5f0066dffd66",
       "version_major": 2,
       "version_minor": 0
      },
      "text/plain": [
       "Batches:   0%|          | 0/1 [00:00<?, ?it/s]"
      ]
     },
     "metadata": {},
     "output_type": "display_data"
    },
    {
     "data": {
      "application/vnd.jupyter.widget-view+json": {
       "model_id": "65cd778f284f49fcbaecab9cdf03d2c9",
       "version_major": 2,
       "version_minor": 0
      },
      "text/plain": [
       "Batches:   0%|          | 0/1 [00:00<?, ?it/s]"
      ]
     },
     "metadata": {},
     "output_type": "display_data"
    },
    {
     "data": {
      "application/vnd.jupyter.widget-view+json": {
       "model_id": "6d1920ba92844f6da51abb2e2f1f2c7a",
       "version_major": 2,
       "version_minor": 0
      },
      "text/plain": [
       "Batches:   0%|          | 0/1 [00:00<?, ?it/s]"
      ]
     },
     "metadata": {},
     "output_type": "display_data"
    },
    {
     "data": {
      "application/vnd.jupyter.widget-view+json": {
       "model_id": "b51fa66aaacf420e8e74bfff5d009d92",
       "version_major": 2,
       "version_minor": 0
      },
      "text/plain": [
       "Batches:   0%|          | 0/1 [00:00<?, ?it/s]"
      ]
     },
     "metadata": {},
     "output_type": "display_data"
    },
    {
     "data": {
      "application/vnd.jupyter.widget-view+json": {
       "model_id": "627460d76b2841228ed38613d242e653",
       "version_major": 2,
       "version_minor": 0
      },
      "text/plain": [
       "Batches:   0%|          | 0/1 [00:00<?, ?it/s]"
      ]
     },
     "metadata": {},
     "output_type": "display_data"
    },
    {
     "data": {
      "application/vnd.jupyter.widget-view+json": {
       "model_id": "2efa2f4a4bc847faa31d8d814dc2da69",
       "version_major": 2,
       "version_minor": 0
      },
      "text/plain": [
       "Batches:   0%|          | 0/1 [00:00<?, ?it/s]"
      ]
     },
     "metadata": {},
     "output_type": "display_data"
    },
    {
     "data": {
      "application/vnd.jupyter.widget-view+json": {
       "model_id": "29c33a1726ee451298cf7d2489479c6b",
       "version_major": 2,
       "version_minor": 0
      },
      "text/plain": [
       "Batches:   0%|          | 0/1 [00:00<?, ?it/s]"
      ]
     },
     "metadata": {},
     "output_type": "display_data"
    },
    {
     "data": {
      "application/vnd.jupyter.widget-view+json": {
       "model_id": "598441ea690349648435a292adbe27a9",
       "version_major": 2,
       "version_minor": 0
      },
      "text/plain": [
       "Batches:   0%|          | 0/1 [00:00<?, ?it/s]"
      ]
     },
     "metadata": {},
     "output_type": "display_data"
    },
    {
     "data": {
      "application/vnd.jupyter.widget-view+json": {
       "model_id": "04af862b119f460da13869fce1919b72",
       "version_major": 2,
       "version_minor": 0
      },
      "text/plain": [
       "Batches:   0%|          | 0/1 [00:00<?, ?it/s]"
      ]
     },
     "metadata": {},
     "output_type": "display_data"
    },
    {
     "data": {
      "application/vnd.jupyter.widget-view+json": {
       "model_id": "86e953d26b0e470480fa150380af9ff9",
       "version_major": 2,
       "version_minor": 0
      },
      "text/plain": [
       "Batches:   0%|          | 0/1 [00:00<?, ?it/s]"
      ]
     },
     "metadata": {},
     "output_type": "display_data"
    },
    {
     "data": {
      "application/vnd.jupyter.widget-view+json": {
       "model_id": "78af391c0a4746678d62b44907ee76ab",
       "version_major": 2,
       "version_minor": 0
      },
      "text/plain": [
       "Batches:   0%|          | 0/1 [00:00<?, ?it/s]"
      ]
     },
     "metadata": {},
     "output_type": "display_data"
    },
    {
     "data": {
      "application/vnd.jupyter.widget-view+json": {
       "model_id": "fd0ec53eb17b4abf9695d20d38cfbe52",
       "version_major": 2,
       "version_minor": 0
      },
      "text/plain": [
       "Batches:   0%|          | 0/1 [00:00<?, ?it/s]"
      ]
     },
     "metadata": {},
     "output_type": "display_data"
    },
    {
     "data": {
      "application/vnd.jupyter.widget-view+json": {
       "model_id": "81f842e1bf9943cd841d23e1f8229981",
       "version_major": 2,
       "version_minor": 0
      },
      "text/plain": [
       "Batches:   0%|          | 0/1 [00:00<?, ?it/s]"
      ]
     },
     "metadata": {},
     "output_type": "display_data"
    },
    {
     "data": {
      "application/vnd.jupyter.widget-view+json": {
       "model_id": "0ef4bbc669be4e2da23165f3744c440a",
       "version_major": 2,
       "version_minor": 0
      },
      "text/plain": [
       "Batches:   0%|          | 0/1 [00:00<?, ?it/s]"
      ]
     },
     "metadata": {},
     "output_type": "display_data"
    },
    {
     "data": {
      "application/vnd.jupyter.widget-view+json": {
       "model_id": "b56bf9cf558d495c9a0467660d3d9c5e",
       "version_major": 2,
       "version_minor": 0
      },
      "text/plain": [
       "Batches:   0%|          | 0/1 [00:00<?, ?it/s]"
      ]
     },
     "metadata": {},
     "output_type": "display_data"
    },
    {
     "data": {
      "application/vnd.jupyter.widget-view+json": {
       "model_id": "6dc51c0f7d644dca8e48a8e79408e085",
       "version_major": 2,
       "version_minor": 0
      },
      "text/plain": [
       "Batches:   0%|          | 0/1 [00:00<?, ?it/s]"
      ]
     },
     "metadata": {},
     "output_type": "display_data"
    },
    {
     "data": {
      "application/vnd.jupyter.widget-view+json": {
       "model_id": "f83115121f9645bcbe3c19c291ee2c20",
       "version_major": 2,
       "version_minor": 0
      },
      "text/plain": [
       "Batches:   0%|          | 0/1 [00:00<?, ?it/s]"
      ]
     },
     "metadata": {},
     "output_type": "display_data"
    },
    {
     "data": {
      "application/vnd.jupyter.widget-view+json": {
       "model_id": "201d6b5075d94b8cbdace6cf28d4156b",
       "version_major": 2,
       "version_minor": 0
      },
      "text/plain": [
       "Batches:   0%|          | 0/1 [00:00<?, ?it/s]"
      ]
     },
     "metadata": {},
     "output_type": "display_data"
    },
    {
     "data": {
      "application/vnd.jupyter.widget-view+json": {
       "model_id": "498a18e86f2f4dab854ab32cc7ab8197",
       "version_major": 2,
       "version_minor": 0
      },
      "text/plain": [
       "Batches:   0%|          | 0/1 [00:00<?, ?it/s]"
      ]
     },
     "metadata": {},
     "output_type": "display_data"
    },
    {
     "data": {
      "application/vnd.jupyter.widget-view+json": {
       "model_id": "8c701b7639c64355b9685325d7feee6d",
       "version_major": 2,
       "version_minor": 0
      },
      "text/plain": [
       "Batches:   0%|          | 0/1 [00:00<?, ?it/s]"
      ]
     },
     "metadata": {},
     "output_type": "display_data"
    },
    {
     "data": {
      "application/vnd.jupyter.widget-view+json": {
       "model_id": "ad5311cdfb3b4611b45c810368ba7ddf",
       "version_major": 2,
       "version_minor": 0
      },
      "text/plain": [
       "Batches:   0%|          | 0/1 [00:00<?, ?it/s]"
      ]
     },
     "metadata": {},
     "output_type": "display_data"
    },
    {
     "data": {
      "application/vnd.jupyter.widget-view+json": {
       "model_id": "2d611de95c8b43dd995618c5b2e10559",
       "version_major": 2,
       "version_minor": 0
      },
      "text/plain": [
       "Batches:   0%|          | 0/1 [00:00<?, ?it/s]"
      ]
     },
     "metadata": {},
     "output_type": "display_data"
    },
    {
     "data": {
      "application/vnd.jupyter.widget-view+json": {
       "model_id": "e3f5cb36c3bb4d6ca0953ebb344e45f2",
       "version_major": 2,
       "version_minor": 0
      },
      "text/plain": [
       "Batches:   0%|          | 0/1 [00:00<?, ?it/s]"
      ]
     },
     "metadata": {},
     "output_type": "display_data"
    },
    {
     "data": {
      "application/vnd.jupyter.widget-view+json": {
       "model_id": "884f2024f99640d498b205ec3f1dd6f1",
       "version_major": 2,
       "version_minor": 0
      },
      "text/plain": [
       "Batches:   0%|          | 0/1 [00:00<?, ?it/s]"
      ]
     },
     "metadata": {},
     "output_type": "display_data"
    },
    {
     "data": {
      "application/vnd.jupyter.widget-view+json": {
       "model_id": "0393d7c11eca45b6b7e6de419cf3af92",
       "version_major": 2,
       "version_minor": 0
      },
      "text/plain": [
       "Batches:   0%|          | 0/1 [00:00<?, ?it/s]"
      ]
     },
     "metadata": {},
     "output_type": "display_data"
    },
    {
     "data": {
      "application/vnd.jupyter.widget-view+json": {
       "model_id": "47d6883beb1245e4926eff9eac69c750",
       "version_major": 2,
       "version_minor": 0
      },
      "text/plain": [
       "Batches:   0%|          | 0/1 [00:00<?, ?it/s]"
      ]
     },
     "metadata": {},
     "output_type": "display_data"
    },
    {
     "data": {
      "application/vnd.jupyter.widget-view+json": {
       "model_id": "f1498dfbe0fb421e8412bf76bc101bd9",
       "version_major": 2,
       "version_minor": 0
      },
      "text/plain": [
       "Batches:   0%|          | 0/1 [00:00<?, ?it/s]"
      ]
     },
     "metadata": {},
     "output_type": "display_data"
    },
    {
     "data": {
      "application/vnd.jupyter.widget-view+json": {
       "model_id": "d7d98b0aaa6543a58cbb08da6b7ae9c3",
       "version_major": 2,
       "version_minor": 0
      },
      "text/plain": [
       "Batches:   0%|          | 0/1 [00:00<?, ?it/s]"
      ]
     },
     "metadata": {},
     "output_type": "display_data"
    },
    {
     "data": {
      "application/vnd.jupyter.widget-view+json": {
       "model_id": "7389a8db214546aeb19636f3deef05d7",
       "version_major": 2,
       "version_minor": 0
      },
      "text/plain": [
       "Batches:   0%|          | 0/1 [00:00<?, ?it/s]"
      ]
     },
     "metadata": {},
     "output_type": "display_data"
    },
    {
     "data": {
      "application/vnd.jupyter.widget-view+json": {
       "model_id": "81d92b02ff164c4abf5fe0489df7cafd",
       "version_major": 2,
       "version_minor": 0
      },
      "text/plain": [
       "Batches:   0%|          | 0/1 [00:00<?, ?it/s]"
      ]
     },
     "metadata": {},
     "output_type": "display_data"
    },
    {
     "data": {
      "application/vnd.jupyter.widget-view+json": {
       "model_id": "6a26c7f94a544d5782646d3901528102",
       "version_major": 2,
       "version_minor": 0
      },
      "text/plain": [
       "Batches:   0%|          | 0/1 [00:00<?, ?it/s]"
      ]
     },
     "metadata": {},
     "output_type": "display_data"
    },
    {
     "data": {
      "application/vnd.jupyter.widget-view+json": {
       "model_id": "a28851f2c3944f2ca6166cfaa606833a",
       "version_major": 2,
       "version_minor": 0
      },
      "text/plain": [
       "Batches:   0%|          | 0/1 [00:00<?, ?it/s]"
      ]
     },
     "metadata": {},
     "output_type": "display_data"
    },
    {
     "data": {
      "application/vnd.jupyter.widget-view+json": {
       "model_id": "56a0c53b68c14047894a882d0e780750",
       "version_major": 2,
       "version_minor": 0
      },
      "text/plain": [
       "Batches:   0%|          | 0/1 [00:00<?, ?it/s]"
      ]
     },
     "metadata": {},
     "output_type": "display_data"
    },
    {
     "data": {
      "application/vnd.jupyter.widget-view+json": {
       "model_id": "35ab09cc1bea4517b1fe5824d1b52dfb",
       "version_major": 2,
       "version_minor": 0
      },
      "text/plain": [
       "Batches:   0%|          | 0/1 [00:00<?, ?it/s]"
      ]
     },
     "metadata": {},
     "output_type": "display_data"
    },
    {
     "data": {
      "application/vnd.jupyter.widget-view+json": {
       "model_id": "d241ddc9bf6548559f1369d295c4dfa6",
       "version_major": 2,
       "version_minor": 0
      },
      "text/plain": [
       "Batches:   0%|          | 0/1 [00:00<?, ?it/s]"
      ]
     },
     "metadata": {},
     "output_type": "display_data"
    },
    {
     "data": {
      "application/vnd.jupyter.widget-view+json": {
       "model_id": "77ce28a720e84c6e869d9ba30343b946",
       "version_major": 2,
       "version_minor": 0
      },
      "text/plain": [
       "Batches:   0%|          | 0/1 [00:00<?, ?it/s]"
      ]
     },
     "metadata": {},
     "output_type": "display_data"
    },
    {
     "data": {
      "application/vnd.jupyter.widget-view+json": {
       "model_id": "4d0641c486954676acd760fc35af72cc",
       "version_major": 2,
       "version_minor": 0
      },
      "text/plain": [
       "Batches:   0%|          | 0/1 [00:00<?, ?it/s]"
      ]
     },
     "metadata": {},
     "output_type": "display_data"
    },
    {
     "data": {
      "application/vnd.jupyter.widget-view+json": {
       "model_id": "e9f866a457ba4b90a830172d6c7cca70",
       "version_major": 2,
       "version_minor": 0
      },
      "text/plain": [
       "Batches:   0%|          | 0/1 [00:00<?, ?it/s]"
      ]
     },
     "metadata": {},
     "output_type": "display_data"
    },
    {
     "data": {
      "application/vnd.jupyter.widget-view+json": {
       "model_id": "c36f6a151ad04b3bb520fd19a39ed812",
       "version_major": 2,
       "version_minor": 0
      },
      "text/plain": [
       "Batches:   0%|          | 0/1 [00:00<?, ?it/s]"
      ]
     },
     "metadata": {},
     "output_type": "display_data"
    },
    {
     "data": {
      "application/vnd.jupyter.widget-view+json": {
       "model_id": "01700a8628484c9680cafc0aa6f463dd",
       "version_major": 2,
       "version_minor": 0
      },
      "text/plain": [
       "Batches:   0%|          | 0/1 [00:00<?, ?it/s]"
      ]
     },
     "metadata": {},
     "output_type": "display_data"
    },
    {
     "data": {
      "application/vnd.jupyter.widget-view+json": {
       "model_id": "16052789c9b74d6d989f7c98d74edd5f",
       "version_major": 2,
       "version_minor": 0
      },
      "text/plain": [
       "Batches:   0%|          | 0/1 [00:00<?, ?it/s]"
      ]
     },
     "metadata": {},
     "output_type": "display_data"
    },
    {
     "data": {
      "application/vnd.jupyter.widget-view+json": {
       "model_id": "912fb91b09694fa7aabd29ca27734d4c",
       "version_major": 2,
       "version_minor": 0
      },
      "text/plain": [
       "Batches:   0%|          | 0/1 [00:00<?, ?it/s]"
      ]
     },
     "metadata": {},
     "output_type": "display_data"
    },
    {
     "data": {
      "application/vnd.jupyter.widget-view+json": {
       "model_id": "399f89af8f684df4bc09f9eb0e576fbb",
       "version_major": 2,
       "version_minor": 0
      },
      "text/plain": [
       "Batches:   0%|          | 0/1 [00:00<?, ?it/s]"
      ]
     },
     "metadata": {},
     "output_type": "display_data"
    },
    {
     "data": {
      "application/vnd.jupyter.widget-view+json": {
       "model_id": "44fc90c27b12411b87286666a6c0c6d2",
       "version_major": 2,
       "version_minor": 0
      },
      "text/plain": [
       "Batches:   0%|          | 0/1 [00:00<?, ?it/s]"
      ]
     },
     "metadata": {},
     "output_type": "display_data"
    },
    {
     "data": {
      "application/vnd.jupyter.widget-view+json": {
       "model_id": "2afbbe418dbc457dad0bc892a60fa360",
       "version_major": 2,
       "version_minor": 0
      },
      "text/plain": [
       "Batches:   0%|          | 0/1 [00:00<?, ?it/s]"
      ]
     },
     "metadata": {},
     "output_type": "display_data"
    },
    {
     "data": {
      "application/vnd.jupyter.widget-view+json": {
       "model_id": "7e0c55b92f6547dea5fdc9976844100f",
       "version_major": 2,
       "version_minor": 0
      },
      "text/plain": [
       "Batches:   0%|          | 0/1 [00:00<?, ?it/s]"
      ]
     },
     "metadata": {},
     "output_type": "display_data"
    },
    {
     "data": {
      "application/vnd.jupyter.widget-view+json": {
       "model_id": "aea204bd331b449080f85ffe58fa00af",
       "version_major": 2,
       "version_minor": 0
      },
      "text/plain": [
       "Batches:   0%|          | 0/1 [00:00<?, ?it/s]"
      ]
     },
     "metadata": {},
     "output_type": "display_data"
    },
    {
     "data": {
      "application/vnd.jupyter.widget-view+json": {
       "model_id": "1ce43f40ba454a4f99ac264c7382bc56",
       "version_major": 2,
       "version_minor": 0
      },
      "text/plain": [
       "Batches:   0%|          | 0/1 [00:00<?, ?it/s]"
      ]
     },
     "metadata": {},
     "output_type": "display_data"
    },
    {
     "data": {
      "application/vnd.jupyter.widget-view+json": {
       "model_id": "3824bca03bad4419982d7adb07d2f3e2",
       "version_major": 2,
       "version_minor": 0
      },
      "text/plain": [
       "Batches:   0%|          | 0/1 [00:00<?, ?it/s]"
      ]
     },
     "metadata": {},
     "output_type": "display_data"
    },
    {
     "data": {
      "application/vnd.jupyter.widget-view+json": {
       "model_id": "126d29c121b94844ba4c950ea89a5143",
       "version_major": 2,
       "version_minor": 0
      },
      "text/plain": [
       "Batches:   0%|          | 0/1 [00:00<?, ?it/s]"
      ]
     },
     "metadata": {},
     "output_type": "display_data"
    },
    {
     "data": {
      "application/vnd.jupyter.widget-view+json": {
       "model_id": "1dd6d47292404467b9fdb75283318da1",
       "version_major": 2,
       "version_minor": 0
      },
      "text/plain": [
       "Batches:   0%|          | 0/1 [00:00<?, ?it/s]"
      ]
     },
     "metadata": {},
     "output_type": "display_data"
    },
    {
     "data": {
      "application/vnd.jupyter.widget-view+json": {
       "model_id": "13bbced942b84247ada557edd8b7d4de",
       "version_major": 2,
       "version_minor": 0
      },
      "text/plain": [
       "Batches:   0%|          | 0/1 [00:00<?, ?it/s]"
      ]
     },
     "metadata": {},
     "output_type": "display_data"
    },
    {
     "data": {
      "application/vnd.jupyter.widget-view+json": {
       "model_id": "c87f6fdfea9944fc89324345a1839882",
       "version_major": 2,
       "version_minor": 0
      },
      "text/plain": [
       "Batches:   0%|          | 0/1 [00:00<?, ?it/s]"
      ]
     },
     "metadata": {},
     "output_type": "display_data"
    },
    {
     "data": {
      "application/vnd.jupyter.widget-view+json": {
       "model_id": "384c7dd036e143fabefcd43de1579aad",
       "version_major": 2,
       "version_minor": 0
      },
      "text/plain": [
       "Batches:   0%|          | 0/1 [00:00<?, ?it/s]"
      ]
     },
     "metadata": {},
     "output_type": "display_data"
    },
    {
     "data": {
      "application/vnd.jupyter.widget-view+json": {
       "model_id": "b089afad6b3d43139daa1be69d4d557f",
       "version_major": 2,
       "version_minor": 0
      },
      "text/plain": [
       "Batches:   0%|          | 0/1 [00:00<?, ?it/s]"
      ]
     },
     "metadata": {},
     "output_type": "display_data"
    },
    {
     "data": {
      "application/vnd.jupyter.widget-view+json": {
       "model_id": "e1e1148883294ff793435d4613612d6d",
       "version_major": 2,
       "version_minor": 0
      },
      "text/plain": [
       "Batches:   0%|          | 0/1 [00:00<?, ?it/s]"
      ]
     },
     "metadata": {},
     "output_type": "display_data"
    },
    {
     "data": {
      "application/vnd.jupyter.widget-view+json": {
       "model_id": "80407062d3964c839b81eb65b9b00602",
       "version_major": 2,
       "version_minor": 0
      },
      "text/plain": [
       "Batches:   0%|          | 0/1 [00:00<?, ?it/s]"
      ]
     },
     "metadata": {},
     "output_type": "display_data"
    },
    {
     "data": {
      "application/vnd.jupyter.widget-view+json": {
       "model_id": "a1dcb623146d4a999bbce419e5fd715a",
       "version_major": 2,
       "version_minor": 0
      },
      "text/plain": [
       "Batches:   0%|          | 0/1 [00:00<?, ?it/s]"
      ]
     },
     "metadata": {},
     "output_type": "display_data"
    },
    {
     "data": {
      "application/vnd.jupyter.widget-view+json": {
       "model_id": "3e7d425805254b1bb04322dae736f019",
       "version_major": 2,
       "version_minor": 0
      },
      "text/plain": [
       "Batches:   0%|          | 0/1 [00:00<?, ?it/s]"
      ]
     },
     "metadata": {},
     "output_type": "display_data"
    },
    {
     "data": {
      "application/vnd.jupyter.widget-view+json": {
       "model_id": "6a86d9ec9fbc4f8fab568bb3d5aa8de3",
       "version_major": 2,
       "version_minor": 0
      },
      "text/plain": [
       "Batches:   0%|          | 0/1 [00:00<?, ?it/s]"
      ]
     },
     "metadata": {},
     "output_type": "display_data"
    },
    {
     "data": {
      "application/vnd.jupyter.widget-view+json": {
       "model_id": "b6b3b318a5574a5b89a0f932d1f9036f",
       "version_major": 2,
       "version_minor": 0
      },
      "text/plain": [
       "Batches:   0%|          | 0/1 [00:00<?, ?it/s]"
      ]
     },
     "metadata": {},
     "output_type": "display_data"
    },
    {
     "data": {
      "application/vnd.jupyter.widget-view+json": {
       "model_id": "dc1b876b19f942e2aed2aa0a709e97e2",
       "version_major": 2,
       "version_minor": 0
      },
      "text/plain": [
       "Batches:   0%|          | 0/1 [00:00<?, ?it/s]"
      ]
     },
     "metadata": {},
     "output_type": "display_data"
    },
    {
     "data": {
      "application/vnd.jupyter.widget-view+json": {
       "model_id": "ce245977b90e452cafd81701af40cc99",
       "version_major": 2,
       "version_minor": 0
      },
      "text/plain": [
       "Batches:   0%|          | 0/1 [00:00<?, ?it/s]"
      ]
     },
     "metadata": {},
     "output_type": "display_data"
    },
    {
     "data": {
      "application/vnd.jupyter.widget-view+json": {
       "model_id": "796023827ed44fdf8f600b732975e84d",
       "version_major": 2,
       "version_minor": 0
      },
      "text/plain": [
       "Batches:   0%|          | 0/1 [00:00<?, ?it/s]"
      ]
     },
     "metadata": {},
     "output_type": "display_data"
    },
    {
     "data": {
      "application/vnd.jupyter.widget-view+json": {
       "model_id": "699a4ac879924e9d932f9584acd552ca",
       "version_major": 2,
       "version_minor": 0
      },
      "text/plain": [
       "Batches:   0%|          | 0/1 [00:00<?, ?it/s]"
      ]
     },
     "metadata": {},
     "output_type": "display_data"
    },
    {
     "data": {
      "application/vnd.jupyter.widget-view+json": {
       "model_id": "3d6f2cd7eb4a4ab6a35613b0261e0a85",
       "version_major": 2,
       "version_minor": 0
      },
      "text/plain": [
       "Batches:   0%|          | 0/1 [00:00<?, ?it/s]"
      ]
     },
     "metadata": {},
     "output_type": "display_data"
    },
    {
     "data": {
      "application/vnd.jupyter.widget-view+json": {
       "model_id": "8e3edd498de747e2be956854bdb9b9e4",
       "version_major": 2,
       "version_minor": 0
      },
      "text/plain": [
       "Batches:   0%|          | 0/1 [00:00<?, ?it/s]"
      ]
     },
     "metadata": {},
     "output_type": "display_data"
    },
    {
     "data": {
      "application/vnd.jupyter.widget-view+json": {
       "model_id": "dab876558c264d7cb3e3a4fc94f26664",
       "version_major": 2,
       "version_minor": 0
      },
      "text/plain": [
       "Batches:   0%|          | 0/1 [00:00<?, ?it/s]"
      ]
     },
     "metadata": {},
     "output_type": "display_data"
    },
    {
     "data": {
      "application/vnd.jupyter.widget-view+json": {
       "model_id": "317565835d054bbcac526a42d0e693ea",
       "version_major": 2,
       "version_minor": 0
      },
      "text/plain": [
       "Batches:   0%|          | 0/1 [00:00<?, ?it/s]"
      ]
     },
     "metadata": {},
     "output_type": "display_data"
    },
    {
     "data": {
      "application/vnd.jupyter.widget-view+json": {
       "model_id": "0d9592c6073841a0a7a7012cfbfb7783",
       "version_major": 2,
       "version_minor": 0
      },
      "text/plain": [
       "Batches:   0%|          | 0/1 [00:00<?, ?it/s]"
      ]
     },
     "metadata": {},
     "output_type": "display_data"
    },
    {
     "data": {
      "application/vnd.jupyter.widget-view+json": {
       "model_id": "1f41c3b3f1e144a69028e04fc0b93b05",
       "version_major": 2,
       "version_minor": 0
      },
      "text/plain": [
       "Batches:   0%|          | 0/1 [00:00<?, ?it/s]"
      ]
     },
     "metadata": {},
     "output_type": "display_data"
    },
    {
     "data": {
      "application/vnd.jupyter.widget-view+json": {
       "model_id": "9d484265165c482c8ee6ca00c34b801b",
       "version_major": 2,
       "version_minor": 0
      },
      "text/plain": [
       "Batches:   0%|          | 0/1 [00:00<?, ?it/s]"
      ]
     },
     "metadata": {},
     "output_type": "display_data"
    },
    {
     "data": {
      "application/vnd.jupyter.widget-view+json": {
       "model_id": "a0a9f62948d34a8cb7035737af38283d",
       "version_major": 2,
       "version_minor": 0
      },
      "text/plain": [
       "Batches:   0%|          | 0/1 [00:00<?, ?it/s]"
      ]
     },
     "metadata": {},
     "output_type": "display_data"
    },
    {
     "data": {
      "application/vnd.jupyter.widget-view+json": {
       "model_id": "83ffd7ac9d99438fa08aeddf9eecb0a4",
       "version_major": 2,
       "version_minor": 0
      },
      "text/plain": [
       "Batches:   0%|          | 0/1 [00:00<?, ?it/s]"
      ]
     },
     "metadata": {},
     "output_type": "display_data"
    },
    {
     "data": {
      "application/vnd.jupyter.widget-view+json": {
       "model_id": "7fce35754f9e4947a938596532f4cf51",
       "version_major": 2,
       "version_minor": 0
      },
      "text/plain": [
       "Batches:   0%|          | 0/1 [00:00<?, ?it/s]"
      ]
     },
     "metadata": {},
     "output_type": "display_data"
    },
    {
     "data": {
      "application/vnd.jupyter.widget-view+json": {
       "model_id": "1fea08cd683440a9825d64fe5011a05f",
       "version_major": 2,
       "version_minor": 0
      },
      "text/plain": [
       "Batches:   0%|          | 0/1 [00:00<?, ?it/s]"
      ]
     },
     "metadata": {},
     "output_type": "display_data"
    },
    {
     "data": {
      "application/vnd.jupyter.widget-view+json": {
       "model_id": "22c633933041470b806f80eacea31689",
       "version_major": 2,
       "version_minor": 0
      },
      "text/plain": [
       "Batches:   0%|          | 0/1 [00:00<?, ?it/s]"
      ]
     },
     "metadata": {},
     "output_type": "display_data"
    },
    {
     "data": {
      "application/vnd.jupyter.widget-view+json": {
       "model_id": "808d0839b9854d2786ebbad36ed04504",
       "version_major": 2,
       "version_minor": 0
      },
      "text/plain": [
       "Batches:   0%|          | 0/1 [00:00<?, ?it/s]"
      ]
     },
     "metadata": {},
     "output_type": "display_data"
    },
    {
     "data": {
      "application/vnd.jupyter.widget-view+json": {
       "model_id": "171b171ce526492eb165ea4552d9b83d",
       "version_major": 2,
       "version_minor": 0
      },
      "text/plain": [
       "Batches:   0%|          | 0/1 [00:00<?, ?it/s]"
      ]
     },
     "metadata": {},
     "output_type": "display_data"
    },
    {
     "data": {
      "application/vnd.jupyter.widget-view+json": {
       "model_id": "1ee1446bef7d4c609f1c3b67aba4075d",
       "version_major": 2,
       "version_minor": 0
      },
      "text/plain": [
       "Batches:   0%|          | 0/1 [00:00<?, ?it/s]"
      ]
     },
     "metadata": {},
     "output_type": "display_data"
    },
    {
     "data": {
      "application/vnd.jupyter.widget-view+json": {
       "model_id": "df635343ebaa41a0bfde187ba49b09c8",
       "version_major": 2,
       "version_minor": 0
      },
      "text/plain": [
       "Batches:   0%|          | 0/1 [00:00<?, ?it/s]"
      ]
     },
     "metadata": {},
     "output_type": "display_data"
    },
    {
     "data": {
      "application/vnd.jupyter.widget-view+json": {
       "model_id": "65040f3e2dc542218ff0a930e985d0de",
       "version_major": 2,
       "version_minor": 0
      },
      "text/plain": [
       "Batches:   0%|          | 0/1 [00:00<?, ?it/s]"
      ]
     },
     "metadata": {},
     "output_type": "display_data"
    },
    {
     "data": {
      "application/vnd.jupyter.widget-view+json": {
       "model_id": "ee6a0ad6023144a6ab945eca79c1ebe4",
       "version_major": 2,
       "version_minor": 0
      },
      "text/plain": [
       "Batches:   0%|          | 0/1 [00:00<?, ?it/s]"
      ]
     },
     "metadata": {},
     "output_type": "display_data"
    },
    {
     "data": {
      "application/vnd.jupyter.widget-view+json": {
       "model_id": "cf01adffac2c4ec0947ed72e7adbbc63",
       "version_major": 2,
       "version_minor": 0
      },
      "text/plain": [
       "Batches:   0%|          | 0/1 [00:00<?, ?it/s]"
      ]
     },
     "metadata": {},
     "output_type": "display_data"
    },
    {
     "data": {
      "application/vnd.jupyter.widget-view+json": {
       "model_id": "56c5eeb322b646edbf19806cd1e43556",
       "version_major": 2,
       "version_minor": 0
      },
      "text/plain": [
       "Batches:   0%|          | 0/1 [00:00<?, ?it/s]"
      ]
     },
     "metadata": {},
     "output_type": "display_data"
    },
    {
     "data": {
      "application/vnd.jupyter.widget-view+json": {
       "model_id": "7583b642b8e447e68607811e9f0686ea",
       "version_major": 2,
       "version_minor": 0
      },
      "text/plain": [
       "Batches:   0%|          | 0/1 [00:00<?, ?it/s]"
      ]
     },
     "metadata": {},
     "output_type": "display_data"
    },
    {
     "data": {
      "application/vnd.jupyter.widget-view+json": {
       "model_id": "0526b4ea2e114c8aa33f96e7c3390cea",
       "version_major": 2,
       "version_minor": 0
      },
      "text/plain": [
       "Batches:   0%|          | 0/1 [00:00<?, ?it/s]"
      ]
     },
     "metadata": {},
     "output_type": "display_data"
    },
    {
     "data": {
      "application/vnd.jupyter.widget-view+json": {
       "model_id": "4250fb167e694911a8d190f6ce3aa0e2",
       "version_major": 2,
       "version_minor": 0
      },
      "text/plain": [
       "Batches:   0%|          | 0/1 [00:00<?, ?it/s]"
      ]
     },
     "metadata": {},
     "output_type": "display_data"
    },
    {
     "data": {
      "application/vnd.jupyter.widget-view+json": {
       "model_id": "9b3cfbc0e9f24132bf65e54afd9b03a6",
       "version_major": 2,
       "version_minor": 0
      },
      "text/plain": [
       "Batches:   0%|          | 0/1 [00:00<?, ?it/s]"
      ]
     },
     "metadata": {},
     "output_type": "display_data"
    },
    {
     "name": "stderr",
     "output_type": "stream",
     "text": [
      "Predicting: 100%|██████████| 10/10 [01:14<00:00,  7.46s/it]"
     ]
    },
    {
     "name": "stdout",
     "output_type": "stream",
     "text": [
      "Accuracy (Best Model): 0.5400\n",
      "AUC (Best Model): 0.6966\n",
      "Weighted F1-Score (Best Model): 0.4873\n",
      "\n",
      "Classification Report (Best Model on Test Set):\n",
      "              precision    recall  f1-score   support\n",
      "\n",
      "       Human     0.5926    0.2162    0.3168       148\n",
      "          AI     0.5285    0.8553    0.6533       152\n",
      "\n",
      "    accuracy                         0.5400       300\n",
      "   macro avg     0.5605    0.5357    0.4850       300\n",
      "weighted avg     0.5601    0.5400    0.4873       300\n",
      "\n",
      "\n",
      "\n",
      "============================== Final Comparison Summary ==============================\n",
      "\n",
      "Configuration Accuracy (Best) AUC (Best) F1-Score (Best) Avg Val F1-Score\n",
      "        GPT-2          0.5400     0.6966          0.4873           0.4859\n",
      "\n",
      "\n",
      "Generating visualizations...\n"
     ]
    },
    {
     "name": "stderr",
     "output_type": "stream",
     "text": [
      "\n"
     ]
    },
    {
     "data": {
      "image/png": "[encoded data removed]",
      "text/plain": [
       "<Figure size 1000x800 with 1 Axes>"
      ]
     },
     "metadata": {},
     "output_type": "display_data"
    },
    {
     "data": {
      "image/png": "[encoded data removed]",
      "text/plain": [
       "<Figure size 1000x800 with 1 Axes>"
      ]
     },
     "metadata": {},
     "output_type": "display_data"
    },
    {
     "data": {
      "image/png": "[encoded data removed]",
      "text/plain": [
       "<Figure size 600x500 with 1 Axes>"
      ]
     },
     "metadata": {},
     "output_type": "display_data"
    },
    {
     "data": {
      "image/png": "[encoded data removed]",
      "text/plain": [
       "<Figure size 1200x700 with 1 Axes>"
      ]
     },
     "metadata": {},
     "output_type": "display_data"
    }
   ],
   "source": [
    "import asyncio\n",
    "import torch\n",
    "import torch.nn as nn\n",
    "import pandas as pd\n",
    "import numpy as np\n",
    "from typing import Dict, List, Optional\n",
    "import matplotlib.pyplot as plt\n",
    "import seaborn as sns\n",
    "from sklearn.model_selection import train_test_split\n",
    "from sklearn.preprocessing import StandardScaler\n",
    "from sklearn.metrics import roc_curve, precision_recall_curve, roc_auc_score, classification_report, confusion_matrix, accuracy_score\n",
    "import os\n",
    "import json\n",
    "import logging\n",
    "import sys\n",
    "from transformers import AutoTokenizer, AutoModel\n",
    "from sentence_transformers import SentenceTransformer\n",
    "from torch.utils.data import Dataset, DataLoader\n",
    "from tqdm import tqdm\n",
    "from dataclasses import dataclass, field\n",
    "\n",
    "def setup_logging(output_dir: str = \"./result\"):\n",
    "    log_file_path = os.path.join(output_dir, 'output.log')\n",
    "    os.makedirs(output_dir, exist_ok=True)\n",
    "    logger = logging.getLogger()\n",
    "    logger.setLevel(logging.INFO)\n",
    "    if logger.hasHandlers():\n",
    "        logger.handlers.clear()\n",
    "    file_handler = logging.FileHandler(log_file_path, mode='w', encoding='utf-8')\n",
    "    file_formatter = logging.Formatter('%(asctime)s - %(levelname)s - %(message)s')\n",
    "    file_handler.setFormatter(file_formatter)\n",
    "    logger.addHandler(file_handler)\n",
    "    console_handler = logging.StreamHandler(sys.stdout)\n",
    "    console_formatter = logging.Formatter('%(message)s')\n",
    "    console_handler.setFormatter(console_formatter)\n",
    "    logger.addHandler(console_handler)\n",
    "    logging.info(f\"Logging setup complete. All output will be saved to {log_file_path}\")\n",
    "\n",
    "def plot_roc_curves(results: Dict, output_dir: str = \"./result\"):\n",
    "    plt.figure(figsize=(10, 8))\n",
    "    for name, result_data in results.items():\n",
    "        if \"test_results\" in result_data:\n",
    "            fpr, tpr, _ = roc_curve(result_data[\"test_labels\"], result_data[\"test_results\"][\"probabilities\"])\n",
    "            auc = roc_auc_score(result_data[\"test_labels\"], result_data[\"test_results\"][\"probabilities\"])\n",
    "            plt.plot(fpr, tpr, label=f\"{name} (AUC = {auc:.3f})\")\n",
    "    plt.plot([0, 1], [0, 1], \"k--\", label=\"Chance\")\n",
    "    plt.xlabel(\"False Positive Rate\")\n",
    "    plt.ylabel(\"True Positive Rate\")\n",
    "    plt.title(\"ROC Curves Comparison (Best Model on Test Set)\")\n",
    "    plt.legend()\n",
    "    plt.grid(True)\n",
    "    plt.savefig(os.path.join(output_dir, \"roc_curves_comparison.png\"))\n",
    "    plt.show()\n",
    "\n",
    "def plot_precision_recall_curves(results: Dict, output_dir: str = \"./result\"):\n",
    "    plt.figure(figsize=(10, 8))\n",
    "    for name, result_data in results.items():\n",
    "        if \"test_results\" in result_data:\n",
    "            precision, recall, _ = precision_recall_curve(result_data[\"test_labels\"], result_data[\"test_results\"][\"probabilities\"])\n",
    "            plt.plot(recall, precision, label=f\"{name}\")\n",
    "    plt.xlabel(\"Recall\")\n",
    "    plt.ylabel(\"Precision\")\n",
    "    plt.title(\"Precision-Recall Curves Comparison (Best Model on Test Set)\")\n",
    "    plt.legend()\n",
    "    plt.grid(True)\n",
    "    plt.savefig(os.path.join(output_dir, \"precision_recall_curves_comparison.png\"))\n",
    "    plt.show()\n",
    "\n",
    "def plot_confusion_matrices(results: Dict, output_dir: str = \"./result\"):\n",
    "    valid_results = {k: v for k, v in results.items() if \"test_results\" in v}\n",
    "    n_results = len(valid_results)\n",
    "    if n_results == 0: return\n",
    "    fig, axes = plt.subplots(1, n_results, figsize=(6 * n_results, 5), squeeze=False)\n",
    "    for ax, (name, result_data) in zip(axes.flatten(), valid_results.items()):\n",
    "        cm = confusion_matrix(result_data[\"test_labels\"], result_data[\"test_results\"][\"predictions\"])\n",
    "        sns.heatmap(cm, annot=True, fmt=\"d\", cmap=\"Blues\", ax=ax, cbar=False, xticklabels=[\"Human\", \"AI\"], yticklabels=[\"Human\", \"AI\"])\n",
    "        ax.set_title(f\"Confusion Matrix: {name}\\n(Best Model on Test Set)\")\n",
    "        ax.set_xlabel(\"Predicted Label\")\n",
    "        ax.set_ylabel(\"True Label\")\n",
    "    plt.tight_layout()\n",
    "    plt.savefig(os.path.join(output_dir, \"confusion_matrices_comparison.png\"))\n",
    "    plt.show()\n",
    "\n",
    "def plot_classification_metrics(results: Dict, output_dir: str = \"./result\"):\n",
    "    metrics_data = []\n",
    "    for name, result_data in results.items():\n",
    "        if \"test_results\" in result_data:\n",
    "            report = classification_report(result_data[\"test_labels\"], result_data[\"test_results\"][\"predictions\"], target_names=[\"Human\", \"AI\"], output_dict=True, zero_division=0)\n",
    "            ai_metrics = report.get(\"AI\", {})\n",
    "            metrics_data.append({\"Configuration\": name, \"Precision\": ai_metrics.get(\"precision\", 0), \"Recall\": ai_metrics.get(\"recall\", 0), \"F1-Score\": ai_metrics.get(\"f1-score\", 0)})\n",
    "    if not metrics_data: return\n",
    "    df = pd.DataFrame(metrics_data)\n",
    "    df_melted = df.melt(id_vars=\"Configuration\", var_name=\"Metric\", value_name=\"Score\")\n",
    "    plt.figure(figsize=(12, 7))\n",
    "    sns.barplot(data=df_melted, x=\"Configuration\", y=\"Score\", hue=\"Metric\")\n",
    "    plt.title('Classification Metrics for \"AI\" Class (Best Model on Test Set)')\n",
    "    plt.ylabel(\"Score\")\n",
    "    plt.xticks(rotation=15)\n",
    "    plt.ylim(0, 1.05)\n",
    "    plt.grid(axis=\"y\", linestyle=\"--\", alpha=0.7)\n",
    "    plt.savefig(os.path.join(output_dir, \"classification_metrics_comparison.png\"))\n",
    "    plt.show()\n",
    "\n",
    "\n",
    "@dataclass\n",
    "class DetectionConfig:\n",
    "    revision_model: str = \"gpt-3.5-turbo\"\n",
    "    embedding_model: str = \"bert-base-uncased\"\n",
    "    perturbation_rate: float = 0.15\n",
    "    use_ml_classifier: bool = True\n",
    "    api_key: str = None\n",
    "    base_url: str = None\n",
    "\n",
    "class MultiFeatureExtractor:\n",
    "    def __init__(self, config: DetectionConfig):\n",
    "        self.config = config\n",
    "        self.sentence_model = SentenceTransformer(config.embedding_model)\n",
    "        tokenizer = self.sentence_model.tokenizer\n",
    "        if tokenizer.pad_token is None:\n",
    "            tokenizer.pad_token = tokenizer.eos_token\n",
    "            logging.info(f\"Set pad_token to eos_token for SentenceTransformer with model {config.embedding_model}\")\n",
    "\n",
    "    def _compute_semantic_similarity(self, text1: str, text2: str) -> float:\n",
    "        emb1, emb2 = self.sentence_model.encode([text1, text2])\n",
    "        from sklearn.metrics.pairwise import cosine_similarity\n",
    "        return float(cosine_similarity([emb1], [emb2])[0, 0])\n",
    "\n",
    "    def extract_features(self, original: str, revised: str) -> Dict[str, float]:\n",
    "        # This is a simplified version. Ensure your full feature extraction logic is here.\n",
    "        features = {'semantic_similarity': self._compute_semantic_similarity(original, revised)}\n",
    "        for i in range(12):\n",
    "            features[f'feat_{i}'] = np.random.rand()\n",
    "        return features\n",
    "\n",
    "class AITextDetector:\n",
    "    def __init__(self, config):\n",
    "        self.config = config\n",
    "        self.cache = {}\n",
    "        self.feature_extractor = MultiFeatureExtractor(config)\n",
    "    async def detect_batch(self, texts, labels=None):\n",
    "        # This is a simplified version. Ensure your full revision/perturbation logic is here.\n",
    "        all_features = [self.feature_extractor.extract_features(text, text) for text in texts]\n",
    "        feature_matrix = pd.DataFrame(all_features).fillna(0).values\n",
    "        return {\"features\": feature_matrix, \"similarity_scores\": np.random.rand(len(texts))}\n",
    "\n",
    "class DualPathFusionModel(nn.Module):\n",
    "    def __init__(self, transformer_name: str = \"distilbert-base-uncased\", num_statistical_features: int = 13, hidden_size: int = 256, dropout_rate: float = 0.3):\n",
    "        super(DualPathFusionModel, self).__init__()\n",
    "        self.transformer = AutoModel.from_pretrained(transformer_name)\n",
    "        self.transformer_dim = self.transformer.config.hidden_size\n",
    "        try:\n",
    "            for param in self.transformer.base_model.embeddings.parameters():\n",
    "                param.requires_grad = False\n",
    "        except AttributeError:\n",
    "            logging.warning(f\"Could not freeze embedding layers for {transformer_name}. This is expected for models like T5.\")\n",
    "        fusion_dim = self.transformer_dim + num_statistical_features\n",
    "        self.classifier = nn.Sequential(\n",
    "            nn.Linear(fusion_dim, hidden_size), nn.ReLU(), nn.Dropout(dropout_rate),\n",
    "            nn.Linear(hidden_size, hidden_size // 2), nn.ReLU(), nn.Dropout(dropout_rate),\n",
    "            nn.Linear(hidden_size // 2, 2),\n",
    "        )\n",
    "        self.feature_norm = nn.BatchNorm1d(num_statistical_features)\n",
    "\n",
    "    def forward(self, input_ids: torch.Tensor, attention_mask: torch.Tensor, statistical_features: torch.Tensor) -> torch.Tensor:\n",
    "        if self.transformer.config.is_encoder_decoder:\n",
    "            transformer_outputs = self.transformer(input_ids=input_ids, attention_mask=attention_mask, decoder_input_ids=input_ids)\n",
    "        else:\n",
    "            transformer_outputs = self.transformer(input_ids=input_ids, attention_mask=attention_mask)\n",
    "        if hasattr(transformer_outputs, 'last_hidden_state'):\n",
    "            cls_embedding = transformer_outputs.last_hidden_state[:, 0, :]\n",
    "        elif hasattr(transformer_outputs, 'encoder_last_hidden_state'):\n",
    "            cls_embedding = transformer_outputs.encoder_last_hidden_state[:, 0, :]\n",
    "        else:\n",
    "            raise TypeError(f\"Unsupported model output type for {type(self.transformer)}\")\n",
    "        normalized_features = self.feature_norm(statistical_features)\n",
    "        fused_features = torch.cat([cls_embedding, normalized_features], dim=1)\n",
    "        logits = self.classifier(fused_features)\n",
    "        return logits\n",
    "\n",
    "class TextDetectionDataset(Dataset):\n",
    "    def __init__(self, texts: List[str], statistical_features: np.ndarray, labels: List[int], tokenizer, max_length: int = 512):\n",
    "        self.texts, self.statistical_features, self.labels, self.tokenizer, self.max_length = texts, statistical_features, labels, tokenizer, max_length\n",
    "    def __len__(self): return len(self.texts)\n",
    "    def __getitem__(self, idx):\n",
    "        encoding = self.tokenizer(self.texts[idx], truncation=True, padding=\"max_length\", max_length=self.max_length, return_tensors=\"pt\")\n",
    "        return {\"input_ids\": encoding[\"input_ids\"].flatten(), \"attention_mask\": encoding[\"attention_mask\"].flatten(), \"statistical_features\": torch.tensor(self.statistical_features[idx], dtype=torch.float32), \"labels\": torch.tensor(self.labels[idx], dtype=torch.long)}\n",
    "\n",
    "class DualPathDetector:\n",
    "    def __init__(self, model_name: str = \"distilbert-base-uncased\", device: str = None):\n",
    "        self.device = device or (\"cuda\" if torch.cuda.is_available() else \"cpu\")\n",
    "        self.model_name = model_name\n",
    "        self.tokenizer = AutoTokenizer.from_pretrained(model_name)\n",
    "        if self.tokenizer.pad_token is None:\n",
    "            self.tokenizer.pad_token = self.tokenizer.eos_token\n",
    "            logging.info(f\"Set pad_token to eos_token for {model_name} tokenizer.\")\n",
    "        self.model = None\n",
    "        self.scaler = StandardScaler()\n",
    "        logging.info(f\"Dual Path Detector initialized on {self.device}\")\n",
    "\n",
    "    def prepare_data(self, texts, features_df, labels):\n",
    "        features_array = features_df.values\n",
    "        features_normalized = self.scaler.fit_transform(features_array)\n",
    "        X_train, X_val, y_train, y_val, feat_train, feat_val = train_test_split(texts, labels, features_normalized, test_size=0.2, random_state=42, stratify=labels)\n",
    "        return TextDetectionDataset(X_train, feat_train, y_train, self.tokenizer), TextDetectionDataset(X_val, feat_val, y_val, self.tokenizer)\n",
    "\n",
    "    def train(self, train_dataset, val_dataset, num_epochs=5, batch_size=16, learning_rate=2e-5):\n",
    "        if self.model is None:\n",
    "            num_features = train_dataset[0][\"statistical_features\"].shape[0]\n",
    "            self.model = DualPathFusionModel(transformer_name=self.model_name, num_statistical_features=num_features).to(self.device)\n",
    "        train_loader, val_loader = DataLoader(train_dataset, batch_size=batch_size, shuffle=True), DataLoader(val_dataset, batch_size=batch_size)\n",
    "        optimizer, criterion = torch.optim.AdamW(self.model.parameters(), lr=learning_rate), nn.CrossEntropyLoss()\n",
    "        scheduler = torch.optim.lr_scheduler.ReduceLROnPlateau(optimizer, mode=\"min\", patience=2, factor=0.5)\n",
    "        best_val_loss, training_history = float(\"inf\"), []\n",
    "        for epoch in range(num_epochs):\n",
    "            self.model.train()\n",
    "            for batch in tqdm(train_loader, desc=f\"Epoch {epoch+1}/{num_epochs} [Train]\"):\n",
    "                input_ids, attention_mask, features, labels = batch[\"input_ids\"].to(self.device), batch[\"attention_mask\"].to(self.device), batch[\"statistical_features\"].to(self.device), batch[\"labels\"].to(self.device)\n",
    "                optimizer.zero_grad()\n",
    "                logits = self.model(input_ids, attention_mask, features)\n",
    "                loss = criterion(logits, labels)\n",
    "                loss.backward()\n",
    "                optimizer.step()\n",
    "            self.model.eval()\n",
    "            val_loss, all_val_preds, all_val_probs, all_val_labels = 0, [], [], []\n",
    "            with torch.no_grad():\n",
    "                for batch in tqdm(val_loader, desc=f\"Epoch {epoch+1}/{num_epochs} [Val]\"):\n",
    "                    input_ids, attention_mask, features, labels = batch[\"input_ids\"].to(self.device), batch[\"attention_mask\"].to(self.device), batch[\"statistical_features\"].to(self.device), batch[\"labels\"].to(self.device)\n",
    "                    logits = self.model(input_ids, attention_mask, features)\n",
    "                    val_loss += criterion(logits, labels).item()\n",
    "                    probs, preds = torch.softmax(logits, dim=1), torch.argmax(logits, dim=1)\n",
    "                    all_val_preds.extend(preds.cpu().numpy()); all_val_probs.extend(probs[:, 1].cpu().numpy()); all_val_labels.extend(labels.cpu().numpy())\n",
    "            avg_val_loss = val_loss / len(val_loader)\n",
    "            scheduler.step(avg_val_loss)\n",
    "            report = classification_report(all_val_labels, all_val_preds, output_dict=True, zero_division=0)\n",
    "            epoch_metrics = {\"epoch\": epoch + 1, \"val_loss\": avg_val_loss, \"val_accuracy\": report[\"accuracy\"], \"val_auc\": roc_auc_score(all_val_labels, all_val_probs), \"val_f1_score\": report[\"weighted avg\"][\"f1-score\"]}\n",
    "            training_history.append(epoch_metrics)\n",
    "            logging.info(f\"Epoch {epoch+1} Val Metrics: Acc={epoch_metrics['val_accuracy']:.4f}, AUC={epoch_metrics['val_auc']:.4f}, F1={epoch_metrics['val_f1_score']:.4f}\")\n",
    "            if avg_val_loss < best_val_loss:\n",
    "                best_val_loss = avg_val_loss\n",
    "                self.save_model(\"best_dual_path_model.pt\")\n",
    "                logging.info(f\"Saved new best model with validation loss: {best_val_loss:.4f}\")\n",
    "        return training_history\n",
    "\n",
    "    def predict(self, texts, features_df):\n",
    "        self.model.eval()\n",
    "        features_normalized = self.scaler.transform(features_df.values)\n",
    "        dataset = TextDetectionDataset(texts, features_normalized, [0] * len(texts), self.tokenizer)\n",
    "        loader = DataLoader(dataset, batch_size=32)\n",
    "        all_predictions, all_probabilities = [], []\n",
    "        with torch.no_grad():\n",
    "            for batch in tqdm(loader, desc=\"Predicting\"):\n",
    "                input_ids, attention_mask, features = batch[\"input_ids\"].to(self.device), batch[\"attention_mask\"].to(self.device), batch[\"statistical_features\"].to(self.device)\n",
    "                logits = self.model(input_ids, attention_mask, features)\n",
    "                probs, predictions = torch.softmax(logits, dim=1), torch.argmax(logits, dim=1)\n",
    "                all_predictions.extend(predictions.cpu().numpy()); all_probabilities.extend(probs[:, 1].cpu().numpy())\n",
    "        return np.array(all_predictions), np.array(all_probabilities)\n",
    "\n",
    "    def save_model(self, path: str): torch.save({\"model_state_dict\": self.model.state_dict(), \"scaler\": self.scaler, \"model_name\": self.model_name, \"num_features\": self.model.classifier[0].in_features - self.model.transformer_dim}, path)\n",
    "    \n",
    "    def load_model(self, path: str):\n",
    "        # --- FIX for PyTorch 2.6+ weights_only error ---\n",
    "        checkpoint = torch.load(path, map_location=self.device, weights_only=False)\n",
    "        self.model = DualPathFusionModel(transformer_name=checkpoint[\"model_name\"], num_statistical_features=checkpoint[\"num_features\"]).to(self.device)\n",
    "        self.model.load_state_dict(checkpoint[\"model_state_dict\"])\n",
    "        self.scaler = checkpoint[\"scaler\"]\n",
    "        self.model.eval()\n",
    "\n",
    "class EnhancedAIDetector:\n",
    "    def __init__(self, config: Optional[DetectionConfig] = None, dual_path_model_name: str = \"distilbert-base-uncased\"):\n",
    "        self.config = config or DetectionConfig()\n",
    "        self.base_detector = AITextDetector(self.config)\n",
    "        self.dual_path_detector = DualPathDetector(model_name=dual_path_model_name)\n",
    "        logging.info(f\"Enhanced AI Detector initialized with Dual Path Model: {dual_path_model_name}\")\n",
    "\n",
    "    async def extract_all_features(self, texts: List[str]) -> pd.DataFrame:\n",
    "        logging.info(\"Extracting statistical features...\")\n",
    "        results = await self.base_detector.detect_batch(texts)\n",
    "        features_array = results['features']\n",
    "        num_features_to_select = min(13, features_array.shape[1])\n",
    "        columns = [f'feat_{i}' for i in range(num_features_to_select)]\n",
    "        return pd.DataFrame(features_array[:, :num_features_to_select], columns=columns)\n",
    "\n",
    "    async def train_dual_path_model(self, train_df: pd.DataFrame, num_epochs: int, batch_size: int):\n",
    "        logging.info(\"=== Training Dual Path Model ===\")\n",
    "        texts, labels = train_df[\"text\"].tolist(), train_df[\"label\"].tolist()\n",
    "        features_df = await self.extract_all_features(texts)\n",
    "        train_dataset, val_dataset = self.dual_path_detector.prepare_data(texts, features_df, labels)\n",
    "        history = self.dual_path_detector.train(train_dataset, val_dataset, num_epochs=num_epochs, batch_size=batch_size)\n",
    "        logging.info(\"\\n Training completed!\")\n",
    "        return history\n",
    "\n",
    "    async def detect_with_dual_path(self, texts: List[str]) -> Dict:\n",
    "        features_df = await self.extract_all_features(texts)\n",
    "        predictions, probabilities = self.dual_path_detector.predict(texts, features_df)\n",
    "        return {\"predictions\": predictions, \"probabilities\": probabilities, \"features\": features_df}\n",
    "\n",
    "\n",
    "if 'CustomDataLoader' not in locals():\n",
    "    class CustomDataLoader:\n",
    "        def load_data(self, path): return pd.DataFrame({'text': ['sample'] * 200, 'label': [0]*100 + [1]*100})\n",
    "\n",
    "async def main_workflow_for_comparison(data_path: str, max_samples: Optional[int], use_cache: bool, config: DetectionConfig, dual_path_model_name: str):\n",
    "    SEED = 42; random.seed(SEED); np.random.seed(SEED); torch.manual_seed(SEED)\n",
    "    if torch.cuda.is_available(): torch.cuda.manual_seed_all(SEED)\n",
    "    detector = EnhancedAIDetector(config=config, dual_path_model_name=dual_path_model_name)\n",
    "    cache_path = f\"enhanced_cache_{config.revision_model}.json\"\n",
    "    if use_cache and os.path.exists(cache_path):\n",
    "        try:\n",
    "            with open(cache_path, \"r\") as f: detector.base_detector.cache = json.load(f)\n",
    "            logging.info(f\"Loaded cache with {len(detector.base_detector.cache)} entries\")\n",
    "        except Exception as e: logging.warning(f\"Could not load cache: {e}\")\n",
    "    loader = CustomDataLoader()\n",
    "    df = loader.load_data(data_path).head(max_samples) if max_samples else loader.load_data(data_path)\n",
    "    train_df, test_df = train_test_split(df, test_size=0.3, random_state=SEED, stratify=df['label'])\n",
    "    logging.info(f\"Data prepared: {len(train_df)} training, {len(test_df)} testing.\")\n",
    "    history = await detector.train_dual_path_model(train_df=train_df, num_epochs=5, batch_size=16)\n",
    "    avg_metrics = pd.DataFrame(history).mean()\n",
    "    logging.info(f\"\\n--- Average Performance Over All Training Epochs ---\\n{avg_metrics.to_string()}\")\n",
    "    logging.info(\"\\n--- Evaluating Best Model on Test Set ---\")\n",
    "    detector.dual_path_detector.load_model(\"best_dual_path_model.pt\")\n",
    "    test_texts, test_labels = test_df[\"text\"].tolist(), test_df[\"label\"].tolist()\n",
    "    test_results = await detector.detect_with_dual_path(test_texts)\n",
    "    report = classification_report(test_labels, test_results['predictions'], target_names=['Human', 'AI'], digits=4, output_dict=True, zero_division=0)\n",
    "    accuracy, auc, f1 = report[\"accuracy\"], roc_auc_score(test_labels, test_results['probabilities']), report['weighted avg']['f1-score']\n",
    "    logging.info(f\"Accuracy (Best Model): {accuracy:.4f}\\nAUC (Best Model): {auc:.4f}\\nWeighted F1-Score (Best Model): {f1:.4f}\")\n",
    "    logging.info(f\"\\nClassification Report (Best Model on Test Set):\\n{classification_report(test_labels, test_results['predictions'], target_names=['Human', 'AI'], digits=4)}\")\n",
    "    return {\"test_results\": test_results, \"test_labels\": test_labels, \"accuracy\": accuracy, \"auc\": auc, \"f1_score\": f1, \"avg_f1_score\": avg_metrics['val_f1_score']}\n",
    "\n",
    "async def run_transformer_comparison(data_path: str = \"finance\", max_samples: Optional[int] = 1000):\n",
    "    setup_logging()\n",
    "    logging.info(\"=== Transformer Model Comparison Experiment ===\")\n",
    "    results = {}\n",
    "    configurations = {\n",
    "       \n",
    "        \"GPT-2\": {\"embedding_model\": \"gpt2\", \"transformer_name\": \"gpt2\"}\n",
    "    }\n",
    "    for name, model_config in configurations.items():\n",
    "        logging.info(f\"\\n{'='*25} Running Experiment: {name} {'='*25}\")\n",
    "        try:\n",
    "            detection_config = DetectionConfig(embedding_model=model_config[\"embedding_model\"])\n",
    "            results[name] = await main_workflow_for_comparison(\n",
    "                data_path=data_path, max_samples=max_samples, use_cache=True,\n",
    "                config=detection_config, dual_path_model_name=model_config[\"transformer_name\"]\n",
    "            )\n",
    "        except Exception as e:\n",
    "            import traceback\n",
    "            logging.error(f\"\\n!!!!!! Experiment '{name}' FAILED: {e} !!!!!!\")\n",
    "            logging.error(traceback.format_exc())\n",
    "    logging.info(\"\\n\\n\" + \"=\"*30 + \" Final Comparison Summary \" + \"=\"*30)\n",
    "    summary_data = []\n",
    "    for name, res in results.items():\n",
    "        if \"accuracy\" in res:\n",
    "            summary_data.append({\"Configuration\": name, \"Accuracy (Best)\": res[\"accuracy\"], \"AUC (Best)\": res[\"auc\"], \"F1-Score (Best)\": res[\"f1_score\"], \"Avg Val F1-Score\": res[\"avg_f1_score\"]})\n",
    "    if summary_data:\n",
    "        summary_df = pd.DataFrame(summary_data)\n",
    "        for col in summary_df.columns[1:]: summary_df[col] = summary_df[col].map('{:.4f}'.format)\n",
    "        logging.info(f\"\\n{summary_df.to_string(index=False)}\")\n",
    "    logging.info(\"\\n\\nGenerating visualizations...\")\n",
    "    if results:\n",
    "        plot_roc_curves(results)\n",
    "        plot_precision_recall_curves(results)\n",
    "        plot_confusion_matrices(results)\n",
    "        plot_classification_metrics(results)\n",
    "    else:\n",
    "        logging.warning(\"No successful experiments were completed to visualize.\")\n",
    "    return results\n",
    "\n",
    "\n",
    "\n",
    "if __name__ == \"__main__\":\n",
    "    await run_transformer_comparison(data_path=\"test\", max_samples=1000)\n"
   ]
  }
 ],
 "metadata": {
  "kaggle": {
   "accelerator": "none",
   "dataSources": [
    {
     "datasetId": 7745407,
     "sourceId": 12289600,
     "sourceType": "datasetVersion"
    }
   ],
   "dockerImageVersionId": 31089,
   "isGpuEnabled": false,
   "isInternetEnabled": true,
   "language": "python",
   "sourceType": "notebook"
  },
  "kernelspec": {
   "display_name": "venv",
   "language": "python",
   "name": "python3"
  },
  "language_info": {
   "codemirror_mode": {
    "name": "ipython",
    "version": 3
   },
   "file_extension": ".py",
   "mimetype": "text/x-python",
   "name": "python",
   "nbconvert_exporter": "python",
   "pygments_lexer": "ipython3",
   "version": "3.12.4"
  }
 },
 "nbformat": 4,
 "nbformat_minor": 4
}
